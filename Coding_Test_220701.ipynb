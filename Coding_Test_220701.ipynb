{
 "cells": [
  {
   "cell_type": "markdown",
   "metadata": {},
   "source": [
    "### 수들의 합\n",
    "- N개의 수로 된 수열 A[1], A[2], ..., A[N] 이 있다. 이 수열의 i번째 수부터 j번째 수까지의 합 A[i]+A[i+1]+...+A[j-1]+A[j]가 M이 되는 경우의 수를 구하는 프로그램을 작성하시오.\n",
    "<hr>\n",
    "\n",
    "- 첫째 줄에 N(1≤N≤10,000), M(1≤M≤300,000,000)이 주어진다. 다음 줄에는 A[1], A[2], ..., A[N]이 공백으로 분리되어 주어진다. 각각의 A[x]는 30,000을 넘지 않는 자연수이다.\n",
    "- 첫째 줄에 경우의 수를 출력한다.\n"
   ]
  },
  {
   "cell_type": "code",
   "execution_count": 45,
   "metadata": {},
   "outputs": [],
   "source": [
    "# 최대 m의 길이만큼만 반복문이 돌도록 진행 왜냐면 최소값이 1이기 때문 \n",
    "# 1~m까지 반복하면서 값이 m이 되는 경우의 수 출력 "
   ]
  },
  {
   "cell_type": "code",
   "execution_count": 46,
   "metadata": {},
   "outputs": [
    {
     "name": "stdout",
     "output_type": "stream",
     "text": [
      "1\n",
      "2\n",
      "3\n",
      "6\n",
      "7\n",
      "5\n"
     ]
    }
   ],
   "source": [
    "a = [1, 2, 1, 3, 1, 1, 1, 2]\n",
    "n,m = 8, 3\n",
    "\n",
    "cnt = 0\n",
    "for i in range(0, n-1):\n",
    "    sum = 0\n",
    "    for j in range(i, i+m ):\n",
    "        sum += a[j]\n",
    "        if sum == m:\n",
    "            print(j)\n",
    "            cnt += 1\n",
    "            # 합쳐진게 m이라면 count하고 종료 \n",
    "\n",
    "            break \n",
    "print(cnt)\n",
    "# 너무 m이 3이 되는 것에 맞춘듯...\n",
    "# 틀렸넴 ... "
   ]
  },
  {
   "cell_type": "markdown",
   "metadata": {},
   "source": [
    "### 참고풀이"
   ]
  },
  {
   "cell_type": "code",
   "execution_count": 47,
   "metadata": {},
   "outputs": [],
   "source": [
    "# 연속적인 수를 더할 수 있도록 수들의 위치를 나타내는 변수 2개 설정 \n",
    "# 더한 값을 도출할 수 있도록 변수 설정 "
   ]
  },
  {
   "cell_type": "code",
   "execution_count": 48,
   "metadata": {},
   "outputs": [
    {
     "ename": "ValueError",
     "evalue": "not enough values to unpack (expected 2, got 0)",
     "output_type": "error",
     "traceback": [
      "\u001b[0;31m---------------------------------------------------------------------------\u001b[0m",
      "\u001b[0;31mValueError\u001b[0m                                Traceback (most recent call last)",
      "\u001b[1;32m/Users/sig6774/CodingTest/Coding_Test_220701.ipynb Cell 6'\u001b[0m in \u001b[0;36m<cell line: 1>\u001b[0;34m()\u001b[0m\n\u001b[0;32m----> <a href='vscode-notebook-cell:/Users/sig6774/CodingTest/Coding_Test_220701.ipynb#ch0000005?line=0'>1</a>\u001b[0m n,m \u001b[39m=\u001b[39m \u001b[39mmap\u001b[39m(\u001b[39mint\u001b[39m, \u001b[39minput\u001b[39m()\u001b[39m.\u001b[39msplit())\n\u001b[1;32m      <a href='vscode-notebook-cell:/Users/sig6774/CodingTest/Coding_Test_220701.ipynb#ch0000005?line=1'>2</a>\u001b[0m a \u001b[39m=\u001b[39m \u001b[39mlist\u001b[39m(\u001b[39mmap\u001b[39m(\u001b[39mint\u001b[39m, \u001b[39minput\u001b[39m()\u001b[39m.\u001b[39msplit()))\n\u001b[1;32m      <a href='vscode-notebook-cell:/Users/sig6774/CodingTest/Coding_Test_220701.ipynb#ch0000005?line=3'>4</a>\u001b[0m lt \u001b[39m=\u001b[39m \u001b[39m0\u001b[39m\n",
      "\u001b[0;31mValueError\u001b[0m: not enough values to unpack (expected 2, got 0)"
     ]
    }
   ],
   "source": [
    "n,m = map(int, input().split())\n",
    "a = list(map(int, input().split()))\n",
    "\n",
    "lt = 0\n",
    "rt = 1 \n",
    "tot = a[0]\n",
    "cnt = 0 \n",
    "while True:\n",
    "    if tot < m:\n",
    "        if rt < n:\n",
    "            tot += a[rt]\n",
    "            rt += 1 \n",
    "        else:\n",
    "            break \n",
    "        \n",
    "    elif tot == m:\n",
    "        cnt += 1 \n",
    "        tot -=a[lt]\n",
    "        lt += 1 \n",
    "    else:\n",
    "        tot -= a[lt]\n",
    "        lt += 1 \n",
    "print(cnt)"
   ]
  },
  {
   "cell_type": "markdown",
   "metadata": {},
   "source": [
    "### 격자판 최대합\n",
    "- 5*5 격자판에 아래롸 같이 숫자가 적혀있습니다.\n",
    "- N*N의 격자판이 주어지면 각 행의 합, 각 열의 합, 두 대각선의 합 중 가 장 큰 합을 출력합 니다.\n",
    "\n",
    "<hr>\n",
    "\n",
    "- 첫 줄에 자연수 N이 주어진다.(1<=N<=50)\n",
    "- 두 번째 줄부터 N줄에 걸쳐 각 줄에 N개의 자연수가 주어진다. 각 자연수는 100을 넘지 않는다.\n",
    "\n",
    "- 최대합을 출력합니다."
   ]
  },
  {
   "cell_type": "code",
   "execution_count": null,
   "metadata": {},
   "outputs": [],
   "source": [
    "# 반복문과 list slicing을 활용하면 풀 수 있을 듯?"
   ]
  },
  {
   "cell_type": "code",
   "execution_count": null,
   "metadata": {},
   "outputs": [],
   "source": [
    "li = [\n",
    "     [10, 13, 10, 12, 15],\n",
    "     [12, 39, 30, 23, 11],\n",
    "     [11, 25, 50, 53, 15],\n",
    "     [19, 27, 29, 37, 27],\n",
    "     [19, 13, 30, 13, 19,]\n",
    "]"
   ]
  },
  {
   "cell_type": "code",
   "execution_count": null,
   "metadata": {},
   "outputs": [
    {
     "data": {
      "text/plain": [
       "134"
      ]
     },
     "execution_count": 28,
     "metadata": {},
     "output_type": "execute_result"
    }
   ],
   "source": [
    "15 + 23 + 50 + 27 + 19"
   ]
  },
  {
   "cell_type": "code",
   "execution_count": null,
   "metadata": {},
   "outputs": [
    {
     "name": "stdout",
     "output_type": "stream",
     "text": [
      "154\n"
     ]
    }
   ],
   "source": [
    "# 행의 합 \n",
    "temp = 0\n",
    "for i in range(len(li)):\n",
    "    row_sum = 0\n",
    "    \n",
    "    for j in range(len(li[i])):\n",
    "        row_sum += li[i][j]\n",
    "    \n",
    "    if temp < row_sum:\n",
    "        temp = row_sum\n",
    "print(temp)\n",
    "        "
   ]
  },
  {
   "cell_type": "code",
   "execution_count": null,
   "metadata": {},
   "outputs": [
    {
     "name": "stdout",
     "output_type": "stream",
     "text": [
      "71\n",
      "117\n",
      "149\n",
      "138\n",
      "87\n",
      "149\n"
     ]
    }
   ],
   "source": [
    "# 열의 합 \n",
    "temp = 0\n",
    "for i in range(len(li)):\n",
    "    col_sum = 0\n",
    "    \n",
    "    for j in range(len(li[i])):\n",
    "        col_sum += li[j][i]\n",
    "    \n",
    "    print(col_sum)\n",
    "    if temp < col_sum:\n",
    "        temp = col_sum\n",
    "print(temp)\n",
    "        "
   ]
  },
  {
   "cell_type": "code",
   "execution_count": null,
   "metadata": {},
   "outputs": [
    {
     "name": "stdout",
     "output_type": "stream",
     "text": [
      "155\n"
     ]
    }
   ],
   "source": [
    "# 왼쪽 대각선 합 \n",
    "left_diagonal_sum = 0\n",
    "for i in range(len(li)):\n",
    "    for j in range(len(li[i])):\n",
    "        if i == j:\n",
    "            left_diagonal_sum += li[i][j]\n",
    "print(left_diagonal_sum)"
   ]
  },
  {
   "cell_type": "code",
   "execution_count": null,
   "metadata": {},
   "outputs": [
    {
     "name": "stdout",
     "output_type": "stream",
     "text": [
      "134\n"
     ]
    }
   ],
   "source": [
    "right_diagonal_sum = 0\n",
    "for i in range(len(li)):\n",
    "    for j in range(len(li[i])-1, -1, -1):\n",
    "        if i + j == 4 :\n",
    "        # 지금은 4인데 나중에는 주어진 m-1하면 됨\n",
    "            right_diagonal_sum += li[i][j]\n",
    "\n",
    "print(right_diagonal_sum)\n",
    "# 오른족 대각선 합 규칙 찾아보기 [0,4], [1,3], [2,2], [3,1], [4,0]\n",
    "# 요소의 합이 m-1이네? "
   ]
  },
  {
   "cell_type": "code",
   "execution_count": null,
   "metadata": {},
   "outputs": [],
   "source": [
    "def ext_max(list):\n",
    "\n",
    "    # 행의 합 \n",
    "    row_max = 0 \n",
    "    for i in range(len(li)):\n",
    "        row_sum = 0\n",
    "        \n",
    "        for j in range(len(li[i])):\n",
    "            row_sum += li[i][j]\n",
    "        \n",
    "        if row_max < row_sum:\n",
    "            row_max = row_sum\n",
    "        # 각 행의 합 중 가장 큰 것 구함 \n",
    "    \n",
    "    # 열의 합 \n",
    "    col_max = 0\n",
    "    for i in range(len(li)):\n",
    "        col_sum = 0\n",
    "        \n",
    "        for j in range(len(li[i])):\n",
    "            col_sum += li[j][i]\n",
    "        \n",
    "        if col_max < col_sum:\n",
    "            col_max = col_sum\n",
    "        # 각 열의 합 중 가장 큰 것 구함 \n",
    "    \n",
    "    # 왼쪽 대각선 합 \n",
    "    left_diagonal_sum = 0\n",
    "    for i in range(len(li)):\n",
    "        for j in range(len(li[i])):\n",
    "            if i == j:\n",
    "                left_diagonal_sum += li[i][j]\n",
    "\n",
    "    # 오른쪽 대각선 합 \n",
    "    right_diagonal_sum = 0\n",
    "    for i in range(len(li)):\n",
    "        for j in range(len(li[i])-1, -1, -1):\n",
    "            if i + j == 4 :\n",
    "            # 지금은 4인데 나중에는 주어진 m-1하면 됨\n",
    "                right_diagonal_sum += li[i][j]\n",
    "    \n",
    "    max_num = max(row_max, col_max, left_diagonal_sum, right_diagonal_sum)\n",
    "    # 행, 열, 대각선들의 합 중 가장 큰 값 구함 \n",
    "    return max_num\n"
   ]
  },
  {
   "cell_type": "code",
   "execution_count": null,
   "metadata": {},
   "outputs": [
    {
     "name": "stdout",
     "output_type": "stream",
     "text": [
      "[[10, 13, 10, 12, 15], [12, 39, 30, 23, 11], [11, 25, 50, 53, 15], [19, 27, 29, 37, 27], [19, 13, 30, 13, 19]]\n"
     ]
    },
    {
     "data": {
      "text/plain": [
       "155"
      ]
     },
     "execution_count": 36,
     "metadata": {},
     "output_type": "execute_result"
    }
   ],
   "source": [
    "n = int(input(n))\n",
    "li = []\n",
    "for i in range(n):\n",
    "    li.append(list(map(int, input().split())))\n",
    "print(li)\n",
    "ext_max(li)\n",
    "# 끝난거 같은데?"
   ]
  },
  {
   "cell_type": "markdown",
   "metadata": {},
   "source": [
    "### 참고풀이"
   ]
  },
  {
   "cell_type": "code",
   "execution_count": null,
   "metadata": {},
   "outputs": [
    {
     "name": "stdout",
     "output_type": "stream",
     "text": [
      "155\n"
     ]
    }
   ],
   "source": [
    "n = int(input())\n",
    "a = [list(map(int, input().split())) for _ in range(n)]\n",
    "# 한 줄을 읽어서 리스트 화를 시키고 그것을 for문을 돌려 여러 리스트 만듬 \n",
    "\n",
    "largest = -21470000\n",
    "for x in range(n):\n",
    "    sum1 = 0\n",
    "    # 행의 합 \n",
    "\n",
    "    sum2 = 0\n",
    "    # 열의 합 \n",
    "    for j in range(n):\n",
    "        sum1 += a[i][j]\n",
    "        # 행이 고정되고 열이 바뀜 \n",
    "\n",
    "        sum2 += a[j][i]\n",
    "        # 열이 고정되고 행이 바뀜\n",
    "\n",
    "    if sum1 > largest:\n",
    "        largest = sum1\n",
    "    \n",
    "    if sum2 > largest:\n",
    "        largest = sum2 \n",
    "    \n",
    "    # 행과 열의 최대 합 저장 \n",
    "\n",
    "# 대각선 합 \n",
    "sum1 = sum2 = 0 \n",
    "for i in range(n):\n",
    "    sum1 += a[i][i]\n",
    "    # 아!!! 이렇게 하면 왼쪽 대각선 쉽게 구할 수 있네 \n",
    "    \n",
    "    sum2 += a[i][n-i-1]\n",
    "    # 이렇게 해도 오른쪽 대각성 합을 구할 수 있네 \n",
    "    # 결국은 n-1인데 반복문을 한번만 사용해서 구하네 \n",
    "\n",
    "    if sum1 > largest:\n",
    "        largest = sum1 \n",
    "    if sum2 > largest:\n",
    "        largest = sum2 \n",
    "\n",
    "print(largest)\n",
    "\n",
    "# 내꺼랑 다르게 연산 횟수를 엄청 줄였네 \n",
    "# 나도 컴퓨터 입장에서 더 효율적으로 코드를 작성할 수 있도록 생각해봐야겠다 "
   ]
  },
  {
   "cell_type": "markdown",
   "metadata": {},
   "source": [
    "## 못풀었음..\n",
    "### 사과나무(다이아몬드) \n",
    "- 현수의 농장은 N*N 격자판으로 이루어져 있으며, 각 격자안에는 한 그루의 사과나무가 심어저 있다. N의 크기는 항상 홀수이다. \n",
    "- 가을이 되어 사과를 수확해야 하는데 현수는 격자판안의 사 과를 수확할 때 다이아몬드 모양의 격자판만 수확하고 나머지 격자안의 사과는 새들을 위해서 남겨놓는다.\n",
    "- 만약 N이 5이면 아래 그림과 같이 진한 부분의 사과를 수확한다.\n",
    "- 현수과 수확하는 사과의 총 개수를 출력하세요.\n",
    "\n",
    "<hr>\n",
    "\n",
    "- 첫 줄에 자연수 N(홀수)이 주어진다.(3<=N<=20)\n",
    "- 두 번째 줄부터 N줄에 걸쳐 각 줄에 N개의 자연수가 주어진다. 이 자연수는 각 격자안에 있는 사과나무에 열린 사과의 개수이다. \n",
    "- 각 격자안의 사과의 개수는 100을 넘지 않는다.\n",
    "- 수확한 사과의 총 개수를 출력합니다."
   ]
  },
  {
   "cell_type": "code",
   "execution_count": null,
   "metadata": {},
   "outputs": [],
   "source": [
    "# (n // 2) 해서 수확할 나무의 개수를 구하고 그것을 +2 씩 n까지 반복해서 돌리면서 더하면 되지 않나? "
   ]
  },
  {
   "cell_type": "code",
   "execution_count": null,
   "metadata": {},
   "outputs": [],
   "source": [
    "n = int(input())\n",
    "li = [list(map(int, input().split())) for _ in range(n)]"
   ]
  },
  {
   "cell_type": "code",
   "execution_count": null,
   "metadata": {},
   "outputs": [
    {
     "data": {
      "text/plain": [
       "[[10, 13, 10, 12, 15],\n",
       " [12, 39, 30, 23, 11],\n",
       " [11, 25, 50, 53, 15],\n",
       " [19, 27, 29, 37, 27],\n",
       " [19, 13, 30, 13, 19]]"
      ]
     },
     "execution_count": 40,
     "metadata": {},
     "output_type": "execute_result"
    }
   ],
   "source": [
    "li"
   ]
  },
  {
   "cell_type": "code",
   "execution_count": 59,
   "metadata": {},
   "outputs": [
    {
     "name": "stdout",
     "output_type": "stream",
     "text": [
      "1\n",
      "3\n",
      "5\n",
      "7\n",
      "9\n",
      "9\n",
      "7\n",
      "5\n",
      "3\n",
      "1\n"
     ]
    }
   ],
   "source": [
    "e = 9\n",
    "for i in range(1, e + 1, 2):\n",
    "    print(i)\n",
    "    if i == e:\n",
    "        for j in range(i, 0, -2):\n",
    "            print(j)\n",
    "# 다이아몬드는 만듬 "
   ]
  },
  {
   "cell_type": "code",
   "execution_count": null,
   "metadata": {},
   "outputs": [],
   "source": [
    "to = 0\n",
    "n = 5 \n",
    "t = n//2\n",
    "\n",
    "ex = []\n",
    "for i in range(len(li)):\n",
    "    for k in range(1, (n // 2)+1):\n",
    "        ex.append(li[i][t-k:t+k])\n",
    "        print(i)\n",
    "        if k == (n//2)+1:\n",
    "            # 다 찾다면 \n",
    "            for j in range(k, 0, -1):\n",
    "                ex.append(li[i][t-k:t+k])\n",
    "    # 다이아몬드는 만들었고 "
   ]
  },
  {
   "cell_type": "code",
   "execution_count": 58,
   "metadata": {},
   "outputs": [
    {
     "data": {
      "text/plain": [
       "[[13, 10],\n",
       " [10, 13, 10, 12],\n",
       " [39, 30],\n",
       " [12, 39, 30, 23],\n",
       " [25, 50],\n",
       " [11, 25, 50, 53],\n",
       " [27, 29],\n",
       " [19, 27, 29, 37],\n",
       " [13, 30],\n",
       " [19, 13, 30, 13]]"
      ]
     },
     "execution_count": 58,
     "metadata": {},
     "output_type": "execute_result"
    }
   ],
   "source": [
    "ex\n",
    "# 아니네 "
   ]
  },
  {
   "cell_type": "code",
   "execution_count": 63,
   "metadata": {},
   "outputs": [],
   "source": [
    "# 참고 조금 보고 다시 풀어보기 "
   ]
  },
  {
   "cell_type": "code",
   "execution_count": 68,
   "metadata": {},
   "outputs": [
    {
     "data": {
      "text/plain": [
       "30"
      ]
     },
     "execution_count": 68,
     "metadata": {},
     "output_type": "execute_result"
    }
   ],
   "source": [
    "li[1][2]"
   ]
  },
  {
   "cell_type": "code",
   "execution_count": 67,
   "metadata": {},
   "outputs": [
    {
     "ename": "TypeError",
     "evalue": "unsupported operand type(s) for +=: 'int' and 'list'",
     "output_type": "error",
     "traceback": [
      "\u001b[0;31m---------------------------------------------------------------------------\u001b[0m",
      "\u001b[0;31mTypeError\u001b[0m                                 Traceback (most recent call last)",
      "\u001b[1;32m/Users/sig6774/CodingTest/Coding_Test_220701.ipynb Cell 28'\u001b[0m in \u001b[0;36m<cell line: 7>\u001b[0;34m()\u001b[0m\n\u001b[1;32m     <a href='vscode-notebook-cell:/Users/sig6774/CodingTest/Coding_Test_220701.ipynb#ch0000038?line=12'>13</a>\u001b[0m \u001b[39melse\u001b[39;00m:\n\u001b[1;32m     <a href='vscode-notebook-cell:/Users/sig6774/CodingTest/Coding_Test_220701.ipynb#ch0000038?line=13'>14</a>\u001b[0m     \u001b[39mfor\u001b[39;00m j \u001b[39min\u001b[39;00m \u001b[39mrange\u001b[39m(s, e\u001b[39m+\u001b[39m\u001b[39m1\u001b[39m, \u001b[39m1\u001b[39m):\n\u001b[0;32m---> <a href='vscode-notebook-cell:/Users/sig6774/CodingTest/Coding_Test_220701.ipynb#ch0000038?line=14'>15</a>\u001b[0m         total \u001b[39m+\u001b[39m\u001b[39m=\u001b[39m li[i][s:e\u001b[39m+\u001b[39m\u001b[39m1\u001b[39m]\n\u001b[1;32m     <a href='vscode-notebook-cell:/Users/sig6774/CodingTest/Coding_Test_220701.ipynb#ch0000038?line=15'>16</a>\u001b[0m         s \u001b[39m+\u001b[39m\u001b[39m=\u001b[39m \u001b[39m1\u001b[39m \n\u001b[1;32m     <a href='vscode-notebook-cell:/Users/sig6774/CodingTest/Coding_Test_220701.ipynb#ch0000038?line=16'>17</a>\u001b[0m         e \u001b[39m-\u001b[39m\u001b[39m=\u001b[39m \u001b[39m1\u001b[39m\n",
      "\u001b[0;31mTypeError\u001b[0m: unsupported operand type(s) for +=: 'int' and 'list'"
     ]
    }
   ],
   "source": [
    "total = 0\n",
    "n = 5 \n",
    "s = n // 2 \n",
    "e = n // 2 \n",
    "\n",
    "ex = []\n",
    "for i in range(len(li)):\n",
    "    if s != 0:\n",
    "        for j in range(s, e+1, 1):\n",
    "            total += li[i][j]\n",
    "        s -= 1\n",
    "        e += 1\n",
    "    else:\n",
    "        for j in range(s, e+1, 1):\n",
    "            total += li[i][s:e+1]\n",
    "            s += 1 \n",
    "            e -= 1 \n",
    "# 그래도 못품 \n",
    "# 차원이 헷갈려서 그런가 "
   ]
  },
  {
   "cell_type": "markdown",
   "metadata": {},
   "source": [
    "### 참고풀이"
   ]
  },
  {
   "cell_type": "code",
   "execution_count": 2,
   "metadata": {},
   "outputs": [],
   "source": [
    "n = int(input())\n",
    "li = [list(map(int, input().split())) for _ in range(n)]"
   ]
  },
  {
   "cell_type": "code",
   "execution_count": 62,
   "metadata": {},
   "outputs": [
    {
     "data": {
      "text/plain": [
       "[[10, 13, 10, 12, 15],\n",
       " [12, 39, 30, 23, 11],\n",
       " [11, 25, 50, 53, 15],\n",
       " [19, 27, 29, 37, 27],\n",
       " [19, 13, 30, 13, 19]]"
      ]
     },
     "execution_count": 62,
     "metadata": {},
     "output_type": "execute_result"
    }
   ],
   "source": [
    "li"
   ]
  },
  {
   "cell_type": "code",
   "execution_count": 69,
   "metadata": {},
   "outputs": [],
   "source": [
    "# n을 2로 나눈 값을 s,e로 저장 (이거까지는 나랑 똑같음)\n",
    "# s는 -1 e는 +1 이렇게 진행 (나는 변수 하나로 할려고 했는데 두개로 하면 되겠네)"
   ]
  },
  {
   "cell_type": "code",
   "execution_count": 4,
   "metadata": {},
   "outputs": [
    {
     "name": "stdout",
     "output_type": "stream",
     "text": [
      "379\n"
     ]
    }
   ],
   "source": [
    "res = 0 \n",
    "s=e=n//2\n",
    "\n",
    "for i in range(n):\n",
    "    for j in range(s, e+1):\n",
    "        res += li[i][j]\n",
    "    if i < n // 2:\n",
    "        s -=1\n",
    "        e += 1 \n",
    "    # 길어짐 \n",
    "    else:\n",
    "        s += 1 \n",
    "        e -= 1 \n",
    "print(res)\n",
    "# 흠... 신박하네 \n",
    "# 범위를 지정하는 변수를 2개 주는 것과 그값을 +, -를 써서 범위를 조절하는게 key "
   ]
  },
  {
   "cell_type": "markdown",
   "metadata": {},
   "source": [
    "### 곳감(모래시계)\n",
    "- 현수는 곳감을 만들기 위해 감을 깍아 마당에 말리고 있습니다. 현수의 마당은 N*N 격자판으 로 이루어져 있으며, 현수는 각 격자단위로 말리는 감의 수를 정합니다.\n",
    "- 그런데 해의 위치에 따라 특정위치의 감은 잘 마르지 않습니다. 그래서 현수는 격자의 행을 기준으로 왼쪽, 또는 오른쪽으로 회전시켜 위치를 변경해 모든 감이 잘 마르게 합니다.\n",
    "- 만약 회전명령 정보가 2 0 3이면 2번째 행을 왼쪽으로 3만큼 아래 그림처럼 회전시키는 명령 입니다.\n",
    "- 첫 번째 수는 행번호, 두 번째 수는 방향인데 0이면 왼쪽, 1이면 오른쪽이고, 세 번째 수는 회 전하는 격자의 수입니다.\n",
    "- M개의 회전명령을 실행하고 난 후 아래와 같이 마당의 모래시계 모양의 영역에는 감 이 총 몇 개가 있는지 출력하는 프로그램을 작성하세요.\n",
    "<hr>\n",
    "\n",
    "- 첫 줄에 자연수 N(3<=N<=20) 이 주어며, N은 홀수입니다.\n",
    "- 두 번째 줄부터 N줄에 걸쳐 각 줄에 N개의 자연수가 주어진다.\n",
    "- 이 자연수는 각 격자안에 있는 감의 개수이며, 각 격자안의 감의 개수는 100을 넘지 않는다. 그 다음 줄에 회전명령의 개수인 M(1<=M<=10)이 주어지고, \n",
    "- 그 다음 줄부터 M개의 회전명령 정보가 M줄에 걸쳐 주어집니다.\n",
    "\n",
    "- 총 감의 개수를 출력합니다."
   ]
  },
  {
   "cell_type": "code",
   "execution_count": 7,
   "metadata": {},
   "outputs": [],
   "source": [
    "# 회전 정보대로 리스트 값을 이동 (함수로 만들기)\n",
    "    # 왼쪽,오른쪽 조건 걸어줌 \n",
    "    # 주어진 수만큼 인덱스를 더하거나 빼서  값 변경 \n",
    "# 그 다음 이동된 리스트를 모래시계 형태로 값 출력 "
   ]
  },
  {
   "cell_type": "code",
   "execution_count": 5,
   "metadata": {},
   "outputs": [],
   "source": [
    "n = int(input())\n",
    "li = [list(map(int, input().split())) for _ in range(n)]"
   ]
  },
  {
   "cell_type": "code",
   "execution_count": 6,
   "metadata": {},
   "outputs": [
    {
     "data": {
      "text/plain": [
       "[[10, 13, 10, 12, 15],\n",
       " [23, 11, 12, 39, 30],\n",
       " [11, 25, 50, 53, 15],\n",
       " [19, 27, 29, 37, 27],\n",
       " [19, 13, 30, 13, 19]]"
      ]
     },
     "execution_count": 6,
     "metadata": {},
     "output_type": "execute_result"
    }
   ],
   "source": [
    "li"
   ]
  },
  {
   "cell_type": "code",
   "execution_count": 8,
   "metadata": {},
   "outputs": [],
   "source": [
    "li_copy = li "
   ]
  },
  {
   "cell_type": "code",
   "execution_count": null,
   "metadata": {},
   "outputs": [],
   "source": [
    "li_copy[]"
   ]
  },
  {
   "cell_type": "code",
   "execution_count": 11,
   "metadata": {},
   "outputs": [],
   "source": [
    "a,b,c = 2, 0, 3 \n",
    "\n",
    "# 왼쪽은 n - c + 현재 인덱스 번호로 이동하면 됨 \n",
    "# 오른쪽은 n - c - 현재 인덱스 번호로 이동하면 됨 \n",
    "# 위에 내용 틀림 \n",
    "def move_num(list, row, move, ran, n):\n",
    "    temp = 0 \n",
    "    row = row-1\n",
    "    if move == 0:\n",
    "        for i in range(len(list)):\n",
    "            list[row][n - ran +i], list[row][i] = list[row][i], list[row][n-ran+i]\n",
    "    else:\n",
    "        for i in range(len(list)):\n",
    "            list[row][n-ran - i], list[row][i] = list[row][i], list[row][n-ran-i]\n",
    "# 조금 더 생각해보기"
   ]
  },
  {
   "cell_type": "code",
   "execution_count": 12,
   "metadata": {},
   "outputs": [
    {
     "ename": "IndexError",
     "evalue": "list index out of range",
     "output_type": "error",
     "traceback": [
      "\u001b[0;31m---------------------------------------------------------------------------\u001b[0m",
      "\u001b[0;31mIndexError\u001b[0m                                Traceback (most recent call last)",
      "\u001b[1;32m/Users/sig6774/CodingTest/Coding_Test_220701.ipynb Cell 41'\u001b[0m in \u001b[0;36m<cell line: 1>\u001b[0;34m()\u001b[0m\n\u001b[0;32m----> <a href='vscode-notebook-cell:/Users/sig6774/CodingTest/Coding_Test_220701.ipynb#ch0000050?line=0'>1</a>\u001b[0m move_num(li, \u001b[39m2\u001b[39;49m,\u001b[39m0\u001b[39;49m,\u001b[39m3\u001b[39;49m,n)\n",
      "\u001b[1;32m/Users/sig6774/CodingTest/Coding_Test_220701.ipynb Cell 40'\u001b[0m in \u001b[0;36mmove_num\u001b[0;34m(list, row, move, ran, n)\u001b[0m\n\u001b[1;32m      <a href='vscode-notebook-cell:/Users/sig6774/CodingTest/Coding_Test_220701.ipynb#ch0000046?line=6'>7</a>\u001b[0m \u001b[39mif\u001b[39;00m move \u001b[39m==\u001b[39m \u001b[39m0\u001b[39m:\n\u001b[1;32m      <a href='vscode-notebook-cell:/Users/sig6774/CodingTest/Coding_Test_220701.ipynb#ch0000046?line=7'>8</a>\u001b[0m     \u001b[39mfor\u001b[39;00m i \u001b[39min\u001b[39;00m \u001b[39mrange\u001b[39m(\u001b[39mlen\u001b[39m(\u001b[39mlist\u001b[39m)):\n\u001b[0;32m----> <a href='vscode-notebook-cell:/Users/sig6774/CodingTest/Coding_Test_220701.ipynb#ch0000046?line=8'>9</a>\u001b[0m         \u001b[39mlist\u001b[39m[row][n \u001b[39m-\u001b[39m ran \u001b[39m+\u001b[39mi\u001b[39m-\u001b[39m\u001b[39m1\u001b[39m], \u001b[39mlist\u001b[39m[row][i] \u001b[39m=\u001b[39m \u001b[39mlist\u001b[39m[row][i], \u001b[39mlist\u001b[39;49m[row][n\u001b[39m-\u001b[39;49mran\u001b[39m+\u001b[39;49mi\u001b[39m-\u001b[39;49m\u001b[39m1\u001b[39;49m]\n\u001b[1;32m     <a href='vscode-notebook-cell:/Users/sig6774/CodingTest/Coding_Test_220701.ipynb#ch0000046?line=9'>10</a>\u001b[0m \u001b[39melse\u001b[39;00m:\n\u001b[1;32m     <a href='vscode-notebook-cell:/Users/sig6774/CodingTest/Coding_Test_220701.ipynb#ch0000046?line=10'>11</a>\u001b[0m     \u001b[39mfor\u001b[39;00m i \u001b[39min\u001b[39;00m \u001b[39mrange\u001b[39m(\u001b[39mlen\u001b[39m(\u001b[39mlist\u001b[39m)):\n",
      "\u001b[0;31mIndexError\u001b[0m: list index out of range"
     ]
    }
   ],
   "source": [
    "move_num(li, 2,0,3,n)"
   ]
  },
  {
   "cell_type": "code",
   "execution_count": null,
   "metadata": {},
   "outputs": [],
   "source": [
    "# "
   ]
  }
 ],
 "metadata": {
  "kernelspec": {
   "display_name": "Python 3.9.1 64-bit ('3.9.1')",
   "language": "python",
   "name": "python3"
  },
  "language_info": {
   "codemirror_mode": {
    "name": "ipython",
    "version": 3
   },
   "file_extension": ".py",
   "mimetype": "text/x-python",
   "name": "python",
   "nbconvert_exporter": "python",
   "pygments_lexer": "ipython3",
   "version": "3.9.1"
  },
  "orig_nbformat": 4,
  "vscode": {
   "interpreter": {
    "hash": "b29909ae39fc17549a84839997d927dda790dc9d9d25402f3e010c02e8c51a82"
   }
  }
 },
 "nbformat": 4,
 "nbformat_minor": 2
}
