{
 "cells": [
  {
   "cell_type": "markdown",
   "metadata": {},
   "source": [
    "String"
   ]
  },
  {
   "cell_type": "code",
   "execution_count": 2,
   "metadata": {},
   "outputs": [
    {
     "name": "stdout",
     "output_type": "stream",
     "text": [
      "Python's favorite food is perl\n",
      "\"Python is very easy.\" he says.\n"
     ]
    }
   ],
   "source": [
    "# 문자열 안에 작은 따옴표나 큰 따옴표를 포함 \n",
    "print(\"Python's favorite food is perl\")\n",
    "\n",
    "print('\"Python is very easy.\" he says.')"
   ]
  },
  {
   "cell_type": "code",
   "execution_count": 7,
   "metadata": {},
   "outputs": [
    {
     "name": "stdout",
     "output_type": "stream",
     "text": [
      "thonLife is too short\n",
      "You need Python\n",
      "\n",
      "Life is too short \n",
      "You need python\n",
      "\n"
     ]
    }
   ],
   "source": [
    "# 여러 줄인 문자열을 변수에 대입 \n",
    "m = 'thonLife is too short\\nYou need Python'\n",
    "print(m)\n",
    "# \\n을 사용 \n",
    "\n",
    "# 연속된 작은 따옴표 3개 또는 큰 따옴표 3개 사용 \n",
    "m = \"\"\"\n",
    "Life is too short \n",
    "You need python\n",
    "\"\"\"\n",
    "print(m)\n",
    "\n",
    "# '''''', \"\"\"\"\"\" 사용 "
   ]
  },
  {
   "cell_type": "markdown",
   "metadata": {},
   "source": [
    "문자열 연산 "
   ]
  },
  {
   "cell_type": "code",
   "execution_count": 10,
   "metadata": {},
   "outputs": [
    {
     "name": "stdout",
     "output_type": "stream",
     "text": [
      "Python is fun!\n"
     ]
    }
   ],
   "source": [
    "head = 'Python'\n",
    "tail = ' is fun!'\n",
    "print(head + tail)\n",
    "\n",
    "# 파이썬은 문자열끼리는 연산이 가능하다 "
   ]
  },
  {
   "cell_type": "code",
   "execution_count": 12,
   "metadata": {},
   "outputs": [
    {
     "name": "stdout",
     "output_type": "stream",
     "text": [
      "pythonpythonpython\n",
      "==============================\n",
      "My Program\n",
      "==============================\n"
     ]
    }
   ],
   "source": [
    "a = 'python'\n",
    "print(a * 3)\n",
    "\n",
    "# 응용\n",
    "print('=' * 30)\n",
    "print('My Program')\n",
    "print('=' * 30)\n"
   ]
  },
  {
   "cell_type": "code",
   "execution_count": 13,
   "metadata": {},
   "outputs": [
    {
     "name": "stdout",
     "output_type": "stream",
     "text": [
      "17\n"
     ]
    }
   ],
   "source": [
    "# 문자열 길이 \n",
    "a = 'Life is too short'\n",
    "print(len(a))"
   ]
  },
  {
   "cell_type": "markdown",
   "metadata": {},
   "source": [
    "문자열 인덱싱과 슬라이싱 "
   ]
  },
  {
   "cell_type": "code",
   "execution_count": 14,
   "metadata": {},
   "outputs": [],
   "source": [
    "a = 'Life is too short, You need Python'"
   ]
  },
  {
   "cell_type": "code",
   "execution_count": 17,
   "metadata": {},
   "outputs": [
    {
     "name": "stdout",
     "output_type": "stream",
     "text": [
      "e\n",
      "L\n"
     ]
    }
   ],
   "source": [
    "# 문자열 인덱싱 0부터 시작함 \n",
    "\n",
    "print(a[3])\n",
    "print(a[-0])"
   ]
  },
  {
   "cell_type": "code",
   "execution_count": 20,
   "metadata": {},
   "outputs": [
    {
     "name": "stdout",
     "output_type": "stream",
     "text": [
      "Life\n",
      "Life\n"
     ]
    }
   ],
   "source": [
    "b = a[0] + a[1] + a[2] + a[3]\n",
    "print(b)\n",
    "# 인덱싱으로 Life 불러오기 \n",
    "\n",
    "print(a[0:4])\n",
    "# 슬라이싱을 활용하여 간단하게 Life 불러오기 "
   ]
  },
  {
   "cell_type": "code",
   "execution_count": 22,
   "metadata": {},
   "outputs": [
    {
     "name": "stdout",
     "output_type": "stream",
     "text": [
      "20010331\n",
      "Rainy\n"
     ]
    }
   ],
   "source": [
    "a = '20010331Rainy'\n",
    "date = a[:8]\n",
    "weather = a[8:]\n",
    "\n",
    "print(date)\n",
    "print(weather)"
   ]
  },
  {
   "cell_type": "code",
   "execution_count": 23,
   "metadata": {},
   "outputs": [
    {
     "name": "stdout",
     "output_type": "stream",
     "text": [
      "2001\n"
     ]
    }
   ],
   "source": [
    "year = a[:4]\n",
    "\n",
    "print(year)"
   ]
  },
  {
   "cell_type": "markdown",
   "metadata": {},
   "source": [
    "문자열 포맷팅 \n",
    "1. 문자열 안의 특정 값을 바꿔야할 경우 사용 \n",
    "2. 참고 \n",
    "    - %s : 문자열 \n",
    "    - %c : 문자 1개 \n",
    "    - %d : 정수 \n",
    "    - %f : 부동소수 \n",
    "    - %o : 8진수 \n",
    "    - %x : 16진수 "
   ]
  },
  {
   "cell_type": "code",
   "execution_count": 25,
   "metadata": {},
   "outputs": [
    {
     "name": "stdout",
     "output_type": "stream",
     "text": [
      "I eat 3 apples.\n"
     ]
    }
   ],
   "source": [
    "print('I eat %d apples.' % 3)\n",
    "# %를 사용해서 특정값만 바꿔줄 수 있다."
   ]
  },
  {
   "cell_type": "code",
   "execution_count": 26,
   "metadata": {},
   "outputs": [
    {
     "name": "stdout",
     "output_type": "stream",
     "text": [
      "I eat five apples.\n"
     ]
    }
   ],
   "source": [
    "print('I eat %s apples.' % 'five')\n",
    "\n",
    "# %d는 정수 %s는 문자열 "
   ]
  },
  {
   "cell_type": "code",
   "execution_count": 27,
   "metadata": {},
   "outputs": [
    {
     "name": "stdout",
     "output_type": "stream",
     "text": [
      "I eat 5 apples.\n"
     ]
    }
   ],
   "source": [
    "n = 5 \n",
    "print('I eat %d apples.' % n)"
   ]
  },
  {
   "cell_type": "code",
   "execution_count": 28,
   "metadata": {},
   "outputs": [
    {
     "name": "stdout",
     "output_type": "stream",
     "text": [
      "I ate 10 apples. so I was sick for Three days.\n"
     ]
    }
   ],
   "source": [
    "n = 10 \n",
    "d = 'Three'\n",
    "\n",
    "print('I ate %d apples. so I was sick for %s days.' % (n, d))"
   ]
  },
  {
   "cell_type": "code",
   "execution_count": 31,
   "metadata": {},
   "outputs": [
    {
     "name": "stdout",
     "output_type": "stream",
     "text": [
      "Error is 98%.\n"
     ]
    }
   ],
   "source": [
    "print('Error is %d%%.' % 98)\n",
    "# 문자열로 %를 사용하고 싶을때는 %%를 사용 "
   ]
  },
  {
   "cell_type": "code",
   "execution_count": 32,
   "metadata": {},
   "outputs": [
    {
     "name": "stdout",
     "output_type": "stream",
     "text": [
      "3.4213\n"
     ]
    }
   ],
   "source": [
    "print('%0.4f' % 3.42134234)\n",
    "# 소수점 4번째자리까지 표시하고 싶을때 "
   ]
  },
  {
   "cell_type": "markdown",
   "metadata": {},
   "source": [
    "format 함수를 사용한 포맷팅 "
   ]
  },
  {
   "cell_type": "code",
   "execution_count": 33,
   "metadata": {},
   "outputs": [
    {
     "name": "stdout",
     "output_type": "stream",
     "text": [
      "I eat 3 apples\n"
     ]
    }
   ],
   "source": [
    "print('I eat {0} apples'.format(3))"
   ]
  },
  {
   "cell_type": "code",
   "execution_count": 34,
   "metadata": {},
   "outputs": [
    {
     "name": "stdout",
     "output_type": "stream",
     "text": [
      "I eat five apples\n"
     ]
    }
   ],
   "source": [
    "print('I eat {0} apples'.format('five'))"
   ]
  },
  {
   "cell_type": "code",
   "execution_count": 35,
   "metadata": {},
   "outputs": [
    {
     "name": "stdout",
     "output_type": "stream",
     "text": [
      "I ate 10 apples. so I was sick for three days.\n"
     ]
    }
   ],
   "source": [
    "n = 10\n",
    "d = 'three'\n",
    "\n",
    "print('I ate {0} apples. so I was sick for {1} days.'.format(n, d))"
   ]
  },
  {
   "cell_type": "code",
   "execution_count": 36,
   "metadata": {},
   "outputs": [
    {
     "name": "stdout",
     "output_type": "stream",
     "text": [
      "I ate 10 apples. so I was sick for 3 days.\n"
     ]
    }
   ],
   "source": [
    "print('I ate {0} apples. so I was sick for {day} days.'.format(10, day = 3))\n",
    "# 인덱스와 이름 혼용 사용 "
   ]
  },
  {
   "cell_type": "code",
   "execution_count": 37,
   "metadata": {},
   "outputs": [
    {
     "name": "stdout",
     "output_type": "stream",
     "text": [
      "3.4212\n"
     ]
    }
   ],
   "source": [
    "y = 3.4212341234\n",
    "print('{0:0.4f}'.format(y))"
   ]
  },
  {
   "cell_type": "markdown",
   "metadata": {},
   "source": [
    "문자열 관련 함수 "
   ]
  },
  {
   "cell_type": "code",
   "execution_count": 40,
   "metadata": {},
   "outputs": [
    {
     "name": "stdout",
     "output_type": "stream",
     "text": [
      "2\n"
     ]
    }
   ],
   "source": [
    "a = 'hobby'\n",
    "print(a.count('b'))\n",
    "# 관련 문자의 개수를 출력"
   ]
  },
  {
   "cell_type": "code",
   "execution_count": 41,
   "metadata": {},
   "outputs": [
    {
     "name": "stdout",
     "output_type": "stream",
     "text": [
      "14\n",
      "-1\n"
     ]
    }
   ],
   "source": [
    "a = 'Python is the best choice'\n",
    "print(a.find('b'))\n",
    "print(a.find('k'))\n",
    "# 몇번째 자리에 존재하는지 파악 \n",
    "# 해당 문자가 없으면 -1을 출력 "
   ]
  },
  {
   "cell_type": "code",
   "execution_count": 43,
   "metadata": {},
   "outputs": [
    {
     "data": {
      "text/plain": [
       "8"
      ]
     },
     "execution_count": 43,
     "metadata": {},
     "output_type": "execute_result"
    }
   ],
   "source": [
    "a = 'Life is too short'\n",
    "a.index('t')"
   ]
  },
  {
   "cell_type": "code",
   "execution_count": 45,
   "metadata": {},
   "outputs": [
    {
     "name": "stdout",
     "output_type": "stream",
     "text": [
      "a,b,c,d\n"
     ]
    }
   ],
   "source": [
    "print(','.join('abcd'))\n",
    "# 문자열 삽입 "
   ]
  },
  {
   "cell_type": "code",
   "execution_count": 46,
   "metadata": {},
   "outputs": [
    {
     "data": {
      "text/plain": [
       "'HI'"
      ]
     },
     "execution_count": 46,
     "metadata": {},
     "output_type": "execute_result"
    }
   ],
   "source": [
    "a = 'hi'\n",
    "a.upper()\n",
    "# 대문자 변환 "
   ]
  },
  {
   "cell_type": "code",
   "execution_count": 47,
   "metadata": {},
   "outputs": [
    {
     "data": {
      "text/plain": [
       "'hi'"
      ]
     },
     "execution_count": 47,
     "metadata": {},
     "output_type": "execute_result"
    }
   ],
   "source": [
    "a = \"HI\"\n",
    "a.lower()\n",
    "# 소문자 변환 "
   ]
  },
  {
   "cell_type": "code",
   "execution_count": 51,
   "metadata": {},
   "outputs": [
    {
     "name": "stdout",
     "output_type": "stream",
     "text": [
      "hi \n",
      " hi\n"
     ]
    }
   ],
   "source": [
    "a = ' hi '\n",
    "print(a.lstrip())\n",
    "print(a.rstrip())\n",
    "# 공백 제거 "
   ]
  },
  {
   "cell_type": "code",
   "execution_count": 52,
   "metadata": {},
   "outputs": [
    {
     "data": {
      "text/plain": [
       "'Your leg is too short'"
      ]
     },
     "execution_count": 52,
     "metadata": {},
     "output_type": "execute_result"
    }
   ],
   "source": [
    "a = 'Life is too short'\n",
    "a.replace('Life', 'Your leg')\n",
    "# 특정 문자열 대체"
   ]
  },
  {
   "cell_type": "code",
   "execution_count": 53,
   "metadata": {},
   "outputs": [
    {
     "data": {
      "text/plain": [
       "['Life', 'is', 'too', 'short']"
      ]
     },
     "execution_count": 53,
     "metadata": {},
     "output_type": "execute_result"
    }
   ],
   "source": [
    "a = 'Life is too short'\n",
    "a.split()\n",
    "# 문자열 분리 "
   ]
  },
  {
   "cell_type": "code",
   "execution_count": null,
   "metadata": {},
   "outputs": [],
   "source": []
  }
 ],
 "metadata": {
  "kernelspec": {
   "display_name": "Python 3",
   "language": "python",
   "name": "python3"
  },
  "language_info": {
   "codemirror_mode": {
    "name": "ipython",
    "version": 3
   },
   "file_extension": ".py",
   "mimetype": "text/x-python",
   "name": "python",
   "nbconvert_exporter": "python",
   "pygments_lexer": "ipython3",
   "version": "3.7.4"
  }
 },
 "nbformat": 4,
 "nbformat_minor": 2
}
