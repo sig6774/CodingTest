{
 "cells": [
  {
   "cell_type": "markdown",
   "metadata": {},
   "source": [
    "### 정렬 \n",
    "- 데이터를 특정한 기준에 따라 순서대로 나열하는 것 "
   ]
  },
  {
   "cell_type": "markdown",
   "metadata": {},
   "source": [
    "#### 선택 정렬 \n",
    "- 처리되지 않은 데이터 중 가장 작은 데이터를 선택해 맨 앞에 있는 데이터와 바꾸는 것을 반복 \n",
    "- 선택 정렬은 시간 복잡도는 대략적으로 빅오 표기법에 따라 O(n^2)라고 표현"
   ]
  },
  {
   "cell_type": "code",
   "execution_count": 1,
   "metadata": {},
   "outputs": [
    {
     "name": "stdout",
     "output_type": "stream",
     "text": [
      "[0, 1, 2, 3, 4, 5, 6, 7, 8, 9]\n"
     ]
    }
   ],
   "source": [
    "array = [7, 5, 9, 0, 3, 1, 6, 2, 4, 8]\n",
    "\n",
    "for i in range(len(array)):\n",
    "    min_index = i\n",
    "    for j in range(i+1, len(array)):\n",
    "        if array[min_index] > array[j]:\n",
    "            min_index = j \n",
    "            # 가장 작은 값을 찾는 과정 \n",
    "    array[i], array[min_index] = array[min_index], array[i]\n",
    "    # 값들을 스왑하면서 정렬하는 과정 \n",
    "print(array)"
   ]
  },
  {
   "cell_type": "markdown",
   "metadata": {},
   "source": [
    "#### 삽입 정렬 \n",
    "- 처리되지 않은 데이터를 하나씩 골라 적절한 위치에 삽입 \n",
    "- 선택 정렬은 일반적으로 더 효율적으로 동작 \n",
    "- 시간 복잡도는 O(n^2)이지만 만약 데이터가 거의 정렬되어 있으면 매우 빠르게 동작할 수 있음 "
   ]
  },
  {
   "cell_type": "code",
   "execution_count": 3,
   "metadata": {},
   "outputs": [
    {
     "name": "stdout",
     "output_type": "stream",
     "text": [
      "[5, 7, 9, 0, 3, 1, 6, 2, 4, 8]\n",
      "[5, 7, 0, 9, 3, 1, 6, 2, 4, 8]\n",
      "[5, 0, 7, 9, 3, 1, 6, 2, 4, 8]\n",
      "[0, 5, 7, 9, 3, 1, 6, 2, 4, 8]\n",
      "[0, 5, 7, 3, 9, 1, 6, 2, 4, 8]\n",
      "[0, 5, 3, 7, 9, 1, 6, 2, 4, 8]\n",
      "[0, 3, 5, 7, 9, 1, 6, 2, 4, 8]\n",
      "[0, 3, 5, 7, 1, 9, 6, 2, 4, 8]\n",
      "[0, 3, 5, 1, 7, 9, 6, 2, 4, 8]\n",
      "[0, 3, 1, 5, 7, 9, 6, 2, 4, 8]\n",
      "[0, 1, 3, 5, 7, 9, 6, 2, 4, 8]\n",
      "[0, 1, 3, 5, 7, 6, 9, 2, 4, 8]\n",
      "[0, 1, 3, 5, 6, 7, 9, 2, 4, 8]\n",
      "[0, 1, 3, 5, 6, 7, 2, 9, 4, 8]\n",
      "[0, 1, 3, 5, 6, 2, 7, 9, 4, 8]\n",
      "[0, 1, 3, 5, 2, 6, 7, 9, 4, 8]\n",
      "[0, 1, 3, 2, 5, 6, 7, 9, 4, 8]\n",
      "[0, 1, 2, 3, 5, 6, 7, 9, 4, 8]\n",
      "[0, 1, 2, 3, 5, 6, 7, 4, 9, 8]\n",
      "[0, 1, 2, 3, 5, 6, 4, 7, 9, 8]\n",
      "[0, 1, 2, 3, 5, 4, 6, 7, 9, 8]\n",
      "[0, 1, 2, 3, 4, 5, 6, 7, 9, 8]\n",
      "[0, 1, 2, 3, 4, 5, 6, 7, 8, 9]\n",
      "[0, 1, 2, 3, 4, 5, 6, 7, 8, 9]\n"
     ]
    }
   ],
   "source": [
    "array = [7, 5, 9, 0, 3, 1, 6, 2, 4, 8]\n",
    "\n",
    "for i in range(len(array)):\n",
    "    for j in range(i, 0, -1):\n",
    "        if array[j] < array[j-1]: # 한칸씩 왼쪽으로 이동하면서 비교\n",
    "            array[j-1], array[j] = array[j], array[j-1]\n",
    "            # 첫번째 순서로 작은 데이터를 왼쪽으로 옮겼으면 옮긴 데이터와 또 비교를 수행하기 때문에 정렬 가능 \n",
    "            print(array)\n",
    "        else:\n",
    "            break \n",
    "            # 더이상 옮길 곳이 없으면 두번째 for문 빠져나옴 \n",
    "print(array)"
   ]
  },
  {
   "cell_type": "markdown",
   "metadata": {},
   "source": [
    "#### 퀵 정렬 \n",
    "- 기준 데이터를 설정하고 그 기준보다 큰 데이터와 작은 데이터의 위치를 바꾸는 방법 \n",
    "- 일반적으로 가장 많이 사용되는 정렬 알고리즘\n",
    "- 기준 데이터를 기준으로 왼쪽에서는 기준보다 큰 데이터를 찾고 오른쪽에서는 기준보다 작은 데이터를 찾으며 서로의 위치를 바꿔주는 방식 \n",
    "- 겹치는 부분이 있으면 그 위치와 기준 데이터의 위치를 바꿔줌 \n",
    "- 병합 정렬과 더불어 대부분의 언어 정렬 라이브러리 근간이 되는 알고리즘 \n",
    "- 가장 기본적인 퀵 정렬은 첫 번째 데이터를 기준 데이터(Pivot)로 설정 \n",
    "- 시간 복잡도는 O(nlogn)을 가지지만 최악의 경우 O(n^2)를 가질 수 있음 "
   ]
  },
  {
   "cell_type": "code",
   "execution_count": 7,
   "metadata": {},
   "outputs": [
    {
     "name": "stdout",
     "output_type": "stream",
     "text": [
      "[0, 1, 2, 3, 4, 5, 6, 7, 8, 9]\n"
     ]
    }
   ],
   "source": [
    "array = [5, 7, 9, 0, 3, 1, 6, 2, 4, 8]\n",
    "\n",
    "def quick_sort(array, start, end):\n",
    "    if start >= end:\n",
    "        return \n",
    "    # 원소의 개수가 1개인 경우 탈출 \n",
    "\n",
    "    pivot = start # 기준 데이터 설정 \n",
    "    left = start + 1 \n",
    "    right = end \n",
    "\n",
    "    while (left <= right):\n",
    "        while (left <= end and array[left] <= array[pivot]):\n",
    "            left += 1 \n",
    "        # 기준 데이터보다 작은 데이터를 찾으면 left +1, 기준 데이터보다 큰 데이터를 찾아야 하기 때문 \n",
    "        while (right > start and array[right] >= array[pivot]):\n",
    "            right -= 1 \n",
    "        # 기준 데이터보다 큰 데이터를 찾으면 right -1, 기준 데이터보다 작은 데이터를 찾아야 하기 때문 \n",
    "        if (left > right):\n",
    "            array[right], array[pivot] = array[pivot], array[right]\n",
    "            # left가 right보다 크다는 것은 겹치는 부분이 있다는 뜻이므로 해당 부분과 기준 데이터 값의 위치 바꿔줌 \n",
    "        else:\n",
    "            array[left], array[right] = array[right], array[left]\n",
    "            # 위의 while 연산들에서 적용된 left와 right 값을 가지고 array의 인덱스에 접근해서 바꿔줌 \n",
    "        # [5, 4, 9, 0, 3, 1, 6, 2, 7, 8]\n",
    "        # [5, 4, 2, 0, 3, 1, 6, 9, 7, 8]\n",
    "        # [1, 4, 2, 0, 3, 5, 6, 9, 7, 8]\n",
    "\n",
    "    quick_sort(array, start, right - 1)\n",
    "    quick_sort(array, right + 1, end)\n",
    "    # 반으로 나눠서 똑같이 수행 \n",
    "quick_sort(array, 0, len(array) - 1)\n",
    "print(array)\n"
   ]
  },
  {
   "cell_type": "code",
   "execution_count": 10,
   "metadata": {},
   "outputs": [
    {
     "name": "stdout",
     "output_type": "stream",
     "text": [
      "[0, 1, 2, 3, 4, 5, 6, 7, 8, 9]\n"
     ]
    }
   ],
   "source": [
    "array = [5, 7, 9, 0, 3, 1, 6, 2, 4, 8]\n",
    "\n",
    "def quick_sort(array):\n",
    "    if len(array) <= 1:\n",
    "        return array \n",
    "    pivot = array[0]\n",
    "    tail = array[1:]\n",
    "\n",
    "    left_side = [x for x in tail if x <= pivot]\n",
    "    # pivot보다 작은 x값만 추출 \n",
    "    right_side = [x for x in tail if x > pivot]\n",
    "    # pivot보다 큰 x값만 추출 \n",
    "\n",
    "    return quick_sort(left_side) + [pivot] + quick_sort(right_side)\n",
    "    # 재귀적으로 다시 수행을 반복 \n",
    "\n",
    "print(quick_sort(array))"
   ]
  },
  {
   "cell_type": "markdown",
   "metadata": {},
   "source": [
    "#### 계수 정렬 \n",
    "- 특정 조건에 부합할 때만 사용할 수 있지만 매우 빠르게 동작하는 정렬 알고리즘 \n",
    "- 데이터의 크기 범위가 제한되어 정수 형태로 표현할 수 있을 때 사용 가능 \n",
    "- 데이터의 개수가 N이고 데이터 중 최댓값이 K일 때 최악의 경우에도 수행 시간O(N+K)를 보장 \n",
    "- 인덱스가 데이터의 값에 해당하며 각각의 데이터가 총 몇번씩 등장했는지 개수를 세면 되는 것 \n",
    "- 데이터를 하나씩 확인하며 count를 증가시키면 됨 "
   ]
  },
  {
   "cell_type": "code",
   "execution_count": 13,
   "metadata": {},
   "outputs": [
    {
     "name": "stdout",
     "output_type": "stream",
     "text": [
      "[2, 2, 2, 1, 1, 2, 1, 1, 1, 2]\n",
      "001122345567899"
     ]
    }
   ],
   "source": [
    "array = [7, 5, 9, 0, 3, 1, 6, 2, 9, 1, 4, 8, 0, 5, 2]\n",
    "count = [0] * (max(array) + 1)\n",
    "\n",
    "for i in range(len(array)):\n",
    "    count[array[i]] += 1\n",
    "    # count의 index가 데이터가 되고 데이터가 몇번 출현했는지 counting  \n",
    "print(count)\n",
    "\n",
    "for i in range(len(count)):\n",
    "    for j in range(count[i]):\n",
    "        print(i, end = '')"
   ]
  },
  {
   "cell_type": "markdown",
   "metadata": {},
   "source": [
    "#### 두 배열 원소 교체 \n",
    "- A, B는 모두 N개의 원소로 구성 \n",
    "- 최대 K번의 바꿔치기 연산을 수행 \n",
    "- 최대 K번의 바꿔지기 연산을 수행한 후 배열 A의 원소의 합이 최대가 되는 프로그램"
   ]
  },
  {
   "cell_type": "code",
   "execution_count": 21,
   "metadata": {},
   "outputs": [],
   "source": [
    "n, k = map(int, input().split())\n",
    "a = list(map(int, input().split()))\n",
    "b = list(map(int, input().split()))"
   ]
  },
  {
   "cell_type": "code",
   "execution_count": 22,
   "metadata": {},
   "outputs": [],
   "source": [
    "a.sort()\n",
    "b.sort()"
   ]
  },
  {
   "cell_type": "code",
   "execution_count": 23,
   "metadata": {},
   "outputs": [
    {
     "name": "stdout",
     "output_type": "stream",
     "text": [
      "[1, 2, 3, 4, 5] [5, 5, 5, 6, 6]\n"
     ]
    }
   ],
   "source": [
    "print(a,b)"
   ]
  },
  {
   "cell_type": "code",
   "execution_count": 24,
   "metadata": {},
   "outputs": [
    {
     "name": "stdout",
     "output_type": "stream",
     "text": [
      "26\n"
     ]
    }
   ],
   "source": [
    "for i in range(k):\n",
    "    a[i] = b[-i]\n",
    "print(sum(a))\n",
    "# 내가 생각한 것이지만 이것은 만약 a의 원소가 더 클때도 바꿔줄 수 있기 때문데 다시 생각 "
   ]
  },
  {
   "cell_type": "code",
   "execution_count": 25,
   "metadata": {},
   "outputs": [],
   "source": [
    "n, k = map(int, input().split())\n",
    "a = list(map(int, input().split()))\n",
    "b = list(map(int, input().split()))"
   ]
  },
  {
   "cell_type": "code",
   "execution_count": 26,
   "metadata": {},
   "outputs": [],
   "source": [
    "a.sort()\n",
    "b.sort(reverse = True)\n",
    "# 반복문을 돌리기 위해서 b는 reverse "
   ]
  },
  {
   "cell_type": "code",
   "execution_count": 27,
   "metadata": {},
   "outputs": [
    {
     "name": "stdout",
     "output_type": "stream",
     "text": [
      "[1, 2, 3, 4, 5] [6, 6, 5, 5, 5]\n"
     ]
    }
   ],
   "source": [
    "print(a, b)"
   ]
  },
  {
   "cell_type": "code",
   "execution_count": 29,
   "metadata": {},
   "outputs": [
    {
     "name": "stdout",
     "output_type": "stream",
     "text": [
      "26\n"
     ]
    }
   ],
   "source": [
    "for i in range(k):\n",
    "    if a[i] < b[i]:\n",
    "        a[i], b[i] = b[i], a[i]\n",
    "        # 값을 바꿔치기 \n",
    "    else:\n",
    "        break  \n",
    "print(sum(a))"
   ]
  },
  {
   "cell_type": "markdown",
   "metadata": {},
   "source": [
    "#### 위에서 아래로 \n",
    "- 수열에는 다양한 수가 존재 \n",
    "- 해당 수열을 내림차순으로 정렬하는 프로그램 \n"
   ]
  },
  {
   "cell_type": "code",
   "execution_count": 30,
   "metadata": {},
   "outputs": [],
   "source": [
    "n = int(input())\n",
    "array = [] \n",
    "for i in range(n):\n",
    "    array.append(int(input()))"
   ]
  },
  {
   "cell_type": "code",
   "execution_count": 33,
   "metadata": {},
   "outputs": [
    {
     "name": "stdout",
     "output_type": "stream",
     "text": [
      "[27, 15, 12]\n",
      "27 15 12 "
     ]
    }
   ],
   "source": [
    "array.sort(reverse = True)\n",
    "print(array)\n",
    "for i in array:\n",
    "    print(i, end = ' ')"
   ]
  },
  {
   "cell_type": "code",
   "execution_count": 54,
   "metadata": {},
   "outputs": [],
   "source": [
    "n = int(input())\n",
    "array = [] \n",
    "for i in range(n):\n",
    "    array.append(int(input()))"
   ]
  },
  {
   "cell_type": "code",
   "execution_count": 52,
   "metadata": {},
   "outputs": [
    {
     "name": "stdout",
     "output_type": "stream",
     "text": [
      "[15, 27, 12]\n"
     ]
    }
   ],
   "source": [
    "print(array)"
   ]
  },
  {
   "cell_type": "code",
   "execution_count": 55,
   "metadata": {},
   "outputs": [
    {
     "name": "stdout",
     "output_type": "stream",
     "text": [
      "[27, 15, 12]\n"
     ]
    }
   ],
   "source": [
    "for i in range(len(array)):\n",
    "    min_index = i\n",
    "    for j in range(i+1, len(array)):\n",
    "        if array[min_index] <= array[j]:\n",
    "            min_index = j \n",
    "    array[i], array[min_index] = array[min_index], array[i]\n",
    "print(array)\n"
   ]
  },
  {
   "cell_type": "code",
   "execution_count": null,
   "metadata": {},
   "outputs": [],
   "source": []
  }
 ],
 "metadata": {
  "interpreter": {
   "hash": "baa2e52980430d335b97b133b9bdc90c6ba1b985616caf224317f930da22a067"
  },
  "kernelspec": {
   "display_name": "Python 3.7.4 64-bit ('base': conda)",
   "language": "python",
   "name": "python3"
  },
  "language_info": {
   "codemirror_mode": {
    "name": "ipython",
    "version": 3
   },
   "file_extension": ".py",
   "mimetype": "text/x-python",
   "name": "python",
   "nbconvert_exporter": "python",
   "pygments_lexer": "ipython3",
   "version": "3.7.4"
  },
  "orig_nbformat": 4
 },
 "nbformat": 4,
 "nbformat_minor": 2
}
