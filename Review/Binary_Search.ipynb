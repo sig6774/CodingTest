{
 "cells": [
  {
   "cell_type": "markdown",
   "metadata": {},
   "source": [
    "### 이진 탐색 \n",
    "- 정렬되어 있는 리스트에서 탐색 범위를 절반씩 좁혀가며 데이터를 탐색하는 방법 \n",
    "- 시작점, 끝점, 중간점을 이용하여 탐색 범위 설정 \n",
    "- 단계마다 탐색 범위를 2로 나누는 것과 동일하므로 시간 복잡도가 크게 줄어듬 "
   ]
  },
  {
   "cell_type": "code",
   "execution_count": 8,
   "metadata": {},
   "outputs": [],
   "source": [
    "def binary_search(array, target, start, end):\n",
    "    if start > end:\n",
    "        return None \n",
    "    # 비 정상적인 인수가 들어왔을때 사용 \n",
    "\n",
    "    mid = (start + end) // 2 \n",
    "    # 중간값 도출 \n",
    "\n",
    "    if array[mid] == target:\n",
    "        return mid \n",
    "    elif array[mid] > target:\n",
    "        return binary_search(array, target, start, mid-1)\n",
    "        # mid가 target보다 클 때에는 mid포함 뒤의 부분은 탐색할 필요가 없음 \n",
    "    else:\n",
    "        return binary_search(array, target, mid + 1, end)\n",
    "        # mid가 target보다 작을때 mid포함 앞의 부분은 탐색할 필요가 없음 \n",
    "# 전체적으로 재귀를 활용하여 반복 수행 "
   ]
  },
  {
   "cell_type": "code",
   "execution_count": 6,
   "metadata": {},
   "outputs": [],
   "source": [
    "n, target = list(map(int, input().split()))\n",
    "array = list(map(int, input().split()))"
   ]
  },
  {
   "cell_type": "code",
   "execution_count": 9,
   "metadata": {},
   "outputs": [
    {
     "name": "stdout",
     "output_type": "stream",
     "text": [
      "4\n"
     ]
    }
   ],
   "source": [
    "result = binary_search(array, target, 0, n-1)\n",
    "if result == 'None':\n",
    "    print('원소가 존재하지 않습니다.')\n",
    "else: \n",
    "    print(result + 1)"
   ]
  },
  {
   "cell_type": "code",
   "execution_count": 10,
   "metadata": {},
   "outputs": [],
   "source": [
    "def binary_search(array, target, start, end):\n",
    "    while start < target:\n",
    "        mid = (start + end) // 2 \n",
    "        if array[mid] == target:\n",
    "            return mid \n",
    "        elif array[mid] > target:\n",
    "            end = mid - 1 \n",
    "        else:\n",
    "            start = mid + 1 \n",
    "    return None \n",
    "# 반복문으로도 할 수 있음 "
   ]
  },
  {
   "cell_type": "code",
   "execution_count": 11,
   "metadata": {},
   "outputs": [
    {
     "name": "stdout",
     "output_type": "stream",
     "text": [
      "4\n"
     ]
    }
   ],
   "source": [
    "result = binary_search(array, target, 0, n-1)\n",
    "if result == 'None':\n",
    "    print('원소가 존재하지 않습니다.')\n",
    "else: \n",
    "    print(result + 1)"
   ]
  },
  {
   "cell_type": "code",
   "execution_count": 12,
   "metadata": {},
   "outputs": [
    {
     "name": "stdout",
     "output_type": "stream",
     "text": [
      "2\n",
      "4\n"
     ]
    }
   ],
   "source": [
    "from bisect import bisect_left, bisect_right\n",
    "# bisect_left(a,x) : 정렬된 순서를 유지하면서 배열 a에 x를 삽입할 가장 왼쪽 인덱스를 반환 \n",
    "# bisect_right(a,x) : 정렬된 순서를 유지하면서 배열 a에 x를 삽입할 가장 오른쪽 인덱스를 반환\n",
    "a = [1, 2, 4, 4, 8]\n",
    "x = 4 \n",
    "\n",
    "print(bisect_left(a,x))\n",
    "print(bisect_right(a,x))"
   ]
  },
  {
   "cell_type": "markdown",
   "metadata": {},
   "source": [
    "#### 값이 특정 범위에 속하는 데이터 개수 구하기 "
   ]
  },
  {
   "cell_type": "code",
   "execution_count": 14,
   "metadata": {},
   "outputs": [
    {
     "name": "stdout",
     "output_type": "stream",
     "text": [
      "2\n",
      "7\n"
     ]
    }
   ],
   "source": [
    "def count_by_range(a, left_value, right_value):\n",
    "    right_index = bisect_right(a, right_value)\n",
    "    left_index = bisect_left(a, left_value)\n",
    "    return right_index - left_index\n",
    "\n",
    "a = [1, 2, 3, 3, 3, 3, 3, 4, 4, 8, 9]\n",
    "print(count_by_range(a, 4, 4))\n",
    "print(count_by_range(a, -1, 3))"
   ]
  },
  {
   "cell_type": "markdown",
   "metadata": {},
   "source": [
    "#### Parametric Search \n",
    "- 최적화 문제를 결정 문제(\"예\" or \"아니오\")로 바꾸어 해결하는 기법 \n",
    "    - ex) 특정 조건을 만족하는 가장 알맞은 값을 빠르게 찾는 최적화 문제 \n",
    "- 이진 탐색을 이용하여 해결 가능 \n"
   ]
  },
  {
   "cell_type": "markdown",
   "metadata": {},
   "source": [
    "#### 떡볶이 떡 만들기 \n",
    "- 모든 떡은 길이가 일정하지 않지만 한 봉지 안에 들어가는 떡의 총 길이는 절단기로 잘라서 맞춰줌 \n",
    "- 절단기의 높이를 지정하면 떡을 한번에 절단하며 높이보다 긴 떡은 남을것이고 낮은 떡은 잘리지 않음 \n",
    "- 손님이 왔을 때 요청한 총 길이가 M일때 적어도 M 만큼의 떡을 얻기 위해 절단기에 설정할 수 있는 높이의 최댓값을 구하는 프로그램 작성 "
   ]
  },
  {
   "cell_type": "code",
   "execution_count": 16,
   "metadata": {},
   "outputs": [],
   "source": [
    "n, m = list(map(int, input().split(' ')))\n",
    "array = list(map(int, input().split()))"
   ]
  },
  {
   "cell_type": "code",
   "execution_count": 31,
   "metadata": {},
   "outputs": [],
   "source": [
    "start = 0 \n",
    "end = max(array)"
   ]
  },
  {
   "cell_type": "code",
   "execution_count": 32,
   "metadata": {},
   "outputs": [
    {
     "name": "stdout",
     "output_type": "stream",
     "text": [
      "4 6\n",
      "[19, 15, 10, 17]\n",
      "0 19\n"
     ]
    }
   ],
   "source": [
    "print(n,m)\n",
    "print(array)\n",
    "print(start, end)"
   ]
  },
  {
   "cell_type": "code",
   "execution_count": 33,
   "metadata": {},
   "outputs": [
    {
     "name": "stdout",
     "output_type": "stream",
     "text": [
      "15\n"
     ]
    }
   ],
   "source": [
    "result = 0 \n",
    "\n",
    "while start <= end:\n",
    "    total = 0\n",
    "\n",
    "    mid = (start + end) // 2 \n",
    "    \n",
    "    for i in array:\n",
    "        if i > mid:\n",
    "            total += i - mid \n",
    "            # 각 떡을 자른 것을 더해줌\n",
    "    if total < m:\n",
    "        end = mid - 1\n",
    "        # m보다 total이 작으면 많이 자른 것이므로 더 작게 잘라야함 \n",
    "    else:\n",
    "        result = mid \n",
    "        start = mid + 1 \n",
    "        # 위의 if문을 벗어나는 경우에는 최대가 되므로 해당 값이 최대로 자를 수 있는 떡의 길이 \n",
    "print(result)\n",
    "        "
   ]
  },
  {
   "cell_type": "markdown",
   "metadata": {},
   "source": [
    "#### 정렬된 배열에서 특정 수의 개수 구하기 \n",
    "- N 원소를 포함하고 있는 수열이 오름차순으로 정렬 \n",
    "- 수열에서 x가 등장하는 횟수를 계산 \n",
    "    - ex) {1, 1, 2, 2, 2, 2, 3}일 때 x가 2라면 4를 출력 \n",
    "- 해당 문제는 시간 복잡도가 O(logN)으로 수행 "
   ]
  },
  {
   "cell_type": "code",
   "execution_count": 34,
   "metadata": {},
   "outputs": [],
   "source": [
    "n,x = map(int, input().split())\n",
    "array = list(map(int, input().split()))"
   ]
  },
  {
   "cell_type": "code",
   "execution_count": 35,
   "metadata": {},
   "outputs": [
    {
     "name": "stdout",
     "output_type": "stream",
     "text": [
      "7 2\n",
      "[1, 1, 2, 2, 2, 2, 3]\n"
     ]
    }
   ],
   "source": [
    "print(n,x)\n",
    "print(array)"
   ]
  },
  {
   "cell_type": "code",
   "execution_count": 37,
   "metadata": {},
   "outputs": [
    {
     "name": "stdout",
     "output_type": "stream",
     "text": [
      "4\n",
      "4\n"
     ]
    }
   ],
   "source": [
    "# 범위 탐색에 많이 사용 \n",
    "def count_by_range(a, left_value, right_value):\n",
    "    right_index = bisect_right(a, right_value)\n",
    "    left_index = bisect_left(a, left_value)\n",
    "    return right_index - left_index\n",
    "\n",
    "\n",
    "count = count_by_range(array, x,x)\n",
    "if count == 0:\n",
    "    print(-1)\n",
    "else:\n",
    "    print(count)\n"
   ]
  },
  {
   "cell_type": "code",
   "execution_count": null,
   "metadata": {},
   "outputs": [],
   "source": []
  }
 ],
 "metadata": {
  "interpreter": {
   "hash": "baa2e52980430d335b97b133b9bdc90c6ba1b985616caf224317f930da22a067"
  },
  "kernelspec": {
   "display_name": "Python 3.7.4 64-bit ('base': conda)",
   "language": "python",
   "name": "python3"
  },
  "language_info": {
   "codemirror_mode": {
    "name": "ipython",
    "version": 3
   },
   "file_extension": ".py",
   "mimetype": "text/x-python",
   "name": "python",
   "nbconvert_exporter": "python",
   "pygments_lexer": "ipython3",
   "version": "3.7.4"
  },
  "orig_nbformat": 4
 },
 "nbformat": 4,
 "nbformat_minor": 2
}
