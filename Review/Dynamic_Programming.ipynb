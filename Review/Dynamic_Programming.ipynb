{
 "cells": [
  {
   "cell_type": "markdown",
   "metadata": {},
   "source": [
    "### Dynamic Programming \n",
    "- 메모리를 적절히 사용하여 수행 시간 효율성을 비약적으로 향상시키는 방법 \n",
    "- 이미 계산된 결과는 별도의 메모리 영역에 저장하여 다시 계산하지 않도록 하는 방법으로 효율적 \n",
    "- 동적 계획법이라고도 불리며 시간 복잡도는 O(N) \n",
    "- 특정 조건을 모두 만족할 때 사용 가능 \n",
    "    - 최적 부분 구조 : 큰 문제를 작은 문제로 나눌 수 있으며 작은 문제의 답을 모아서 큰 문제를 해결 \n",
    "    - 중복되는 부분 문제 : 동일한 작은 문제를 반복적으로 해결 \n",
    "- 트리를 그려서 해보면 이해가 쉬움"
   ]
  },
  {
   "cell_type": "code",
   "execution_count": 15,
   "metadata": {},
   "outputs": [
    {
     "name": "stdout",
     "output_type": "stream",
     "text": [
      "5\n"
     ]
    }
   ],
   "source": [
    "def fibo(x):\n",
    "    if x == 1 or x == 2:\n",
    "        return 1 \n",
    "    return fibo(x - 1) + fibo(x - 2)\n",
    "print(fibo(5))\n",
    "# 하지만 이렇게 코드를 작성하게 된다면 똑같은 f(2)등이 여러 번 호출되는 것을 확인할 수 있음 "
   ]
  },
  {
   "cell_type": "code",
   "execution_count": 16,
   "metadata": {},
   "outputs": [
    {
     "name": "stdout",
     "output_type": "stream",
     "text": [
      "218922995834555169026\n"
     ]
    }
   ],
   "source": [
    "# 다이나믹 프로그래밍의 조건은 피보나치 수열에서 만족함으로 동적 프로그래밍 사용 가능 \n",
    "# 한 번 계산한 결과를 메모리 공간에 메모 \n",
    "# 같은 문제를 다시 호출하면 메모했던 결과를 그대로 가져오며 값을 기록해 놓는다는 점에서 캐싱(Caching)이라고 함 \n",
    "\n",
    "d = [0] * 100 \n",
    "# 빈 값을 만들어줌 \n",
    "\n",
    "def fibo(x):\n",
    "    if x == 1 or x == 2:\n",
    "        return 1 \n",
    "    if d[x] != 0:\n",
    "        return d[x]\n",
    "    # 이미 d[x]에 값이 존재한다면 그 값을 그대로 사용 <- 다이나믹 프로그래밍 핵심 \n",
    "    d[x] = fibo(x-1) + fibo(x-2)\n",
    "    # 계산 결과를 d[x]에 넣어줌 \n",
    "    return d[x]\n",
    "print(fibo(99))"
   ]
  },
  {
   "cell_type": "code",
   "execution_count": 17,
   "metadata": {},
   "outputs": [
    {
     "name": "stdout",
     "output_type": "stream",
     "text": [
      "218922995834555169026\n"
     ]
    }
   ],
   "source": [
    "d = [0] * 100\n",
    "d[1] = 1\n",
    "d[2] = 1\n",
    "n = 99\n",
    "\n",
    "for i in range(3, n+1):\n",
    "    d[i] = d[i-1] + d[i-2]\n",
    "print(d[n])\n",
    "# 이것도 가능 "
   ]
  },
  {
   "cell_type": "markdown",
   "metadata": {},
   "source": [
    "#### 개미 전사 \n",
    "- 식량창고를 선택적으로 약탈\n",
    "- 서로 인접한 식량창고는 약탈할 수 없으며 약탈하기 위해서는 최소한 한 칸 이상 떨어진 식량창고를 약탈\n",
    "- 식량창고 N개가 주어졌을 때 얻을 수 있는 식량의 최댓값을 구하는 프로그램 작성"
   ]
  },
  {
   "cell_type": "code",
   "execution_count": 18,
   "metadata": {},
   "outputs": [],
   "source": [
    "n = int(input())\n",
    "m = list(map(int, input().split()))"
   ]
  },
  {
   "cell_type": "code",
   "execution_count": 19,
   "metadata": {},
   "outputs": [
    {
     "name": "stdout",
     "output_type": "stream",
     "text": [
      "4 [1, 3, 1, 5]\n"
     ]
    }
   ],
   "source": [
    "print(n,m)"
   ]
  },
  {
   "cell_type": "code",
   "execution_count": 23,
   "metadata": {},
   "outputs": [
    {
     "name": "stdout",
     "output_type": "stream",
     "text": [
      "3\n",
      "8\n",
      "8\n"
     ]
    }
   ],
   "source": [
    "d = [0] * 100\n",
    "\n",
    "d[0] = m[0]\n",
    "d[1] = max(m[0], m[1])\n",
    "\n",
    "for i in range(2, n):\n",
    "    d[i] = max(d[i-1], d[i-2] + m[i])\n",
    "    # 더 큰 값을 저장해주면서 최대 값을 도출 \n",
    "    print(d[i])\n",
    "print(d[n-1])"
   ]
  },
  {
   "cell_type": "markdown",
   "metadata": {},
   "source": [
    "#### 1로 만들기 \n",
    "- 정수 X가 주어졌을때 정수 X에 대해 사용할 수 있는 연산 \n",
    "    - X가 5로 나누어 떨어지면 5로 나눔 \n",
    "    - X가 3으로 나누어 떨어지면 3으로 나눔 \n",
    "    - X가 2로 나누어 떨어지면 2로 나눔 \n",
    "    - X에서 1을 뺌 \n",
    "- 연산 4개를 적절히 사용하여 1로 만드는 것이 목표이며 연산을 사용하는 횟수의 최솟값을 출력 "
   ]
  },
  {
   "cell_type": "code",
   "execution_count": 8,
   "metadata": {},
   "outputs": [],
   "source": [
    "x = int(input())"
   ]
  },
  {
   "cell_type": "code",
   "execution_count": 9,
   "metadata": {},
   "outputs": [
    {
     "name": "stdout",
     "output_type": "stream",
     "text": [
      "26\n",
      "13\n",
      "12\n",
      "4\n",
      "2\n",
      "4\n"
     ]
    }
   ],
   "source": [
    "d = [0] * 100 \n",
    "\n",
    "result = 0\n",
    "while x > 2:\n",
    "    print(x)\n",
    "    if x % 5 == 0:\n",
    "        x //= 5  \n",
    "        result += 1 \n",
    "    elif x % 3 == 0:\n",
    "        x //= 3\n",
    "        result += 1\n",
    "    elif x % 2 == 0:\n",
    "        x //= 2 \n",
    "        result += 1 \n",
    "    else: \n",
    "        x -= 1 \n",
    "        result += 1 \n",
    "print(x)\n",
    "print(result)\n",
    "# It doesn't find Optimal solution "
   ]
  },
  {
   "cell_type": "code",
   "execution_count": 10,
   "metadata": {},
   "outputs": [],
   "source": [
    "x = int(input())"
   ]
  },
  {
   "cell_type": "code",
   "execution_count": 12,
   "metadata": {},
   "outputs": [
    {
     "name": "stdout",
     "output_type": "stream",
     "text": [
      "3\n"
     ]
    }
   ],
   "source": [
    "d = [0] * 30001 \n",
    "\n",
    "for i in range(2, x+1):\n",
    "    # 1 doesn't include  \n",
    "    d[i] = d[i-1] + 1 \n",
    "    # Perform minus operation \n",
    "\n",
    "    if i % 2 == 0:\n",
    "        d[i] = min(d[i], d[i//2] + 1)\n",
    "        # If it's divisible by 2 \n",
    "    if i % 3 == 0:\n",
    "        d[i] = min(d[i], d[i//3] + 1)\n",
    "        # If it's divisible by 3 \n",
    "    if i % 5 == 0:\n",
    "        d[i] = min(d[i], d[i//5] + 1)\n",
    "        # If it's divisible by 5 \n",
    "print(d[x])"
   ]
  },
  {
   "cell_type": "markdown",
   "metadata": {},
   "source": [
    "#### 효율적인 화폐 구성 \n",
    "- N가지 종류의 화폐가 존재하며 화폐들의 개수를 최소한으로 이용하여 그 가치의 합이 M원이 되도록 함 \n",
    "- 특정 M원을 만들기 위한 최소한의 화폐 개수를 출력 "
   ]
  },
  {
   "cell_type": "code",
   "execution_count": 13,
   "metadata": {},
   "outputs": [],
   "source": [
    "n, m = map(int, input().split())\n",
    "array = []\n",
    "for i in range(n):\n",
    "    array.append(int(input()))"
   ]
  },
  {
   "cell_type": "code",
   "execution_count": 14,
   "metadata": {},
   "outputs": [
    {
     "name": "stdout",
     "output_type": "stream",
     "text": [
      "[2, 3]\n"
     ]
    }
   ],
   "source": [
    "print(array)"
   ]
  },
  {
   "cell_type": "code",
   "execution_count": 15,
   "metadata": {},
   "outputs": [],
   "source": [
    "d = [10001] * (m+1)\n",
    "\n",
    "d[0] = 0 \n",
    "\n",
    "for i in range(n): \n",
    "    for j in range(array[i], m+1):\n",
    "        if d[j - array[i]] != 10001: \n",
    "            d[j] = min(d[j], d[j - array[i]] + 1)"
   ]
  },
  {
   "cell_type": "code",
   "execution_count": 16,
   "metadata": {},
   "outputs": [
    {
     "name": "stdout",
     "output_type": "stream",
     "text": [
      "[0, 10001, 1, 1, 2, 2, 2, 3, 3, 3, 4, 4, 4, 5, 5, 5]\n"
     ]
    }
   ],
   "source": [
    "print(d)"
   ]
  },
  {
   "cell_type": "markdown",
   "metadata": {},
   "source": [
    "#### 금광 \n",
    "- n*m 크기의 금광이 존재 \n",
    "- 매번 첫번째 열부터 출발하여 금을 캐기 시작하며 첫번째 열의 어느 행에서든 출발 \n",
    "- 이후 m-1번에 걸쳐서 매번 오른쪽 위, 오른쪽, 오른쪽 아래 3가지 중 하나의 위치로 이동할 수 있으며 채굴자가 얻을 수 있는 금의 최대 크기 출력 "
   ]
  },
  {
   "cell_type": "code",
   "execution_count": 18,
   "metadata": {},
   "outputs": [],
   "source": [
    "for tv in range(int(input())):\n",
    "    n, m = map(int, input().split())\n",
    "    array = list(map(int, input().split()))\n",
    "    "
   ]
  },
  {
   "cell_type": "code",
   "execution_count": 24,
   "metadata": {},
   "outputs": [
    {
     "name": "stdout",
     "output_type": "stream",
     "text": [
      "3 4\n",
      "[1, 3, 3, 2, 2, 1, 4, 1, 0, 6, 4, 7]\n"
     ]
    }
   ],
   "source": [
    "print(n, m)\n",
    "print(array)"
   ]
  },
  {
   "cell_type": "code",
   "execution_count": 25,
   "metadata": {},
   "outputs": [
    {
     "name": "stdout",
     "output_type": "stream",
     "text": [
      "[[1, 3, 3, 2], [2, 1, 4, 1], [0, 6, 4, 7]]\n"
     ]
    }
   ],
   "source": [
    "do = []\n",
    "index = 0 \n",
    "for i in range(n):\n",
    "    do.append(array[index : index + m])\n",
    "    index += m\n",
    "print(do)"
   ]
  },
  {
   "cell_type": "code",
   "execution_count": 26,
   "metadata": {},
   "outputs": [
    {
     "name": "stdout",
     "output_type": "stream",
     "text": [
      "19\n"
     ]
    }
   ],
   "source": [
    "for j in range(1, m):\n",
    "    for i in range(n):\n",
    "        if i == 0: \n",
    "            left_up = 0 \n",
    "        else: \n",
    "            left_up = do[i-1][j-1]\n",
    "        \n",
    "        if i == n-1:\n",
    "            left_down = 0\n",
    "        else: \n",
    "            left_down = do[i+1][j-1]\n",
    "        \n",
    "        left = do[i][j-1]\n",
    "        do[i][j] = do[i][j] + max(left_up, left_down, left)\n",
    "        # Add the Max value for each condition \n",
    "\n",
    "result = 0 \n",
    "for i in range(n):\n",
    "    result = max(result, do[i][m-1])\n",
    "print(result)"
   ]
  },
  {
   "cell_type": "markdown",
   "metadata": {},
   "source": [
    "#### 병사 배치하기 \n",
    "- N명의 병사가 무작위로 배열 \n",
    "- 병사를 배치할 때 전투력이 높은 병사를 앞쪽에 오도록 내림차순으로 배치 \n",
    "- 배치과정에서 특정 위치에 있는 병사를 열외시키는 방법 "
   ]
  },
  {
   "cell_type": "code",
   "execution_count": 28,
   "metadata": {},
   "outputs": [],
   "source": [
    "n = int(input())\n",
    "array = [] \n",
    "for i in range(n):\n",
    "    array.append(int(input()))"
   ]
  },
  {
   "cell_type": "code",
   "execution_count": 29,
   "metadata": {},
   "outputs": [
    {
     "name": "stdout",
     "output_type": "stream",
     "text": [
      "7\n",
      "[15, 11, 4, 8, 5, 2, 4]\n"
     ]
    }
   ],
   "source": [
    "print(n)\n",
    "print(array)"
   ]
  },
  {
   "cell_type": "code",
   "execution_count": 36,
   "metadata": {},
   "outputs": [
    {
     "name": "stdout",
     "output_type": "stream",
     "text": [
      "5\n"
     ]
    }
   ],
   "source": [
    "d = [1] * n \n",
    "for i in range(1, n):\n",
    "    for j in range(0, i):\n",
    "        if array[j] < array[i]:\n",
    "            # LIS Key \n",
    "            d[i] = max(d[i], d[j]+1)\n",
    "# Using lis Algorithm \n",
    "# 현재 데이터에서 가장 긴 증가하는 수열을 찾는 알고리즘 \n",
    "print(n - max(d))"
   ]
  },
  {
   "cell_type": "code",
   "execution_count": 37,
   "metadata": {},
   "outputs": [
    {
     "data": {
      "text/plain": [
       "[1, 1, 1, 2, 2, 1, 2]"
      ]
     },
     "execution_count": 37,
     "metadata": {},
     "output_type": "execute_result"
    }
   ],
   "source": [
    "d"
   ]
  }
 ],
 "metadata": {
  "interpreter": {
   "hash": "baa2e52980430d335b97b133b9bdc90c6ba1b985616caf224317f930da22a067"
  },
  "kernelspec": {
   "display_name": "Python 3.7.4 64-bit ('base': conda)",
   "language": "python",
   "name": "python3"
  },
  "language_info": {
   "codemirror_mode": {
    "name": "ipython",
    "version": 3
   },
   "file_extension": ".py",
   "mimetype": "text/x-python",
   "name": "python",
   "nbconvert_exporter": "python",
   "pygments_lexer": "ipython3",
   "version": "3.7.4"
  },
  "orig_nbformat": 4
 },
 "nbformat": 4,
 "nbformat_minor": 2
}
