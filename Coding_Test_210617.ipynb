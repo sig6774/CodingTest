{
 "cells": [
  {
   "cell_type": "markdown",
   "metadata": {},
   "source": [
    "### 문자열을 정수로 바꾸기\n",
    " \n"
   ]
  },
  {
   "cell_type": "code",
   "execution_count": 12,
   "metadata": {},
   "outputs": [],
   "source": [
    "def solution(s):\n",
    "    if type(s) == int:\n",
    "        return s\n",
    "    elif type(s) == str:\n",
    "        return int(s)\n",
    "# 해결 "
   ]
  },
  {
   "cell_type": "code",
   "execution_count": 13,
   "metadata": {},
   "outputs": [
    {
     "name": "stdout",
     "output_type": "stream",
     "text": [
      "<class 'int'>\n"
     ]
    }
   ],
   "source": [
    "s = -1234\n",
    "print(type(s))"
   ]
  },
  {
   "cell_type": "code",
   "execution_count": 14,
   "metadata": {},
   "outputs": [
    {
     "data": {
      "text/plain": [
       "-1234"
      ]
     },
     "execution_count": 14,
     "metadata": {},
     "output_type": "execute_result"
    }
   ],
   "source": [
    "solution(s)"
   ]
  },
  {
   "cell_type": "code",
   "execution_count": 11,
   "metadata": {},
   "outputs": [
    {
     "name": "stdout",
     "output_type": "stream",
     "text": [
      "ok\n"
     ]
    }
   ],
   "source": [
    "if type(s) == int:\n",
    "    print('ok')"
   ]
  },
  {
   "cell_type": "markdown",
   "metadata": {},
   "source": [
    "### 제일 작은 수 제거하기"
   ]
  },
  {
   "cell_type": "code",
   "execution_count": 63,
   "metadata": {},
   "outputs": [],
   "source": [
    "a = [4,3,2,1]\n",
    "a1 = [10]"
   ]
  },
  {
   "cell_type": "code",
   "execution_count": 20,
   "metadata": {},
   "outputs": [
    {
     "name": "stdout",
     "output_type": "stream",
     "text": [
      "[-1]\n"
     ]
    }
   ],
   "source": [
    "b = []\n",
    "if len(a) > 2:\n",
    "    for i in range(len(a)):\n",
    "        if a[i] != min(a):\n",
    "            b.append(a[i])\n",
    "else:\n",
    "    b.append(-1)\n",
    "print(b)"
   ]
  },
  {
   "cell_type": "code",
   "execution_count": 24,
   "metadata": {},
   "outputs": [],
   "source": [
    "def solution(arr):\n",
    "    b = [] \n",
    "    if len(arr) > 2:\n",
    "        for i in range(len(arr)):\n",
    "            if arr[i] != min(arr):\n",
    "                b.append(arr[i])\n",
    "    else:\n",
    "        b.append(-1)\n",
    "        \n",
    "    return b\n",
    "\n",
    "# 시간초과 "
   ]
  },
  {
   "cell_type": "code",
   "execution_count": 25,
   "metadata": {},
   "outputs": [
    {
     "name": "stdout",
     "output_type": "stream",
     "text": [
      "[4, 3, 2]\n",
      "[-1]\n"
     ]
    }
   ],
   "source": [
    "print(solution(a))\n",
    "print(solution(a1))"
   ]
  },
  {
   "cell_type": "code",
   "execution_count": 53,
   "metadata": {
    "scrolled": true
   },
   "outputs": [],
   "source": [
    "def solution(arr):\n",
    "    if len(arr) >= 2:\n",
    "        b = arr.remove(min(arr))\n",
    "        return b\n",
    "    else:\n",
    "        return [-1]"
   ]
  },
  {
   "cell_type": "code",
   "execution_count": 39,
   "metadata": {},
   "outputs": [
    {
     "data": {
      "text/plain": [
       "1"
      ]
     },
     "execution_count": 39,
     "metadata": {},
     "output_type": "execute_result"
    }
   ],
   "source": [
    "min(a)"
   ]
  },
  {
   "cell_type": "code",
   "execution_count": 56,
   "metadata": {},
   "outputs": [],
   "source": [
    "solution(a)"
   ]
  },
  {
   "cell_type": "code",
   "execution_count": 51,
   "metadata": {},
   "outputs": [],
   "source": [
    "a.remove(min(a))"
   ]
  },
  {
   "cell_type": "code",
   "execution_count": 58,
   "metadata": {},
   "outputs": [
    {
     "data": {
      "text/plain": [
       "3"
      ]
     },
     "execution_count": 58,
     "metadata": {},
     "output_type": "execute_result"
    }
   ],
   "source": [
    "a.index(min(a))"
   ]
  },
  {
   "cell_type": "code",
   "execution_count": 64,
   "metadata": {},
   "outputs": [],
   "source": [
    "def solution(arr):\n",
    "    if len(arr) >= 2:\n",
    "        arr.pop(arr.index(min(arr)))\n",
    "        return arr\n",
    "    else:\n",
    "        return [-1]\n",
    "# 해결 "
   ]
  },
  {
   "cell_type": "code",
   "execution_count": 65,
   "metadata": {},
   "outputs": [
    {
     "data": {
      "text/plain": [
       "[4, 3, 2]"
      ]
     },
     "execution_count": 65,
     "metadata": {},
     "output_type": "execute_result"
    }
   ],
   "source": [
    "solution(a)"
   ]
  },
  {
   "cell_type": "markdown",
   "metadata": {},
   "source": [
    "### 나누어 떨어지는 숫자 배열(참고)\n"
   ]
  },
  {
   "cell_type": "code",
   "execution_count": 66,
   "metadata": {},
   "outputs": [
    {
     "name": "stdout",
     "output_type": "stream",
     "text": [
      "[5, 10]\n"
     ]
    }
   ],
   "source": [
    "a = [5, 9, 7, 10]\n",
    "b = []\n",
    "for i in range(len(a)):\n",
    "    if a[i] % 5 == 0:\n",
    "        b.append(a[i])\n",
    "        \n",
    "print(b)"
   ]
  },
  {
   "cell_type": "code",
   "execution_count": 82,
   "metadata": {},
   "outputs": [],
   "source": [
    "def solution(arr, divisor):\n",
    "    answer = [] \n",
    "    answer1 = []\n",
    "    for i in range(len(arr)):\n",
    "        if arr[i] % divisor == 0:\n",
    "            answer.append(arr[i])\n",
    "        elif arr[i] % divisor != 0:\n",
    "            answer1.append(-1)\n",
    "    if answer1 in [-1]:\n",
    "        return list(set(answer1))\n",
    "    else:\n",
    "        return sorted(answer)\n",
    "  "
   ]
  },
  {
   "cell_type": "code",
   "execution_count": 83,
   "metadata": {},
   "outputs": [
    {
     "data": {
      "text/plain": [
       "[5, 10]"
      ]
     },
     "execution_count": 83,
     "metadata": {},
     "output_type": "execute_result"
    }
   ],
   "source": [
    "solution(a, 5)"
   ]
  },
  {
   "cell_type": "code",
   "execution_count": 92,
   "metadata": {},
   "outputs": [],
   "source": [
    "def solution(arr, divisor):\n",
    "    answer = [] \n",
    "    for i in arr:\n",
    "        if i % divisor == 0:\n",
    "            answer.append(i)\n",
    "    return sorted(answer)\n",
    "    \n",
    "    return [-1]"
   ]
  },
  {
   "cell_type": "code",
   "execution_count": 93,
   "metadata": {},
   "outputs": [
    {
     "data": {
      "text/plain": [
       "[5, 10]"
      ]
     },
     "execution_count": 93,
     "metadata": {},
     "output_type": "execute_result"
    }
   ],
   "source": [
    "solution(a, 5)"
   ]
  },
  {
   "cell_type": "code",
   "execution_count": 95,
   "metadata": {},
   "outputs": [
    {
     "name": "stdout",
     "output_type": "stream",
     "text": [
      "[]\n"
     ]
    }
   ],
   "source": [
    "a1 = [3, 2, 6]\n",
    "print(solution(a1, 10))"
   ]
  },
  {
   "cell_type": "code",
   "execution_count": 124,
   "metadata": {},
   "outputs": [
    {
     "name": "stdout",
     "output_type": "stream",
     "text": [
      "[-1]\n"
     ]
    }
   ],
   "source": [
    "b = []\n",
    "c = []\n",
    "for i in a:\n",
    "    if i % 5 == 0:\n",
    "        b.append(i)\n",
    "    else:\n",
    "        c.append(-1)\n",
    "\n",
    "if -1 not in c:\n",
    "    print(b)\n",
    "else:\n",
    "    print(list(set(c)))\n",
    "    "
   ]
  },
  {
   "cell_type": "code",
   "execution_count": 105,
   "metadata": {},
   "outputs": [
    {
     "ename": "TypeError",
     "evalue": "argument of type 'int' is not iterable",
     "output_type": "error",
     "traceback": [
      "\u001b[0;31m---------------------------------------------------------------------------\u001b[0m",
      "\u001b[0;31mTypeError\u001b[0m                                 Traceback (most recent call last)",
      "\u001b[0;32m<ipython-input-105-6b1e8109d988>\u001b[0m in \u001b[0;36m<module>\u001b[0;34m\u001b[0m\n\u001b[1;32m      1\u001b[0m \u001b[0mc\u001b[0m \u001b[0;34m=\u001b[0m \u001b[0;34m[\u001b[0m\u001b[0;34m-\u001b[0m\u001b[0;36m1\u001b[0m\u001b[0;34m]\u001b[0m\u001b[0;34m\u001b[0m\u001b[0;34m\u001b[0m\u001b[0m\n\u001b[0;32m----> 2\u001b[0;31m \u001b[0;32mif\u001b[0m \u001b[0mc\u001b[0m \u001b[0;32min\u001b[0m \u001b[0;34m-\u001b[0m\u001b[0;36m1\u001b[0m\u001b[0;34m:\u001b[0m\u001b[0;34m\u001b[0m\u001b[0;34m\u001b[0m\u001b[0m\n\u001b[0m\u001b[1;32m      3\u001b[0m     \u001b[0mprint\u001b[0m\u001b[0;34m(\u001b[0m\u001b[0mc\u001b[0m\u001b[0;34m)\u001b[0m\u001b[0;34m\u001b[0m\u001b[0;34m\u001b[0m\u001b[0m\n",
      "\u001b[0;31mTypeError\u001b[0m: argument of type 'int' is not iterable"
     ]
    }
   ],
   "source": [
    "c = [-1]\n",
    "if c in -1:\n",
    "    print(c)"
   ]
  },
  {
   "cell_type": "code",
   "execution_count": 156,
   "metadata": {},
   "outputs": [],
   "source": [
    "def solution(arr, divisor):\n",
    "    answer = []\n",
    "    answer1 = []\n",
    "    for i in range(len(arr)):\n",
    "        if arr[i] % divisor == 0:\n",
    "            answer.append(arr[i])\n",
    "        elif arr[i] % divisor != 0:\n",
    "            answer1.append(-1)\n",
    "    print(answer1)\n",
    "    print(answer)\n",
    "    \n",
    "    if answer1 not in answer:\n",
    "        return sorted(answer)\n",
    "    elif answer not in answer1:\n",
    "        return answer1\n",
    "  "
   ]
  },
  {
   "cell_type": "code",
   "execution_count": 157,
   "metadata": {
    "scrolled": true
   },
   "outputs": [
    {
     "name": "stdout",
     "output_type": "stream",
     "text": [
      "[-1, -1]\n",
      "[5, 10]\n"
     ]
    },
    {
     "data": {
      "text/plain": [
       "[5, 10]"
      ]
     },
     "execution_count": 157,
     "metadata": {},
     "output_type": "execute_result"
    }
   ],
   "source": [
    "solution(a,5)"
   ]
  },
  {
   "cell_type": "code",
   "execution_count": 158,
   "metadata": {},
   "outputs": [
    {
     "name": "stdout",
     "output_type": "stream",
     "text": [
      "[-1, -1, -1]\n",
      "[]\n"
     ]
    },
    {
     "data": {
      "text/plain": [
       "[]"
      ]
     },
     "execution_count": 158,
     "metadata": {},
     "output_type": "execute_result"
    }
   ],
   "source": [
    "solution(a1, 10)"
   ]
  },
  {
   "cell_type": "code",
   "execution_count": 115,
   "metadata": {},
   "outputs": [
    {
     "name": "stdout",
     "output_type": "stream",
     "text": [
      "[1, 2]\n"
     ]
    }
   ],
   "source": [
    "b = [1, 2]\n",
    "c = [-1]\n",
    "if -1 in c:\n",
    "    print(b)"
   ]
  },
  {
   "cell_type": "code",
   "execution_count": 171,
   "metadata": {},
   "outputs": [
    {
     "name": "stdout",
     "output_type": "stream",
     "text": [
      "[]\n",
      "[-1, -1, -1]\n",
      "[]\n"
     ]
    }
   ],
   "source": [
    "answer = []\n",
    "answer1 = []\n",
    "for i in range(len(a1)):\n",
    "    if a1[i] % 10 == 0:\n",
    "        answer.append(arr[i])\n",
    "    elif a1[i] % 10 != 0:\n",
    "        answer1.append(-1)\n",
    "print(answer)\n",
    "print(answer1)\n",
    "if -1 not in answer:\n",
    "    print(answer)\n",
    "elif -1 in answer1:\n",
    "    print(answer1)"
   ]
  },
  {
   "cell_type": "code",
   "execution_count": 149,
   "metadata": {},
   "outputs": [
    {
     "name": "stdout",
     "output_type": "stream",
     "text": [
      "[]\n",
      "[-1, -1, -1]\n",
      "[-1, -1, -1]\n"
     ]
    }
   ],
   "source": [
    "print(answer)\n",
    "print(answer1)\n",
    "\n",
    "if answer1 not in answer:\n",
    "    print(answer1)\n",
    "else:\n",
    "    print(answer)"
   ]
  },
  {
   "cell_type": "code",
   "execution_count": 178,
   "metadata": {},
   "outputs": [],
   "source": [
    "def solution(arr, divisor):\n",
    "    answer = []\n",
    "    for i in range(len(arr)):\n",
    "        if arr[i] % divisor == 0:\n",
    "            answer.append(arr[i])\n",
    "        else:\n",
    "            answer.append(-1)\n",
    "    b = [-1]\n",
    "    if b in answer:\n",
    "        return b\n",
    "    else:\n",
    "        answer.pop(answer.index(min(answer)))\n",
    "        answer.pop(answer.index(min(answer)))\n",
    "        return sorted(answer)\n"
   ]
  },
  {
   "cell_type": "code",
   "execution_count": 179,
   "metadata": {},
   "outputs": [
    {
     "name": "stdout",
     "output_type": "stream",
     "text": [
      "[5, 10]\n",
      "[-1]\n"
     ]
    }
   ],
   "source": [
    "print(solution(a,5))\n",
    "print(solution(a1,10))\n",
    "# 이건 아님 "
   ]
  },
  {
   "cell_type": "code",
   "execution_count": 204,
   "metadata": {},
   "outputs": [],
   "source": [
    "def solution(arr, divisor):\n",
    "    answer = []\n",
    "    answer1 = []\n",
    "    for i in arr:\n",
    "        if i % divisor == 0:\n",
    "            answer.append(i)\n",
    "        else:\n",
    "            answer1.append(-1)\n",
    "    print(answer1)\n",
    "    b = [-1]\n",
    "    if b in answer1:\n",
    "        return b\n",
    "    else:\n",
    "        return sorted(answer)"
   ]
  },
  {
   "cell_type": "code",
   "execution_count": 205,
   "metadata": {
    "scrolled": true
   },
   "outputs": [
    {
     "name": "stdout",
     "output_type": "stream",
     "text": [
      "[-1, -1]\n",
      "[5, 10]\n",
      "[-1, -1, -1]\n",
      "[]\n"
     ]
    }
   ],
   "source": [
    "print(solution(a,5))\n",
    "print(solution(a1,10))\n",
    "# 왜 빈리스트가 나오지 "
   ]
  },
  {
   "cell_type": "code",
   "execution_count": 216,
   "metadata": {
    "scrolled": true
   },
   "outputs": [
    {
     "name": "stdout",
     "output_type": "stream",
     "text": [
      "d\n"
     ]
    }
   ],
   "source": [
    "c = [-1, -1, -1]\n",
    "b = [-1]\n",
    "if -1 in c:\n",
    "    print('d')"
   ]
  },
  {
   "cell_type": "code",
   "execution_count": 203,
   "metadata": {},
   "outputs": [
    {
     "name": "stdout",
     "output_type": "stream",
     "text": [
      "[5, 10]\n",
      "[-1]\n"
     ]
    }
   ],
   "source": [
    "answer = [i for i in a if i % 5 == 0]\n",
    "print(sorted(answer))\n",
    "answer1 = [-1 for i in a if i % 5 != 0]\n",
    "print(list(set(answer1)))"
   ]
  },
  {
   "cell_type": "code",
   "execution_count": 232,
   "metadata": {},
   "outputs": [],
   "source": [
    "def solution(arr, division):\n",
    "    answer = []\n",
    "    for i in arr:\n",
    "        if i % division == 0:\n",
    "            answer.append(i)\n",
    "    if len(answer) == 0:\n",
    "        answer.append(-1)\n",
    "    return sorted(answer)\n",
    "\n"
   ]
  },
  {
   "cell_type": "code",
   "execution_count": 233,
   "metadata": {},
   "outputs": [
    {
     "name": "stdout",
     "output_type": "stream",
     "text": [
      "[5, 10]\n",
      "[-1]\n"
     ]
    }
   ],
   "source": [
    "print(solution(a,5))\n",
    "print(solution(a1,10))"
   ]
  },
  {
   "cell_type": "code",
   "execution_count": null,
   "metadata": {},
   "outputs": [],
   "source": []
  }
 ],
 "metadata": {
  "kernelspec": {
   "display_name": "Python 3",
   "language": "python",
   "name": "python3"
  },
  "language_info": {
   "codemirror_mode": {
    "name": "ipython",
    "version": 3
   },
   "file_extension": ".py",
   "mimetype": "text/x-python",
   "name": "python",
   "nbconvert_exporter": "python",
   "pygments_lexer": "ipython3",
   "version": "3.7.4"
  }
 },
 "nbformat": 4,
 "nbformat_minor": 2
}
