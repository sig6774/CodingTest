{
 "cells": [
  {
   "cell_type": "markdown",
   "metadata": {},
   "source": [
    "### 설탕 배달 \n",
    "- 상근이는 요즘 설탕공장에서 설탕을 배달하고 있다. 상근이는 지금 사탕가게에 설탕을 정확하게 N킬로그램을 배달해야 한다. 설탕공장에서 만드는 설탕은 봉지에 담겨져 있다. 봉지는 3킬로그램 봉지와 5킬로그램 봉지가 있다.\n",
    "\n",
    "- 상근이는 귀찮기 때문에, 최대한 적은 봉지를 들고 가려고 한다. 예를 들어, 18킬로그램 설탕을 배달해야 할 때, 3킬로그램 봉지 6개를 가져가도 되지만, 5킬로그램 3개와 3킬로그램 1개를 배달하면, 더 적은 개수의 봉지를 배달할 수 있다.\n",
    "\n",
    "- 상근이가 설탕을 정확하게 N킬로그램 배달해야 할 때, 봉지 몇 개를 가져가면 되는지 그 수를 구하는 프로그램을 작성하시오."
   ]
  },
  {
   "cell_type": "code",
   "execution_count": 9,
   "metadata": {},
   "outputs": [],
   "source": [
    "kg = int(input())\n",
    "# 최대한 5로 나누고 나머지가 3으로 나눌 수 있으면 최소 횟수 \n",
    "# 아니면 3으로만 나누는 것 \n",
    "# 그것도 안되면 -1 출력 "
   ]
  },
  {
   "cell_type": "code",
   "execution_count": null,
   "metadata": {},
   "outputs": [],
   "source": [
    "cnt = 0\n",
    "a = 0 \n",
    "a = kg % 5 \n",
    "cnt += kg // 5\n",
    "if a % 3 == 0:\n",
    "    cnt += a // 3 \n",
    "    print(cnt)\n",
    "elif kg % 3 == 0:\n",
    "    cnt += kg // 3\n",
    "    print(cnt)\n",
    "else:\n",
    "    print(-1)\n",
    "# 이거 11에 적용했을때 안됨... "
   ]
  },
  {
   "cell_type": "code",
   "execution_count": null,
   "metadata": {},
   "outputs": [],
   "source": [
    "# 5로 나누고 3을 뺴주는 방식으로 진행 \n",
    "cnt = 0 \n",
    "\n",
    "while True:\n",
    "    if kg % 5 == 0:\n",
    "        cnt += kg // 5 \n",
    "        print(cnt)\n",
    "        break \n",
    "    kg -= 3 \n",
    "    cnt += 1 \n",
    "    if kg < 0:\n",
    "        print(-1)\n",
    "        break\n",
    "# 다른 사람 풀이 조금 참조 \n",
    "# 5로 나눠지지 않으면 3을 계속 빼는게 key "
   ]
  },
  {
   "cell_type": "markdown",
   "metadata": {},
   "source": [
    "### 달팽이는 올라가고 싶다 \n",
    "- 땅 위에 달팽이가 있다. 이 달팽이는 높이가 V미터인 나무 막대를 올라갈 것이다.\n",
    "\n",
    "- 달팽이는 낮에 A미터 올라갈 수 있다. 하지만, 밤에 잠을 자는 동안 B미터 미끄러진다. 또, 정상에 올라간 후에는 미끄러지지 않는다.\n",
    "\n",
    "- 달팽이가 나무 막대를 모두 올라가려면, 며칠이 걸리는지 구하는 프로그램을 작성하시오."
   ]
  },
  {
   "cell_type": "code",
   "execution_count": 167,
   "metadata": {},
   "outputs": [],
   "source": [
    "A, B, V = map(int, input().split())"
   ]
  },
  {
   "cell_type": "code",
   "execution_count": 166,
   "metadata": {},
   "outputs": [
    {
     "name": "stdout",
     "output_type": "stream",
     "text": [
      "1\n"
     ]
    }
   ],
   "source": [
    "# 아침(+)과 저녁(-)를 더해서 올림하면 될 듯 \n",
    "\n",
    "'''\n",
    "5-2+1 = 4미터 남음 \n",
    "4-2+1 = 3미터 남음 \n",
    "3-2+1 = 2미터 남음 \n",
    "2-2 = 0 끝\n",
    "''' \n",
    "cnt = 0\n",
    "\n",
    "while V > (A-B):\n",
    "    V = (V - A) + B \n",
    "    cnt += 1 \n",
    "print(cnt)\n",
    "# 안됨 "
   ]
  },
  {
   "cell_type": "code",
   "execution_count": 168,
   "metadata": {},
   "outputs": [
    {
     "name": "stdout",
     "output_type": "stream",
     "text": [
      "1\n"
     ]
    }
   ],
   "source": [
    "cnt = 0\n",
    "\n",
    "while V > A:\n",
    "    V = (V - A) + B \n",
    "    cnt += 1 \n",
    "print(cnt)\n",
    "# 안됨 "
   ]
  },
  {
   "cell_type": "code",
   "execution_count": null,
   "metadata": {},
   "outputs": [],
   "source": [
    "import math\n",
    "day = math.ceil((V-A)/(A-B)) + 1\n",
    "\n",
    "# 도저히 생각이 안나서 다른 사람 풀이 봤음...\n",
    "# (A-B)*n + A = V \n",
    "# n을 구하기 위해서 다음 식을 구함 "
   ]
  }
 ],
 "metadata": {
  "interpreter": {
   "hash": "baa2e52980430d335b97b133b9bdc90c6ba1b985616caf224317f930da22a067"
  },
  "kernelspec": {
   "display_name": "Python 3.7.4 ('base')",
   "language": "python",
   "name": "python3"
  },
  "language_info": {
   "codemirror_mode": {
    "name": "ipython",
    "version": 3
   },
   "file_extension": ".py",
   "mimetype": "text/x-python",
   "name": "python",
   "nbconvert_exporter": "python",
   "pygments_lexer": "ipython3",
   "version": "3.7.4"
  },
  "orig_nbformat": 4
 },
 "nbformat": 4,
 "nbformat_minor": 2
}
