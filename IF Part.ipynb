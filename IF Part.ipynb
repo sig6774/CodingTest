{
 "cells": [
  {
   "cell_type": "markdown",
   "metadata": {},
   "source": [
    "두 수 비교"
   ]
  },
  {
   "cell_type": "code",
   "execution_count": 7,
   "metadata": {},
   "outputs": [
    {
     "name": "stdout",
     "output_type": "stream",
     "text": [
      "5\n",
      "5\n",
      "==\n"
     ]
    }
   ],
   "source": [
    "A = int(input())\n",
    "B = int(input())\n",
    "if A > B:\n",
    "    print('>')\n",
    "elif A < B:\n",
    "    print('<')\n",
    "else: \n",
    "    print('==')\n",
    "# 런타임 에러 "
   ]
  },
  {
   "cell_type": "code",
   "execution_count": 8,
   "metadata": {},
   "outputs": [],
   "source": [
    "# input을 한 번에 값을 여러개 입력받기 위해서는 \n",
    "# a,b = input().split()\n",
    "\n",
    "# 위의 방식은 input의 특성상 자료형이 str이기 때문에 정수로 반환하기위해서는 다른 방법 필요 \n",
    "# 여러개의 input을 map을 사용해서 정수로 변환 \n",
    "# a,b = map(int, input().split())"
   ]
  },
  {
   "cell_type": "code",
   "execution_count": 12,
   "metadata": {},
   "outputs": [
    {
     "name": "stdout",
     "output_type": "stream",
     "text": [
      "3 10\n",
      "<\n"
     ]
    }
   ],
   "source": [
    "A, B = map(int, input().split())\n",
    "if A > B:\n",
    "    print('>')\n",
    "elif A < B:\n",
    "    print('<')\n",
    "else: \n",
    "    print('==')\n",
    "    \n",
    "# Correct!!!"
   ]
  },
  {
   "cell_type": "markdown",
   "metadata": {},
   "source": [
    "시험 성적 "
   ]
  },
  {
   "cell_type": "code",
   "execution_count": 17,
   "metadata": {},
   "outputs": [
    {
     "name": "stdout",
     "output_type": "stream",
     "text": [
      "100\n",
      "A\n"
     ]
    }
   ],
   "source": [
    "Grade = int(input())\n",
    "if 90 <= Grade <= 100:\n",
    "    print('A')\n",
    "elif 80 <= Grade <= 89:\n",
    "    print('B')\n",
    "elif 70 <= Grade <= 79:\n",
    "    print('C')\n",
    "elif 60 <= Grade <= 69:\n",
    "    print('D')\n",
    "else:\n",
    "    print('F')\n",
    "    \n",
    "# Correct!!!"
   ]
  },
  {
   "cell_type": "markdown",
   "metadata": {},
   "source": [
    "윤년 추출"
   ]
  },
  {
   "cell_type": "code",
   "execution_count": 21,
   "metadata": {},
   "outputs": [
    {
     "name": "stdout",
     "output_type": "stream",
     "text": [
      "2000\n",
      "1\n"
     ]
    }
   ],
   "source": [
    "Year = int(input())\n",
    "if Year % 4 == 0 and (Year % 100 != 0 or Year % 400 ==0):\n",
    "    print(1)\n",
    "else:\n",
    "    print(0)\n",
    "    \n",
    "# Correct!!!"
   ]
  },
  {
   "cell_type": "markdown",
   "metadata": {},
   "source": [
    "사분면 선택"
   ]
  },
  {
   "cell_type": "code",
   "execution_count": 22,
   "metadata": {},
   "outputs": [
    {
     "name": "stdout",
     "output_type": "stream",
     "text": [
      "4\n",
      "-3\n",
      "4\n"
     ]
    }
   ],
   "source": [
    "X = int(input())\n",
    "Y = int(input())\n",
    "\n",
    "if X > 0 and Y > 0:\n",
    "    print(1)\n",
    "elif X < 0 and Y > 0:\n",
    "    print(2)\n",
    "elif X < 0 and Y < 0 :\n",
    "    print(3)\n",
    "else:\n",
    "    print(4)\n",
    "    \n",
    "# Correct!!!"
   ]
  },
  {
   "cell_type": "markdown",
   "metadata": {},
   "source": [
    "알람시계 "
   ]
  },
  {
   "cell_type": "code",
   "execution_count": 32,
   "metadata": {},
   "outputs": [
    {
     "name": "stdout",
     "output_type": "stream",
     "text": [
      "23 40\n",
      "22 55\n"
     ]
    }
   ],
   "source": [
    "H, M = map(int, input().split())\n",
    "if M >= 45:\n",
    "    print(H, M - 45)\n",
    "elif M < 45 and H == 0:\n",
    "    print(23 - H , M + 15)\n",
    "else:\n",
    "    print(H -1 , M + 15)\n",
    "    \n",
    "# Correct!!!(블로그 살짝 참고 ㅎㅎ..)"
   ]
  }
 ],
 "metadata": {
  "kernelspec": {
   "display_name": "Python 3",
   "language": "python",
   "name": "python3"
  },
  "language_info": {
   "codemirror_mode": {
    "name": "ipython",
    "version": 3
   },
   "file_extension": ".py",
   "mimetype": "text/x-python",
   "name": "python",
   "nbconvert_exporter": "python",
   "pygments_lexer": "ipython3",
   "version": "3.7.4"
  }
 },
 "nbformat": 4,
 "nbformat_minor": 2
}
