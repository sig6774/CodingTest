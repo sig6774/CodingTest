{
 "cells": [
  {
   "cell_type": "markdown",
   "metadata": {},
   "source": [
    "### 삽입정렬"
   ]
  },
  {
   "cell_type": "code",
   "execution_count": 8,
   "metadata": {},
   "outputs": [],
   "source": [
    "n = int(input())\n",
    "m = list(map(int, input().split()))"
   ]
  },
  {
   "cell_type": "code",
   "execution_count": 7,
   "metadata": {},
   "outputs": [
    {
     "name": "stdout",
     "output_type": "stream",
     "text": [
      "5 [5, 5, 5, 5, 2]\n"
     ]
    }
   ],
   "source": [
    "print(n,m)"
   ]
  },
  {
   "cell_type": "code",
   "execution_count": 5,
   "metadata": {},
   "outputs": [],
   "source": [
    "# 총합 시간을 구하기 위해서는 앞의 자리를 더하고 자신을 더하는 과정을 반복 \n",
    "# 이거 보니껀 정렬한 값이 최소값이므로 그것을 중첩으로 더해줌 "
   ]
  },
  {
   "cell_type": "code",
   "execution_count": 10,
   "metadata": {},
   "outputs": [
    {
     "name": "stdout",
     "output_type": "stream",
     "text": [
      "[1, 2, 3, 4, 5]\n"
     ]
    },
    {
     "data": {
      "text/plain": [
       "'\\n이해하기 위해 5 4 3 2 1 \\ni = 1 : 5 4 3 2 1 \\n    j = 0 : 5 5 3 2 1 \\n    4 5 3 2 1 \\ni = 2 : 4 5 3 2 1 \\n    j = 1 : 4 5 5 2 1 \\n    j = 0 : 4 4 5 2 1 \\n    3 4 5 2 1 \\ni = 3 : 3 4 5 2 1 \\n    j = 2 : 3 4 5 5 1 \\n    j = 1 : 3 4 4 5 1 \\n    j = 0 : 3 3 4 5 1 \\n    2 3 4 5 1 \\ni = 4 : 2 3 4 5 1 \\n    j = 3 : 2 3 4 5 5 \\n    j = 2 : 2 3 4 4 5 \\n    j = 1 : 2 3 3 4 5 \\n    j = 0 : 2 2 3 4 5 \\n    1 2 3 4 5 \\n'"
      ]
     },
     "execution_count": 10,
     "metadata": {},
     "output_type": "execute_result"
    }
   ],
   "source": [
    "def sort(arr):\n",
    "    for i in range(len(arr)):\n",
    "        temp = arr[i]\n",
    "\n",
    "        j = i - 1 \n",
    "\n",
    "        while (j >= 0 and temp < arr[j]):\n",
    "            # j가 0이상이고 현재 i인덱스의 값이 앞의 값보다 작을 때 \n",
    "            arr[j+1] = arr[j]\n",
    "            j -= 1 \n",
    "        # 값을 하나씩 이동시키는 로직\n",
    "        \n",
    "        arr[j+1] = temp\n",
    "        # 결국 맨 앞에 temp값이 들어감\n",
    "    return arr\n",
    "\n",
    "print(sort(m))\n",
    "'''\n",
    "이해하기 위해 5 4 3 2 1 \n",
    "i = 1 : 5 4 3 2 1 \n",
    "    j = 0 : 5 5 3 2 1 \n",
    "    4 5 3 2 1 \n",
    "i = 2 : 4 5 3 2 1 \n",
    "    j = 1 : 4 5 5 2 1 \n",
    "    j = 0 : 4 4 5 2 1 \n",
    "    3 4 5 2 1 \n",
    "i = 3 : 3 4 5 2 1 \n",
    "    j = 2 : 3 4 5 5 1 \n",
    "    j = 1 : 3 4 4 5 1 \n",
    "    j = 0 : 3 3 4 5 1 \n",
    "    2 3 4 5 1 \n",
    "i = 4 : 2 3 4 5 1 \n",
    "    j = 3 : 2 3 4 5 5 \n",
    "    j = 2 : 2 3 4 4 5 \n",
    "    j = 1 : 2 3 3 4 5 \n",
    "    j = 0 : 2 2 3 4 5 \n",
    "    1 2 3 4 5 \n",
    "'''"
   ]
  },
  {
   "cell_type": "code",
   "execution_count": 15,
   "metadata": {},
   "outputs": [
    {
     "name": "stdout",
     "output_type": "stream",
     "text": [
      "32\n"
     ]
    }
   ],
   "source": [
    "sort_m = sort(m)\n",
    "\n",
    "total = 0 \n",
    "for i in range(len(sort_m)):\n",
    "    s = 0 \n",
    "    for j in range(i+1):\n",
    "        s+= sort_m[j]\n",
    "    total += s \n",
    "print(total)"
   ]
  },
  {
   "cell_type": "markdown",
   "metadata": {},
   "source": [
    "### 구간 합 구하기 4\n",
    "- 수 N개가 주어졌을 때, i번째 수부터 j번째 수까지 합을 구하는 프로그램을 작성하시오.\n",
    "\n"
   ]
  },
  {
   "cell_type": "code",
   "execution_count": 27,
   "metadata": {},
   "outputs": [],
   "source": [
    "n,m = map(int, input().split())\n",
    "li = list(map(int, input().split()))\n",
    "\n",
    "s = [0] * (len(li)+1)\n",
    "\n",
    "for i in range(1, len(li)+1):\n",
    "    s[i] = s[i-1] + li[i-1]\n",
    "\n",
    "\n",
    "for i in range(m):\n",
    "    x,y = map(int, input().split())\n",
    "    print(s[y] - s[x-1])\n",
    "# 시간 초과 "
   ]
  },
  {
   "cell_type": "code",
   "execution_count": null,
   "metadata": {},
   "outputs": [],
   "source": [
    "import sys \n",
    "\n",
    "n,m = map(int, input().split())\n",
    "li = list(map(int, sys.stdin.readline().split()))\n",
    "\n",
    "s = [0] * (len(li)+1)\n",
    "\n",
    "for i in range(1, len(li)+1):\n",
    "    s[i] = s[i-1] + li[i-1]\n",
    "\n",
    "\n",
    "for i in range(m):\n",
    "    x,y = map(int, sys.stdin.readline().split())\n",
    "    print(s[y] - s[x-1])\n",
    "# sys로 진행하면 통과 "
   ]
  },
  {
   "cell_type": "markdown",
   "metadata": {},
   "source": [
    "### 구간 합 구하기 5 \n",
    "- N×N개의 수가 N×N 크기의 표에 채워져 있다. (x1, y1)부터 (x2, y2)까지 합을 구하는 프로그램을 작성하시오. (x, y)는 x행 y열을 의미한다.\n",
    "\n",
    "- 예를 들어, N = 4이고, 표가 아래와 같이 채워져 있는 경우를 살펴보자.\n",
    "    - 1 2 3 4\n",
    "    - 2 3 4 5\n",
    "    - 3 4 5 6\n",
    "    - 4 5 6 7\n",
    "    \n",
    "- 여기서 (2, 2)부터 (3, 4)까지 합을 구하면 3+4+5+4+5+6 = 27이고, (4, 4)부터 (4, 4)까지 합을 구하면 7이다.\n",
    "\n",
    "- 표에 채워져 있는 수와 합을 구하는 연산이 주어졌을 때, 이를 처리하는 프로그램을 작성하시오."
   ]
  },
  {
   "cell_type": "code",
   "execution_count": null,
   "metadata": {},
   "outputs": [],
   "source": [
    "# 구간합을 구해놓고 범위만 지정 \n",
    "# 구간합을 구하기 위해서는 1번 열의 구간합을 구하고 1번 행의 구간합을 구하고 \n",
    "# x,y를 구하기 위해서는 (x-1, y) + (x, y-1) - (x-1,y-1)을 진행하고 원래 요소 값을 더해주면 해당 구간 구간합 구할 수 있음 "
   ]
  },
  {
   "cell_type": "code",
   "execution_count": 42,
   "metadata": {},
   "outputs": [],
   "source": [
    "n,m = map(int, input().split())\n",
    "mylist=[list(map(int, input().split())) for _ in range(n)]"
   ]
  },
  {
   "cell_type": "code",
   "execution_count": 47,
   "metadata": {},
   "outputs": [
    {
     "name": "stdout",
     "output_type": "stream",
     "text": [
      "[[1, 2, 3, 4], [2, 3, 4, 5], [3, 4, 5, 6], [4, 5, 6, 7]]\n"
     ]
    }
   ],
   "source": [
    "print(mylist)"
   ]
  },
  {
   "cell_type": "code",
   "execution_count": 53,
   "metadata": {},
   "outputs": [
    {
     "data": {
      "text/plain": [
       "5"
      ]
     },
     "execution_count": 53,
     "metadata": {},
     "output_type": "execute_result"
    }
   ],
   "source": [
    "len(s[1])"
   ]
  },
  {
   "cell_type": "code",
   "execution_count": 60,
   "metadata": {},
   "outputs": [
    {
     "name": "stdout",
     "output_type": "stream",
     "text": [
      "[[0, 3, 3, 3, 3], [0, 3, 3, 3, 3], [0, 3, 3, 3, 3], [0, 3, 3, 3, 3], [0, 3, 3, 3, 3]]\n"
     ]
    }
   ],
   "source": [
    "s= [[]]\n",
    "for i in range(1,len(s)):\n",
    "    for j in range(1, len(s)):\n",
    "        s[i][j] = 3\n",
    "print(s)"
   ]
  },
  {
   "cell_type": "code",
   "execution_count": 64,
   "metadata": {},
   "outputs": [
    {
     "name": "stdout",
     "output_type": "stream",
     "text": [
      "[[0, 0, 0, 0, 0], [0, 0, 0, 0, 0], [0, 0, 0, 0, 0], [0, 0, 0, 0, 0], [0, 0, 0, 0, 0]]\n",
      "[[0, 0, 0, 0, 0], [0, 1, 3, 6, 10], [0, 3, 8, 15, 24], [0, 6, 15, 27, 42], [0, 10, 24, 42, 64]]\n"
     ]
    }
   ],
   "source": [
    "# s =[[0] * (len(mylist)+1)] * (len(mylist)+1)\n",
    "s = [[0] * (len(mylist)+1) for i in range(len(mylist)+1)]\n",
    "\n",
    "print(s)\n",
    "\n",
    "\n",
    "for i in range(1, len(s)):\n",
    "\n",
    "    for j in range(1, len(s[i])):\n",
    "\n",
    "        s[i][j] =  s[i-1][j]+ s[i][j-1] - s[i-1][j-1] + mylist[i-1][j-1]\n",
    "\n",
    "\n",
    "\n",
    "print(s)"
   ]
  },
  {
   "cell_type": "code",
   "execution_count": 67,
   "metadata": {},
   "outputs": [
    {
     "name": "stdout",
     "output_type": "stream",
     "text": [
      "27\n",
      "6\n",
      "64\n"
     ]
    }
   ],
   "source": [
    "n,m = map(int, input().split())\n",
    "mylist=[list(map(int, input().split())) for _ in range(n)]\n",
    "\n",
    "s = [[0] * (len(mylist)+1) for i in range(len(mylist)+1)]\n",
    "\n",
    "\n",
    "\n",
    "for i in range(1, len(s)):\n",
    "\n",
    "    for j in range(1, len(s[i])):\n",
    "\n",
    "        s[i][j] =  s[i-1][j]+ s[i][j-1] - s[i-1][j-1] + mylist[i-1][j-1]\n",
    "\n",
    "\n",
    "for i in range(m):\n",
    "    x1, y1, x2, y2 = map(int, input().split())\n",
    "\n",
    "\n",
    "    print(s[x2][y2] - s[x1-1][y2] - s[x2][y1-1] + s[x1-1][y1-1])"
   ]
  },
  {
   "cell_type": "code",
   "execution_count": null,
   "metadata": {},
   "outputs": [],
   "source": [
    "import sys \n",
    "n,m = map(int, input().split())\n",
    "\n",
    "mylist=[list(map(int, sys.stdin.readline().split())) for _ in range(n)]\n",
    "\n",
    "s = [[0] * (len(mylist)+1) for i in range(len(mylist)+1)]\n",
    "\n",
    "\n",
    "\n",
    "for i in range(1, len(s)):\n",
    "\n",
    "    for j in range(1, len(s[i])):\n",
    "\n",
    "        s[i][j] =  s[i-1][j]+ s[i][j-1] - s[i-1][j-1] + mylist[i-1][j-1]\n",
    "\n",
    "\n",
    "for i in range(m):\n",
    "    x1, y1, x2, y2 = map(int, sys.stdin.readline().split())\n",
    "\n",
    "\n",
    "    print(s[x2][y2] - s[x1-1][y2] - s[x2][y1-1] + s[x1-1][y1-1])"
   ]
  },
  {
   "cell_type": "markdown",
   "metadata": {},
   "source": [
    "### Merge Sort (이해 안됨)"
   ]
  },
  {
   "cell_type": "code",
   "execution_count": 1,
   "metadata": {},
   "outputs": [],
   "source": [
    "m = int(input())\n",
    "arr = [] \n",
    "for i in range(m):\n",
    "    arr.append(int(input()))"
   ]
  },
  {
   "cell_type": "code",
   "execution_count": 2,
   "metadata": {},
   "outputs": [
    {
     "name": "stdout",
     "output_type": "stream",
     "text": [
      "[1, 2, 3, 4, 5]\n"
     ]
    }
   ],
   "source": [
    "temp = [0] * len(arr)\n",
    "\n",
    "def mergeSort(arr, s, e):\n",
    "\n",
    "    if (e-s < 1):\n",
    "        return\n",
    "    # 재귀 함수 종료 \n",
    "\n",
    "    mid = (s+e) // 2\n",
    "\n",
    "    mergeSort(arr, s, mid)\n",
    "    mergeSort(arr, mid+1, e)\n",
    "\n",
    "    for i in range(s, e+1):\n",
    "        temp[i] = arr[i]\n",
    "    # 임시 자료 저장소 생성 (s~e까지)\n",
    "    \n",
    "    p1, p2 = s, mid+1 \n",
    "\n",
    "    insertSpot = s; \n",
    "\n",
    "    while(p1 <= mid and p2 <= e):\n",
    "        if (temp[p1] < temp[p2]):\n",
    "            arr[insertSpot] = temp[p1]\n",
    "            insertSpot += 1 \n",
    "            p1+=1\n",
    "\n",
    "        else:\n",
    "            arr[insertSpot] = temp[p2]\n",
    "            insertSpot += 1 \n",
    "            p2 += 1\n",
    "\n",
    "\n",
    "    while(p1 <= mid):\n",
    "        arr[insertSpot] = temp[p1]\n",
    "        insertSpot += 1 \n",
    "        p1 += 1 \n",
    "\n",
    "    while(p2 <= e):\n",
    "        arr[insertSpot] = temp[p2]\n",
    "        insertSpot += 1 \n",
    "        p2 += 1 \n",
    "\n",
    "\n",
    "mergeSort(arr, 0, len(arr)-1)\n",
    "\n",
    "\n",
    "\n",
    "'''\n",
    "s = 0, e = 4, mid = 2 일때 mergeSort\n",
    "첫번째 while의 else \n",
    "p1 = 0, p2 = 3, insertSpot = 0, mid = 2, s = 0, e = 4\n",
    "arr = 24321\n",
    "p1 = 0, p2 = 4, insertSpot = 1, mid = 2, s = 0, e = 4 \n",
    "arr = 21321 \n",
    "\n",
    "두번째 while \n",
    "p1 = 0, p2 = 5, insertSpot = 2, mid = 2, s = 0, e = 4 \n",
    "arr = 21521\n",
    "p1 = 1, p2 = 5, insertSpot = 3, mid = 2, s = 0, e = 4 \n",
    "arr = 21541\n",
    "p1 = 2, p2 = 5, insertSpot = 4, mid = 2, s = 0, e = 4 \n",
    "arr = 21543 \n",
    "\n",
    "s = 0, e = 2 mid = 1일 때 mergeSort \n",
    "첫번째 while의 else \n",
    "p1 = 0, p2 = 3, insertSpot = 0, mid = 1, s = 0, e = 2 \n",
    "arr = 21543\n",
    "p1 = 0, p2 = 4, insertspot = 1, mid = 1, s = 0, e = 2 \n",
    "arr 21543 \n",
    "\n",
    "두번째 while \n",
    "p1 = 0, p2 = 4, insertspot = 1, mid = 1, s = 0, e = 2 \n",
    "arr = \n",
    "아... 어디서 또 잘못된거지 \n",
    "\n",
    "\n",
    "\n",
    "'''\n",
    "\n",
    "\n",
    "print(arr)"
   ]
  },
  {
   "cell_type": "code",
   "execution_count": null,
   "metadata": {},
   "outputs": [],
   "source": [
    "import sys \n",
    "\n",
    "m = int(sys.stdin.readline())\n",
    "arr = [] \n",
    "for i in range(m):\n",
    "    arr.append(int(sys.stdin.readline()))\n",
    "    \n",
    "temp = [0] * len(arr)\n",
    "\n",
    "def mergeSort(arr, s, e):\n",
    "\n",
    "    if (e-s < 1):\n",
    "        return\n",
    "    # 재귀 함수 종료 \n",
    "\n",
    "    mid = (s+e) // 2\n",
    "\n",
    "    mergeSort(arr, s, mid)\n",
    "    mergeSort(arr, mid+1, e)\n",
    "\n",
    "    for i in range(s, e+1):\n",
    "        temp[i] = arr[i]\n",
    "    \n",
    "    p1, p2 = s, mid+1 \n",
    "\n",
    "    insertSpot = s; \n",
    "\n",
    "    while(p1 <= mid and p2 <= e):\n",
    "        if (temp[p1] < temp[p2]):\n",
    "            arr[insertSpot] = temp[p1]\n",
    "            insertSpot += 1 \n",
    "            p1+=1\n",
    "\n",
    "        else:\n",
    "            arr[insertSpot] = temp[p2]\n",
    "            insertSpot += 1 \n",
    "            p2 += 1\n",
    "\n",
    "    while(p1 <= mid):\n",
    "        arr[insertSpot] = temp[p1]\n",
    "        insertSpot += 1 \n",
    "        p1 += 1 \n",
    "\n",
    "    while(p2 <= e):\n",
    "        arr[insertSpot] = temp[p2]\n",
    "        insertSpot += 1 \n",
    "        p2 += 1 \n",
    "\n",
    "\n",
    "mergeSort(arr, 0, len(arr)-1)\n",
    "\n",
    "print(arr)"
   ]
  },
  {
   "cell_type": "markdown",
   "metadata": {},
   "source": [
    "### 버블소트 (이해안됨)\n",
    "- N개의 수로 이루어진 수열 A[1], A[2], …, A[N]이 있다. 이 수열에 대해서 버블 소트를 수행할 때, Swap이 총 몇 번 발생하는지 알아내는 프로그램을 작성하시오.\n",
    "\n",
    "- 버블 소트는 서로 인접해 있는 두 수를 바꿔가며 정렬하는 방법이다. 예를 들어 수열이 3 2 1 이었다고 하자. 이 경우에는 인접해 있는 3, 2가 바뀌어야 하므로 2 3 1 이 된다. 다음으로는 3, 1이 바뀌어야 하므로 2 1 3 이 된다. 다음에는 2, 1이 바뀌어야 하므로 1 2 3 이 된다. 그러면 더 이상 바꿔야 할 경우가 없으므로 정렬이 완료된다."
   ]
  },
  {
   "cell_type": "code",
   "execution_count": 16,
   "metadata": {},
   "outputs": [
    {
     "name": "stdout",
     "output_type": "stream",
     "text": [
      "2\n"
     ]
    }
   ],
   "source": [
    "m = int(input())\n",
    "# arr = [] \n",
    "arr = list(map(int, input().split()))\n",
    "\n",
    "\n",
    "\n",
    "\n",
    "def mergeSort(arr, s, e):\n",
    "    temp = [0] * len(arr)\n",
    "\n",
    "    cnt = 0 \n",
    "    # swap 횟수 \n",
    "\n",
    "    if (e-s < 1):\n",
    "        return\n",
    "    # 재귀 함수 종료 \n",
    "\n",
    "    mid = (s+e) // 2\n",
    "\n",
    "    mergeSort(arr, s, mid)\n",
    "    mergeSort(arr, mid+1, e)\n",
    "\n",
    "    for i in range(s, e+1):\n",
    "        temp[i] = arr[i]\n",
    "    \n",
    "    p1, p2 = s, mid+1 \n",
    "\n",
    "    insertSpot = s; \n",
    "\n",
    "    while(p1 <= mid and p2 <= e):\n",
    "        if (temp[p1] < temp[p2]):\n",
    "            arr[insertSpot] = temp[p1]\n",
    "            insertSpot += 1 \n",
    "            p1+=1\n",
    "            # cnt += 1\n",
    "\n",
    "        else:\n",
    "            arr[insertSpot] = temp[p2]\n",
    "            cnt += (p2 - insertSpot)\n",
    "            insertSpot += 1 \n",
    "            p2 += 1\n",
    "\n",
    "    while(p1 <= mid):\n",
    "        arr[insertSpot] = temp[p1]\n",
    "        insertSpot += 1 \n",
    "        p1 += 1 \n",
    "        # cnt += 1 \n",
    "\n",
    "    while(p2 <= e):\n",
    "        arr[insertSpot] = temp[p2]\n",
    "        insertSpot += 1 \n",
    "        p2 += 1 \n",
    "        # cnt += 1 \n",
    "\n",
    "    return cnt \n",
    "print(mergeSort(arr, 0, len(arr)-1))\n"
   ]
  },
  {
   "cell_type": "code",
   "execution_count": null,
   "metadata": {},
   "outputs": [],
   "source": [
    "import sys \n",
    "\n",
    "m = int(sys.stdin.readline())\n",
    "# arr = [] \n",
    "arr = list(map(int, sys.stdin.readline().split()))\n",
    "\n",
    "temp = [0] * len(arr)\n",
    "cnt = 0 \n",
    "\n",
    "def mergeSort(arr, s, e):\n",
    "\n",
    "    if (e-s < 1):\n",
    "        return\n",
    "    # 재귀 함수 종료 \n",
    "\n",
    "    mid = (s+e) // 2\n",
    "\n",
    "    mergeSort(arr, s, mid)\n",
    "    mergeSort(arr, mid+1, e)\n",
    "\n",
    "    for i in range(s, e+1):\n",
    "        temp[i] = arr[i]\n",
    "    \n",
    "    p1, p2 = s, mid+1 \n",
    "\n",
    "    insertSpot = s; \n",
    "\n",
    "    while(p1 <= mid and p2 <= e):\n",
    "        if (temp[p1] < temp[p2]):\n",
    "            arr[insertSpot] = temp[p1]\n",
    "            insertSpot += 1 \n",
    "            p1+=1\n",
    "\n",
    "        else:\n",
    "            arr[insertSpot] = temp[p2]\n",
    "            insertSpot += 1 \n",
    "            p2 += 1\n",
    "            cnt += (p2 - insertSpot)\n",
    "\n",
    "    while(p1 <= mid):\n",
    "        arr[insertSpot] = temp[p1]\n",
    "        insertSpot += 1 \n",
    "        p1 += 1 \n",
    "\n",
    "    while(p2 <= e):\n",
    "        arr[insertSpot] = temp[p2]\n",
    "        insertSpot += 1 \n",
    "        p2 += 1 \n",
    "\n",
    "    return cnt \n",
    "print(mergeSort(arr, 0, len(arr)-1))\n"
   ]
  }
 ],
 "metadata": {
  "kernelspec": {
   "display_name": "Python 3.9.1 64-bit ('3.9.1')",
   "language": "python",
   "name": "python3"
  },
  "language_info": {
   "codemirror_mode": {
    "name": "ipython",
    "version": 3
   },
   "file_extension": ".py",
   "mimetype": "text/x-python",
   "name": "python",
   "nbconvert_exporter": "python",
   "pygments_lexer": "ipython3",
   "version": "3.9.1"
  },
  "orig_nbformat": 4,
  "vscode": {
   "interpreter": {
    "hash": "b29909ae39fc17549a84839997d927dda790dc9d9d25402f3e010c02e8c51a82"
   }
  }
 },
 "nbformat": 4,
 "nbformat_minor": 2
}
