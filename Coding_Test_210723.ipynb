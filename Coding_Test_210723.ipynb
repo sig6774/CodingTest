{
 "cells": [
  {
   "cell_type": "markdown",
   "metadata": {},
   "source": [
    "### 소수 찾기 \n",
    "- 1부터 입력받은 숫자 n 사이에 있는 소수의 개수를 반환하는 함수, solution을 만들어 보세요.\n",
    "\n",
    "- 소수는 1과 자기 자신으로만 나누어지는 수를 의미합니다.\n",
    "(1은 소수가 아닙니다.)"
   ]
  },
  {
   "cell_type": "code",
   "execution_count": 1,
   "metadata": {},
   "outputs": [],
   "source": [
    "n = 10"
   ]
  },
  {
   "cell_type": "code",
   "execution_count": 28,
   "metadata": {},
   "outputs": [],
   "source": [
    "a = []\n",
    "\n",
    "for i in range(2, n+1):\n",
    "    for j in range(2,i):\n",
    "        if i % j == 0:\n",
    "            a.append(i)\n"
   ]
  },
  {
   "cell_type": "code",
   "execution_count": 30,
   "metadata": {},
   "outputs": [
    {
     "data": {
      "text/plain": [
       "4"
      ]
     },
     "execution_count": 30,
     "metadata": {},
     "output_type": "execute_result"
    }
   ],
   "source": [
    "n - (len(set(a))+1)"
   ]
  },
  {
   "cell_type": "code",
   "execution_count": 31,
   "metadata": {},
   "outputs": [],
   "source": [
    "def solution(n):\n",
    "    a = []\n",
    "    for i in range(2, n+1):\n",
    "        for j in range(2,i):\n",
    "            if i % j == 0:\n",
    "                a.append(i)\n",
    "    \n",
    "    return n - (len(set(a)) + 1)\n",
    "\n",
    "# 아이디어 : 소수가 아닌것들에 대해서 리스트에 넣어주고 빼주면 값이 나올거라 생각 \n",
    "# 시간초과, 중첩 반복문을 안써야하는건가"
   ]
  },
  {
   "cell_type": "code",
   "execution_count": 33,
   "metadata": {},
   "outputs": [],
   "source": [
    "a = [i for i in range(2, n+1) for j in range(2,i) if i % j ==0]\n",
    "# 이것도 똑같음 "
   ]
  },
  {
   "cell_type": "code",
   "execution_count": 63,
   "metadata": {},
   "outputs": [],
   "source": [
    "b = []\n",
    "for i in range(3, n+1):\n",
    "    a = 2\n",
    "    if i % a == 0:\n",
    "        a += 1\n",
    "    else:\n",
    "        b.append(i)\n",
    "        \n"
   ]
  },
  {
   "cell_type": "code",
   "execution_count": 69,
   "metadata": {},
   "outputs": [
    {
     "name": "stdout",
     "output_type": "stream",
     "text": [
      "1\n",
      "2\n",
      "3\n",
      "4\n",
      "5\n",
      "6\n",
      "7\n",
      "8\n",
      "9\n"
     ]
    }
   ],
   "source": [
    "a = 0 \n",
    "for i in range(2,n+1):\n",
    "    a += 1\n",
    "    print(a)"
   ]
  },
  {
   "cell_type": "code",
   "execution_count": 72,
   "metadata": {},
   "outputs": [],
   "source": [
    "def solution(n):\n",
    "    d = 0\n",
    "    for i in range(2, n+1):\n",
    "        c = 0\n",
    "        for j in range(2,i):\n",
    "            if i % j == 0:\n",
    "                c = 1\n",
    "        if c == 0:\n",
    "            d = d+1\n",
    "    return d\n",
    "\n",
    "# 이것도 시간초과 "
   ]
  },
  {
   "cell_type": "code",
   "execution_count": 73,
   "metadata": {},
   "outputs": [
    {
     "data": {
      "text/plain": [
       "4"
      ]
     },
     "execution_count": 73,
     "metadata": {},
     "output_type": "execute_result"
    }
   ],
   "source": [
    "solution(10)"
   ]
  },
  {
   "cell_type": "code",
   "execution_count": 74,
   "metadata": {},
   "outputs": [],
   "source": [
    "def solution(n):\n",
    "    num = set(range(2,n+1))\n",
    "    \n",
    "    for i in range(2,n+1):\n",
    "        if i in num:\n",
    "            num -= set(range(2*i, n+1, i))\n",
    " \n",
    "    return len(num)\n",
    "\n",
    "# 에라토스테네스의 체라는 방법이 사용됨 \n",
    "# 참고함 "
   ]
  },
  {
   "cell_type": "markdown",
   "metadata": {},
   "source": [
    "### 10진수 -> 2진수"
   ]
  },
  {
   "cell_type": "code",
   "execution_count": 76,
   "metadata": {},
   "outputs": [
    {
     "data": {
      "text/plain": [
       "4"
      ]
     },
     "execution_count": 76,
     "metadata": {},
     "output_type": "execute_result"
    }
   ],
   "source": [
    "9//2"
   ]
  },
  {
   "cell_type": "code",
   "execution_count": null,
   "metadata": {},
   "outputs": [],
   "source": [
    "a = []\n",
    "for i in range(5):\n",
    "    if 9 % 2 == 1:\n",
    "        a.append(1)\n",
    "        s = 9//2\n",
    "    if s % 2 == 1:\n",
    "        a.append(1)\n",
    "    else:\n",
    "        a.append(0)"
   ]
  },
  {
   "cell_type": "code",
   "execution_count": null,
   "metadata": {},
   "outputs": [],
   "source": [
    "while True:\n",
    "    if 9 % 2 == 1:\n",
    "        a.append(1)\n",
    "        s = 9 // 2\n",
    "    else:"
   ]
  },
  {
   "cell_type": "code",
   "execution_count": 89,
   "metadata": {},
   "outputs": [],
   "source": [
    "def upper(n):\n",
    "    if n % 2 == 0:\n",
    "        return 1\n",
    "    else:\n",
    "        return 0"
   ]
  },
  {
   "cell_type": "code",
   "execution_count": 90,
   "metadata": {
    "scrolled": false
   },
   "outputs": [
    {
     "data": {
      "text/plain": [
       "0"
      ]
     },
     "execution_count": 90,
     "metadata": {},
     "output_type": "execute_result"
    }
   ],
   "source": [
    "upper(5)"
   ]
  },
  {
   "cell_type": "code",
   "execution_count": 81,
   "metadata": {},
   "outputs": [],
   "source": [
    "def two(n):\n",
    "    if n <= 0:\n",
    "        pass\n",
    "    else:\n",
    "        return upper(upper(n))"
   ]
  },
  {
   "cell_type": "code",
   "execution_count": 82,
   "metadata": {},
   "outputs": [
    {
     "data": {
      "text/plain": [
       "1"
      ]
     },
     "execution_count": 82,
     "metadata": {},
     "output_type": "execute_result"
    }
   ],
   "source": [
    "two(5)"
   ]
  },
  {
   "cell_type": "code",
   "execution_count": 101,
   "metadata": {},
   "outputs": [
    {
     "name": "stdout",
     "output_type": "stream",
     "text": [
      "1100100\n"
     ]
    }
   ],
   "source": [
    "a = ''\n",
    "n = 100\n",
    "while n > 0:\n",
    "    a = str(n%2) + a\n",
    "    n//= 2\n",
    "print(a)"
   ]
  }
 ],
 "metadata": {
  "kernelspec": {
   "display_name": "Python 3",
   "language": "python",
   "name": "python3"
  },
  "language_info": {
   "codemirror_mode": {
    "name": "ipython",
    "version": 3
   },
   "file_extension": ".py",
   "mimetype": "text/x-python",
   "name": "python",
   "nbconvert_exporter": "python",
   "pygments_lexer": "ipython3",
   "version": "3.7.4"
  }
 },
 "nbformat": 4,
 "nbformat_minor": 2
}
