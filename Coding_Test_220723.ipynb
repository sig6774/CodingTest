{
 "cells": [
  {
   "cell_type": "markdown",
   "metadata": {},
   "source": [
    "### 씨름 선수\n",
    "- 현수는 씨름 감독입니다. 현수는 씨름 선수를 선발공고를 냈고, N명의 지원자가 지원을 했습 니다. 현수는 각 지원자의 키와 몸무게 정보를 알고 있습니다.\n",
    "- 현수는 씨름 선수 선발 원칙을 다음과 같이 정했습니다.\n",
    "- “다른 모든 지원자와 일대일 비교하여 키와 몸무게 중 적어도 하나는 크거나, 무거운 지원자 만 뽑기로 했습니다.”\n",
    "- 만약 A라는 지원자보다 키도 크고 몸무게도 무거운 지원자가 존재한다면 A지원자는 탈락입니 다.\n",
    "\n",
    "<hr>\n",
    "\n",
    "- 첫째 줄에 지원자의 수 N(5<=N<=50)이 주어집니다.\n",
    "두 번째 줄부터 N명의 키와 몸무게 정보가 차례로 주어집니다. 각 선수의 키와 몸무게는 모두 다릅니다."
   ]
  },
  {
   "cell_type": "code",
   "execution_count": 1,
   "metadata": {},
   "outputs": [],
   "source": [
    "n = int(input())\n",
    "\n",
    "li = [] \n",
    "for i in range(n):\n",
    "    k,w = map(int, input().split())\n",
    "    li.append((k,w))"
   ]
  },
  {
   "cell_type": "code",
   "execution_count": 2,
   "metadata": {},
   "outputs": [
    {
     "data": {
      "text/plain": [
       "[(172, 67), (183, 65), (180, 70), (170, 72), (181, 60)]"
      ]
     },
     "execution_count": 2,
     "metadata": {},
     "output_type": "execute_result"
    }
   ],
   "source": [
    "li"
   ]
  },
  {
   "cell_type": "code",
   "execution_count": 3,
   "metadata": {},
   "outputs": [
    {
     "name": "stdout",
     "output_type": "stream",
     "text": [
      "[(170, 72), (172, 67), (180, 70), (181, 60), (183, 65)]\n"
     ]
    }
   ],
   "source": [
    "li.sort()\n",
    "print(li)"
   ]
  },
  {
   "cell_type": "code",
   "execution_count": null,
   "metadata": {},
   "outputs": [],
   "source": [
    "# 키로 정렬해서 인덱스를 증가하면서 몸무게와 키를 비교 \n",
    "# 인덱스를 증가하는 이유는 키로 정렬했기 때문에 다음 인덱스는 이전 인덱스보다 하나라도 크기 때문에 비교할 필요가 없음으로 \n",
    "# 나는 둘 다 작은 애들을 찾아서 전체 길이에서 빼주는 방법 즉, 탈락하는 친구를 찾는 것 "
   ]
  },
  {
   "cell_type": "code",
   "execution_count": 8,
   "metadata": {},
   "outputs": [
    {
     "name": "stdout",
     "output_type": "stream",
     "text": [
      "2\n",
      "3\n"
     ]
    }
   ],
   "source": [
    "index_ = 0 \n",
    "cnt = 0 \n",
    "\n",
    "while True:\n",
    "    for i in range(index_, len(li)):\n",
    "        if (li[index_][0] < li[i][0]) and (li[index_][1] < li[i][1]):\n",
    "            # 둘 다 다른 지원자보다 떨어질 때 즉, 탈락하는 지원자를 구함 \n",
    "            cnt += 1 \n",
    "    index_ += 1 \n",
    "\n",
    "    if index_ >= len(li):\n",
    "        break \n",
    "print(cnt)\n",
    "print(len(li) - cnt )\n",
    "# 좀 야매같은뎅 "
   ]
  },
  {
   "cell_type": "markdown",
   "metadata": {},
   "source": [
    "### 참고 풀이"
   ]
  },
  {
   "cell_type": "code",
   "execution_count": 9,
   "metadata": {},
   "outputs": [],
   "source": [
    "# 키순으로 정렬 (내림차순)\n",
    "# 첫번째 사람은 키로는 나머지 사람을 다 이김으로 무조건 count \n",
    "# 두번째 사람도 키로는 나머지 사람을 다 이기지만 첫번째 사람의 몸무게만 체크해서 몸무게가 더 무겁다면 count \n",
    "# 즉 몸무게만 비교해서 큰지 작은지 확인 (하나의 변수 선언해서 몸무게가 크면 변수 값을 갱신하면서 count)\n",
    "# 이런 방식으로 반복 진행 "
   ]
  },
  {
   "cell_type": "code",
   "execution_count": 10,
   "metadata": {},
   "outputs": [],
   "source": [
    "n = int(input())\n",
    "body = [] \n",
    "for i in range(n):\n",
    "    a, b = map(int, input().split())\n",
    "    body.append((a,b))\n",
    "\n",
    "body.sort(reverse=True)"
   ]
  },
  {
   "cell_type": "code",
   "execution_count": 11,
   "metadata": {},
   "outputs": [
    {
     "name": "stdout",
     "output_type": "stream",
     "text": [
      "[(183, 65), (181, 60), (180, 70), (172, 67), (170, 72)]\n"
     ]
    }
   ],
   "source": [
    "print(body)"
   ]
  },
  {
   "cell_type": "code",
   "execution_count": 12,
   "metadata": {},
   "outputs": [
    {
     "name": "stdout",
     "output_type": "stream",
     "text": [
      "3\n"
     ]
    }
   ],
   "source": [
    "largest = 0 \n",
    "cnt = 0 \n",
    "for x, y in body:\n",
    "    if largest < y:\n",
    "        cnt += 1 \n",
    "        largest = y \n",
    "print(cnt)\n",
    "# 진짜 쉽게 하네 \n",
    "# 정렬을 활용해서 특정 변수의 값보다 크다면 count진행하고 변수의 값을 갱신"
   ]
  },
  {
   "cell_type": "markdown",
   "metadata": {},
   "source": [
    "### 창고정리 \n",
    "- 창고에 상자가 가로방향으로 일렬로 쌓여 있습니다. 만약 가로의 길이가 7이라면 1열은 높이가 6으로 6개의 상자가 쌓여 있고, 2열은 3개의 상자, 3열은 9개의 상자가 쌓여 있 으며 높이는 9라고 읽는다.\n",
    "- 창고 높이 조정은 가장 높은 곳에 상자를 가장 낮은 곳으로 이동하는 것을 말한다.\n",
    "가장 높은 곳이나 가장 낮은 곳이 여러곳이면 그 중 아무거나 선택하면 된다.\n",
    "위에 그림을 1회 높이 조정을 하면 다음과 같아진다.\n",
    "- 창고의 가로 길이와 각 열의 상자 높이가 주어집니다. m회의 높이 조정을 한 후 가장 높은 곳 과 가장 낮은 곳의 차이를 출력하는 프로그램을 작성하세요.\n",
    "\n",
    "<hr>\n",
    "\n",
    "- 첫 번째 줄에 창고 가로의 길이인 자연수 L(1<=L<=100)이 주어집니다.\n",
    "- 두 번째 줄에 L개의 자연수가 공백을 사이에 두고 입력됩니다. 각 자연수는 100을 넘지 않습니다\n",
    "- 세 번째 줄에 높이 조정 횟수인 M(1<=M<=1,000)이 주어집니다."
   ]
  },
  {
   "cell_type": "code",
   "execution_count": 13,
   "metadata": {},
   "outputs": [],
   "source": [
    "# 조정횟수만큼 반복 \n",
    "# 가장 큰 값을 찾아서 -1 해주고 가장 작은 값을 찾아서 +1 해줌 \n",
    "# 반복이 끝나면 가장 큰 값과 가장 작은 값을 찾아서 뺴줌 "
   ]
  },
  {
   "cell_type": "code",
   "execution_count": 19,
   "metadata": {},
   "outputs": [],
   "source": [
    "L = int(input())\n",
    "li = list(map(int, input().split()))\n",
    "M = int(input())"
   ]
  },
  {
   "cell_type": "code",
   "execution_count": 20,
   "metadata": {},
   "outputs": [
    {
     "data": {
      "text/plain": [
       "[69, 42, 68, 76, 40, 87, 14, 65, 76, 81]"
      ]
     },
     "execution_count": 20,
     "metadata": {},
     "output_type": "execute_result"
    }
   ],
   "source": [
    "li"
   ]
  },
  {
   "cell_type": "code",
   "execution_count": 21,
   "metadata": {},
   "outputs": [
    {
     "name": "stdout",
     "output_type": "stream",
     "text": [
      "20\n"
     ]
    }
   ],
   "source": [
    "for i in range(M):\n",
    "    li[li.index(max(li))] = max(li) - 1\n",
    "\n",
    "    li[li.index(min(li))] = min(li) + 1 \n",
    "    # 인덱스와 min,max함수를 통해 값을 갱신하는 것을 반복 \n",
    "\n",
    "print(max(li) - min(li))"
   ]
  },
  {
   "cell_type": "markdown",
   "metadata": {},
   "source": [
    "### 참고 풀이"
   ]
  },
  {
   "cell_type": "code",
   "execution_count": 23,
   "metadata": {},
   "outputs": [],
   "source": [
    "# sort하게 되면 맨 앞에 가장 낮은 곳의 높이이고 맨 뒤면 가장 높은 곳의 높이가 됨 \n",
    "# sort를 M번 반복 "
   ]
  },
  {
   "cell_type": "code",
   "execution_count": 24,
   "metadata": {},
   "outputs": [],
   "source": [
    "L = int(input())\n",
    "a = list(map(int, input().split()))\n",
    "M = int(input())"
   ]
  },
  {
   "cell_type": "code",
   "execution_count": 25,
   "metadata": {},
   "outputs": [
    {
     "name": "stdout",
     "output_type": "stream",
     "text": [
      "20\n"
     ]
    }
   ],
   "source": [
    "a.sort() \n",
    "# 정렬 \n",
    "for _ in range(M):\n",
    "    a[0] += 1 \n",
    "    # 첫번째 자리는 가장 작은 값 \n",
    "    a[L-1] -= 1 \n",
    "    # 마지막 자리는 가장 큰 값 \n",
    "    a.sort() \n",
    "    # 다시 정렬 \n",
    "print(a[L-1] - a[0])"
   ]
  },
  {
   "cell_type": "markdown",
   "metadata": {},
   "source": [
    "### 침몰하는 타이타닉 \n",
    "- 유럽에서 가장 유명했던 유람선 타이타닉이 침몰하고 있습니다. 유람선에는 N명의 승객이 타고 있습니다. \n",
    "- 구명보트를 타고 탈출해야 하는데 타이타닉에 있는 구명보트는 2명 이하로만 탈 수 있 으며, 보트 한 개에 탈 수 있는 총 무게도 M kg 이하로 제한되어 있습니다.\n",
    "- N명의 승객 몸무게가 주어졌을 때 승객 모두가 탈출하기 위한 구명보트의 최소개수를 출력하는 프로그램을 작성하세요.\n",
    "\n",
    "<hr>\n",
    "\n",
    "- 첫째 줄에 자연수 N(5<=N<=1000)과 M(70<=M<=250)이 주어집니다.\n",
    "- 두 번째 줄에 N개로 구성된 몸무게 수열이 주어집니다. 몸무게는 50이상 150이하입니다. \n",
    "- 각 승객의 몸무게는 M을 넘지는 않습니다. 즉 탈출을 못하는 경우는 없습니다."
   ]
  },
  {
   "cell_type": "code",
   "execution_count": 26,
   "metadata": {},
   "outputs": [],
   "source": [
    "N, M = map(int, input().split())\n",
    "li = list(map(int, input().split()))"
   ]
  },
  {
   "cell_type": "code",
   "execution_count": 27,
   "metadata": {},
   "outputs": [
    {
     "data": {
      "text/plain": [
       "[90, 50, 70, 100, 60]"
      ]
     },
     "execution_count": 27,
     "metadata": {},
     "output_type": "execute_result"
    }
   ],
   "source": [
    "li"
   ]
  },
  {
   "cell_type": "code",
   "execution_count": 29,
   "metadata": {},
   "outputs": [
    {
     "name": "stdout",
     "output_type": "stream",
     "text": [
      "[50, 60, 70, 90, 100]\n"
     ]
    }
   ],
   "source": [
    "li.sort()\n",
    "print(li)"
   ]
  },
  {
   "cell_type": "code",
   "execution_count": 30,
   "metadata": {},
   "outputs": [],
   "source": [
    "# M을 넘지 않으면서 더한 값과 M과의 차이가 최소인 것을 찾음 \n",
    "# 찾았다면 더한 요소는 제거하고 count \n",
    "# 다시 반복문 돌림 \n",
    "# 하나가 남거나 남지 않았을 때 까지 진행 \n",
    "# 위의 방법은 잘못된 듯 "
   ]
  },
  {
   "cell_type": "code",
   "execution_count": null,
   "metadata": {},
   "outputs": [],
   "source": [
    "s = 0 \n",
    "lar = 0 \n",
    "for i in range(s+1, len(li)):\n",
    "    er = M - li[s]\n",
    "    if (er >= li[i] and lar < li[i]):\n",
    "        lar = li[i]\n",
    "\n",
    "# 모르겠음 "
   ]
  },
  {
   "cell_type": "markdown",
   "metadata": {},
   "source": [
    "### 참고 풀이"
   ]
  },
  {
   "cell_type": "code",
   "execution_count": null,
   "metadata": {},
   "outputs": [],
   "source": [
    "# 오름차순 정렬 진행 \n",
    "# 가장 가벼운 사람과 가장 무거운 사람을 비교해서 M이하인지 확인 \n",
    "# M초과면 가장 무거운 사람은 pop \n",
    "# 2번째로 무거운 사람과 비교 \n",
    "# 위의 과정을 반복 \n",
    "# 자료가 비어버리면 break "
   ]
  },
  {
   "cell_type": "code",
   "execution_count": 32,
   "metadata": {},
   "outputs": [],
   "source": [
    "N, M = map(int, input().split())\n",
    "p = list(map(int, input().split()))"
   ]
  },
  {
   "cell_type": "code",
   "execution_count": 33,
   "metadata": {},
   "outputs": [
    {
     "name": "stdout",
     "output_type": "stream",
     "text": [
      "[90, 50, 70, 100, 60]\n"
     ]
    }
   ],
   "source": [
    "print(p)"
   ]
  },
  {
   "cell_type": "code",
   "execution_count": 34,
   "metadata": {},
   "outputs": [
    {
     "name": "stdout",
     "output_type": "stream",
     "text": [
      "3\n"
     ]
    }
   ],
   "source": [
    "p.sort()\n",
    "cnt = 0 \n",
    "while p:\n",
    "    # p가 비어있지 않으면 참 \n",
    "    if len(p) == 1:\n",
    "        cnt += 1 \n",
    "        break \n",
    "    # 만약 한 사람이 남았다면 오류가 발생할 수 있음으로 \n",
    "    # count만 하고 break \n",
    "\n",
    "\n",
    "    if p[0] + p[-1] > M:\n",
    "        p.pop()\n",
    "        cnt += 1 \n",
    "        # 한계 무게를 초과했다면 가장 무거운 사람 pop \n",
    "        # 한사람이 구명 보트를 타고 나갔다는 뜻 \n",
    "    else:\n",
    "        p.pop(0)\n",
    "        # 리스트는 queue로써 pop(0)을 하게 되면 값이 하나씩 앞으로 땡겨짐 \n",
    "        # 이것은 비효율적임 \n",
    "        # deque를 사용하면 값을 가르키는 포인터 값만 변화함으로 deque사용하는게 더 효율적 \n",
    "        p.pop()\n",
    "        cnt += 1 \n",
    "        # 초과하지 않았다면 맨처음과 맨 끝 자료를 pop \n",
    "        # 두사람이 구명 보트를 타고 나갔다는 뜻 \n",
    "\n",
    "print(cnt)"
   ]
  },
  {
   "cell_type": "code",
   "execution_count": 35,
   "metadata": {},
   "outputs": [
    {
     "name": "stdout",
     "output_type": "stream",
     "text": [
      "3\n"
     ]
    }
   ],
   "source": [
    "from collections import deque\n",
    "\n",
    "N, M = map(int, input().split())\n",
    "p = list(map(int, input().split()))\n",
    "p.sort()\n",
    "p = deque(p)\n",
    "# p라는 리스트를 deque로 변환 \n",
    "\n",
    "cnt = 0 \n",
    "while p:\n",
    "    # p가 비어있지 않으면 참 \n",
    "    if len(p) == 1:\n",
    "        cnt += 1 \n",
    "        break \n",
    "    # 만약 한 사람이 남았다면 오류가 발생할 수 있음으로 \n",
    "    # count만 하고 break \n",
    "\n",
    "\n",
    "    if p[0] + p[-1] > M:\n",
    "        p.pop()\n",
    "        cnt += 1 \n",
    "        # 한계 무게를 초과했다면 가장 무거운 사람 pop \n",
    "        # 한사람이 구명 보트를 타고 나갔다는 뜻 \n",
    "    else:\n",
    "        p.popleft() \n",
    "        # 리스트는 queue로써 pop(0)을 하게 되면 값이 하나씩 앞으로 땡겨짐 \n",
    "        # 이것은 비효율적임 \n",
    "        # deque를 사용하면 값을 가르키는 포인터 값만 변화함으로 deque사용하는게 더 효율적 \n",
    "        # popleft()를 사용하게 되면 더 효율적임 \n",
    "        \n",
    "        p.pop()\n",
    "        cnt += 1 \n",
    "        # 초과하지 않았다면 맨처음과 맨 끝 자료를 pop \n",
    "        # 두사람이 구명 보트를 타고 나갔다는 뜻 \n",
    "\n",
    "print(cnt)"
   ]
  }
 ],
 "metadata": {
  "kernelspec": {
   "display_name": "Python 3.9.1 64-bit ('3.9.1')",
   "language": "python",
   "name": "python3"
  },
  "language_info": {
   "codemirror_mode": {
    "name": "ipython",
    "version": 3
   },
   "file_extension": ".py",
   "mimetype": "text/x-python",
   "name": "python",
   "nbconvert_exporter": "python",
   "pygments_lexer": "ipython3",
   "version": "3.9.1"
  },
  "orig_nbformat": 4,
  "vscode": {
   "interpreter": {
    "hash": "b29909ae39fc17549a84839997d927dda790dc9d9d25402f3e010c02e8c51a82"
   }
  }
 },
 "nbformat": 4,
 "nbformat_minor": 2
}
