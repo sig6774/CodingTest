{
 "cells": [
  {
   "cell_type": "markdown",
   "metadata": {},
   "source": [
    "### 배수와 약수 \n",
    "- 4 × 3 = 12이다.이 식을 통해 다음과 같은 사실을 알 수 있다.\n",
    "- 3은 12의 약수이고, 12는 3의 배수이다. 4도 12의 약수이고, 12는 4의 배수이다.\n",
    "\n",
    "- 두 수가 주어졌을 때, 다음 3가지 중 어떤 관계인지 구하는 프로그램을 작성하시오.\n",
    "\n",
    "    - 첫 번째 숫자가 두 번째 숫자의 약수이다.\n",
    "    - 첫 번째 숫자가 두 번째 숫자의 배수이다.\n",
    "    - 첫 번째 숫자가 두 번째 숫자의 약수와 배수 모두 아니다.\n",
    "\n",
    "- 입력은 여러 테스트 케이스로 이루어져 있다. 각 테스트 케이스는 10,000이 넘지않는 두 자연수로 이루어져 있다. 마지막 줄에는 0이 2개 주어진다. 두 수가 같은 경우는 없다.\n",
    "- 각 테스트 케이스마다 첫 번째 숫자가 두 번째 숫자의 약수라면 factor를, 배수라면 multiple을, 둘 다 아니라면 neither를 출력한다.\n",
    "\n"
   ]
  },
  {
   "cell_type": "code",
   "execution_count": 1,
   "metadata": {},
   "outputs": [
    {
     "data": {
      "text/plain": [
       "'\\n- 두번째 숫자를 쪼개서 첫번째 숫자가 있으면 약수 \\n- 첫번째 숫자를 쪼개서 두번째 숫자가 있으면 배수 \\n- 둘다 없으면 pass \\n'"
      ]
     },
     "execution_count": 1,
     "metadata": {},
     "output_type": "execute_result"
    }
   ],
   "source": [
    "'''\n",
    "- 두번째 숫자를 쪼개서 첫번째 숫자가 있으면 약수 \n",
    "- 첫번째 숫자를 쪼개서 두번째 숫자가 있으면 배수 \n",
    "- 둘다 없으면 pass \n",
    "'''"
   ]
  },
  {
   "cell_type": "code",
   "execution_count": 2,
   "metadata": {},
   "outputs": [
    {
     "name": "stdout",
     "output_type": "stream",
     "text": [
      "factor\n",
      "multiple\n",
      "multiple\n"
     ]
    }
   ],
   "source": [
    "while True:\n",
    "    n,m = map(int, input().split())\n",
    "    if n == 0 | m == 0:\n",
    "        break\n",
    "    cnt = 0\n",
    "    c = 0\n",
    "    d = 0\n",
    "    for i in range(2, m):\n",
    "        if i == n:\n",
    "            c += 1\n",
    "\n",
    "    for i in range(2, n):\n",
    "        if i == m:\n",
    "            d += 1\n",
    "    \n",
    "    if c >= 1:\n",
    "        print(\"factor\")\n",
    "\n",
    "    elif d >= 1:\n",
    "        print(\"multiple\")\n",
    "    else:\n",
    "        print(\"neither\")\n",
    "    cnt += 1\n",
    "\n",
    "    if cnt >= 10000:\n",
    "        break \n",
    "# 이거 아님 잘못생각함 "
   ]
  },
  {
   "cell_type": "code",
   "execution_count": 3,
   "metadata": {},
   "outputs": [
    {
     "data": {
      "text/plain": [
       "'\\n약수 출력 프로그램 \\n- 두번째 숫자를 나눠 나눠지는 값들을 저장\\n- 나눠지는 값들이 첫번째 숫자와 같은게 있으면 약수라고 출력 \\n배수 출력 프로그램 \\n- 두번째 숫자를 첫번째 숫자로 나눠서 나머지가 없으면 배수라고 출력 \\n\\n어? 이러면 약수도 두번쨰 숫자를 첫번째 숫자로 나눠서 나머지가 없으면 약수니깐 그렇게 하면 되겠네 \\n둘 다 아니면 약수, 배수도 아님\\n'"
      ]
     },
     "execution_count": 3,
     "metadata": {},
     "output_type": "execute_result"
    }
   ],
   "source": [
    "'''\n",
    "약수 출력 프로그램 \n",
    "- 두번째 숫자를 나눠 나눠지는 값들을 저장\n",
    "- 나눠지는 값들이 첫번째 숫자와 같은게 있으면 약수라고 출력 \n",
    "배수 출력 프로그램 \n",
    "- 두번째 숫자를 첫번째 숫자로 나눠서 나머지가 없으면 배수라고 출력 \n",
    "\n",
    "어? 이러면 약수도 두번쨰 숫자를 첫번째 숫자로 나눠서 나머지가 없으면 약수니깐 그렇게 하면 되겠네 \n",
    "둘 다 아니면 약수, 배수도 아님\n",
    "'''"
   ]
  },
  {
   "cell_type": "code",
   "execution_count": 4,
   "metadata": {},
   "outputs": [
    {
     "name": "stdout",
     "output_type": "stream",
     "text": [
      "factor\n",
      "multiple\n",
      "neither\n"
     ]
    }
   ],
   "source": [
    "while True:\n",
    "    n,m = map(int, input().split())\n",
    "    if n == 0 | m == 0:\n",
    "        break\n",
    "    if n % m == 0:\n",
    "        print(\"multiple\")\n",
    "    elif m % n == 0:\n",
    "        print(\"factor\")\n",
    "    else:\n",
    "        print(\"neither\")\n",
    "# 정답 "
   ]
  },
  {
   "cell_type": "markdown",
   "metadata": {},
   "source": [
    "### 분산처리 \n",
    "- 재용이는 최신 컴퓨터 10대를 가지고 있다. 어느 날 재용이는 많은 데이터를 처리해야 될 일이 생겨서 각 컴퓨터에 1번부터 10번까지의 번호를 부여하고, 10대의 컴퓨터가 다음과 같은 방법으로 데이터들을 처리하기로 하였다.\n",
    "\n",
    "- 1번 데이터는 1번 컴퓨터, 2번 데이터는 2번 컴퓨터, 3번 데이터는 3번 컴퓨터, ... , 10번 데이터는 10번 컴퓨터, 11번 데이터는 1번 컴퓨터, 12번 데이터는 2번 컴퓨터, ...\n",
    "\n",
    "- 총 데이터의 개수는 항상 ab개의 형태로 주어진다. 재용이는 문득 마지막 데이터가 처리될 컴퓨터의 번호가 궁금해졌다. 이를 수행해주는 프로그램을 작성하라.\n",
    "\n",
    "- 입력의 첫 줄에는 테스트 케이스의 개수 T가 주어진다. 그 다음 줄부터 각각의 테스트 케이스에 대해 정수 a와 b가 주어진다. (1 ≤ a < 100, 1 ≤ b < 1,000,000)\n",
    "\n",
    "- 각 테스트 케이스에 대해 마지막 데이터가 처리되는 컴퓨터의 번호를 출력한다.\n",
    "\n"
   ]
  },
  {
   "cell_type": "code",
   "execution_count": null,
   "metadata": {},
   "outputs": [],
   "source": [
    "'''\n",
    "- a를 b제곱했을때 수의 첫번째 자리 출력하는 프로그램 작성 \n",
    "- 첫번째 자리를 출력\n",
    "- 만약 0이 나오면 10 출력 \n",
    "'''"
   ]
  },
  {
   "cell_type": "code",
   "execution_count": 8,
   "metadata": {},
   "outputs": [
    {
     "name": "stdout",
     "output_type": "stream",
     "text": [
      "2187\n",
      "3234476509624757991344647769100216810857203198904625400933895331391691459636928060001\n",
      "879009348570341820564754175301166849319160888601137211795000502815371785551578982507348243118839282407339452646578204330358425912396796390023083762709983750262833160881881739362886410523449443371228279553859713178705574074945536369069907165879118488237946023316763911203075289793881825105593717363665419272104567110942685369224245399194151270408745414520817371144658911673360691995715360172548619546449999364230725125518457550139404469841500035066840857878284485499395488680712443693844969805751825311230432700053728871920597036844271902537701497888876442011168132256135773924522441413297058083740316221849\n"
     ]
    }
   ],
   "source": [
    "print(3**7)\n",
    "print(7**100)\n",
    "print(9**635)"
   ]
  },
  {
   "cell_type": "code",
   "execution_count": 12,
   "metadata": {},
   "outputs": [
    {
     "name": "stdout",
     "output_type": "stream",
     "text": [
      "1\n",
      "7\n",
      "6\n",
      "1\n",
      "9\n"
     ]
    }
   ],
   "source": [
    "n = int(input())\n",
    "for i in range(n):\n",
    "    a, b = map(int, input().split())\n",
    "    num = str(a**b)[-1]\n",
    "    # 마지막 수를 출력하기 위해 문자열로 변환 \n",
    "    if num == \"0\":\n",
    "        print(10)\n",
    "        # 마지막 수가 0이면 10을 의미하므로 10 출력하는 조건 \n",
    "    else:\n",
    "        print(int(num))\n",
    "# 시간초과 "
   ]
  },
  {
   "cell_type": "markdown",
   "metadata": {},
   "source": [
    "#### 제곱의 마지막 값은 순서가 있네"
   ]
  },
  {
   "cell_type": "code",
   "execution_count": 17,
   "metadata": {},
   "outputs": [
    {
     "name": "stdout",
     "output_type": "stream",
     "text": [
      "2\n",
      "4\n",
      "8\n",
      "16\n",
      "32\n",
      "64\n",
      "128\n",
      "256\n",
      "512\n"
     ]
    }
   ],
   "source": [
    "for i in range(1,10):\n",
    "    print(2**i)"
   ]
  },
  {
   "cell_type": "code",
   "execution_count": 19,
   "metadata": {},
   "outputs": [
    {
     "name": "stdout",
     "output_type": "stream",
     "text": [
      "3\n",
      "9\n",
      "27\n",
      "81\n",
      "243\n",
      "729\n",
      "2187\n",
      "6561\n",
      "19683\n"
     ]
    }
   ],
   "source": [
    "for i in range(1,10):\n",
    "    print(3**i)"
   ]
  },
  {
   "cell_type": "code",
   "execution_count": 27,
   "metadata": {},
   "outputs": [],
   "source": [
    "a_2 = [2, 4, 8, 6]\n",
    "a_3 = [3, 9, 7, 1]\n",
    "a_4 = [4, 6]\n",
    "a_7 = [7, 9, 3, 1]\n",
    "a_8 = [8, 4, 2, 6]\n",
    "a_9 = [9, 1]\n",
    "# 5,6,10을 제외한 나머지의 마지막 값이 올 수 있는 경우의 수 "
   ]
  },
  {
   "cell_type": "code",
   "execution_count": 35,
   "metadata": {},
   "outputs": [
    {
     "name": "stdout",
     "output_type": "stream",
     "text": [
      "1\n",
      "7\n",
      "6\n",
      "1\n",
      "9\n"
     ]
    }
   ],
   "source": [
    "n = int(input())\n",
    "for i in range(n):\n",
    "    a, b = map(int, input().split())\n",
    "    cnt = 0\n",
    "    if a == 2:\n",
    "        cnt = b%len(a_2)- 1\n",
    "        print(a_2[cnt])\n",
    "    elif a == 3:\n",
    "        cnt = b%len(a_3) - 1 \n",
    "        print(a_3[cnt])\n",
    "    elif a == 4:\n",
    "        cnt = b%len(a_4) - 1\n",
    "        print(a_4[cnt])\n",
    "    elif a == 7:\n",
    "        cnt = b%len(a_7) - 1 \n",
    "        print(a_7[cnt])\n",
    "    elif a == 8:\n",
    "        cnt = b%len(a_8) - 1\n",
    "        print(a_8[cnt])\n",
    "    elif a == 9:\n",
    "        cnt = b%len(a_9) - 1\n",
    "        print(a_9[cnt])\n",
    "    else:\n",
    "        print(a)\n",
    "        \n",
    "# 틀림"
   ]
  },
  {
   "cell_type": "code",
   "execution_count": 44,
   "metadata": {},
   "outputs": [
    {
     "ename": "KeyboardInterrupt",
     "evalue": "",
     "output_type": "error",
     "traceback": [
      "\u001b[0;31m---------------------------------------------------------------------------\u001b[0m",
      "\u001b[0;31mKeyboardInterrupt\u001b[0m                         Traceback (most recent call last)",
      "\u001b[0;32m<ipython-input-44-baa96333993a>\u001b[0m in \u001b[0;36m<module>\u001b[0;34m\u001b[0m\n\u001b[1;32m      3\u001b[0m \u001b[0minput\u001b[0m \u001b[0;34m=\u001b[0m \u001b[0msys\u001b[0m\u001b[0;34m.\u001b[0m\u001b[0mstdin\u001b[0m\u001b[0;34m.\u001b[0m\u001b[0mreadline\u001b[0m\u001b[0;34m\u001b[0m\u001b[0;34m\u001b[0m\u001b[0m\n\u001b[1;32m      4\u001b[0m \u001b[0;34m\u001b[0m\u001b[0m\n\u001b[0;32m----> 5\u001b[0;31m \u001b[0mt\u001b[0m \u001b[0;34m=\u001b[0m \u001b[0mint\u001b[0m\u001b[0;34m(\u001b[0m\u001b[0minput\u001b[0m\u001b[0;34m(\u001b[0m\u001b[0;34m)\u001b[0m\u001b[0;34m)\u001b[0m\u001b[0;34m\u001b[0m\u001b[0;34m\u001b[0m\u001b[0m\n\u001b[0m\u001b[1;32m      6\u001b[0m \u001b[0;32mfor\u001b[0m \u001b[0m_\u001b[0m \u001b[0;32min\u001b[0m \u001b[0mrange\u001b[0m\u001b[0;34m(\u001b[0m\u001b[0mt\u001b[0m\u001b[0;34m)\u001b[0m\u001b[0;34m:\u001b[0m\u001b[0;34m\u001b[0m\u001b[0;34m\u001b[0m\u001b[0m\n\u001b[1;32m      7\u001b[0m         \u001b[0ma\u001b[0m\u001b[0;34m,\u001b[0m\u001b[0mb\u001b[0m \u001b[0;34m=\u001b[0m \u001b[0mmap\u001b[0m\u001b[0;34m(\u001b[0m\u001b[0mint\u001b[0m\u001b[0;34m,\u001b[0m\u001b[0minput\u001b[0m\u001b[0;34m(\u001b[0m\u001b[0;34m)\u001b[0m\u001b[0;34m.\u001b[0m\u001b[0msplit\u001b[0m\u001b[0;34m(\u001b[0m\u001b[0;34m)\u001b[0m\u001b[0;34m)\u001b[0m\u001b[0;34m\u001b[0m\u001b[0;34m\u001b[0m\u001b[0m\n",
      "\u001b[0;31mKeyboardInterrupt\u001b[0m: "
     ]
    }
   ],
   "source": [
    "# 다른 사람 풀이 참조 \n",
    "import sys \n",
    "input = sys.stdin.readline\n",
    "\n",
    "t = int(input())\n",
    "for _ in range(t):\n",
    "\ta,b = map(int,input().split())\n",
    "\taa=a%10\n",
    "\n",
    "\tif aa == 0: # 패턴 1\n",
    "\t\tprint(10)\n",
    "\telif aa in [1,5,6]: \n",
    "\t\tprint(aa)\n",
    "\telif aa in [4,9]: #패턴 2\n",
    "\t\tbb=b%2\n",
    "\t\tif bb == 0:\n",
    "\t\t\tprint(aa*aa%10)\n",
    "\t\telse:\n",
    "\t\t\tprint(aa)\n",
    "\telse: #패턴 4\n",
    "\t\tbb=b%4  \n",
    "\t\tif bb ==0:\n",
    "\t\t\tprint(aa**4%10)\n",
    "\t\telse:\n",
    "\t\t\tprint(aa**bb%10)\n",
    "# 아 아쉽다... 조금만 더 생각해볼껄... ㅜㅜ"
   ]
  },
  {
   "cell_type": "markdown",
   "metadata": {},
   "source": [
    "### 좌표 정렬하기 \n",
    "- 2차원 평면 위의 점 N개가 주어진다. 좌표를 x좌표가 증가하는 순으로, x좌표가 같으면 y좌표가 증가하는 순서로 정렬한 다음 출력하는 프로그램을 작성하시오.\n",
    "\n",
    "- 첫째 줄에 점의 개수 N (1 ≤ N ≤ 100,000)이 주어진다. 둘째 줄부터 N개의 줄에는 i번점의 위치 xi와 yi가 주어진다. (-100,000 ≤ xi, yi ≤ 100,000) 좌표는 항상 정수이고, 위치가 같은 두 점은 없다.\n",
    "- 첫째 줄부터 N개의 줄에 점을 정렬한 결과를 출력한다.\n",
    "\n",
    "\n"
   ]
  },
  {
   "cell_type": "code",
   "execution_count": 36,
   "metadata": {},
   "outputs": [
    {
     "data": {
      "text/plain": [
       "'\\n내가 생각한 방법 \\n- x좌표 기준으로 정렬 \\n    - x좌표가 같으면 y좌표를 기준으로 작은 순서대로 정렬 \\n'"
      ]
     },
     "execution_count": 36,
     "metadata": {},
     "output_type": "execute_result"
    }
   ],
   "source": [
    "'''\n",
    "내가 생각한 방법 \n",
    "- x좌표 기준으로 정렬 \n",
    "    - x좌표가 같으면 y좌표를 기준으로 작은 순서대로 정렬 \n",
    "'''"
   ]
  },
  {
   "cell_type": "code",
   "execution_count": 40,
   "metadata": {},
   "outputs": [
    {
     "name": "stdout",
     "output_type": "stream",
     "text": [
      "1 -1\n",
      "1 1\n",
      "2 2\n",
      "3 3\n",
      "3 4\n"
     ]
    }
   ],
   "source": [
    "N = int(input())\n",
    "pair = []\n",
    "for i in range(N):\n",
    "    x, y = map(int, input().split())\n",
    "    pair.append([x,y])\n",
    "a = sorted(pair, key = lambda x : (x[0], x[1]))\n",
    "# 너무 복잡하게 생각했는데 찾아보니 lambda로 정렬 조건을 복수로 할 수 있었음 \n",
    "# 이거 없었으면 엄청 복잡했을듯 \n",
    "for i in range(len(a)):\n",
    "    print(a[i][0], a[i][1])\n",
    "# 이거 하나 배웠다\n",
    "# 정렬할 때 lambda식을 통해서 1개 이상도 정렬조건으로 넣을 수 있다는 거 "
   ]
  },
  {
   "cell_type": "markdown",
   "metadata": {},
   "source": [
    "### 좌표 정렬하기 2 \n",
    "- 2차원 평면 위의 점 N개가 주어진다. 좌표를 y좌표가 증가하는 순으로, y좌표가 같으면 x좌표가 증가하는 순서로 정렬한 다음 출력하는 프로그램을 작성하시오.\n",
    "\n",
    "- 첫째 줄에 점의 개수 N (1 ≤ N ≤ 100,000)이 주어진다. 둘째 줄부터 N개의 줄에는 i번점의 위치 xi와 yi가 주어진다. (-100,000 ≤ xi, yi ≤ 100,000) 좌표는 항상 정수이고, 위치가 같은 두 점은 없다.\n",
    "\n",
    "- 첫째 줄부터 N개의 줄에 점을 정렬한 결과를 출력한다.\n",
    "\n",
    "\n"
   ]
  },
  {
   "cell_type": "code",
   "execution_count": null,
   "metadata": {},
   "outputs": [],
   "source": [
    "'''\n",
    "내가 생각한 방법 \n",
    "- y좌표로 정렬진행 \n",
    "    - 만약 동일한 값이 존재하면 \n",
    "        - x좌표를 출력해서 더 작은것이 먼저 오게 진행 \n",
    "'''"
   ]
  },
  {
   "cell_type": "code",
   "execution_count": 2,
   "metadata": {},
   "outputs": [],
   "source": [
    "n = int(input())\n",
    "pair = []\n",
    "for _ in range(n):\n",
    "    x, y = map(int, input().split())\n",
    "    pair.append([x,y])\n",
    "a = sorted(pair, key = lambda x : (x[1] ,x[0]))\n",
    "# 너무 복잡하게 생각했는데 찾아보니 lambda로 정렬 조건을 복수로 할 수 있었음 \n",
    "# 이거 없었으면 엄청 복잡했을듯 \n",
    "for i in range(len(a)):\n",
    "    print(a[i][0],a[i][1])\n",
    "# 정렬방법 찾아보면서 진행"
   ]
  },
  {
   "cell_type": "markdown",
   "metadata": {},
   "source": [
    "### 세수정렬 \n",
    "- 동규는 세수를 하다가 정렬이 하고싶어졌다.\n",
    "\n",
    "- 숫자 세 개를 생각한 뒤에, 이를 오름차순으로 정렬하고 싶어 졌다.\n",
    "\n",
    "- 숫자 세 개가 주어졌을 때, 가장 작은 수, 그 다음 수, 가장 큰 수를 출력하는 프로그램을 작성하시오.\n",
    "- 숫자 세 개가 주어진다. 이 숫자는 1보다 크거나 같고, 1,000,000보다 작거나 같다. 이 숫자는 모두 다르다.\n",
    "\n"
   ]
  },
  {
   "cell_type": "code",
   "execution_count": null,
   "metadata": {},
   "outputs": [],
   "source": [
    "'''\n",
    "내가 생각한 방법 \n",
    "- 리스트로 바꿔서 특정 값과 다른 값을 비교하는 방식으로 값을 이동하며 정렬 \n",
    "'''"
   ]
  },
  {
   "cell_type": "code",
   "execution_count": 41,
   "metadata": {},
   "outputs": [],
   "source": [
    "a, b, c = map(int, input().split())"
   ]
  },
  {
   "cell_type": "code",
   "execution_count": 46,
   "metadata": {},
   "outputs": [],
   "source": [
    "sort_li = [a, b, c]\n",
    "for i in range(len(sort_li)):\n",
    "    for j in range(i+1, len(sort_li)):\n",
    "        if sort_li[i] > sort_li[j]:\n",
    "            sort_li[i], sort_li[j] = sort_li[j], sort_li[i]\n",
    "# i번째와 i보다 큰 자리 번째에서 큰값이 있으면 바꿔줌 "
   ]
  },
  {
   "cell_type": "code",
   "execution_count": 51,
   "metadata": {},
   "outputs": [
    {
     "name": "stdout",
     "output_type": "stream",
     "text": [
      "1 2 3 "
     ]
    }
   ],
   "source": [
    "for i in range(len(sort_li)):\n",
    "    print(sort_li[i], end = \" \")"
   ]
  },
  {
   "cell_type": "code",
   "execution_count": 52,
   "metadata": {},
   "outputs": [
    {
     "name": "stdout",
     "output_type": "stream",
     "text": [
      "1 2 3 "
     ]
    }
   ],
   "source": [
    "s = [a,b,c]\n",
    "s_s = sorted(s)\n",
    "for i in range(len(s_s)):\n",
    "    print(s_s[i], end = \" \")\n",
    "# sorted를 사용해서 쉽게 정렬도 가능 "
   ]
  },
  {
   "cell_type": "code",
   "execution_count": null,
   "metadata": {},
   "outputs": [],
   "source": []
  }
 ],
 "metadata": {
  "interpreter": {
   "hash": "baa2e52980430d335b97b133b9bdc90c6ba1b985616caf224317f930da22a067"
  },
  "kernelspec": {
   "display_name": "Python 3.7.4 ('base')",
   "language": "python",
   "name": "python3"
  },
  "language_info": {
   "codemirror_mode": {
    "name": "ipython",
    "version": 3
   },
   "file_extension": ".py",
   "mimetype": "text/x-python",
   "name": "python",
   "nbconvert_exporter": "python",
   "pygments_lexer": "ipython3",
   "version": "3.7.4"
  },
  "orig_nbformat": 4
 },
 "nbformat": 4,
 "nbformat_minor": 2
}
