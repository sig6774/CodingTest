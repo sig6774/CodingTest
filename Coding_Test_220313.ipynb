{
 "cells": [
  {
   "cell_type": "markdown",
   "metadata": {},
   "source": [
    "### 소수 찾기 \n",
    "- 주어진 수 N개 중에서 소수가 몇 개인지 찾아서 출력하는 프로그램을 작성하시오.\n",
    "\n",
    "- 첫 줄에 수의 개수 N이 주어진다. N은 100이하이다. 다음으로 N개의 수가 주어지는데 수는 1,000 이하의 자연수이다.\n",
    "\n"
   ]
  },
  {
   "cell_type": "code",
   "execution_count": 19,
   "metadata": {},
   "outputs": [],
   "source": [
    "cnt = 0\n",
    "for i in range(4):\n",
    "    a = int(input())\n",
    "    for j in range(a-1, 1, -1):\n",
    "        if a % j == 0:\n",
    "            break \n",
    "        else:\n",
    "            cnt += 1 "
   ]
  },
  {
   "cell_type": "code",
   "execution_count": 49,
   "metadata": {},
   "outputs": [
    {
     "name": "stdout",
     "output_type": "stream",
     "text": [
      "3\n"
     ]
    }
   ],
   "source": [
    "not_prime = []\n",
    "n = int(input())\n",
    "numbers = map(int, input().split())\n",
    "\n",
    "for i in numbers:\n",
    "    if i >= 2:\n",
    "        for j in range(2,i):\n",
    "            if i % j == 0:\n",
    "                not_prime.append(i)\n",
    "    else:\n",
    "        not_prime.append(i)\n",
    "print(n - len(set(not_prime)))\n",
    "# 이렇게 하면 소수의 개수를 찾을 수 있지 않나?\n",
    "# 런타임에러가 왜 뜨는거지? \n",
    "# input이 잘못된거네 \n",
    "# 소수가 아닌것을 찾아서 빼주면 됨 \n"
   ]
  },
  {
   "cell_type": "code",
   "execution_count": null,
   "metadata": {},
   "outputs": [],
   "source": [
    "# 다른 사람 풀이 \n",
    "n = int(input())\n",
    "numbers = map(int, input().split())\n",
    "sosu = 0\n",
    "for num in numbers:\n",
    "    error = 0\n",
    "    if num > 1 :\n",
    "        for i in range(2, num):  # 2부터 n-1까지\n",
    "            if num % i == 0:\n",
    "                error += 1  # 2부터 n-1까지 나눈 몫이 0이면 error가 증가\n",
    "        if error == 0:\n",
    "            sosu += 1  # error가 없으면 소수.\n",
    "print(sosu)\n",
    "\n",
    "# 리스트를 사용하지 않고 쉽게 풀 수 있네 \n",
    "# 이게 더 효율적인것 같음 "
   ]
  },
  {
   "cell_type": "markdown",
   "metadata": {},
   "source": [
    "### 소수 구하기 \n",
    "- M이상 N이하의 소수를 모두 출력하는 프로그램을 작성하시오.\n",
    "\n",
    "- 첫째 줄에 자연수 M과 N이 빈 칸을 사이에 두고 주어진다. (1 ≤ M ≤ N ≤ 1,000,000) M이상 N이하의 소수가 하나 이상 있는 입력만 주어진다.\n",
    "\n"
   ]
  },
  {
   "cell_type": "code",
   "execution_count": null,
   "metadata": {},
   "outputs": [],
   "source": [
    "from sys import stdin\n",
    "\n",
    "low, high = int"
   ]
  },
  {
   "cell_type": "code",
   "execution_count": 50,
   "metadata": {},
   "outputs": [],
   "source": [
    "low, high = map(int, input().split())"
   ]
  },
  {
   "cell_type": "code",
   "execution_count": 53,
   "metadata": {},
   "outputs": [
    {
     "name": "stdout",
     "output_type": "stream",
     "text": [
      "3\n",
      "5\n",
      "7\n",
      "11\n",
      "13\n",
      "[]\n"
     ]
    }
   ],
   "source": [
    "for i in range(low, high+1):\n",
    "    error = 0 \n",
    "    for j in range(2, i):\n",
    "        if i % j == 0:\n",
    "            error += 1\n",
    "    if error == 0:\n",
    "        print(i)\n",
    "\n",
    "# 기존의 내 풀이와 다르게 소수 찾기의 다른 사람 풀이를 참고해서 작성해봄 \n",
    "# 시간초과 "
   ]
  },
  {
   "cell_type": "code",
   "execution_count": 55,
   "metadata": {},
   "outputs": [
    {
     "name": "stdout",
     "output_type": "stream",
     "text": [
      "3\n",
      "5\n",
      "7\n",
      "11\n",
      "13\n"
     ]
    }
   ],
   "source": [
    "for i in range(low, high+1):\n",
    "    if i == 1:\n",
    "        continue\n",
    "    for j in range(2, i):\n",
    "        if i % j == 0:\n",
    "            break\n",
    "    else:\n",
    "        print(i)\n",
    "# 이것도 시간초과가 뜨네 ... "
   ]
  },
  {
   "cell_type": "code",
   "execution_count": 56,
   "metadata": {},
   "outputs": [
    {
     "name": "stdout",
     "output_type": "stream",
     "text": [
      "3\n",
      "5\n",
      "7\n",
      "11\n",
      "13\n"
     ]
    }
   ],
   "source": [
    "# 다른 사람 풀이 참조 \n",
    "for i in range(low, high+1):\n",
    "    if i == 1:\n",
    "        continue\n",
    "    for j in range(2, int(i**0.5)+1):\n",
    "        if i % j == 0:\n",
    "            break\n",
    "    else:\n",
    "        print(i)\n",
    "# 모든 수를 확인해보면서 소수인지 비교하는 것보다는 해당 수의 제곱근까지만 보면 된다고 하네 \n",
    "# 약수는 대칭으로 이루어져있으므로 제곱근을 했을때의 값에서 나누어 떨어지는게 있는지 확인해보면 된다는 아이디어 "
   ]
  },
  {
   "cell_type": "markdown",
   "metadata": {},
   "source": [
    "### 직사각형에서 탈출 \n",
    "- 한수는 지금 (x, y)에 있다. 직사각형은 각 변이 좌표축에 평행하고, 왼쪽 아래 꼭짓점은 (0, 0), 오른쪽 위 꼭짓점은 (w, h)에 있다. 직사각형의 경계선까지 가는 거리의 최솟값을 구하는 프로그램을 작성하시오.\n",
    "\n",
    "- 첫째 줄에 x, y, w, h가 주어진다.\n"
   ]
  },
  {
   "cell_type": "code",
   "execution_count": 58,
   "metadata": {},
   "outputs": [],
   "source": [
    "# 그냥 x,y를 (0,0) 혹은 (w,h)로 빼서 가장 작은 값 출력하면 되는거 아닌가?\n",
    "x, y, w, h = map(int, input().split())"
   ]
  },
  {
   "cell_type": "code",
   "execution_count": 64,
   "metadata": {},
   "outputs": [
    {
     "name": "stdout",
     "output_type": "stream",
     "text": [
      "4\n",
      "1\n",
      "6\n",
      "2\n",
      "1\n"
     ]
    }
   ],
   "source": [
    "a = []\n",
    "print(w - x)\n",
    "print(h - y)\n",
    "print(x)\n",
    "print(y)\n",
    "x_len = w - x\n",
    "y_len = h - y\n",
    "a.append(x_len)\n",
    "a.append(y_len)\n",
    "a.append(x)\n",
    "a.append(y)\n",
    "print(min(a))\n",
    "# 정답...\n",
    "# 뭐야 이게 된다고?"
   ]
  },
  {
   "cell_type": "code",
   "execution_count": 65,
   "metadata": {},
   "outputs": [
    {
     "name": "stdout",
     "output_type": "stream",
     "text": [
      "347\n"
     ]
    }
   ],
   "source": [
    "# 다른 사람 풀이 \n",
    "x, y, w, h = map(int, input().split())\n",
    "print(min(x, y, w-x, h-y))"
   ]
  },
  {
   "cell_type": "markdown",
   "metadata": {},
   "source": [
    "### 택시 기하학 \n",
    "- 19세기 독일 수학자 헤르만 민코프스키는 비유클리드 기하학 중 택시 기하학을 고안했다.\n",
    "\n",
    "- 택시 기하학에서 두 점 T1(x1,y1), T2(x2,y2) 사이의 거리는 다음과 같이 구할 수 있다.D(T1,T2) = |x1-x2| + |y1-y2| 두 점 사이의 거리를 제외한 나머지 정의는 유클리드 기하학에서의 정의와 같다.\n",
    "\n",
    "- 따라서 택시 기하학에서 원의 정의는 유클리드 기하학에서 원의 정의와 같다. 원: 평면 상의 어떤 점에서 거리가 일정한 점들의 집합 반지름 R이 주어졌을 때, 유클리드 기하학에서 원의 넓이와, 택시 기하학에서 원의 넓이를 구하는 프로그램을 작성하시오."
   ]
  },
  {
   "cell_type": "code",
   "execution_count": 66,
   "metadata": {},
   "outputs": [],
   "source": [
    "r = int(input())"
   ]
  },
  {
   "cell_type": "code",
   "execution_count": 73,
   "metadata": {},
   "outputs": [
    {
     "name": "stdout",
     "output_type": "stream",
     "text": [
      "1385.442360\n",
      "882.000000\n"
     ]
    }
   ],
   "source": [
    "import math \n",
    "print(\"{:.6f}\".format(math.pi * (r**2)))\n",
    "print(\"{:.6f}\".format(2 * (r**2)))"
   ]
  },
  {
   "cell_type": "markdown",
   "metadata": {},
   "source": [
    "### 벌집 \n",
    "- 위의 그림과 같이 육각형으로 이루어진 벌집이 있다. 그림에서 보는 바와 같이 중앙의 방 1부터 시작해서 이웃하는 방에 돌아가면서 1씩 증가하는 번호를 주소로 매길 수 있다. 숫자 N이 주어졌을 때, 벌집의 중앙 1에서 N번 방까지 최소 개수의 방을 지나서 갈 때 몇 개의 방을 지나가는지(시작과 끝을 포함하여)를 계산하는 프로그램을 작성하시오. 예를 들면, 13까지는 3개, 58까지는 5개를 지난다.\n",
    "- 첫째 줄에 N(1 ≤ N ≤ 1,000,000,000)이 주어진다.\n",
    "\n"
   ]
  },
  {
   "cell_type": "code",
   "execution_count": 74,
   "metadata": {},
   "outputs": [],
   "source": [
    "# 2~7까지 2번 8 ~ 19까지 3번 20 ~ 37까지 4번 이렇게 코드를 작성하면 나오지 않을까?\n",
    "# 1에서 최단 값 : (6*1) +1 = 7, (6*3) + 1 = 19, (6*6) +1 = 37 (6*10) + 1 = 61 ... \n",
    "# 이걸 어떻게 만들지? "
   ]
  },
  {
   "cell_type": "code",
   "execution_count": 78,
   "metadata": {},
   "outputs": [
    {
     "name": "stdout",
     "output_type": "stream",
     "text": [
      "7\n",
      "19\n",
      "37\n",
      "4\n"
     ]
    }
   ],
   "source": [
    "# 위의 방법을 구현할 수 없어서 다른 사람 풀이 참고... \n",
    "\n",
    "n = int(input())\n",
    "nums_pileup = 1 \n",
    "# 처음 시작 \n",
    "cnt = 1 \n",
    "\n",
    "while n > nums_pileup:\n",
    "    nums_pileup += 6 * cnt \n",
    "    cnt += 1 \n",
    "    # 지나가는 방의 개수 \n",
    "print(cnt)\n",
    "\n",
    "# 천재네... 엄청 간단하게 할 수 있구나 너무 복잡하게 생각한 듯 "
   ]
  },
  {
   "cell_type": "code",
   "execution_count": null,
   "metadata": {},
   "outputs": [],
   "source": []
  }
 ],
 "metadata": {
  "interpreter": {
   "hash": "baa2e52980430d335b97b133b9bdc90c6ba1b985616caf224317f930da22a067"
  },
  "kernelspec": {
   "display_name": "Python 3.7.4 ('base')",
   "language": "python",
   "name": "python3"
  },
  "language_info": {
   "codemirror_mode": {
    "name": "ipython",
    "version": 3
   },
   "file_extension": ".py",
   "mimetype": "text/x-python",
   "name": "python",
   "nbconvert_exporter": "python",
   "pygments_lexer": "ipython3",
   "version": "3.7.4"
  },
  "orig_nbformat": 4
 },
 "nbformat": 4,
 "nbformat_minor": 2
}
