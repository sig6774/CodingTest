{
 "cells": [
  {
   "cell_type": "markdown",
   "metadata": {},
   "source": [
    "### 소수 찾기"
   ]
  },
  {
   "cell_type": "code",
   "execution_count": 5,
   "metadata": {},
   "outputs": [
    {
     "name": "stdout",
     "output_type": "stream",
     "text": [
      "2\n",
      "3\n",
      "4\n",
      "5\n",
      "6\n",
      "7\n",
      "8\n",
      "9\n",
      "10\n",
      "9\n"
     ]
    }
   ],
   "source": [
    "n = 10\n",
    "b = []\n",
    "for i in range(1,n+1,1):\n",
    "    if i >= 2 and i%i == 0 and i%1 == 0:\n",
    "        b.append(i)\n",
    "        print(i)\n",
    "print(len(b))"
   ]
  },
  {
   "cell_type": "code",
   "execution_count": 12,
   "metadata": {},
   "outputs": [
    {
     "name": "stdout",
     "output_type": "stream",
     "text": [
      "3\n",
      "5\n",
      "5\n",
      "5\n",
      "7\n",
      "7\n",
      "7\n",
      "7\n",
      "7\n",
      "9\n",
      "[3, 5, 5, 5, 7, 7, 7, 7, 7, 9]\n"
     ]
    }
   ],
   "source": [
    "b = []\n",
    "for i in range(2, n+1, 1):\n",
    "    for j in range(2, i, 1):\n",
    "        if i % j == 0:\n",
    "            break\n",
    "        elif i % i == 0 and i % 1 ==0:\n",
    "            b.append(i)\n",
    "            print(i)\n",
    "            \n",
    "print(b)"
   ]
  },
  {
   "cell_type": "code",
   "execution_count": 9,
   "metadata": {},
   "outputs": [
    {
     "name": "stdout",
     "output_type": "stream",
     "text": [
      "3\n",
      "2\n",
      "4\n",
      "2\n",
      "4\n",
      "3\n",
      "5\n",
      "2\n",
      "5\n",
      "3\n",
      "5\n",
      "4\n",
      "6\n",
      "2\n",
      "6\n",
      "3\n",
      "6\n",
      "4\n",
      "6\n",
      "5\n",
      "7\n",
      "2\n",
      "7\n",
      "3\n",
      "7\n",
      "4\n",
      "7\n",
      "5\n",
      "7\n",
      "6\n",
      "8\n",
      "2\n",
      "8\n",
      "3\n",
      "8\n",
      "4\n",
      "8\n",
      "5\n",
      "8\n",
      "6\n",
      "8\n",
      "7\n",
      "9\n",
      "2\n",
      "9\n",
      "3\n",
      "9\n",
      "4\n",
      "9\n",
      "5\n",
      "9\n",
      "6\n",
      "9\n",
      "7\n",
      "9\n",
      "8\n",
      "10\n",
      "2\n",
      "10\n",
      "3\n",
      "10\n",
      "4\n",
      "10\n",
      "5\n",
      "10\n",
      "6\n",
      "10\n",
      "7\n",
      "10\n",
      "8\n",
      "10\n",
      "9\n"
     ]
    }
   ],
   "source": [
    "for i in range(2, n+1, 1):\n",
    "    for j in range(2, i, 1):\n",
    "        print(i)\n",
    "        print(j)"
   ]
  },
  {
   "cell_type": "code",
   "execution_count": 15,
   "metadata": {},
   "outputs": [
    {
     "name": "stdout",
     "output_type": "stream",
     "text": [
      "4\n",
      "[9, 9, 9]\n"
     ]
    }
   ],
   "source": [
    "m = 0\n",
    "for i in range(2, n, 1):\n",
    "    a = []\n",
    "    for j in range(1, i+1):\n",
    "        if i % j == 0:\n",
    "            a.append(i)\n",
    "    if len(a) == 2: # 킬포인트...\n",
    "        m += 1\n",
    "print(m)\n",
    "\n",
    "# 참고... "
   ]
  },
  {
   "cell_type": "code",
   "execution_count": 16,
   "metadata": {},
   "outputs": [],
   "source": [
    "def solution(n):\n",
    "    m = 0\n",
    "    for i in range(2, n+1, 1):\n",
    "        a = [] \n",
    "        for j in range(1, i+1):\n",
    "            if i % j == 0:\n",
    "                a.append(i)\n",
    "        if len(a) == 2:\n",
    "            m += 1\n",
    "    return m"
   ]
  },
  {
   "cell_type": "code",
   "execution_count": 17,
   "metadata": {},
   "outputs": [
    {
     "data": {
      "text/plain": [
       "4"
      ]
     },
     "execution_count": 17,
     "metadata": {},
     "output_type": "execute_result"
    }
   ],
   "source": [
    "solution(10)\n",
    "# 이건 시간이 너무 오래걸림 "
   ]
  },
  {
   "cell_type": "markdown",
   "metadata": {},
   "source": [
    "### 에라토스테네스의 체 방법을 사용해서 풀어보기"
   ]
  },
  {
   "cell_type": "code",
   "execution_count": null,
   "metadata": {},
   "outputs": [],
   "source": []
  },
  {
   "cell_type": "code",
   "execution_count": null,
   "metadata": {},
   "outputs": [],
   "source": []
  },
  {
   "cell_type": "markdown",
   "metadata": {},
   "source": [
    "### 문자열 내 p와 y의 개수"
   ]
  },
  {
   "cell_type": "code",
   "execution_count": 1,
   "metadata": {},
   "outputs": [],
   "source": [
    "s = 'pPoooyY'"
   ]
  },
  {
   "cell_type": "code",
   "execution_count": 6,
   "metadata": {},
   "outputs": [],
   "source": [
    "s1 = 'Pyy'"
   ]
  },
  {
   "cell_type": "code",
   "execution_count": 8,
   "metadata": {},
   "outputs": [],
   "source": [
    "s2 = 'ppPpYYyoo'"
   ]
  },
  {
   "cell_type": "code",
   "execution_count": 4,
   "metadata": {},
   "outputs": [],
   "source": [
    "def solution(s):\n",
    "    s = s.lower()\n",
    "    num1 = 0\n",
    "    num2 = 0\n",
    "    for i in range(len(s)):\n",
    "        if s[i] == 'p':\n",
    "            num1 += 1\n",
    "        elif s[i] == 'y':\n",
    "            num2 += 1\n",
    "    \n",
    "    if num1 == num2:\n",
    "        return True\n",
    "    else:\n",
    "        return False\n",
    "# 이거 맞는거 아닌가...\n",
    "# 일단 실패 \n",
    "\n",
    "# s = s.lower() 이렇게 해야함 s.lower()만 적어서 s라는 변수에 저장이 안되었음\n",
    "\n",
    "# 정답 ~~~ \n",
    "# 조금 더 효율적으로 바꿔보기 "
   ]
  },
  {
   "cell_type": "code",
   "execution_count": 9,
   "metadata": {
    "scrolled": true
   },
   "outputs": [
    {
     "name": "stdout",
     "output_type": "stream",
     "text": [
      "True\n",
      "False\n",
      "False\n"
     ]
    }
   ],
   "source": [
    "print(solution(s))\n",
    "print(solution(s1))\n",
    "print(solution(s2))"
   ]
  },
  {
   "cell_type": "markdown",
   "metadata": {},
   "source": [
    "### ================ 이건 아님  =================="
   ]
  },
  {
   "cell_type": "code",
   "execution_count": 21,
   "metadata": {},
   "outputs": [],
   "source": [
    "def solution1(s):\n",
    "    s = s.lower()\n",
    "    a = []\n",
    "    b = []\n",
    "    for i in range(len(s)):\n",
    "        if s[i] == 'p':\n",
    "            a.append(s[i])\n",
    "    for i in range(len(s)):\n",
    "        if s[i] == 'y':\n",
    "            b.append(s[i])\n",
    "    return (a, b)"
   ]
  },
  {
   "cell_type": "code",
   "execution_count": 22,
   "metadata": {},
   "outputs": [
    {
     "name": "stdout",
     "output_type": "stream",
     "text": [
      "(['p', 'p'], ['y', 'y'])\n",
      "(['p'], ['y', 'y'])\n",
      "(['p', 'p', 'p', 'p'], ['y', 'y', 'y'])\n"
     ]
    }
   ],
   "source": [
    "print(solution1(s))\n",
    "print(solution1(s1))\n",
    "print(solution1(s2))"
   ]
  },
  {
   "cell_type": "markdown",
   "metadata": {},
   "source": [
    "### 두개 뽑아서 더하기 "
   ]
  },
  {
   "cell_type": "markdown",
   "metadata": {},
   "source": [
    "2일때 1, 3, 4, 1 -> 3, 5, 6, 3 \n",
    "1일때 3, 4, 1 -> 4, 5, 2\n",
    "3일때 4, 1 -> 7, 4\n",
    "4일때 1 -> 5"
   ]
  },
  {
   "cell_type": "code",
   "execution_count": 2,
   "metadata": {},
   "outputs": [
    {
     "name": "stdout",
     "output_type": "stream",
     "text": [
      "{2, 3, 4, 5, 6, 7}\n"
     ]
    }
   ],
   "source": [
    "a = [3, 5, 6, 3, 4, 5, 2, 7, 4, 5]\n",
    "print(set(a))"
   ]
  },
  {
   "cell_type": "code",
   "execution_count": 37,
   "metadata": {},
   "outputs": [],
   "source": [
    "a = [2, 1, 3, 4, 1]\n",
    "b = [5, 0, 2, 7]"
   ]
  },
  {
   "cell_type": "code",
   "execution_count": 5,
   "metadata": {},
   "outputs": [
    {
     "name": "stdout",
     "output_type": "stream",
     "text": [
      "[2, 3, 4, 5, 6, 7]\n"
     ]
    }
   ],
   "source": [
    "b = []\n",
    "for i in range(len(a)):\n",
    "    for j in range(len(a)):\n",
    "        if i < j:\n",
    "            b.append(a[i] + a[j])\n",
    "            \n",
    "print(list(set(b)))"
   ]
  },
  {
   "cell_type": "code",
   "execution_count": 39,
   "metadata": {},
   "outputs": [],
   "source": [
    "def solution(numbers):\n",
    "    answer = [] \n",
    "    for i in range(len(numbers)):\n",
    "        for j in range(len(numbers)):\n",
    "            if i < j:\n",
    "                answer.append(numbers[i] + numbers[j])\n",
    "    answer = list(set(answer))\n",
    "    return sorted(answer)"
   ]
  },
  {
   "cell_type": "code",
   "execution_count": 40,
   "metadata": {
    "scrolled": true
   },
   "outputs": [
    {
     "data": {
      "text/plain": [
       "[2, 3, 4, 5, 6, 7]"
      ]
     },
     "execution_count": 40,
     "metadata": {},
     "output_type": "execute_result"
    }
   ],
   "source": [
    "solution(a)"
   ]
  },
  {
   "cell_type": "code",
   "execution_count": 41,
   "metadata": {},
   "outputs": [
    {
     "data": {
      "text/plain": [
       "[2, 5, 7, 9, 12]"
      ]
     },
     "execution_count": 41,
     "metadata": {},
     "output_type": "execute_result"
    }
   ],
   "source": [
    "solution(b)"
   ]
  },
  {
   "cell_type": "code",
   "execution_count": 38,
   "metadata": {},
   "outputs": [
    {
     "name": "stdout",
     "output_type": "stream",
     "text": [
      "[1, 1, 2, 3, 4]\n"
     ]
    }
   ],
   "source": [
    "print(sorted(a))"
   ]
  }
 ],
 "metadata": {
  "kernelspec": {
   "display_name": "Python 3",
   "language": "python",
   "name": "python3"
  },
  "language_info": {
   "codemirror_mode": {
    "name": "ipython",
    "version": 3
   },
   "file_extension": ".py",
   "mimetype": "text/x-python",
   "name": "python",
   "nbconvert_exporter": "python",
   "pygments_lexer": "ipython3",
   "version": "3.7.4"
  }
 },
 "nbformat": 4,
 "nbformat_minor": 2
}
