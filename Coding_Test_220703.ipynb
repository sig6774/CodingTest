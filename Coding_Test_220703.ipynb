{
 "cells": [
  {
   "cell_type": "markdown",
   "metadata": {},
   "source": [
    "### 곳감(모래시계) (못품...)\n",
    "- 현수는 곳감을 만들기 위해 감을 깍아 마당에 말리고 있습니다. 현수의 마당은 N*N 격자판으 로 이루어져 있으며, 현수는 각 격자단위로 말리는 감의 수를 정합니다.\n",
    "- 그런데 해의 위치에 따라 특정위치의 감은 잘 마르지 않습니다. 그래서 현수는 격자의 행을 기준으로 왼쪽, 또는 오른쪽으로 회전시켜 위치를 변경해 모든 감이 잘 마르게 합니다.\n",
    "- 만약 회전명령 정보가 2 0 3이면 2번째 행을 왼쪽으로 3만큼 아래 그림처럼 회전시키는 명령 입니다.\n",
    "- 첫 번째 수는 행번호, 두 번째 수는 방향인데 0이면 왼쪽, 1이면 오른쪽이고, 세 번째 수는 회 전하는 격자의 수입니다.\n",
    "- M개의 회전명령을 실행하고 난 후 아래와 같이 마당의 모래시계 모양의 영역에는 감 이 총 몇 개가 있는지 출력하는 프로그램을 작성하세요.\n",
    "<hr>\n",
    "\n",
    "- 첫 줄에 자연수 N(3<=N<=20) 이 주어며, N은 홀수입니다.\n",
    "- 두 번째 줄부터 N줄에 걸쳐 각 줄에 N개의 자연수가 주어진다.\n",
    "- 이 자연수는 각 격자안에 있는 감의 개수이며, 각 격자안의 감의 개수는 100을 넘지 않는다. 그 다음 줄에 회전명령의 개수인 M(1<=M<=10)이 주어지고, \n",
    "- 그 다음 줄부터 M개의 회전명령 정보가 M줄에 걸쳐 주어집니다.\n",
    "\n",
    "- 총 감의 개수를 출력합니다."
   ]
  },
  {
   "cell_type": "code",
   "execution_count": 1,
   "metadata": {},
   "outputs": [],
   "source": [
    "# 회전 정보대로 리스트 값을 이동 (함수로 만들기)\n",
    "    # 왼쪽,오른쪽 조건 걸어줌 \n",
    "    # 주어진 수만큼 인덱스를 더하거나 빼서  값 변경 \n",
    "# 그 다음 이동된 리스트를 모래시계 형태로 값 출력 "
   ]
  },
  {
   "cell_type": "code",
   "execution_count": 2,
   "metadata": {},
   "outputs": [],
   "source": [
    "n = int(input())\n",
    "li = [list(map(int, input().split())) for _ in range(n)]"
   ]
  },
  {
   "cell_type": "code",
   "execution_count": 5,
   "metadata": {},
   "outputs": [
    {
     "name": "stdout",
     "output_type": "stream",
     "text": [
      "[[10, 13, 10, 12, 15], [12, 39, 30, 23, 11], [11, 25, 50, 53, 15], [19, 27, 29, 37, 27], [19, 13, 30, 13, 19]]\n"
     ]
    }
   ],
   "source": [
    "print(li)\n",
    "li_copy = li "
   ]
  },
  {
   "cell_type": "code",
   "execution_count": 6,
   "metadata": {},
   "outputs": [
    {
     "name": "stdout",
     "output_type": "stream",
     "text": [
      "[[10, 13, 10, 12, 15], [39, 12, 11, 30, 23], [11, 25, 50, 53, 15], [19, 27, 29, 37, 27], [19, 13, 30, 13, 19]]\n"
     ]
    }
   ],
   "source": [
    "a, b, c = 2, 0, 3\n",
    "for i in range(len(li_copy)):\n",
    "    li_copy[a-1][i-3], li_copy[a-1][i] = li_copy[a-1][i], li_copy[a-1][i-3]\n",
    "print(li_copy)\n",
    "# 리스트를 -인덱스로 하게 되면 뒤에서 부터 가져올 수 있으므로 -하면서 값을 바꿔줌 \n",
    "# 안되네... \n",
    "# swap 조금 더 공부해보기 "
   ]
  },
  {
   "cell_type": "markdown",
   "metadata": {},
   "source": [
    "### 참고풀이"
   ]
  },
  {
   "cell_type": "code",
   "execution_count": 7,
   "metadata": {},
   "outputs": [],
   "source": [
    "# 이동해라 라는 것은 앞이나 뒤에 수를 제거해서 앞, 뒤에 넣어주고 출력하면 되네 \n",
    "\n",
    "n = int(input())\n",
    "a = [list(map(int, input().split())) for _ in range(n)]"
   ]
  },
  {
   "cell_type": "code",
   "execution_count": 8,
   "metadata": {},
   "outputs": [
    {
     "name": "stdout",
     "output_type": "stream",
     "text": [
      "[[10, 13, 10, 12, 15], [12, 39, 30, 23, 11], [11, 25, 50, 53, 15], [19, 27, 29, 37, 27], [19, 13, 30, 13, 19]]\n"
     ]
    }
   ],
   "source": [
    "print(a)"
   ]
  },
  {
   "cell_type": "code",
   "execution_count": 9,
   "metadata": {},
   "outputs": [
    {
     "name": "stdout",
     "output_type": "stream",
     "text": [
      "[10, 13, 10, 12, 15]\n",
      "[23, 11, 12, 39, 30]\n",
      "[25, 50, 53, 15, 11]\n",
      "[19, 27, 29, 37, 27]\n",
      "[13, 19, 19, 13, 30]\n"
     ]
    }
   ],
   "source": [
    "m = int(input())\n",
    "for i in range(m):\n",
    "    h, t, k = map(int, input().split())\n",
    "    if t == 0:\n",
    "        # 왼쪽 방향으로 회전 \n",
    "        for _ in range(k):\n",
    "            # k만큼 이동 \n",
    "            # pop 함수를 활용하면 값을 빼고 나머지 값은 땡겨지고 뺀 값을 append를 통해 값을 뒤에 넣어줌 \n",
    "            # 위의 작업을 k번 진행 \n",
    "            a[h-1].append(a[h-1].pop(0))\n",
    "            # 아 pop이라는게 좋네 \n",
    "    else:\n",
    "        for _ in range(k):\n",
    "            a[h-1].insert(0, a[h-1].pop())\n",
    "            # 맨 뒤의 값을 가지고 와서 그것을 맨앞에 넣어라 \n",
    "            # 그냥 pop()함수를 사용하게 되면 맨뒤의 자리를 빼줌\n",
    "\n",
    "for x in a:\n",
    "    print(x)"
   ]
  },
  {
   "cell_type": "code",
   "execution_count": 11,
   "metadata": {},
   "outputs": [
    {
     "name": "stdout",
     "output_type": "stream",
     "text": [
      "362\n"
     ]
    }
   ],
   "source": [
    "# 모래 시계 모양을 제외한 값을 더함 \n",
    "res = 0 \n",
    "s = 0\n",
    "e = n-1\n",
    "\n",
    "for i in range(n):\n",
    "    for j in range(s, e+1):\n",
    "        res += a[i][j]\n",
    "    if i < n // 2:\n",
    "        s += 1\n",
    "        e -= 1\n",
    "        # 중앙까지 즉, 모래시계 모양 중간 까지 \n",
    "    else:\n",
    "        s -= 1\n",
    "        e += 1 \n",
    "print(res)"
   ]
  },
  {
   "cell_type": "markdown",
   "metadata": {},
   "source": [
    "### 봉우리 \n",
    "- 지도 정보가 N*N 격자판에 주어집니다. 각 격자에는 그 지역의 높이가 쓰여있습니다. 각 격자 판의 숫자 중 자신의 상하좌우 숫자보다 큰 숫자는 봉우리 지역입니다. \n",
    "- 봉우리 지역이 몇 개 있는 지 알아내는 프로그램을 작성하세요.\n",
    "- 격자의 가장자리는 0으로 초기화 되었다고 가정한다.\n",
    "- 만약 N=5 이고, 격자판의 숫자가 다음과 같다면 봉우리의 개수는 10개입니다.\n",
    "\n",
    "<hr>\n",
    "\n",
    "- 첫 줄에 자연수 N이 주어진다.(1<=N<=50)\n",
    "- 두 번째 줄부터 N줄에 걸쳐 각 줄에 N개의 자연수가 주어진다. 각 자연수는 100을 넘지 않는 다.\n",
    "- 봉우리의 개수를 출력하세요.\n"
   ]
  },
  {
   "cell_type": "code",
   "execution_count": 12,
   "metadata": {},
   "outputs": [],
   "source": [
    "# 상,하,좌,우에 값이 없다면 그것은 0으로 하기 \n",
    "# 상,하,좌.우 값 비교(-1, +1)해서 현재 자리의 값보다 큰 것이 없다면 count 진행 \n",
    "# 근데 0으로 둘러싸인건 어떻게 처리하지?"
   ]
  },
  {
   "cell_type": "code",
   "execution_count": 15,
   "metadata": {},
   "outputs": [],
   "source": [
    "n = int(input())\n",
    "li = [list(map(int, input().split())) for _ in range(n)]"
   ]
  },
  {
   "cell_type": "code",
   "execution_count": 16,
   "metadata": {},
   "outputs": [
    {
     "data": {
      "text/plain": [
       "[[5, 3, 7, 2, 3],\n",
       " [3, 7, 1, 6, 1],\n",
       " [7, 2, 5, 3, 4],\n",
       " [4, 3, 6, 4, 1],\n",
       " [8, 7, 3, 5, 2]]"
      ]
     },
     "execution_count": 16,
     "metadata": {},
     "output_type": "execute_result"
    }
   ],
   "source": [
    "li"
   ]
  },
  {
   "cell_type": "code",
   "execution_count": 31,
   "metadata": {},
   "outputs": [
    {
     "name": "stdout",
     "output_type": "stream",
     "text": [
      "1 1 는 7\n",
      "1 3 는 6\n",
      "3 2 는 6\n",
      "3\n"
     ]
    }
   ],
   "source": [
    "count = 0\n",
    "for i in range(n):\n",
    "    for j in range(n):\n",
    "        up, down, right, left = i-1, i+1, j+1, j-1\n",
    "        if up >= 0 and down < n and right < n and left >= 0:\n",
    "            d = li[i][j]\n",
    "            if d > li[up][j] and d > li[down][j] and d > li[i][right] and d > li[i][left]:\n",
    "                count += 1 \n",
    "                print(i,j, '는', d)\n",
    "        elif :\n",
    "\n",
    "# 해당 코드는 위, 아래, 왼쪽, 오른쪽에 0이 있으면 큰 수를 찾지 못함 \n",
    "# 위, 아래, 왼쪽, 오른쪽에 0이 있어도 찾을 수 있을려면 어떻게 할 수 있을까?                \n",
    "print(count)\n",
    "            "
   ]
  },
  {
   "cell_type": "code",
   "execution_count": 41,
   "metadata": {},
   "outputs": [
    {
     "name": "stdout",
     "output_type": "stream",
     "text": [
      "-1 1 1 -1\n",
      "0 0 는 5\n",
      "-1 1 2 0\n",
      "-1 1 3 1\n",
      "0 2 는 7\n",
      "-1 1 4 2\n",
      "-1 1 5 3\n"
     ]
    },
    {
     "ename": "IndexError",
     "evalue": "list index out of range",
     "output_type": "error",
     "traceback": [
      "\u001b[0;31m---------------------------------------------------------------------------\u001b[0m",
      "\u001b[0;31mIndexError\u001b[0m                                Traceback (most recent call last)",
      "\u001b[1;32m/Users/sig6774/CodingTest/Coding_Test_220703.ipynb Cell 16'\u001b[0m in \u001b[0;36m<cell line: 2>\u001b[0;34m()\u001b[0m\n\u001b[1;32m      <a href='vscode-notebook-cell:/Users/sig6774/CodingTest/Coding_Test_220703.ipynb#ch0000021?line=5'>6</a>\u001b[0m up_num \u001b[39m=\u001b[39m li[up][j]\n\u001b[1;32m      <a href='vscode-notebook-cell:/Users/sig6774/CodingTest/Coding_Test_220703.ipynb#ch0000021?line=6'>7</a>\u001b[0m down_num \u001b[39m=\u001b[39m li[down][j]\n\u001b[0;32m----> <a href='vscode-notebook-cell:/Users/sig6774/CodingTest/Coding_Test_220703.ipynb#ch0000021?line=7'>8</a>\u001b[0m right_num \u001b[39m=\u001b[39m li[i][right]\n\u001b[1;32m      <a href='vscode-notebook-cell:/Users/sig6774/CodingTest/Coding_Test_220703.ipynb#ch0000021?line=8'>9</a>\u001b[0m left_num \u001b[39m=\u001b[39m li[i][left]\n\u001b[1;32m     <a href='vscode-notebook-cell:/Users/sig6774/CodingTest/Coding_Test_220703.ipynb#ch0000021?line=9'>10</a>\u001b[0m num \u001b[39m=\u001b[39m li[i][j]\n",
      "\u001b[0;31mIndexError\u001b[0m: list index out of range"
     ]
    }
   ],
   "source": [
    "count = 0\n",
    "for i in range(n+1):\n",
    "    for j in range(n+1):\n",
    "        up, down, right, left = i-1, i+1, j+1, j-1\n",
    "        print(up, down, right, left)\n",
    "        up_num = li[up][j]\n",
    "        down_num = li[down][j]\n",
    "        right_num = li[i][right]\n",
    "        left_num = li[i][left]\n",
    "        num = li[i][j]\n",
    "\n",
    "        if up < 0:\n",
    "            up_num = 0 \n",
    "        elif down >= n:\n",
    "            down_num = 0 \n",
    "        elif right >= n:\n",
    "            right_num = 0 \n",
    "        elif left < 0:\n",
    "            left_num = 0 \n",
    "        \n",
    "        if num > up_num and num > down_num and num > right_num and num > left_num:\n",
    "            print(i,j, '는', num)\n",
    "            count+=1\n",
    "print(count)\n",
    "# 안되네 \n",
    "# 인덱스 넘치는거 해결 못하겠뜸..."
   ]
  },
  {
   "cell_type": "markdown",
   "metadata": {},
   "source": [
    "### 참고풀이"
   ]
  },
  {
   "cell_type": "code",
   "execution_count": 44,
   "metadata": {},
   "outputs": [],
   "source": [
    "n = int(input())\n",
    "a = [list(map(int, input().split())) for _ in range(n)]"
   ]
  },
  {
   "cell_type": "code",
   "execution_count": 45,
   "metadata": {},
   "outputs": [
    {
     "name": "stdout",
     "output_type": "stream",
     "text": [
      "[0, 0, 0, 0, 0, 0, 0]\n",
      "[0, 5, 3, 7, 2, 3, 0]\n",
      "[0, 3, 7, 1, 6, 1, 0]\n",
      "[0, 7, 2, 5, 3, 4, 0]\n",
      "[0, 4, 3, 6, 4, 1, 0]\n",
      "[0, 8, 7, 3, 5, 2, 0]\n",
      "[0, 0, 0, 0, 0, 0, 0]\n"
     ]
    }
   ],
   "source": [
    "# 그냥 0을 다 넣어주네 ...\n",
    "a.insert(0, [0]*n)\n",
    "# 맨 위쪽에 0으로 된 값을 넣어줌 \n",
    "\n",
    "a.append([0]*n)\n",
    "# 맨 아래쪽에 0을 된 값을 넣어줌 \n",
    "\n",
    "for x in a:\n",
    "    x.insert(0,0)\n",
    "    x.append(0)\n",
    "\n",
    "for x in a:\n",
    "    print(x)\n",
    "# 0으로 가장자리를 만들어줌"
   ]
  },
  {
   "cell_type": "code",
   "execution_count": 47,
   "metadata": {},
   "outputs": [
    {
     "name": "stdout",
     "output_type": "stream",
     "text": [
      "10\n"
     ]
    }
   ],
   "source": [
    "cnt = 0 \n",
    "dx = [-1, 0, 1, 0]\n",
    "dy = [0, 1, 0, -1]\n",
    "# 초기화 \n",
    "\n",
    "for i in range(1, n+1):\n",
    "    # 가장자리임으로 0번은 할 필요가 없음 \n",
    "    for j in range(1, n+1):\n",
    "        if all(a[i][j] > a[i+dx[k]][j+dy[k]] for k in range(4)):\n",
    "            # k가 돌기 위해서 즉 dx와 dy의 위치를 옮기면서 조건 확인 \n",
    "            # all은 모두가 참일 때를 뜻함 \n",
    "            cnt += 1 \n",
    "print(cnt)"
   ]
  },
  {
   "cell_type": "code",
   "execution_count": null,
   "metadata": {},
   "outputs": [],
   "source": []
  }
 ],
 "metadata": {
  "kernelspec": {
   "display_name": "Python 3.9.1 64-bit ('3.9.1')",
   "language": "python",
   "name": "python3"
  },
  "language_info": {
   "codemirror_mode": {
    "name": "ipython",
    "version": 3
   },
   "file_extension": ".py",
   "mimetype": "text/x-python",
   "name": "python",
   "nbconvert_exporter": "python",
   "pygments_lexer": "ipython3",
   "version": "3.9.1"
  },
  "orig_nbformat": 4,
  "vscode": {
   "interpreter": {
    "hash": "b29909ae39fc17549a84839997d927dda790dc9d9d25402f3e010c02e8c51a82"
   }
  }
 },
 "nbformat": 4,
 "nbformat_minor": 2
}
