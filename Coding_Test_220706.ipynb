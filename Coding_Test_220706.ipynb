{
 "cells": [
  {
   "cell_type": "markdown",
   "metadata": {},
   "source": [
    "### 격자판 회문수\n",
    "\n",
    "- 1부터 9까지의 자연수로 채워진 7*7 격자판이 주어지면 격자판 위에서 가로방향 또는 세로방향으로 길이 5자리 회문수가 몇 개 있는지 구하는 프로그램을 작성하세요. 회문수란 121과 같이 앞에서부터 읽으나 뒤에서부터 읽으나 같은 수를 말합니다.\n",
    "\n",
    "- 빨간색처럼 구부러진 경우(87178)는 회문수로 간주하지 않습니다.\n",
    "\n",
    "<hr>\n",
    "\n",
    "- 1부터 9까지의 자연수로 채워진 7*7격자판이 주어집니다.\n",
    "- 5자리 회문수의 개수를 출력합니다. \n",
    "\n",
    "\n"
   ]
  },
  {
   "cell_type": "code",
   "execution_count": 3,
   "metadata": {},
   "outputs": [],
   "source": [
    "# 행과 열을 5개씩 탐색 \n",
    "# 열체크 행체크 리스트 생성 \n",
    "# 5개의 수를 하나의 수로 만들었을 때 그것이 회문수인지 판단 \n",
    "# 회문수이면 1  입력 아니면 0 "
   ]
  },
  {
   "cell_type": "code",
   "execution_count": 28,
   "metadata": {},
   "outputs": [],
   "source": [
    "li = [list(input().split()) for _ in range(7)]"
   ]
  },
  {
   "cell_type": "code",
   "execution_count": 29,
   "metadata": {},
   "outputs": [
    {
     "data": {
      "text/plain": [
       "[['2', '4', '1', '5', '3', '2', '6'],\n",
       " ['3', '5', '1', '8', '7', '1', '7'],\n",
       " ['8', '3', '2', '7', '1', '3', '8'],\n",
       " ['6', '1', '2', '3', '2', '1', '1'],\n",
       " ['1', '3', '1', '3', '5', '3', '2'],\n",
       " ['1', '1', '2', '5', '6', '5', '2'],\n",
       " ['1', '2', '2', '2', '2', '1', '5']]"
      ]
     },
     "execution_count": 29,
     "metadata": {},
     "output_type": "execute_result"
    }
   ],
   "source": [
    "li"
   ]
  },
  {
   "cell_type": "code",
   "execution_count": 45,
   "metadata": {},
   "outputs": [
    {
     "name": "stdout",
     "output_type": "stream",
     "text": [
      "12321 12321\n",
      "check!\n",
      "25652 25652\n",
      "check!\n"
     ]
    }
   ],
   "source": [
    "# 0~4, 1~5, 2~6 이렇게 진행하기 위해서는 어떻게 해야할까?\n",
    "\n",
    "for x in range(len(li)):\n",
    "    s, e = 0,5 \n",
    "    for i in range(3):\n",
    "\n",
    "        a = li[x][s:e]\n",
    "        b = \"\".join(a)\n",
    "        # 행 문자 합치기 \n",
    "\n",
    "        c = \"\"\n",
    "        for i in range(len(a)-1,  -1, -1):\n",
    "            c +=a[i]\n",
    "        # 문자열 역순 \n",
    "        # print(b,c)\n",
    "        if b == c:\n",
    "            print(b,c)\n",
    "            print('check!')\n",
    "\n",
    "        s += 1 \n",
    "        e += 1 \n",
    "        if e > 7:\n",
    "            break \n",
    "# 행 회문수 검사 로직\n"
   ]
  },
  {
   "cell_type": "code",
   "execution_count": 70,
   "metadata": {},
   "outputs": [
    {
     "name": "stdout",
     "output_type": "stream",
     "text": [
      "22122 22122\n",
      "check!\n"
     ]
    }
   ],
   "source": [
    "for x in range(len(li)):\n",
    "    s, e = 0, 5 \n",
    "    for i in range(3):\n",
    "        ch = \"\"\n",
    "\n",
    "        if e > 7:\n",
    "            break \n",
    "        \n",
    "        for j in range(s,e):\n",
    "            ch += li[j][x]\n",
    "\n",
    "\n",
    "        col_ = \"\"\n",
    "        for k in range(len(ch)-1, -1, -1):\n",
    "            col_ += ch[k]\n",
    "\n",
    "        if ch == col_:\n",
    "            print(ch, col_)\n",
    "            print(\"check!\")\n",
    "        s += 1 \n",
    "        e += 1 \n",
    "# 열 회문수 검사 로직 \n"
   ]
  },
  {
   "cell_type": "code",
   "execution_count": 71,
   "metadata": {},
   "outputs": [],
   "source": [
    "def row_check(list):\n",
    "    cnt = 0 \n",
    "    for x in range(len(li)):\n",
    "        s, e = 0,5 \n",
    "        for i in range(3):\n",
    "\n",
    "            a = list[x][s:e]\n",
    "            b = \"\".join(a)\n",
    "            # 행 문자 합치기 \n",
    "\n",
    "            c = \"\"\n",
    "            for i in range(len(a)-1,  -1, -1):\n",
    "                c +=a[i]\n",
    "            # 문자열 역순 \n",
    "            # print(b,c)\n",
    "            if b == c:\n",
    "                # print(b,c)\n",
    "                # print('check!')\n",
    "                cnt += 1 \n",
    "\n",
    "            s += 1 \n",
    "            e += 1 \n",
    "            if e > 7:\n",
    "                break\n",
    "    return cnt "
   ]
  },
  {
   "cell_type": "code",
   "execution_count": 72,
   "metadata": {},
   "outputs": [],
   "source": [
    "def col_check(list):\n",
    "    cnt = 0\n",
    "    for x in range(len(li)):\n",
    "        s, e = 0, 5 \n",
    "        for i in range(3):\n",
    "            ch = \"\"\n",
    "\n",
    "            if e > 7:\n",
    "                break \n",
    "            \n",
    "            for j in range(s,e):\n",
    "                ch += li[j][x]\n",
    "\n",
    "\n",
    "            col_ = \"\"\n",
    "            for k in range(len(ch)-1, -1, -1):\n",
    "                col_ += ch[k]\n",
    "\n",
    "            if ch == col_:\n",
    "                # print(ch, col_)\n",
    "                # print(\"check!\")\n",
    "                cnt += 1 \n",
    "            s += 1 \n",
    "            e += 1 \n",
    "    return cnt "
   ]
  },
  {
   "cell_type": "code",
   "execution_count": 73,
   "metadata": {},
   "outputs": [
    {
     "name": "stdout",
     "output_type": "stream",
     "text": [
      "3\n"
     ]
    }
   ],
   "source": [
    "print(row_check(li) + col_check(li))\n",
    "# 푼거 같은데?"
   ]
  },
  {
   "cell_type": "code",
   "execution_count": null,
   "metadata": {},
   "outputs": [],
   "source": []
  }
 ],
 "metadata": {
  "kernelspec": {
   "display_name": "Python 3.9.1 64-bit ('3.9.1')",
   "language": "python",
   "name": "python3"
  },
  "language_info": {
   "codemirror_mode": {
    "name": "ipython",
    "version": 3
   },
   "file_extension": ".py",
   "mimetype": "text/x-python",
   "name": "python",
   "nbconvert_exporter": "python",
   "pygments_lexer": "ipython3",
   "version": "3.9.1"
  },
  "orig_nbformat": 4,
  "vscode": {
   "interpreter": {
    "hash": "b29909ae39fc17549a84839997d927dda790dc9d9d25402f3e010c02e8c51a82"
   }
  }
 },
 "nbformat": 4,
 "nbformat_minor": 2
}
