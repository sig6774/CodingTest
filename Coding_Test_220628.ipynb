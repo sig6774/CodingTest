{
 "cells": [
  {
   "cell_type": "markdown",
   "metadata": {},
   "source": [
    "### 정다면체 \n",
    "- 두 개의 정 N면체와 정 M면체의 두 개의 주사위를 던져서 나올 수 있는 눈의 합 중 가장 확 률이 높은 숫자를 출력하는 프로그램을 작성하세요.\n",
    "- 정답이 여러 개일 경우 오름차순으로 출력합니다.\n",
    "\n",
    "<hr>\n",
    "\n",
    "- 첫 번째 줄에는 자연수 N과 M이 주어집니다. N과 M은 4, 6, 8, 12, 20 중의 하나입니다.\n",
    "- 첫 번째 줄에 답을 출력합니다."
   ]
  },
  {
   "cell_type": "code",
   "execution_count": 2,
   "metadata": {},
   "outputs": [
    {
     "name": "stdout",
     "output_type": "stream",
     "text": [
      "4 6\n",
      "[0, 0, 1, 2, 3, 4, 4, 4, 3, 2, 1]\n"
     ]
    }
   ],
   "source": [
    "# 생각이 안나서 조금 참고 \n",
    "# 합의 값을 넣을 수 있는 리스트 생성\n",
    "# 합의 값을 인덱스라고 생각하고 해당 값이 나올 떄 마다 count \n",
    "\n",
    "n, m = map(int, input().split())\n",
    "print(n,m)\n",
    "cnt = [0] * (n+m+1)\n",
    "\n",
    "for i in range(1, n+1):\n",
    "    for j in range(1, m+1):\n",
    "        cnt[i + j] += 1 \n",
    "        # 합을 인덱스라 생각하고 count\n",
    "print(cnt)\n",
    "# 이렇게 풀어보면 되겠네 \n",
    "\n"
   ]
  },
  {
   "cell_type": "markdown",
   "metadata": {},
   "source": [
    "### 참고 풀이"
   ]
  },
  {
   "cell_type": "code",
   "execution_count": 7,
   "metadata": {},
   "outputs": [
    {
     "name": "stdout",
     "output_type": "stream",
     "text": [
      "4 6\n",
      "5 6 7 "
     ]
    }
   ],
   "source": [
    "n, m = map(int, input().split())\n",
    "cnt = [0] * (n+m+3)\n",
    "# 넉넉하게 0으로 구성된 리스트를 만들어줌\n",
    "print(n,m)\n",
    "\n",
    "max = -21470000\n",
    "for i in range(1, n+1):\n",
    "    for j in range(1, m+1):\n",
    "        cnt[i+j] += 1 \n",
    "# 내가 생각한거랑 똑같이 풀었네!!! \n",
    "\n",
    "for i in range(n+m+1):\n",
    "    if cnt[i] > max:\n",
    "        max = cnt[i]\n",
    "\n",
    "for i in range(n+m+1):\n",
    "    if cnt[i] == max:\n",
    "        print(i, end=' ')"
   ]
  },
  {
   "cell_type": "markdown",
   "metadata": {},
   "source": [
    "### 자릿수의 합 \n",
    "- N개의 자연수가 입력되면 각 자연수의 자릿수의 합을 구하고, 그 합이 최대인 자연수를 출력 하는 프로그램을 작성하세요. \n",
    "- 각 자연수의 자릿수의 합을 구하는 함수를 def digit_sum(x)를 꼭 작성해서 프로그래밍 하세요.\n",
    "\n",
    "<hr>\n",
    "\n",
    "- 첫 줄에 자연수의 개수 N(3<=N<=100)이 주어지고, 그 다음 줄에 N개의 자연수가 주어진다. 각 자연수의 크기는 10,000,000를 넘지 않는다.\n",
    "- 자릿수의 합이 최대인 자연수를 출력한다. 자릿수의 합이 같을 경우 입력순으로 먼저인 숫자 를 출력합니다."
   ]
  },
  {
   "cell_type": "code",
   "execution_count": 1,
   "metadata": {},
   "outputs": [
    {
     "name": "stdout",
     "output_type": "stream",
     "text": [
      "125\n",
      "15232\n",
      "97\n",
      "97\n"
     ]
    }
   ],
   "source": [
    "# 입력된 자연수의 개수에 따라 반복 진행 \n",
    "    # 자릿수의 합을 구하는 변수 선언 \n",
    "    # 각 자연수의 자릿수를 출력하기 위해 문자열로 변환하고 각 자리수를 더해줌 \n",
    "    # 비교를 통해 최대 자릿수 출력 \n",
    "\n",
    "n = int(input())\n",
    "max_ = 0\n",
    "array_num = []\n",
    "for i in range(n):\n",
    "    num = int(input())\n",
    "    array_num.append(num)\n",
    "    print(num)\n",
    "    \n",
    "    sum_ = 0\n",
    "    for i in str(num):\n",
    "        sum_ += int(i)\n",
    "    \n",
    "    if sum_ > max_:\n",
    "        max_ = sum_ \n",
    "\n",
    "\n",
    "for i in array_num:\n",
    "    sum_1 = 0\n",
    "    for j in str(i):\n",
    "        sum_1 += int(j)\n",
    "    \n",
    "    if sum_1 == max_:\n",
    "        print(i)"
   ]
  },
  {
   "cell_type": "code",
   "execution_count": 3,
   "metadata": {},
   "outputs": [],
   "source": [
    "# 각 자리 수의 합을 구하는 함수로 변환 \n",
    "def digit_sum(x):\n",
    "    sum_ = 0\n",
    "    for i in str(x):\n",
    "        sum_ += int(i)\n",
    "    return sum_"
   ]
  },
  {
   "cell_type": "code",
   "execution_count": 5,
   "metadata": {},
   "outputs": [
    {
     "name": "stdout",
     "output_type": "stream",
     "text": [
      "125\n",
      "15232\n",
      "97\n",
      "97\n"
     ]
    }
   ],
   "source": [
    "n = int(input())\n",
    "max_ = 0\n",
    "array_num = []\n",
    "for i in range(n):\n",
    "    num = int(input())\n",
    "    array_num.append(num)\n",
    "    print(num)\n",
    "\n",
    "    sum_ = digit_sum(num)\n",
    "    if max_ < sum_:\n",
    "        max_ = sum_\n",
    "    # 각 자리수의 합과 max_라고 정의한 자릿수의 최대합을 저장한 변수와 비교 \n",
    "\n",
    "for i in array_num:\n",
    "    sum_1 = 0\n",
    "    for j in str(i):\n",
    "        sum_1 += int(j)\n",
    "    \n",
    "    if sum_1 == max_:\n",
    "        print(i)\n",
    "    # 최대합을 저장한 변수의 값과 같은 값이 있다면 해당 값을 원래 숫자로 변환해 출력 "
   ]
  },
  {
   "cell_type": "markdown",
   "metadata": {},
   "source": [
    "### 참고 풀이"
   ]
  },
  {
   "cell_type": "code",
   "execution_count": 9,
   "metadata": {},
   "outputs": [
    {
     "name": "stdout",
     "output_type": "stream",
     "text": [
      "125\n",
      "15232\n",
      "97\n",
      "97\n"
     ]
    }
   ],
   "source": [
    "n = int(input())\n",
    "a = list(map(int, input().split()))\n",
    "\n",
    "def digit_sum(x):\n",
    "    sum = 0 \n",
    "    while x > 0:\n",
    "        sum += x % 10\n",
    "        x = x//10\n",
    "    # 와 지리네...\n",
    "    # 몫과 나머지 연산으로 자릿수를 쉽게 구할 수 있네... \n",
    "    return sum \n",
    "\n",
    "max = -21470000\n",
    "for x in a:\n",
    "    print(x)\n",
    "    tot = digit_sum(x)\n",
    "    if tot > max:\n",
    "        max = tot \n",
    "        res = x \n",
    "print(res)"
   ]
  },
  {
   "cell_type": "code",
   "execution_count": null,
   "metadata": {},
   "outputs": [],
   "source": [
    "# 다른 방법 \n",
    "def degit_sum1(x):\n",
    "    sum = 0\n",
    "    for i in str(x):\n",
    "        sum += int(i)\n",
    "    return sum \n",
    "# 내가 생각한거랑 똑같네!!! 나이수~!~!~! "
   ]
  },
  {
   "cell_type": "markdown",
   "metadata": {},
   "source": []
  }
 ],
 "metadata": {
  "kernelspec": {
   "display_name": "Python 3.9.12 ('base')",
   "language": "python",
   "name": "python3"
  },
  "language_info": {
   "codemirror_mode": {
    "name": "ipython",
    "version": 3
   },
   "file_extension": ".py",
   "mimetype": "text/x-python",
   "name": "python",
   "nbconvert_exporter": "python",
   "pygments_lexer": "ipython3",
   "version": "3.9.12"
  },
  "orig_nbformat": 4,
  "vscode": {
   "interpreter": {
    "hash": "4e56095587f6faaee8b6fe269bd4758f04d4dcfca17a97e0204e5c06e32115c1"
   }
  }
 },
 "nbformat": 4,
 "nbformat_minor": 2
}
