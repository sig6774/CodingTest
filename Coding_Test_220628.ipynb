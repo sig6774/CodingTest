{
 "cells": [
  {
   "cell_type": "markdown",
   "metadata": {},
   "source": [
    "### 정다면체 \n",
    "- 두 개의 정 N면체와 정 M면체의 두 개의 주사위를 던져서 나올 수 있는 눈의 합 중 가장 확 률이 높은 숫자를 출력하는 프로그램을 작성하세요.\n",
    "- 정답이 여러 개일 경우 오름차순으로 출력합니다.\n",
    "\n",
    "<hr>\n",
    "\n",
    "- 첫 번째 줄에는 자연수 N과 M이 주어집니다. N과 M은 4, 6, 8, 12, 20 중의 하나입니다.\n",
    "- 첫 번째 줄에 답을 출력합니다."
   ]
  },
  {
   "cell_type": "code",
   "execution_count": 67,
   "metadata": {},
   "outputs": [
    {
     "ename": "ValueError",
     "evalue": "not enough values to unpack (expected 2, got 0)",
     "output_type": "error",
     "traceback": [
      "\u001b[0;31m---------------------------------------------------------------------------\u001b[0m",
      "\u001b[0;31mValueError\u001b[0m                                Traceback (most recent call last)",
      "\u001b[1;32m/Users/sig6774/CodingTest/Coding_Test_220628.ipynb Cell 2'\u001b[0m in \u001b[0;36m<cell line: 5>\u001b[0;34m()\u001b[0m\n\u001b[1;32m      <a href='vscode-notebook-cell:/Users/sig6774/CodingTest/Coding_Test_220628.ipynb#ch0000000?line=0'>1</a>\u001b[0m \u001b[39m# 생각이 안나서 조금 참고 \u001b[39;00m\n\u001b[1;32m      <a href='vscode-notebook-cell:/Users/sig6774/CodingTest/Coding_Test_220628.ipynb#ch0000000?line=1'>2</a>\u001b[0m \u001b[39m# 합의 값을 넣을 수 있는 리스트 생성\u001b[39;00m\n\u001b[1;32m      <a href='vscode-notebook-cell:/Users/sig6774/CodingTest/Coding_Test_220628.ipynb#ch0000000?line=2'>3</a>\u001b[0m \u001b[39m# 합의 값을 인덱스라고 생각하고 해당 값이 나올 떄 마다 count \u001b[39;00m\n\u001b[0;32m----> <a href='vscode-notebook-cell:/Users/sig6774/CodingTest/Coding_Test_220628.ipynb#ch0000000?line=4'>5</a>\u001b[0m n, m \u001b[39m=\u001b[39m \u001b[39mmap\u001b[39m(\u001b[39mint\u001b[39m, \u001b[39minput\u001b[39m()\u001b[39m.\u001b[39msplit())\n\u001b[1;32m      <a href='vscode-notebook-cell:/Users/sig6774/CodingTest/Coding_Test_220628.ipynb#ch0000000?line=5'>6</a>\u001b[0m \u001b[39mprint\u001b[39m(n,m)\n\u001b[1;32m      <a href='vscode-notebook-cell:/Users/sig6774/CodingTest/Coding_Test_220628.ipynb#ch0000000?line=6'>7</a>\u001b[0m cnt \u001b[39m=\u001b[39m [\u001b[39m0\u001b[39m] \u001b[39m*\u001b[39m (n\u001b[39m+\u001b[39mm\u001b[39m+\u001b[39m\u001b[39m1\u001b[39m)\n",
      "\u001b[0;31mValueError\u001b[0m: not enough values to unpack (expected 2, got 0)"
     ]
    }
   ],
   "source": [
    "# 생각이 안나서 조금 참고 \n",
    "# 합의 값을 넣을 수 있는 리스트 생성\n",
    "# 합의 값을 인덱스라고 생각하고 해당 값이 나올 떄 마다 count \n",
    "\n",
    "n, m = map(int, input().split())\n",
    "print(n,m)\n",
    "cnt = [0] * (n+m+1)\n",
    "\n",
    "for i in range(1, n+1):\n",
    "    for j in range(1, m+1):\n",
    "        cnt[i + j] += 1 \n",
    "        # 합을 인덱스라 생각하고 count\n",
    "print(cnt)\n",
    "# 이렇게 풀어보면 되겠네 \n",
    "\n"
   ]
  },
  {
   "cell_type": "markdown",
   "metadata": {},
   "source": [
    "### 참고 풀이"
   ]
  },
  {
   "cell_type": "code",
   "execution_count": null,
   "metadata": {},
   "outputs": [
    {
     "name": "stdout",
     "output_type": "stream",
     "text": [
      "4 6\n",
      "5 6 7 "
     ]
    }
   ],
   "source": [
    "n, m = map(int, input().split())\n",
    "cnt = [0] * (n+m+3)\n",
    "# 넉넉하게 0으로 구성된 리스트를 만들어줌\n",
    "print(n,m)\n",
    "\n",
    "max = -21470000\n",
    "for i in range(1, n+1):\n",
    "    for j in range(1, m+1):\n",
    "        cnt[i+j] += 1 \n",
    "# 내가 생각한거랑 똑같이 풀었네!!! \n",
    "\n",
    "for i in range(n+m+1):\n",
    "    if cnt[i] > max:\n",
    "        max = cnt[i]\n",
    "\n",
    "for i in range(n+m+1):\n",
    "    if cnt[i] == max:\n",
    "        print(i, end=' ')"
   ]
  },
  {
   "cell_type": "markdown",
   "metadata": {},
   "source": [
    "### 자릿수의 합 \n",
    "- N개의 자연수가 입력되면 각 자연수의 자릿수의 합을 구하고, 그 합이 최대인 자연수를 출력 하는 프로그램을 작성하세요. \n",
    "- 각 자연수의 자릿수의 합을 구하는 함수를 def digit_sum(x)를 꼭 작성해서 프로그래밍 하세요.\n",
    "\n",
    "<hr>\n",
    "\n",
    "- 첫 줄에 자연수의 개수 N(3<=N<=100)이 주어지고, 그 다음 줄에 N개의 자연수가 주어진다. 각 자연수의 크기는 10,000,000를 넘지 않는다.\n",
    "- 자릿수의 합이 최대인 자연수를 출력한다. 자릿수의 합이 같을 경우 입력순으로 먼저인 숫자 를 출력합니다."
   ]
  },
  {
   "cell_type": "code",
   "execution_count": null,
   "metadata": {},
   "outputs": [
    {
     "name": "stdout",
     "output_type": "stream",
     "text": [
      "125\n",
      "15232\n",
      "97\n",
      "97\n"
     ]
    }
   ],
   "source": [
    "# 입력된 자연수의 개수에 따라 반복 진행 \n",
    "    # 자릿수의 합을 구하는 변수 선언 \n",
    "    # 각 자연수의 자릿수를 출력하기 위해 문자열로 변환하고 각 자리수를 더해줌 \n",
    "    # 비교를 통해 최대 자릿수 출력 \n",
    "\n",
    "n = int(input())\n",
    "max_ = 0\n",
    "array_num = []\n",
    "for i in range(n):\n",
    "    num = int(input())\n",
    "    array_num.append(num)\n",
    "    print(num)\n",
    "    \n",
    "    sum_ = 0\n",
    "    for i in str(num):\n",
    "        sum_ += int(i)\n",
    "    \n",
    "    if sum_ > max_:\n",
    "        max_ = sum_ \n",
    "\n",
    "\n",
    "for i in array_num:\n",
    "    sum_1 = 0\n",
    "    for j in str(i):\n",
    "        sum_1 += int(j)\n",
    "    \n",
    "    if sum_1 == max_:\n",
    "        print(i)"
   ]
  },
  {
   "cell_type": "code",
   "execution_count": null,
   "metadata": {},
   "outputs": [],
   "source": [
    "# 각 자리 수의 합을 구하는 함수로 변환 \n",
    "def digit_sum(x):\n",
    "    sum_ = 0\n",
    "    for i in str(x):\n",
    "        sum_ += int(i)\n",
    "    return sum_"
   ]
  },
  {
   "cell_type": "code",
   "execution_count": null,
   "metadata": {},
   "outputs": [
    {
     "name": "stdout",
     "output_type": "stream",
     "text": [
      "125\n",
      "15232\n",
      "97\n",
      "97\n"
     ]
    }
   ],
   "source": [
    "n = int(input())\n",
    "max_ = 0\n",
    "array_num = []\n",
    "for i in range(n):\n",
    "    num = int(input())\n",
    "    array_num.append(num)\n",
    "    print(num)\n",
    "\n",
    "    sum_ = digit_sum(num)\n",
    "    if max_ < sum_:\n",
    "        max_ = sum_\n",
    "    # 각 자리수의 합과 max_라고 정의한 자릿수의 최대합을 저장한 변수와 비교 \n",
    "\n",
    "for i in array_num:\n",
    "    sum_1 = 0\n",
    "    for j in str(i):\n",
    "        sum_1 += int(j)\n",
    "    \n",
    "    if sum_1 == max_:\n",
    "        print(i)\n",
    "    # 최대합을 저장한 변수의 값과 같은 값이 있다면 해당 값을 원래 숫자로 변환해 출력 "
   ]
  },
  {
   "cell_type": "markdown",
   "metadata": {},
   "source": [
    "### 참고 풀이"
   ]
  },
  {
   "cell_type": "code",
   "execution_count": 81,
   "metadata": {},
   "outputs": [
    {
     "name": "stdout",
     "output_type": "stream",
     "text": [
      "125\n",
      "15232\n",
      "97\n",
      "97\n"
     ]
    }
   ],
   "source": [
    "n = int(input())\n",
    "a = list(map(int, input().split()))\n",
    "\n",
    "def digit_sum(x):\n",
    "    sum = 0 \n",
    "    while x > 0:\n",
    "        sum += x % 10\n",
    "        x = x//10\n",
    "    # 와 지리네...\n",
    "    # 몫과 나머지 연산으로 자릿수를 쉽게 구할 수 있네... \n",
    "    return sum \n",
    "\n",
    "max = -21470000\n",
    "for x in a:\n",
    "    print(x)\n",
    "    tot = digit_sum(x)\n",
    "    if tot > max:\n",
    "        max = tot \n",
    "        res = x \n",
    "print(res)"
   ]
  },
  {
   "cell_type": "code",
   "execution_count": null,
   "metadata": {},
   "outputs": [],
   "source": [
    "# 다른 방법 \n",
    "def degit_sum1(x):\n",
    "    sum = 0\n",
    "    for i in str(x):\n",
    "        sum += int(i)\n",
    "    return sum \n",
    "# 내가 생각한거랑 똑같네!!! 나이수~!~!~! "
   ]
  },
  {
   "cell_type": "markdown",
   "metadata": {},
   "source": [
    "### 소수(에라토스테네스 체)\n",
    "- 자연수 N이 입력되면 1부터 N까지의 소수의 개수를 출력하는 프로그램을 작성하세요. \n",
    "- 만약 20이 입력되면 1부터 20까지의 소수는 2, 3, 5, 7, 11, 13, 17, 19로 총 8개입니다. 제한시간은 1초입니다.\n",
    "<hr>\n",
    "\n",
    "- 첫 줄에 자연수의 개수 N(2<=N<=200,000)이 주어집니다.\n",
    "- 첫 줄에 소수의 개수를 출력합니다."
   ]
  },
  {
   "cell_type": "code",
   "execution_count": null,
   "metadata": {},
   "outputs": [
    {
     "name": "stdout",
     "output_type": "stream",
     "text": [
      "8\n"
     ]
    }
   ],
   "source": [
    "# 소수 : 자기 자신과 1을 제외하고는 나눠지지 않는 수 \n",
    "# 입력한 수를 반복문을 돌려서 각 수가 소수인지 검증 \n",
    "# 소수이면 count함 \n",
    "\n",
    "# 위에 내용을 하기 힘들어서 구냥 소수가 아닌 것들 모두 구해서 전체 개수에서 빼줌 \n",
    "# 그게 소수의 개수라고 생각해서\n",
    "\n",
    "n = 20 \n",
    "\n",
    "\n",
    "a = []\n",
    "for i in range(3, 21):\n",
    "    for j in range(2, i):\n",
    "        if i % j == 0:\n",
    "            a.append(i)\n",
    "print((n-1) - len(set(a)))\n",
    "# 전체 개수에 1이 포함되어 있으므로 1을 빼줌\n",
    "# 근데 이거는 너무 야매라서 정석대로 풀어야하는뎁..."
   ]
  },
  {
   "cell_type": "markdown",
   "metadata": {},
   "source": [
    "### 참고풀이 "
   ]
  },
  {
   "cell_type": "code",
   "execution_count": null,
   "metadata": {},
   "outputs": [
    {
     "name": "stdout",
     "output_type": "stream",
     "text": [
      "8\n"
     ]
    }
   ],
   "source": [
    "# 리스트(인덱스를 숫자라고 생각)생성 \n",
    "n = int(input())\n",
    "ch = [0] * (n+1)\n",
    "# n만큼 인덱스 번호가 생기게 하기 위해 \n",
    "cnt = 0 \n",
    "for i in range(2, n+1):\n",
    "    if ch[i] == 0:\n",
    "        cnt += 1 \n",
    "        for j in range(i, n+1, i):\n",
    "            # ch[i] == 0 이면 i의 배수는 소수가 아니므로 \n",
    "            ch[j] = 1 \n",
    "    \n",
    "    # 특정 값이 소수라면 소수의 배수는 소수가 아니므로 그것들을 걸러줌\n",
    "    # 이 코드는 소수아닌 것을 걸러내면서 진행하네 \n",
    "    # 또 ch[i]가 0이 아니면 두번째 반복문을 돌지도 않으니깐 효율적인 것 같은데? \n",
    "print(cnt)\n"
   ]
  },
  {
   "cell_type": "markdown",
   "metadata": {},
   "source": [
    "### 뒤집은 소수\n",
    "- N개의 자연수가 입력되면 각 자연수를 뒤집은 후 그 뒤집은 수가 소수이면 그 수를 출력하는 프로그램을 작성하세요. \n",
    "- 예를 들어 32를 뒤집으면 23이고, 23은 소수이다. 그러면 23을 출력 한다. \n",
    "- 단 910를 뒤집으면 19로 숫자화 해야 한다. 첫 자리부터의 연속된 0은 무시한다.\n",
    "- 뒤집는 함수인 def reverse(x) 와 소수인지를 확인하는 함수 def isPrime(x)를 반드시 작성하여 프로그래밍 한다.\n",
    "\n",
    "<hr>\n",
    "\n",
    "- 첫 줄에 자연수의 개수 N(3<=N<=100)이 주어지고, 그 다음 줄에 N개의 자연수가 주어진다. 각 자연수의 크기는 100,000를 넘지 않는다.\n",
    "- 첫 줄에 뒤집은 소수를 출력합니다. 출력순서는 입력된 순서대로 출력합니다."
   ]
  },
  {
   "cell_type": "code",
   "execution_count": null,
   "metadata": {},
   "outputs": [],
   "source": [
    "# n개의 수를 입력 \n",
    "# 입력받은 수를 뒤집기 (몫과 나머지 연산 이용해보기 )\n",
    "# 뒤집은 수가 소수이면 출력 "
   ]
  },
  {
   "cell_type": "code",
   "execution_count": null,
   "metadata": {},
   "outputs": [],
   "source": [
    "# 숫자 뒤집는 함수 \n",
    "def reverse(x):\n",
    "    s = \"\"\n",
    "    while x > 0:\n",
    "        s += str(x % 10)\n",
    "        x = x // 10 \n",
    "\n",
    "    if \"0\" in s:\n",
    "        s = s.replace(\"0\", \"\")\n",
    "    # 0이 존재한다면 0을 무시 \n",
    "\n",
    "    return s"
   ]
  },
  {
   "cell_type": "code",
   "execution_count": 68,
   "metadata": {},
   "outputs": [
    {
     "name": "stdout",
     "output_type": "stream",
     "text": [
      "23\n",
      "55\n",
      "26\n",
      "73\n",
      "52\n"
     ]
    }
   ],
   "source": [
    "for i in n:\n",
    "    print(reverse(i))"
   ]
  },
  {
   "cell_type": "code",
   "execution_count": 70,
   "metadata": {},
   "outputs": [],
   "source": [
    "# 소수인지 판별하는 함수\n",
    "def isPrime(s):\n",
    "    s = int(s)\n",
    "\n",
    "    cnt = 0 \n",
    "    for i in range(2, s):\n",
    "        if s % i == 0:\n",
    "            cnt += 1\n",
    "\n",
    "    if cnt != 0:\n",
    "        return False\n",
    "    # cnt가 0이 아니라면 나눠졌다는 뜻이므로 소수가 아니라는 의미로 False로 지정 \n",
    "    else:\n",
    "        return True\n",
    "    "
   ]
  },
  {
   "cell_type": "code",
   "execution_count": 86,
   "metadata": {},
   "outputs": [
    {
     "name": "stdout",
     "output_type": "stream",
     "text": [
      "True\n",
      "True\n",
      "False\n"
     ]
    }
   ],
   "source": [
    "print(isPrime(2))\n",
    "print(isPrime(3))\n",
    "print(isPrime(15))"
   ]
  },
  {
   "cell_type": "code",
   "execution_count": 85,
   "metadata": {},
   "outputs": [
    {
     "name": "stdout",
     "output_type": "stream",
     "text": [
      "23 73 "
     ]
    }
   ],
   "source": [
    "b = int(input())\n",
    "n = list(map(int, input().split()))\n",
    "for i in n:\n",
    "    a = reverse(i)\n",
    "    if (isPrime(a)):\n",
    "        print(a, end=\" \")\n",
    "# 숫자를 뒤집는 함수와 소수를 구하는 함수 구해서 쉽게 풀었음"
   ]
  },
  {
   "cell_type": "markdown",
   "metadata": {},
   "source": [
    "### 참고 풀이"
   ]
  },
  {
   "cell_type": "code",
   "execution_count": 88,
   "metadata": {},
   "outputs": [],
   "source": [
    "def reverse(x):\n",
    "    res = 0\n",
    "    while x >0:\n",
    "        t = x % 10\n",
    "        res = res * 10 + t \n",
    "        x = x//10\n",
    "    return res \n",
    "\n",
    "def isPrime(x):\n",
    "    if x == 1:\n",
    "        return False \n",
    "    # 아 1이 들어올 수 있으니깐 그것도 생각해야하네 \n",
    "\n",
    "    for i in range(2, x//2 +1):\n",
    "    # 약수는 자기자신의 반까지 존재한다는 특징이 있어서 절반만 돌면됨 \n",
    "    # 신박하네 \n",
    "        if x % i == 0:\n",
    "            return False \n",
    "    else:\n",
    "        return True \n",
    "    # 위의 조건을 모두 통과했으면 True\n",
    "\n"
   ]
  },
  {
   "cell_type": "code",
   "execution_count": 90,
   "metadata": {},
   "outputs": [
    {
     "name": "stdout",
     "output_type": "stream",
     "text": [
      "23 73 "
     ]
    }
   ],
   "source": [
    "n = int(input())\n",
    "a = list(map(int, input().split()))\n",
    "for x in a:\n",
    "    tmp = reverse(x)\n",
    "    if isPrime(tmp):\n",
    "        print(tmp, end =\" \")"
   ]
  },
  {
   "cell_type": "markdown",
   "metadata": {},
   "source": [
    "### 주사위 게임 \n",
    "- 1에서부터 6까지의 눈을 가진 3개의 주사위를 던져서 다음과 같은 규칙에 따라 상금을 받는 게 임이 있다.\n",
    "- 규칙(1) 같은 눈이 3개가 나오면 10,000원+(같은 눈)*1,000원의 상금을 받게 된다. \n",
    "- 규칙(2) 같은 눈이 2개만 나오는 경우에는 1,000원+(같은 눈)*100원의 상금을 받게 된다. \n",
    "- 규칙(3) 모두 다른 눈이 나오는 경우에는 (그 중 가장 큰 눈)*100원의 상금을 받게 된다.\n",
    "- 예를 들어, 3개의 눈 3, 3, 6이 주어지면 상금은 1,000+3*100으로 계산되어 1,300원을 받게 된 다. \n",
    "- 또 3개의 눈이 2, 2, 2로 주어지면 10,000+2*1,000 으로 계산되어 12,000원을 받게 된다. \n",
    "- 3개의 눈이 6, 2, 5로 주어지면 그 중 가장 큰 값이 6이므로 6*100으로 계산되어 600원을 상금 으로 받게 된다.\n",
    "- N 명이 주사위 게임에 참여하였을 때, 가장 많은 상금을 받은 사람의 상금을 출력하는 프로그램 을 작성하시오\n",
    "<hr>\n",
    "\n",
    "- 첫째 줄에는 참여하는 사람 수 N(2<=N<=1,000)이 주어지고 그 다음 줄부터 N개의 줄에 사람 들이 주사위를 던진 3개의 눈이 빈칸을 사이에 두고 각각 주어진다.\n",
    "- 첫째 줄에 가장 많은 상금을 받은 사람의 상금을 출력한다."
   ]
  },
  {
   "cell_type": "code",
   "execution_count": 91,
   "metadata": {},
   "outputs": [],
   "source": [
    "# 같은 눈이 몇개인지 파악 \n",
    "# 파악한 개수에 따라 다르게 로직 진행 \n",
    "# max 값 출력 "
   ]
  },
  {
   "cell_type": "code",
   "execution_count": 94,
   "metadata": {},
   "outputs": [
    {
     "name": "stdout",
     "output_type": "stream",
     "text": [
      "300\n",
      "12000\n",
      "200\n",
      "12000\n"
     ]
    }
   ],
   "source": [
    "n=int(input())\n",
    "max_ = 0\n",
    "for i in range(n):\n",
    "    nums=input().split() \n",
    "    nums.sort() \n",
    "    # 정렬 \n",
    "\n",
    "    cnt = 0\n",
    "    a, b, c=map(int, nums)\n",
    "    # 정렬한 값을 대입 \n",
    "\n",
    "    prize = 0\n",
    "    # 몇개의 값이 같은지 다른지 \n",
    "    if a == b and b == c:\n",
    "        prize = 10000 + (1000 * a)\n",
    "\n",
    "    elif a == c or b == c:\n",
    "        prize = 1000 + (100 * c)\n",
    "\n",
    "    else:\n",
    "        prize = a * 100 \n",
    "\n",
    "    print(prize)\n",
    "\n",
    "    # max_변수 갱신\n",
    "    if max_ < prize:\n",
    "        max_ = prize\n",
    "    \n",
    "print(max_)"
   ]
  },
  {
   "cell_type": "markdown",
   "metadata": {},
   "source": [
    "### 참고 풀이 "
   ]
  },
  {
   "cell_type": "code",
   "execution_count": 95,
   "metadata": {},
   "outputs": [
    {
     "name": "stdout",
     "output_type": "stream",
     "text": [
      "12000\n"
     ]
    }
   ],
   "source": [
    "n = int(input())\n",
    "res = 0\n",
    "for i in range(n):\n",
    "    tmp = input().split()\n",
    "    tmp.sort()\n",
    "    a, b, c = map(int, tmp)\n",
    "\n",
    "    if a == b and b == c:\n",
    "        money = 10000 + a * 1000\n",
    "    elif a == b or b == c: \n",
    "        money = 1000 + (a*100)\n",
    "    elif b == c:\n",
    "        money = 1000 + (b * 100)\n",
    "        # 내가 작성한 거 이거 안적었네 \n",
    "    else:\n",
    "        money = c * 100 \n",
    "    if money > res:\n",
    "        res = money \n",
    "print(res)"
   ]
  }
 ],
 "metadata": {
  "kernelspec": {
   "display_name": "Python 3.9.12 ('base')",
   "language": "python",
   "name": "python3"
  },
  "language_info": {
   "codemirror_mode": {
    "name": "ipython",
    "version": 3
   },
   "file_extension": ".py",
   "mimetype": "text/x-python",
   "name": "python",
   "nbconvert_exporter": "python",
   "pygments_lexer": "ipython3",
   "version": "3.9.12"
  },
  "orig_nbformat": 4,
  "vscode": {
   "interpreter": {
    "hash": "4e56095587f6faaee8b6fe269bd4758f04d4dcfca17a97e0204e5c06e32115c1"
   }
  }
 },
 "nbformat": 4,
 "nbformat_minor": 2
}
