{
 "cells": [
  {
   "cell_type": "markdown",
   "metadata": {},
   "source": [
    "### 증가수열 만들기 \n",
    "- 1부터 N까지의 모든 자연수로 구성된 길이 N의 수열이 주어집니다.\n",
    "- 이 수열의 왼쪽 맨 끝 숫자 또는 오른쪽 맨 끝 숫자 중 하나를 가져와 나열하여 가장 긴 증가수열 을 만듭니다. 이때 수열에서 가져온 숫자(왼쪽 맨 끝 또는 오른쪽 맨 끝)는 그 수열에서 제거됩니 다.\n",
    "- 예를 들어 2 4 5 1 3 이 주어지면 만들 수 있는 가장 긴 증가수열의 길이는 4입니다.\n",
    "맨 처음 왼쪽 끝에서 2를 가져오고, 그 다음 오른쪽 끝에서 3을 가져오고, 왼쪽 끝에서 4, 왼쪽끝에서5를가져와 2345증가수열을만들수있습니다.\n",
    "\n",
    "<hr>\n",
    "\n",
    "- 첫째 줄에 자연수 N(3<=N<=100)이 주어집니다. 두 번째 줄에 N개로 구성된 수열이 주어집니다.\n",
    "- 첫째 줄에 최대 증가수열의 길이를 출력합니다.\n",
    "두 번째 줄에 가져간 순서대로 왼쪽 끝에서 가져갔으면 ‘L', 오른쪽 끝에서 가져갔으면 ’R'를 써 간 문자열을 출력합니다.(단 마지막에 남은 값은 왼쪽 끝으로 생각합니다.)\n"
   ]
  },
  {
   "cell_type": "code",
   "execution_count": 4,
   "metadata": {},
   "outputs": [],
   "source": [
    "# 못풀겠음 그냥 바로 참고 진행 \n",
    "n = int(input())\n",
    "a = list(map(int, input().split()))"
   ]
  },
  {
   "cell_type": "code",
   "execution_count": 5,
   "metadata": {},
   "outputs": [],
   "source": [
    "lt = 0 \n",
    "rt = n-1 \n",
    "last = 0 \n",
    "res = \"\"\n",
    "tmp = [] "
   ]
  },
  {
   "cell_type": "code",
   "execution_count": 6,
   "metadata": {},
   "outputs": [
    {
     "name": "stdout",
     "output_type": "stream",
     "text": [
      "3\n",
      "LLR\n"
     ]
    }
   ],
   "source": [
    "while lt <= rt:\n",
    "    if a[lt] > last: \n",
    "        # 왼쪽값이 기준 값보다 크다면 \n",
    "        tmp.append((a[lt], \"L\"))\n",
    "    if a[rt] > last:\n",
    "        tmp.append((a[rt], \"R\"))\n",
    "    tmp.sort() \n",
    "    if len(tmp) == 0:\n",
    "        break \n",
    "    # 임시적으로 넣는 tmp에 아무것도 들어가지 않으면 last보다 큰게 없으므로 반복문 종료 \n",
    "    else:\n",
    "        res=res+tmp[0][1]\n",
    "        last = tmp[0][0]\n",
    "        # 값 갱신 \n",
    "        if tmp[0][1] == \"L\":\n",
    "            lt += 1 \n",
    "        else:\n",
    "            rt -= 1 \n",
    "    tmp.clear()\n",
    "    # 안에 있는 값들을 지워줌 \n",
    "print(len(res))\n",
    "print(res)"
   ]
  },
  {
   "cell_type": "markdown",
   "metadata": {},
   "source": [
    "### 역수열(그리디)\n",
    "- 1부터 n까지의 수를 한 번씩만 사용하여 이루어진 수열이 있을 때, 1부터 n까지 각각의 수 앞 에 놓여 있는 자신보다 큰 수들의 개수를 수열로 표현한 것을 역수열이라 한다.\n",
    "- 첫 번째 줄에 자연수 N(3<=N<100)이 주어지고, 두 번째 줄에는 역수열이 숫자 사이에 한 칸의 공백을두고 주어진다.\n"
   ]
  },
  {
   "cell_type": "code",
   "execution_count": 1,
   "metadata": {},
   "outputs": [],
   "source": [
    "# 모르겠음 \n",
    "N = int(input())\n",
    "M = list(map(int, input().split()))"
   ]
  },
  {
   "cell_type": "code",
   "execution_count": 17,
   "metadata": {},
   "outputs": [
    {
     "data": {
      "text/plain": [
       "[5, 3, 4, 0, 2, 1, 1, 0]"
      ]
     },
     "execution_count": 17,
     "metadata": {},
     "output_type": "execute_result"
    }
   ],
   "source": [
    "M"
   ]
  },
  {
   "cell_type": "code",
   "execution_count": 2,
   "metadata": {},
   "outputs": [
    {
     "name": "stdout",
     "output_type": "stream",
     "text": [
      "[0, 0, 0, 0, 0, 0, 0, 0]\n"
     ]
    }
   ],
   "source": [
    "li = [0] * N\n",
    "print(li)"
   ]
  },
  {
   "cell_type": "code",
   "execution_count": 3,
   "metadata": {},
   "outputs": [],
   "source": [
    "# 앞에 0이 몇개 있는지 count하는 로직 \n",
    "# count한 곳 다음 0이 있는 곳에 값을 넣음 \n",
    "# 위의 과정 반복 "
   ]
  },
  {
   "cell_type": "code",
   "execution_count": 4,
   "metadata": {},
   "outputs": [
    {
     "name": "stdout",
     "output_type": "stream",
     "text": [
      "5\n",
      "3\n",
      "4\n",
      "2\n",
      "1\n",
      "1\n"
     ]
    }
   ],
   "source": [
    "for i in range(N):\n",
    "    cnt = 0 \n",
    "    for j in range(len(li)):\n",
    "        if li[j] == 0:\n",
    "            cnt +=1 \n",
    "        if cnt == M[i]:\n",
    "            if li[j] == 0: \n",
    "# 안되네 "
   ]
  },
  {
   "cell_type": "markdown",
   "metadata": {},
   "source": [
    "### 참고풀이"
   ]
  },
  {
   "cell_type": "code",
   "execution_count": 6,
   "metadata": {},
   "outputs": [
    {
     "name": "stdout",
     "output_type": "stream",
     "text": [
      "4 8 6 2 5 1 3 7 "
     ]
    }
   ],
   "source": [
    "n = int(input())\n",
    "a = list(map(int, input().split()))\n",
    "seq = [0] * n \n",
    "\n",
    "for i in range(n):\n",
    "    for j in range(n):\n",
    "        if a[i] == 0 and seq[j] ==0:\n",
    "        # a[i] == 0이면 자기 앞에 공간은 다 수로 채워져 있다는 뜻\n",
    "        # 앞에 빈공간을 확보하고 0인 공간 \n",
    "            seq[j] = i+1\n",
    "            break \n",
    "        elif seq[j] == 0:\n",
    "            # 빈자리 발견 \n",
    "            a[i] -= 1 \n",
    "            # 값을 빼주면서 if문을 적용할 수 있도록 함 \n",
    "for x in seq:\n",
    "    print(x, end=\" \")\n",
    "# 엄청 쉽게 하네 \n",
    "# 왜 이런 생각을 못하지... "
   ]
  },
  {
   "cell_type": "code",
   "execution_count": null,
   "metadata": {},
   "outputs": [],
   "source": []
  }
 ],
 "metadata": {
  "kernelspec": {
   "display_name": "Python 3.9.1 64-bit ('3.9.1')",
   "language": "python",
   "name": "python3"
  },
  "language_info": {
   "codemirror_mode": {
    "name": "ipython",
    "version": 3
   },
   "file_extension": ".py",
   "mimetype": "text/x-python",
   "name": "python",
   "nbconvert_exporter": "python",
   "pygments_lexer": "ipython3",
   "version": "3.9.1"
  },
  "orig_nbformat": 4,
  "vscode": {
   "interpreter": {
    "hash": "b29909ae39fc17549a84839997d927dda790dc9d9d25402f3e010c02e8c51a82"
   }
  }
 },
 "nbformat": 4,
 "nbformat_minor": 2
}
