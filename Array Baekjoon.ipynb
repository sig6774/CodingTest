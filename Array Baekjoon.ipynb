{
 "cells": [
  {
   "cell_type": "markdown",
   "metadata": {},
   "source": [
    "최소, 최대"
   ]
  },
  {
   "cell_type": "code",
   "execution_count": 8,
   "metadata": {
    "scrolled": true
   },
   "outputs": [
    {
     "name": "stdout",
     "output_type": "stream",
     "text": [
      "3\n",
      "1 3 5\n",
      "최소값 : 1 최대값 : 5\n"
     ]
    }
   ],
   "source": [
    "N = int(input())\n",
    "a = list(map(int, input().split()))\n",
    "print('최소값 : {} 최대값 : {}'.format(min(a), max(a)))"
   ]
  },
  {
   "cell_type": "code",
   "execution_count": 9,
   "metadata": {
    "scrolled": true
   },
   "outputs": [
    {
     "name": "stdout",
     "output_type": "stream",
     "text": [
      "3\n",
      "1 3 5\n",
      "1 5\n"
     ]
    }
   ],
   "source": [
    "N = int(input())\n",
    "a = list(map(int, input().split()))\n",
    "max_num = a[0]\n",
    "min_num = a[0]\n",
    "# 위에 이게 중요(반복문을 돌 때 처음 값과 대치되게 하기 위해)\n",
    "for i in a:\n",
    "    if max_num > i:\n",
    "        max_num = i \n",
    "    elif min_num < i:\n",
    "        min_num = i\n",
    "        \n",
    "print(max_num, min_num)"
   ]
  },
  {
   "cell_type": "markdown",
   "metadata": {},
   "source": [
    "최댓값"
   ]
  },
  {
   "cell_type": "code",
   "execution_count": 35,
   "metadata": {},
   "outputs": [
    {
     "name": "stdout",
     "output_type": "stream",
     "text": [
      "13\n",
      "1\n",
      "2\n",
      "3\n",
      "4\n",
      "5\n",
      "6\n",
      "7\n",
      "8\n",
      "13\n",
      "1\n"
     ]
    }
   ],
   "source": [
    "a = [] \n",
    "for i in range(9):\n",
    "    a.append(int(input()))\n",
    "    \n",
    "print(max(a))\n",
    "print(a.index(max(a))+1)\n",
    "\n",
    "# .index를 통해서 리스트의 고유 인덱스를 불러올 수 있음 "
   ]
  },
  {
   "cell_type": "markdown",
   "metadata": {},
   "source": [
    "숫자의 개수"
   ]
  },
  {
   "cell_type": "code",
   "execution_count": 69,
   "metadata": {},
   "outputs": [
    {
     "name": "stdout",
     "output_type": "stream",
     "text": [
      "150\n",
      "266\n",
      "427\n",
      "3\n",
      "1\n",
      "0\n",
      "2\n",
      "0\n",
      "0\n",
      "0\n",
      "2\n",
      "0\n",
      "0\n"
     ]
    }
   ],
   "source": [
    "A = int(input())\n",
    "B = int(input())\n",
    "C = int(input())\n",
    "D = []\n",
    "D.append(str(A * B * C))\n",
    "\n",
    "Count1 = 0\n",
    "Count2 = 0\n",
    "Count3 = 0\n",
    "Count4 = 0\n",
    "Count5 = 0\n",
    "Count6 = 0\n",
    "Count7 = 0\n",
    "Count8 = 0\n",
    "Count9 = 0\n",
    "Count10 = 0\n",
    "\n",
    "for i in D:\n",
    "    for a in i:\n",
    "        if a == '0':\n",
    "            Count1 += 1\n",
    "        elif a == '1':\n",
    "            Count2 += 1\n",
    "        elif a == '2':\n",
    "            Count3 += 1\n",
    "        elif a == '3':\n",
    "            Count4 += 1\n",
    "        elif a == '4':\n",
    "            Count5 += 1\n",
    "        elif a == \"5\":\n",
    "            Count6 += 1\n",
    "        elif a == '6':\n",
    "            Count7 += 1\n",
    "        elif a == '7':\n",
    "            Count8 += 1\n",
    "        elif a == '8':\n",
    "            Count9 += 1\n",
    "        elif a == '9':\n",
    "            Count10 += 1\n",
    "            \n",
    "print(Count1)\n",
    "print(Count2)\n",
    "print(Count3)\n",
    "print(Count4)\n",
    "print(Count5)\n",
    "print(Count6)\n",
    "print(Count7)\n",
    "print(Count8)\n",
    "print(Count9)\n",
    "print(Count10)\n"
   ]
  },
  {
   "cell_type": "code",
   "execution_count": 70,
   "metadata": {},
   "outputs": [
    {
     "name": "stdout",
     "output_type": "stream",
     "text": [
      "150\n",
      "266\n",
      "427\n",
      "3\n",
      "1\n",
      "0\n",
      "2\n",
      "0\n",
      "0\n",
      "0\n",
      "2\n"
     ]
    }
   ],
   "source": [
    "a = int(input())\n",
    "b = int(input())\n",
    "c = int(input())\n",
    "\n",
    "r = list(str(a * b * c))\n",
    "for i in range(len(r)):\n",
    "    print(r.count(str(i)))\n",
    "    \n",
    "# count함수를 사용하면 쉽게 구할 수 있다....(블로그 참조)"
   ]
  },
  {
   "cell_type": "markdown",
   "metadata": {},
   "source": [
    "나머지"
   ]
  },
  {
   "cell_type": "code",
   "execution_count": 74,
   "metadata": {},
   "outputs": [
    {
     "name": "stdout",
     "output_type": "stream",
     "text": [
      "1\n",
      "2\n",
      "3\n",
      "4\n",
      "5\n",
      "6\n",
      "7\n",
      "8\n",
      "9\n",
      "0\n",
      "10\n"
     ]
    }
   ],
   "source": [
    "a = []\n",
    "for i in range(10):\n",
    "    b = int(input())\n",
    "    a.append(b % 42)\n",
    "\n",
    "c = set(a)\n",
    "print(len(c))\n",
    "        "
   ]
  },
  {
   "cell_type": "code",
   "execution_count": 81,
   "metadata": {},
   "outputs": [
    {
     "name": "stdout",
     "output_type": "stream",
     "text": [
      "3\n",
      "40 80 60\n",
      "75.0\n"
     ]
    }
   ],
   "source": [
    "n = int(input())\n",
    "a = list(map(int, input().split()))\n",
    "\n",
    "c = []\n",
    "for i in a:\n",
    "    c.append(i / max(a) * 100)\n",
    "    \n",
    "print(sum(c) / len(a))"
   ]
  },
  {
   "cell_type": "markdown",
   "metadata": {},
   "source": [
    "OX 퀴즈"
   ]
  },
  {
   "cell_type": "code",
   "execution_count": 86,
   "metadata": {},
   "outputs": [
    {
     "name": "stdout",
     "output_type": "stream",
     "text": [
      "3\n",
      "OOOX \n",
      "6\n",
      "OXOX\n",
      "2\n",
      "XXOO\n",
      "3\n"
     ]
    }
   ],
   "source": [
    "n = int(input())\n",
    "for i in range(n):\n",
    "    a = input()\n",
    "    b = list(a)\n",
    "    s = 0\n",
    "    c = 1\n",
    "    for d in b:\n",
    "        if d == 'O':\n",
    "            s += c\n",
    "            c += 1\n",
    "        else:\n",
    "            c = 1\n",
    "    print(s)\n",
    "\n",
    "# 블로그 참조..."
   ]
  },
  {
   "cell_type": "markdown",
   "metadata": {},
   "source": [
    "평균은 넘겠지"
   ]
  },
  {
   "cell_type": "code",
   "execution_count": 131,
   "metadata": {},
   "outputs": [
    {
     "name": "stdout",
     "output_type": "stream",
     "text": [
      "2 \n",
      "2 30 40 \n",
      "50.000%\n",
      "2 10 30\n",
      "50.000%\n"
     ]
    }
   ],
   "source": [
    "n = int(input())\n",
    "for i in range(n):\n",
    "    num = list(map(int, input().split()))\n",
    "    avg = sum(num[1:]) / num[0]\n",
    "    # 리스트 슬라이싱 \n",
    "    cnt = 0\n",
    "    for s in num[1:]:\n",
    "        if s > avg:\n",
    "            cnt += 1\n",
    "    print(str('%.3f' %round(cnt/num[0] * 100,3)) + '%')\n",
    "    \n",
    "# 블로그 참조 ..."
   ]
  }
 ],
 "metadata": {
  "kernelspec": {
   "display_name": "Python 3",
   "language": "python",
   "name": "python3"
  },
  "language_info": {
   "codemirror_mode": {
    "name": "ipython",
    "version": 3
   },
   "file_extension": ".py",
   "mimetype": "text/x-python",
   "name": "python",
   "nbconvert_exporter": "python",
   "pygments_lexer": "ipython3",
   "version": "3.7.4"
  }
 },
 "nbformat": 4,
 "nbformat_minor": 2
}
