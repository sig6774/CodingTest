{
 "cells": [
  {
   "cell_type": "markdown",
   "metadata": {},
   "source": [
    "### 스토쿠 검사\n",
    "- 스도쿠는 매우 간단한 숫자 퍼즐이다. 9×9 크기의 보드가 있을 때, 각 행과 각 열, 그리고 9 개의 3×3 크기의 보드에 1부터 9까지의 숫자가 중복 없이 나타나도록 보드를 채우면 된다. \n",
    "- 예를 들어 다음을 보자.\n",
    "- 위 그림은 스도쿠를 정확하게 푼 경우이다. 각 행에 1부터 9까지의 숫자가 중복 없이 나오 고, 각 열에 1부터 9까지의 숫자가 중복 없이 나오고, 각 3×3짜리 사각형(9개이며, 위에서 색 깔로 표시되었다)에 1부터 9까지의 숫자가 중복 없이 나오기 때문이다.\n",
    "- 완성된 9×9 크기의 수도쿠가 주어지면 정확하게 풀었으면 “YES\", 잘 못 풀었으면 ”NO\"를 출 력하는 프로그램을 작성하세요.\n",
    "<hr>\n",
    "\n",
    "- 첫 번째 줄에 완성된 9×9 스도쿠가 주어집니다.\n",
    "- 첫째 줄에 “YES\" 또는 ”NO\"를 출력하세요."
   ]
  },
  {
   "cell_type": "code",
   "execution_count": 1,
   "metadata": {},
   "outputs": [],
   "source": [
    "# 3*3의 좌표에 1~9까지의 숫자가 모두 들어갔는지 확인 \n",
    "# 위의 과정을 9번 진행 \n",
    "\n",
    "# 1~9까지의 값이 들어있는 리스트 선언 \n",
    "# 3*3좌표를 탐색하기 위해서는 변수 하나를 줘서 3씩 올라가도록 하고 반복문 진행 \n",
    "# 반복문을 진행하면서 나오는 값이 1~9까지의 값이 들어있는 리스트에 있으면 cnt 진행 \n",
    "# cnt가 9가 되지 않으면 그때 바로 NO출력 \n",
    "# cnt가 9이면 다음 3*3으로 이동"
   ]
  },
  {
   "cell_type": "code",
   "execution_count": 2,
   "metadata": {},
   "outputs": [],
   "source": [
    "a = int(input())\n",
    "li = [list(map(int, input().split())) for _ in range(a)]"
   ]
  },
  {
   "cell_type": "code",
   "execution_count": 3,
   "metadata": {},
   "outputs": [
    {
     "data": {
      "text/plain": [
       "[[1, 4, 3, 6, 2, 8, 5, 7, 9],\n",
       " [5, 7, 2, 1, 3, 9, 4, 6, 8],\n",
       " [9, 8, 6, 7, 5, 4, 2, 3, 1],\n",
       " [3, 9, 1, 5, 4, 2, 7, 8, 6],\n",
       " [4, 6, 8, 9, 1, 7, 3, 5, 2],\n",
       " [7, 2, 5, 8, 6, 3, 9, 1, 4],\n",
       " [2, 3, 7, 4, 8, 1, 6, 9, 5],\n",
       " [6, 1, 9, 2, 7, 5, 8, 4, 3],\n",
       " [8, 5, 4, 3, 9, 6, 1, 2, 7]]"
      ]
     },
     "execution_count": 3,
     "metadata": {},
     "output_type": "execute_result"
    }
   ],
   "source": [
    "li"
   ]
  },
  {
   "cell_type": "code",
   "execution_count": 6,
   "metadata": {},
   "outputs": [
    {
     "name": "stdout",
     "output_type": "stream",
     "text": [
      "[1, 2, 3, 4, 5, 6, 7, 8, 9]\n"
     ]
    }
   ],
   "source": [
    "num = [i for i in range(1,10)]\n",
    "print(num)"
   ]
  },
  {
   "cell_type": "code",
   "execution_count": 8,
   "metadata": {},
   "outputs": [
    {
     "name": "stdout",
     "output_type": "stream",
     "text": [
      "1\n",
      "pass!\n",
      "4\n",
      "pass!\n",
      "3\n",
      "pass!\n",
      "5\n",
      "pass!\n",
      "7\n",
      "pass!\n",
      "2\n",
      "pass!\n",
      "9\n",
      "pass!\n",
      "8\n",
      "pass!\n",
      "6\n",
      "pass!\n"
     ]
    }
   ],
   "source": [
    "n = 0 \n",
    "for i in range(0, n+3):\n",
    "    for j in range(0, n+3):\n",
    "        print(li[i][j])\n",
    "        if li[i][j] in num:\n",
    "            print('pass!')"
   ]
  },
  {
   "cell_type": "code",
   "execution_count": 36,
   "metadata": {},
   "outputs": [
    {
     "name": "stdout",
     "output_type": "stream",
     "text": [
      "[2, 3, 4, 5, 6, 7, 8, 9]\n",
      "0 0\n",
      "[2, 3, 5, 6, 7, 8, 9]\n",
      "0 1\n",
      "[2, 5, 6, 7, 8, 9]\n",
      "0 2\n",
      "[2, 6, 7, 8, 9]\n",
      "1 0\n",
      "[2, 6, 8, 9]\n",
      "1 1\n",
      "[6, 8, 9]\n",
      "1 2\n",
      "[6, 8]\n",
      "2 0\n",
      "[6]\n",
      "2 1\n",
      "[]\n",
      "2 2\n",
      "[1, 2, 3, 4, 6, 7, 8, 9]\n",
      "3 3\n",
      "[1, 2, 3, 6, 7, 8, 9]\n",
      "3 4\n",
      "[1, 3, 6, 7, 8, 9]\n",
      "3 5\n",
      "[1, 3, 6, 7, 8]\n",
      "4 3\n",
      "[3, 6, 7, 8]\n",
      "4 4\n",
      "[3, 6, 8]\n",
      "4 5\n",
      "[3, 6]\n",
      "5 3\n",
      "[3]\n",
      "5 4\n",
      "[]\n",
      "5 5\n",
      "[1, 2, 3, 4, 5, 7, 8, 9]\n",
      "6 6\n",
      "[1, 2, 3, 4, 5, 7, 8]\n",
      "6 7\n",
      "[1, 2, 3, 4, 7, 8]\n",
      "6 8\n",
      "[1, 2, 3, 4, 7]\n",
      "7 6\n",
      "[1, 2, 3, 7]\n",
      "7 7\n",
      "[1, 2, 7]\n",
      "7 8\n",
      "[2, 7]\n",
      "8 6\n",
      "[7]\n",
      "8 7\n",
      "[]\n",
      "8 8\n",
      "YES\n"
     ]
    }
   ],
   "source": [
    "n, m = 0, 3 \n",
    "\n",
    "while True:\n",
    "    cnt = 0\n",
    "    num = [i for i in range(1,10)]\n",
    "\n",
    "    for i in range(n,m):\n",
    "        for j in range(n,m):\n",
    "            if li1[i][j] in num:\n",
    "                num.pop(num.index(li1[i][j]))\n",
    "                print(num)\n",
    "                print(i,j)\n",
    "    # 돌면서 값이 있는지 확인하는 로직 \n",
    "            \n",
    "    if len(num) == 0:\n",
    "        n += 3 \n",
    "        m += 3 \n",
    "    # cnt가 9라면 3씩 더해줌\n",
    "\n",
    "    else:\n",
    "        print(\"NO\")\n",
    "        break \n",
    "    # 9가 아니라면 no출력 \n",
    "    \n",
    "    if n == 9:\n",
    "        print(\"YES\")\n",
    "        break \n",
    "    # n이 9라면 더이상 진행할 필요가 없으므로 break \n",
    "# 맞을려나? "
   ]
  },
  {
   "cell_type": "code",
   "execution_count": 37,
   "metadata": {},
   "outputs": [],
   "source": [
    "def Sudoku(list, n, m):\n",
    "\n",
    "    while True:\n",
    "        cnt = 0\n",
    "        num = [i for i in range(1,10)]\n",
    "\n",
    "        for i in range(n,m):\n",
    "            for j in range(n,m):\n",
    "                if list[i][j] in num:\n",
    "                    num.pop(num.index(list[i][j]))\n",
    "                    print(num)\n",
    "                    print(i,j)\n",
    "        # 돌면서 값이 있는지 확인하는 로직 \n",
    "        # 값이 있으면 그 값을 1~9사이에 값이 있는 리스트에서 뺌 \n",
    "                \n",
    "        if len(num) == 0:\n",
    "            n += 3 \n",
    "            m += 3 \n",
    "        # 만약에 모두 뺐으면 1~9까지 있다는 뜻이라서 3씩 더해줌 \n",
    "\n",
    "        else:\n",
    "            print(\"NO\")\n",
    "            break \n",
    "        # 아니라면 1~9사이의 값이 중복되었기 때문에 no출력\n",
    "\n",
    "        if n == 9:\n",
    "            print(\"YES\")\n",
    "            break \n",
    "        # n이 9라면 더이상 진행할 필요가 없으므로 break "
   ]
  },
  {
   "cell_type": "code",
   "execution_count": null,
   "metadata": {},
   "outputs": [],
   "source": [
    "li = [list(map(int, input().split())) for _ in range(9)]"
   ]
  },
  {
   "cell_type": "code",
   "execution_count": 17,
   "metadata": {},
   "outputs": [
    {
     "data": {
      "text/plain": [
       "[[1, 3, 29, 9, 8, 8, 7, 3, 2],\n",
       " [1, 9, 3, 2, 8, 5, 4, 9, 3],\n",
       " [3, 8, 49, 9, 5, 0, 2, 8, 1],\n",
       " [9, 8, 3, 7, 2, 9, 50, 4, 8],\n",
       " [9, 4, 8, 3, 7, 1, 6, 3, 2],\n",
       " [9, 8, 7, 3, 9, 8, 7, 2, 7],\n",
       " [8, 7, 6, 4, 8, 3, 9, 2, 9],\n",
       " [9, 8, 7, 38, 9, 2, 8, 39, 0],\n",
       " [9, 8, 7, 6, 5, 4, 3, 2, 1]]"
      ]
     },
     "execution_count": 17,
     "metadata": {},
     "output_type": "execute_result"
    }
   ],
   "source": [
    "li\n",
    "# 데이터 "
   ]
  },
  {
   "cell_type": "code",
   "execution_count": 39,
   "metadata": {},
   "outputs": [
    {
     "name": "stdout",
     "output_type": "stream",
     "text": [
      "[2, 3, 4, 5, 6, 7, 8, 9]\n",
      "0 0\n",
      "[2, 4, 5, 6, 7, 8, 9]\n",
      "0 1\n",
      "[2, 4, 5, 6, 7, 8]\n",
      "1 1\n",
      "[2, 4, 5, 6, 7]\n",
      "2 1\n",
      "NO\n"
     ]
    }
   ],
   "source": [
    "n, m = 0, 3 \n",
    "num = [i for i in range(1,10)]\n",
    "Sudoku(li, n, m)"
   ]
  },
  {
   "cell_type": "code",
   "execution_count": 19,
   "metadata": {},
   "outputs": [
    {
     "name": "stdout",
     "output_type": "stream",
     "text": [
      "[[1, 4, 3, 6, 2, 8, 5, 7, 9], [5, 7, 2, 1, 3, 9, 4, 6, 8], [9, 8, 6, 7, 5, 4, 2, 3, 1], [3, 9, 1, 5, 4, 2, 7, 8, 6], [4, 6, 8, 9, 1, 7, 3, 5, 2], [7, 2, 5, 8, 6, 3, 9, 1, 4], [2, 3, 7, 4, 8, 1, 6, 9, 5], [6, 1, 9, 2, 7, 5, 8, 4, 3], [8, 5, 4, 3, 9, 6, 1, 2, 7]]\n"
     ]
    }
   ],
   "source": [
    "li1 = [list(map(int, input().split())) for _ in range(9)]\n",
    "print(li1)"
   ]
  },
  {
   "cell_type": "code",
   "execution_count": 23,
   "metadata": {},
   "outputs": [
    {
     "name": "stdout",
     "output_type": "stream",
     "text": [
      "[1, 4, 3, 6, 2, 8, 5, 7, 9]\n",
      "[5, 7, 2, 1, 3, 9, 4, 6, 8]\n",
      "[9, 8, 6, 7, 5, 4, 2, 3, 1]\n",
      "[3, 9, 1, 5, 4, 2, 7, 8, 6]\n",
      "[4, 6, 8, 9, 1, 7, 3, 5, 2]\n",
      "[7, 2, 5, 8, 6, 3, 9, 1, 4]\n",
      "[2, 3, 7, 4, 8, 1, 6, 9, 5]\n",
      "[6, 1, 9, 2, 7, 5, 8, 4, 3]\n",
      "[8, 5, 4, 3, 9, 6, 1, 2, 7]\n"
     ]
    }
   ],
   "source": [
    "for i in li1:\n",
    "    print(i)"
   ]
  },
  {
   "cell_type": "code",
   "execution_count": 40,
   "metadata": {},
   "outputs": [
    {
     "name": "stdout",
     "output_type": "stream",
     "text": [
      "[2, 3, 4, 5, 6, 7, 8, 9]\n",
      "0 0\n",
      "[2, 3, 5, 6, 7, 8, 9]\n",
      "0 1\n",
      "[2, 5, 6, 7, 8, 9]\n",
      "0 2\n",
      "[2, 6, 7, 8, 9]\n",
      "1 0\n",
      "[2, 6, 8, 9]\n",
      "1 1\n",
      "[6, 8, 9]\n",
      "1 2\n",
      "[6, 8]\n",
      "2 0\n",
      "[6]\n",
      "2 1\n",
      "[]\n",
      "2 2\n",
      "[1, 2, 3, 4, 6, 7, 8, 9]\n",
      "3 3\n",
      "[1, 2, 3, 6, 7, 8, 9]\n",
      "3 4\n",
      "[1, 3, 6, 7, 8, 9]\n",
      "3 5\n",
      "[1, 3, 6, 7, 8]\n",
      "4 3\n",
      "[3, 6, 7, 8]\n",
      "4 4\n",
      "[3, 6, 8]\n",
      "4 5\n",
      "[3, 6]\n",
      "5 3\n",
      "[3]\n",
      "5 4\n",
      "[]\n",
      "5 5\n",
      "[1, 2, 3, 4, 5, 7, 8, 9]\n",
      "6 6\n",
      "[1, 2, 3, 4, 5, 7, 8]\n",
      "6 7\n",
      "[1, 2, 3, 4, 7, 8]\n",
      "6 8\n",
      "[1, 2, 3, 4, 7]\n",
      "7 6\n",
      "[1, 2, 3, 7]\n",
      "7 7\n",
      "[1, 2, 7]\n",
      "7 8\n",
      "[2, 7]\n",
      "8 6\n",
      "[7]\n",
      "8 7\n",
      "[]\n",
      "8 8\n",
      "YES\n"
     ]
    }
   ],
   "source": [
    "n, m = 0, 3 \n",
    "num = [i for i in range(1,10)]\n",
    "Sudoku(li1, n, m)\n",
    "# 테스트해봤는데 되는데 이거 맞는건가...?\n",
    "# 아니네 만약 지워진 값이 있는데 또 들어오면 에러날듯 ㅠㅠ\n",
    "# 나는 블록만 생각했는데 스도쿠는 행,열도 조건을 넣어야함 "
   ]
  },
  {
   "cell_type": "markdown",
   "metadata": {},
   "source": [
    "### 참고풀이"
   ]
  },
  {
   "cell_type": "code",
   "execution_count": 41,
   "metadata": {},
   "outputs": [],
   "source": [
    "# 행, 열, 그룹을 체크할 수 있는 리스트 3개 생성 \n",
    "# 리스트[각 값] = 1로 해서 들어왔는지 체크 \n",
    "# sum(리스트) == 9인지 확인해서 9가 아니면 False 출력 \n",
    "# 중복된 수가 들어오면 체크가 안되기 때문에 찾을 수 있음 "
   ]
  },
  {
   "cell_type": "code",
   "execution_count": 42,
   "metadata": {},
   "outputs": [],
   "source": [
    "def check(a):\n",
    "    for i in range(9):\n",
    "        ch1 = [0] * 10 \n",
    "        # 행체크 list\n",
    "        ch2 = [0] * 10 \n",
    "        # 열체크 list\n",
    "\n",
    "        for j in range(9):\n",
    "            ch1[a[i][j]] = 1 \n",
    "            # 행 탐색하면서 값을 1을 주면서 값을 탐색 \n",
    "            ch2[a[j][i]] = 1 \n",
    "            # 열 탐색하면서 값을 1 주면서 값을 탐색 \n",
    "\n",
    "        if sum(ch1) != 9 or sum(ch2) != 9:\n",
    "            return False \n",
    "    \n",
    "    # 그룹 탐색 \n",
    "    for i in range(3):\n",
    "        for j in range(3):\n",
    "            ch3 = [0] * 10 \n",
    "            for k in range(3): \n",
    "                for s in range(3):\n",
    "                    ch3[a[i*3+k][j*3+s]] = 1 \n",
    "    # 4중 for문으로 블록의 값을 찾을 수 있네 \n",
    "            if sum(ch3) != 9:\n",
    "                return False \n",
    "# 그리고 특정 값 유무를 체크하기 위해서 빈 리스트를 만들어 체크하는거 좋은 아이디어네 \n",
    "    return True"
   ]
  },
  {
   "cell_type": "code",
   "execution_count": 45,
   "metadata": {},
   "outputs": [
    {
     "name": "stdout",
     "output_type": "stream",
     "text": [
      "YES\n"
     ]
    }
   ],
   "source": [
    "if check(li1):\n",
    "    print(\"YES\")\n",
    "else:\n",
    "    print(\"NO\")\n",
    "# 나는 블록만 생각하고 그것을 하나씩 탐색했는데 이러면 안되겠다 \n",
    "# 조금 더 생각하고 효율적으로 진행 \n",
    "# 그리고 빈 리스트 생성해서 체크 유무 확인하는 방법 더 해보기 "
   ]
  }
 ],
 "metadata": {
  "kernelspec": {
   "display_name": "Python 3.9.1 64-bit ('3.9.1')",
   "language": "python",
   "name": "python3"
  },
  "language_info": {
   "codemirror_mode": {
    "name": "ipython",
    "version": 3
   },
   "file_extension": ".py",
   "mimetype": "text/x-python",
   "name": "python",
   "nbconvert_exporter": "python",
   "pygments_lexer": "ipython3",
   "version": "3.9.1"
  },
  "orig_nbformat": 4,
  "vscode": {
   "interpreter": {
    "hash": "b29909ae39fc17549a84839997d927dda790dc9d9d25402f3e010c02e8c51a82"
   }
  }
 },
 "nbformat": 4,
 "nbformat_minor": 2
}
