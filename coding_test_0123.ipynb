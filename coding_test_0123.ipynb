{
  "nbformat": 4,
  "nbformat_minor": 0,
  "metadata": {
    "colab": {
      "name": "coding_test_0123.ipynb",
      "provenance": [],
      "collapsed_sections": [],
      "authorship_tag": "ABX9TyOlSUDvLMqwUl72e8AMjVEG",
      "include_colab_link": true
    },
    "kernelspec": {
      "name": "python3",
      "display_name": "Python 3"
    },
    "language_info": {
      "name": "python"
    }
  },
  "cells": [
    {
      "cell_type": "markdown",
      "metadata": {
        "id": "view-in-github",
        "colab_type": "text"
      },
      "source": [
        "<a href=\"https://colab.research.google.com/github/sig6774/Coding_Test/blob/main/coding_test_0123.ipynb\" target=\"_parent\"><img src=\"https://colab.research.google.com/assets/colab-badge.svg\" alt=\"Open In Colab\"/></a>"
      ]
    },
    {
      "cell_type": "markdown",
      "source": [
        "#### 위에서 아래로 \n",
        "- 하나의 수열에 다양한 수가 존재하며 크기에 상관없이 나열 \n",
        "- 큰 수부터 작은 수의 순서로 정렬 \n",
        "- 내림차순으로 정렬하는 프로그램 만드시오"
      ],
      "metadata": {
        "id": "eDyWST5Q4bin"
      }
    },
    {
      "cell_type": "code",
      "execution_count": 11,
      "metadata": {
        "colab": {
          "base_uri": "https://localhost:8080/"
        },
        "id": "_LIuRr_w4CRP",
        "outputId": "de8277e2-82a6-47fe-9548-7122a53353be"
      },
      "outputs": [
        {
          "name": "stdout",
          "output_type": "stream",
          "text": [
            "5\n",
            "3 \n",
            "15\n",
            "27\n",
            "12\n",
            "8\n"
          ]
        }
      ],
      "source": [
        "n = int(input())\n",
        "\n",
        "array = [] \n",
        "for i in range(n):\n",
        "  array.append(int(input()))"
      ]
    },
    {
      "cell_type": "code",
      "source": [
        "for i in range(len(array)):\n",
        "  min_index = i\n",
        "  for j in range(i+1, len(array)):\n",
        "    if array[min_index] < array[j]:\n",
        "      min_index = j\n",
        "  \n",
        "  array[i], array[min_index] = array[min_index], array[i]\n",
        "print(array)"
      ],
      "metadata": {
        "colab": {
          "base_uri": "https://localhost:8080/"
        },
        "id": "72fdkDMJ4t_S",
        "outputId": "a941aa59-a84e-49c8-e2d6-8a3554ee03cc"
      },
      "execution_count": 15,
      "outputs": [
        {
          "output_type": "stream",
          "name": "stdout",
          "text": [
            "[27, 15, 12, 8, 3]\n"
          ]
        }
      ]
    },
    {
      "cell_type": "code",
      "source": [
        "n = int(input())\n",
        "\n",
        "array = [] \n",
        "for i in range(n):\n",
        "  array.append(int(input()))"
      ],
      "metadata": {
        "colab": {
          "base_uri": "https://localhost:8080/"
        },
        "id": "GFjNxW0D5CR4",
        "outputId": "517fc40c-a91a-4702-d373-16f93de4e19f"
      },
      "execution_count": 16,
      "outputs": [
        {
          "name": "stdout",
          "output_type": "stream",
          "text": [
            "5\n",
            "3\n",
            "15\n",
            "27\n",
            "12\n",
            "8\n"
          ]
        }
      ]
    },
    {
      "cell_type": "code",
      "source": [
        "sort_array = sorted(array, reverse = True)\n",
        "for i in sort_array:\n",
        "  print(i, end = ' ')"
      ],
      "metadata": {
        "colab": {
          "base_uri": "https://localhost:8080/"
        },
        "id": "ztS-X_jl6S07",
        "outputId": "215cbde0-633b-4d4b-c36b-dddb497a17c5"
      },
      "execution_count": 17,
      "outputs": [
        {
          "output_type": "stream",
          "name": "stdout",
          "text": [
            "27 15 12 8 3 "
          ]
        }
      ]
    },
    {
      "cell_type": "markdown",
      "source": [
        "#### 성적이 낮은 순서로 학생 출력 \n",
        "- 학생 정보는 학생의 이름과 학생의 성적으로 구분 \n",
        "- 학생의 이름과 성적 정보가 주어졌을 때 성적이 낮은 순서대로 학생의 이름을 출력하는 프로그램 작성 "
      ],
      "metadata": {
        "id": "DnMh8bby6gmr"
      }
    },
    {
      "cell_type": "code",
      "source": [
        "n = int(input())\n",
        "\n",
        "array = [] \n",
        "for i in range(n):\n",
        "  input_data = input().split()\n",
        "  array.append((input_data[0], int(input_data[1])))"
      ],
      "metadata": {
        "colab": {
          "base_uri": "https://localhost:8080/"
        },
        "id": "BJLdZA6L6dDy",
        "outputId": "be151aac-5898-4d79-a79d-8ea4ae213680"
      },
      "execution_count": 20,
      "outputs": [
        {
          "name": "stdout",
          "output_type": "stream",
          "text": [
            "2\n",
            "홍길동 95\n",
            "이순신 77\n"
          ]
        }
      ]
    },
    {
      "cell_type": "code",
      "source": [
        "array[1]"
      ],
      "metadata": {
        "colab": {
          "base_uri": "https://localhost:8080/"
        },
        "id": "IfFGXRWh7aWs",
        "outputId": "c8ed3c38-155f-4d15-dcf4-11e9a9bb5ec4"
      },
      "execution_count": 25,
      "outputs": [
        {
          "output_type": "execute_result",
          "data": {
            "text/plain": [
              "('이순신', 77)"
            ]
          },
          "metadata": {},
          "execution_count": 25
        }
      ]
    },
    {
      "cell_type": "code",
      "source": [
        "sort_array = sorted(array, key = lambda student : student[1])\n",
        "for i in sort_array:\n",
        "  print(i, end = ' ')"
      ],
      "metadata": {
        "colab": {
          "base_uri": "https://localhost:8080/"
        },
        "id": "qgSGciT07dwX",
        "outputId": "5e325d4e-c2c3-4562-d61a-30f0a601653d"
      },
      "execution_count": 30,
      "outputs": [
        {
          "output_type": "stream",
          "name": "stdout",
          "text": [
            "('이순신', 77) ('홍길동', 95) "
          ]
        }
      ]
    },
    {
      "cell_type": "markdown",
      "source": [
        "#### 두 배열의 원소 교체 \n",
        "- 두개의 배열 A와 B가 있으며 N개의 원소로 구성되어 있다.\n",
        "- 최대 K번의 바꿔치기 연산을 수행할 수 있는데 바꿔치기 연산은 배열 A에 있는 원소 하나와 배열 B에 있는 원소 하나를 골라서 두 원소를 서로 바꾸는 것을 말한다. \n",
        "- 최종 목표는 배열 A의 모든 원소의 합이 최대가 되도록 하는 것이다 "
      ],
      "metadata": {
        "id": "40pRiuJT80ms"
      }
    },
    {
      "cell_type": "code",
      "source": [
        "n, k = map(int, input().split())\n",
        "a = list(map(int, input().split()))\n",
        "b = list(map(int, input().split()))"
      ],
      "metadata": {
        "colab": {
          "base_uri": "https://localhost:8080/"
        },
        "id": "vgXrZTME6_TN",
        "outputId": "edc1d141-2f99-4ccc-e09c-ccf15538b6d5"
      },
      "execution_count": 36,
      "outputs": [
        {
          "name": "stdout",
          "output_type": "stream",
          "text": [
            "5 3\n",
            "1 2 5 4 3\n",
            "5 5 6 6 5\n"
          ]
        }
      ]
    },
    {
      "cell_type": "code",
      "source": [
        "# key : a의 최소값을 b의 최대값이랑 k번 바꿔주면 최대값이 될 듯 \n",
        "a.sort()\n",
        "b.sort(reverse = True)"
      ],
      "metadata": {
        "id": "zUjzH4PC-BKe"
      },
      "execution_count": 37,
      "outputs": []
    },
    {
      "cell_type": "code",
      "source": [
        "print(a)\n",
        "print(b)"
      ],
      "metadata": {
        "colab": {
          "base_uri": "https://localhost:8080/"
        },
        "id": "_3risIRn-HIX",
        "outputId": "aa39433b-e0da-4f6c-97ab-cc6516f61312"
      },
      "execution_count": 38,
      "outputs": [
        {
          "output_type": "stream",
          "name": "stdout",
          "text": [
            "[1, 2, 3, 4, 5]\n",
            "[6, 6, 5, 5, 5]\n"
          ]
        }
      ]
    },
    {
      "cell_type": "code",
      "source": [
        "for i in range(k):\n",
        "  if a[i] < b[i]:\n",
        "    a[i], b[i] = b[i], a[i]\n",
        "  else:\n",
        "    break\n",
        "  \n",
        "print(a)\n",
        "print(b)\n",
        "print(sum(a))"
      ],
      "metadata": {
        "colab": {
          "base_uri": "https://localhost:8080/"
        },
        "id": "qvZSX8IB-H8s",
        "outputId": "9ac18497-e243-4b1a-e886-447614dc8c27"
      },
      "execution_count": 42,
      "outputs": [
        {
          "output_type": "stream",
          "name": "stdout",
          "text": [
            "[6, 6, 5, 4, 5]\n",
            "[1, 2, 3, 5, 5]\n",
            "26\n"
          ]
        }
      ]
    }
  ]
}