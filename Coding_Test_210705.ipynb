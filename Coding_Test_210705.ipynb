{
 "cells": [
  {
   "cell_type": "markdown",
   "metadata": {},
   "source": [
    "### K번째수\n",
    "- 배열 array의 i번째 숫자부터 j번째 숫자까지 자르고 정렬했을 때, k번째에 있는 수를 구하려 합니다.\n",
    "- 예를 들어 array가 [1, 5, 2, 6, 3, 7, 4], i = 2, j = 5, k = 3이라면 array의 2번째부터 5번째까지 자르면 [5, 2, 6, 3]입니다.\n",
    "- 1에서 나온 배열을 정렬하면 [2, 3, 5, 6]입니다.\n",
    "- 2에서 나온 배열의 3번째 숫자는 5입니다.\n",
    "- 배열 array, [i, j, k]를 원소로 가진 2차원 배열 commands가 매개변수로 주어질 때, commands의 모든 원소에 대해 앞서 설명한 연산을 적용했을 때 나온 결과를 배열에 담아 return 하도록 solution 함수를 작성해주세요."
   ]
  },
  {
   "cell_type": "code",
   "execution_count": 1,
   "metadata": {},
   "outputs": [],
   "source": [
    "a = [1, 5, 2, 6, 3, 7, 4]\n",
    "b = [[2, 5, 3], [4, 4, 1], [1, 7 ,3]]\n"
   ]
  },
  {
   "cell_type": "code",
   "execution_count": 33,
   "metadata": {},
   "outputs": [],
   "source": [
    "c = []\n",
    "for i in range(len(b)):\n",
    "    c.append(sorted(a[b[i][0]-1: b[i][1]]))\n"
   ]
  },
  {
   "cell_type": "code",
   "execution_count": 42,
   "metadata": {
    "scrolled": true
   },
   "outputs": [
    {
     "data": {
      "text/plain": [
       "[[2, 3, 5, 6], [6], [1, 2, 3, 4, 5, 6, 7]]"
      ]
     },
     "execution_count": 42,
     "metadata": {},
     "output_type": "execute_result"
    }
   ],
   "source": [
    "c"
   ]
  },
  {
   "cell_type": "code",
   "execution_count": 58,
   "metadata": {},
   "outputs": [],
   "source": [
    "d = []\n",
    "for i in range(len(b)):\n",
    "    d.append(c[i][b[i][2]-1])"
   ]
  },
  {
   "cell_type": "code",
   "execution_count": 59,
   "metadata": {},
   "outputs": [
    {
     "data": {
      "text/plain": [
       "[5, 6, 3]"
      ]
     },
     "execution_count": 59,
     "metadata": {},
     "output_type": "execute_result"
    }
   ],
   "source": [
    "d"
   ]
  },
  {
   "cell_type": "code",
   "execution_count": 60,
   "metadata": {},
   "outputs": [],
   "source": [
    "def solution(array, commands):\n",
    "    c = [] \n",
    "    for i in range(len(commands)):\n",
    "        c.append(sorted(array[commands[i][0]-1 : commands[i][1]]))\n",
    "        \n",
    "    d = []\n",
    "    for i in range(len(commands)):\n",
    "        d.append(c[i][commands[i][2]-1])\n",
    "    return d\n",
    "\n",
    "# 어? 복잡해서 런타임에러 나올줄 알았는데 아니넴... "
   ]
  },
  {
   "cell_type": "code",
   "execution_count": 61,
   "metadata": {},
   "outputs": [],
   "source": [
    "def solution(array, commands):\n",
    "    answer = [] \n",
    "    for command in commands:\n",
    "        i,j,k = command\n",
    "        answer.append(list(sorted(array[i-1:j]))[k-1])\n",
    "    return answer\n",
    "\n",
    "# 다른 사람 풀이, 천재인듯..."
   ]
  },
  {
   "cell_type": "markdown",
   "metadata": {},
   "source": [
    "### 문자열 내 마음대로 정렬하기\n",
    "- 문자열로 구성된 리스트 strings와, 정수 n이 주어졌을 때, 각 문자열의 인덱스 n번째 글자를 기준으로 오름차순 정렬하려 합니다. 예를 들어 strings가 [\"sun\", \"bed\", \"car\"]이고 n이 1이면 각 단어의 인덱스 1의 문자 \"u\", \"e\", \"a\"로 strings를 정렬합니다."
   ]
  },
  {
   "cell_type": "code",
   "execution_count": 62,
   "metadata": {},
   "outputs": [],
   "source": [
    "s = ['sun', 'bed', 'car']\n",
    "n = 1"
   ]
  },
  {
   "cell_type": "code",
   "execution_count": 72,
   "metadata": {
    "scrolled": true
   },
   "outputs": [
    {
     "name": "stdout",
     "output_type": "stream",
     "text": [
      "u\n",
      "e\n",
      "a\n"
     ]
    }
   ],
   "source": [
    "for i in s:\n",
    "    "
   ]
  },
  {
   "cell_type": "code",
   "execution_count": 74,
   "metadata": {},
   "outputs": [
    {
     "name": "stdout",
     "output_type": "stream",
     "text": [
      "['car', 'bed', 'sun']\n"
     ]
    }
   ],
   "source": [
    "print(sorted(s, key = lambda x : x[n]))"
   ]
  },
  {
   "cell_type": "code",
   "execution_count": 79,
   "metadata": {},
   "outputs": [],
   "source": [
    "s1 = [\"abce\", \"abcd\", \"cdx\"]\n",
    "n1 = 2 "
   ]
  },
  {
   "cell_type": "code",
   "execution_count": 80,
   "metadata": {
    "scrolled": false
   },
   "outputs": [
    {
     "name": "stdout",
     "output_type": "stream",
     "text": [
      "['abce', 'abcd', 'cdx']\n"
     ]
    }
   ],
   "source": [
    "print(sorted(s1, key = lambda x : x[n1]))"
   ]
  },
  {
   "cell_type": "code",
   "execution_count": 95,
   "metadata": {},
   "outputs": [
    {
     "name": "stdout",
     "output_type": "stream",
     "text": [
      "['abce', 'abcd', 'cdx']\n"
     ]
    }
   ],
   "source": [
    "a = []\n",
    "b = []\n",
    "for i in range(len(s1)):\n",
    "    a.append(s1[i][n1])\n",
    "if len(set(a)) == len(a):\n",
    "    print(sorted(s, key = lambda x : x[n]))\n",
    "else:\n",
    "    print(sorted(s1, key = lambda x : x[n1]))\n",
    "# 아 모르겟음 ...\n",
    "# 생각이 안남 "
   ]
  },
  {
   "cell_type": "markdown",
   "metadata": {},
   "source": [
    "### 음양 더하기 \n",
    "- 어떤 정수들이 있습니다. 이 정수들의 절댓값을 차례대로 담은 정수 배열 absolutes와 이 정수들의 부호를 차례대로 담은 불리언 배열 signs가 매개변수로 주어집니다. 실제 정수들의 합을 구하여 return 하도록 solution 함수를 완성해주세요."
   ]
  },
  {
   "cell_type": "code",
   "execution_count": 101,
   "metadata": {},
   "outputs": [
    {
     "name": "stdout",
     "output_type": "stream",
     "text": [
      "9\n"
     ]
    }
   ],
   "source": [
    "a1 = [4, 7, 12]\n",
    "s1 = [True, False, True]\n",
    "s = 0\n",
    "for i in range(len(a1)):\n",
    "    if s1[i] == True:\n",
    "        s += a1[i]\n",
    "    else:\n",
    "        s -= a1[i]\n",
    "print(s)\n",
    "    "
   ]
  },
  {
   "cell_type": "code",
   "execution_count": 102,
   "metadata": {},
   "outputs": [],
   "source": [
    "def solution(absolutes, signs):\n",
    "    answer = 0\n",
    "    for i in range(len(absolutes)):\n",
    "        if signs[i] == True:\n",
    "            answer += absolutes[i]\n",
    "        else:\n",
    "            answer -= absolutes[i]\n",
    "    return answer \n",
    "\n",
    "# 증답~ "
   ]
  },
  {
   "cell_type": "code",
   "execution_count": 103,
   "metadata": {},
   "outputs": [],
   "source": [
    "def solution(absolutes, signs):\n",
    "    answer = 0\n",
    "    for absolute. sign in zip(absolutes, signs):\n",
    "        if sign:\n",
    "            answer += absolute\n",
    "        else:\n",
    "            answer -= absolute\n",
    "    return answer\n",
    "\n",
    "# 다른 사람 풀이 \n",
    "# zip을 사용하면 조금 더 간단하게 할 수 있을듯 "
   ]
  }
 ],
 "metadata": {
  "kernelspec": {
   "display_name": "Python 3",
   "language": "python",
   "name": "python3"
  },
  "language_info": {
   "codemirror_mode": {
    "name": "ipython",
    "version": 3
   },
   "file_extension": ".py",
   "mimetype": "text/x-python",
   "name": "python",
   "nbconvert_exporter": "python",
   "pygments_lexer": "ipython3",
   "version": "3.7.4"
  }
 },
 "nbformat": 4,
 "nbformat_minor": 2
}
