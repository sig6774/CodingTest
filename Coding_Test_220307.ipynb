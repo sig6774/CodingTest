{
 "cells": [
  {
   "cell_type": "markdown",
   "metadata": {},
   "source": [
    "### ACM 호텔 \n",
    "- ACM 호텔 매니저 지우는 손님이 도착하는 대로 빈 방을 배정하고 있다. 고객 설문조사에 따르면 손님들은 호텔 정문으로부터 걸어서 가장 짧은 거리에 있는 방을 선호한다고 한다. 여러분은 지우를 도와 줄 프로그램을 작성하고자 한다. 즉 설문조사 결과 대로 호텔 정문으로부터 걷는 거리가 가장 짧도록 방을 배정하는 프로그램을 작성하고자 한다.\n",
    "\n",
    "- 문제를 단순화하기 위해서 호텔은 직사각형 모양이라고 가정하자. 각 층에 W 개의 방이 있는 H 층 건물이라고 가정하자 (1 ≤ H, W ≤ 99). 그리고 엘리베이터는 가장 왼쪽에 있다고 가정하자(그림 1 참고). 이런 형태의 호텔을 H × W 형태 호텔이라고 부른다. 호텔 정문은 일층 엘리베이터 바로 앞에 있는데, 정문에서 엘리베이터까지의 거리는 무시한다. 또 모든 인접한 두 방 사이의 거리는 같은 거리(거리 1)라고 가정하고 호텔의 정면 쪽에만 방이 있다고 가정한다.\n",
    "\n",
    "- 방 번호는 YXX 나 YYXX 형태인데 여기서 Y 나 YY 는 층 수를 나타내고 XX 는 엘리베이터에서부터 세었을 때의 번호를 나타낸다. 즉, 그림 1 에서 빗금으로 표시한 방은 305 호가 된다.\n",
    "\n",
    "- 손님은 엘리베이터를 타고 이동하는 거리는 신경 쓰지 않는다. 다만 걷는 거리가 같을 때에는 아래층의 방을 더 선호한다. 예를 들면 102 호 방보다는 301 호 방을 더 선호하는데, 102 호는 거리 2 만큼 걸어야 하지만 301 호는 거리 1 만큼만 걸으면 되기 때문이다. 같은 이유로 102 호보다 2101 호를 더 선호한다.\n",
    "\n",
    "- 여러분이 작성할 프로그램은 초기에 모든 방이 비어있다고 가정하에 이 정책에 따라 N 번째로 도착한 손님에게 배정될 방 번호를 계산하는 프로그램이다. 첫 번째 손님은 101 호, 두 번째 손님은 201 호 등과 같이 배정한다. 그림 1 의 경우를 예로 들면, H = 6이므로 10 번째 손님은 402 호에 배정해야 한다."
   ]
  },
  {
   "cell_type": "code",
   "execution_count": 30,
   "metadata": {},
   "outputs": [],
   "source": [
    "h, w, c = map(int, input().split())\n",
    "floor = c % h\n",
    "ho = (c // h) + 1"
   ]
  },
  {
   "cell_type": "code",
   "execution_count": 31,
   "metadata": {},
   "outputs": [
    {
     "name": "stdout",
     "output_type": "stream",
     "text": [
      "402\n"
     ]
    }
   ],
   "source": [
    "if ho < 10:\n",
    "    ho = \"0\" + str(ho)\n",
    "else:\n",
    "    ho = str(ho)\n",
    "print(str(floor) + ho)"
   ]
  },
  {
   "cell_type": "code",
   "execution_count": 35,
   "metadata": {},
   "outputs": [
    {
     "name": "stdout",
     "output_type": "stream",
     "text": [
      "2\n"
     ]
    }
   ],
   "source": [
    "# 층과 몇번째인지를 나타내는 변수의 나머지를 구하면 실제 층을 구할 수 있음 \n",
    "# 호수는 층과 몇번째인지를 나타내는 변수의 몫에서 1을 더하면 구할 수 있음 \n",
    "# 수학 문제이므로 규칙을 찾는게 중요 \n",
    "\n",
    "n = int(input())\n",
    "a = []\n",
    "for i in range(n):\n",
    "    h,w,c = map(int, input().split())\n",
    "    floor = c % h \n",
    "    ho = (c // h) + 1 \n",
    "\n",
    "    if ho < 10:\n",
    "        ho = \"0\" + str(ho)\n",
    "    else:\n",
    "        ho = str(ho)\n",
    "    \n",
    "    print(int(str(floor) + ho))\n",
    "# 이거는 c와 h가 배수이면 안되네 ... "
   ]
  },
  {
   "cell_type": "code",
   "execution_count": 39,
   "metadata": {},
   "outputs": [
    {
     "name": "stdout",
     "output_type": "stream",
     "text": [
      "601\n"
     ]
    }
   ],
   "source": [
    "n = int(input())\n",
    "a = []\n",
    "for i in range(n):\n",
    "    h,w,c = map(int, input().split())\n",
    "    if c % h == 0:\n",
    "\n",
    "        floor = h\n",
    "        ho = c // h\n",
    "    else:\n",
    "        floor = c % h\n",
    "        ho = (c // h) + 1 \n",
    "\n",
    "    if ho < 10:\n",
    "        ho = \"0\" + str(ho)\n",
    "    else:\n",
    "        ho = str(ho)\n",
    "    \n",
    "    print(int(str(floor) + ho))\n",
    "# 배수일때 조건 추가 \n",
    "# 정답~~~"
   ]
  },
  {
   "cell_type": "code",
   "execution_count": 41,
   "metadata": {},
   "outputs": [
    {
     "name": "stdout",
     "output_type": "stream",
     "text": [
      "402\n"
     ]
    }
   ],
   "source": [
    "# 다른 사람 풀이 \n",
    "\n",
    "t = int(input())\n",
    "\n",
    "for i in range(t):\n",
    "    h, w, n = map(int, input().split())\n",
    "    num = n//h + 1\n",
    "    floor = n % h\n",
    "    if n % h == 0:  # h의 배수이면,\n",
    "        num = n//h\n",
    "        floor = h\n",
    "    print(f'{floor*100+num}')\n",
    "    # 이게 포인트 \n",
    "    # 나는 문자열로 바꿔 0을 추가했는데 floor에 100을 곱해서 더하기 연산을 수행하여 표현 \n",
    "    # 이게 더 효율적이네 \n",
    "\n",
    "# 엄청 간단하네"
   ]
  },
  {
   "cell_type": "markdown",
   "metadata": {},
   "source": [
    "### 팩토리얼 \n",
    "- 0보다 크거나 같은 정수 N이 주어진다. 이때, N!을 출력하는 프로그램을 작성하시오.\n",
    "\n"
   ]
  },
  {
   "cell_type": "code",
   "execution_count": 104,
   "metadata": {},
   "outputs": [],
   "source": [
    "N = int(input())"
   ]
  },
  {
   "cell_type": "code",
   "execution_count": 99,
   "metadata": {},
   "outputs": [],
   "source": [
    "def facto(N):\n",
    "\n",
    "    if N == 0 or N == 1:\n",
    "        return 1\n",
    "    else:\n",
    "        return N * facto(N-1)\n",
    "# 이거 왜 자꾸 틀렸다고 하지?...\n",
    "# 더해지는 변수를 지정안해서 그런가 아니면 0초과 조건을 안걸어서 그런가 "
   ]
  },
  {
   "cell_type": "code",
   "execution_count": 98,
   "metadata": {},
   "outputs": [
    {
     "data": {
      "text/plain": [
       "6227020800"
      ]
     },
     "execution_count": 98,
     "metadata": {},
     "output_type": "execute_result"
    }
   ],
   "source": [
    "facto(N)"
   ]
  },
  {
   "cell_type": "code",
   "execution_count": 100,
   "metadata": {},
   "outputs": [],
   "source": [
    "def facto1(N):\n",
    "    if 2 <= N <= 12:\n",
    "        return N * facto1(N-1)\n",
    "    else:\n",
    "        return 1\n",
    "# 이것도 안되네 \n",
    "# 0초과 조건 걸어도 틀림"
   ]
  },
  {
   "cell_type": "code",
   "execution_count": 105,
   "metadata": {},
   "outputs": [
    {
     "data": {
      "text/plain": [
       "1"
      ]
     },
     "execution_count": 105,
     "metadata": {},
     "output_type": "execute_result"
    }
   ],
   "source": [
    "facto1(N)"
   ]
  },
  {
   "cell_type": "code",
   "execution_count": null,
   "metadata": {},
   "outputs": [],
   "source": [
    "# 다른 사람 풀이 \n",
    "\n",
    "def factorial(n):\n",
    "    result = 1\n",
    "    if n > 0 :\n",
    "        result = n * factorial(n-1)\n",
    "    return result\n",
    "\n",
    "n = int(input())\n",
    "print(factorial(n))\n",
    "# result를 넣어서 결과값을 저장할 수 있는 변수를 만들어줘야하는건가?"
   ]
  },
  {
   "cell_type": "markdown",
   "metadata": {},
   "source": [
    "### 피보나치 수 \n",
    "- 피보나치 수는 0과 1로 시작한다. 0번째 피보나치 수는 0이고, 1번째 피보나치 수는 1이다. 그 다음 2번째 부터는 바로 앞 두 피보나치 수의 합이 된다.\n",
    "\n",
    "- 이를 식으로 써보면 Fn = Fn-1 + Fn-2 (n ≥ 2)가 된다.\n",
    "\n",
    "- n=17일때 까지 피보나치 수를 써보면 다음과 같다.\n",
    "\n",
    "- 0, 1, 1, 2, 3, 5, 8, 13, 21, 34, 55, 89, 144, 233, 377, 610, 987, 1597\n",
    "\n",
    "- n이 주어졌을 때, n번째 피보나치 수를 구하는 프로그램을 작성하시오."
   ]
  },
  {
   "cell_type": "code",
   "execution_count": 118,
   "metadata": {},
   "outputs": [],
   "source": [
    "def fibo(n):\n",
    "    result = 0 \n",
    "    if n <= 0:\n",
    "        return 0 \n",
    "    elif n == 1:\n",
    "        return 1 \n",
    "    else:\n",
    "        result = fibo(n-1) + fibo(n-2)\n",
    "        return result"
   ]
  },
  {
   "cell_type": "code",
   "execution_count": 124,
   "metadata": {},
   "outputs": [
    {
     "data": {
      "text/plain": [
       "55"
      ]
     },
     "execution_count": 124,
     "metadata": {},
     "output_type": "execute_result"
    }
   ],
   "source": [
    "n = int(input())\n",
    "fibo(n)"
   ]
  },
  {
   "cell_type": "code",
   "execution_count": 123,
   "metadata": {},
   "outputs": [
    {
     "name": "stdout",
     "output_type": "stream",
     "text": [
      "55\n"
     ]
    }
   ],
   "source": [
    "# 다른 사람 풀이 \n",
    "def fibonacci(num):\n",
    "    if num<=1:\n",
    "        return num\n",
    "    return fibonacci(num-1)+fibonacci(num-2)\n",
    "\n",
    "n=int(input())\n",
    "print(fibonacci(n))\n",
    "# 코드가 더 간결함 "
   ]
  },
  {
   "cell_type": "markdown",
   "metadata": {},
   "source": [
    "### 직각삼각형 \n",
    "- 과거 이집트인들은 각 변들의 길이가 3, 4, 5인 삼각형이 직각 삼각형인것을 알아냈다. 주어진 세변의 길이로 삼각형이 직각인지 아닌지 구분하시오.\n",
    "- 입력은 여러개의 테스트케이스로 주어지며 마지막줄에는 0 0 0이 입력된다. 각 테스트케이스는 모두 30,000보다 작은 양의 정수로 주어지며, 각 입력은 변의 길이를 의미한다.\n",
    "\n"
   ]
  },
  {
   "cell_type": "code",
   "execution_count": 160,
   "metadata": {},
   "outputs": [],
   "source": [
    "def pytha_theorem(a, b, c):\n",
    "\n",
    "    if a > 0 & ((a**2) + (b ** 2) == (c**2)):\n",
    "        return \"right\"\n",
    "    elif a == 0:\n",
    "        return \n",
    "    else:\n",
    "        return \"wrong\""
   ]
  },
  {
   "cell_type": "code",
   "execution_count": 161,
   "metadata": {},
   "outputs": [
    {
     "name": "stdout",
     "output_type": "stream",
     "text": [
      "right\n",
      "right\n",
      "None\n"
     ]
    }
   ],
   "source": [
    "for i in range(4):\n",
    "    c, d, e = map(int, input().split())\n",
    "    print(pytha_theorem(c,d,e))\n",
    "# while 써보자 "
   ]
  },
  {
   "cell_type": "code",
   "execution_count": 153,
   "metadata": {},
   "outputs": [
    {
     "data": {
      "text/plain": [
       "'right'"
      ]
     },
     "execution_count": 153,
     "metadata": {},
     "output_type": "execute_result"
    }
   ],
   "source": [
    "c, d, e = map(int, input().split())\n",
    "pytha_theorem(c,d,e)"
   ]
  },
  {
   "cell_type": "code",
   "execution_count": 170,
   "metadata": {},
   "outputs": [
    {
     "name": "stdout",
     "output_type": "stream",
     "text": [
      "right\n",
      "wrong\n",
      "right\n"
     ]
    }
   ],
   "source": [
    "import math \n",
    "while True:\n",
    "    a, b, c = map(int, input().split())\n",
    "\n",
    "    if math.pow(a,2) > 0 and math.pow(a,2) + math.pow(b,2) == math.pow(c,2):\n",
    "        print(\"right\")\n",
    "    elif a == 0:\n",
    "        break \n",
    "    else:\n",
    "        print(\"wrong\")\n",
    "# 틀렸다고 나오네... 왜? \n"
   ]
  },
  {
   "cell_type": "code",
   "execution_count": 171,
   "metadata": {},
   "outputs": [
    {
     "name": "stdout",
     "output_type": "stream",
     "text": [
      "right\n",
      "wrong\n",
      "right\n"
     ]
    }
   ],
   "source": [
    "while True:\n",
    "    a, b, c = map(int, input().split())\n",
    "\n",
    "    if a > 0 and ((a**2) + (b ** 2)) == (c**2):\n",
    "        print(\"right\")\n",
    "    elif a == 0:\n",
    "        break \n",
    "    else:\n",
    "        print(\"wrong\")\n"
   ]
  },
  {
   "cell_type": "code",
   "execution_count": null,
   "metadata": {},
   "outputs": [],
   "source": [
    "# 다른 사람 풀이 \n",
    "while True :\n",
    "    nums = list(map(int, input().split()))\n",
    "    if sum(nums) == 0:\n",
    "        break  # 세 수가 0이면 break\n",
    "    max_num = max(nums)\n",
    "    nums.remove(max_num)  # 빗변의 길이는 직각삼각형 세변의 길이중 가장 길다.\n",
    "    if nums[0]**2 + nums[1]**2 == max_num**2:\n",
    "        print('right')\n",
    "    else:\n",
    "        print('wrong')\n",
    "# 빗변이 최대 길이임으로 최대 길이를 정해줘야 하는구나 "
   ]
  }
 ],
 "metadata": {
  "interpreter": {
   "hash": "baa2e52980430d335b97b133b9bdc90c6ba1b985616caf224317f930da22a067"
  },
  "kernelspec": {
   "display_name": "Python 3.7.4 ('base')",
   "language": "python",
   "name": "python3"
  },
  "language_info": {
   "codemirror_mode": {
    "name": "ipython",
    "version": 3
   },
   "file_extension": ".py",
   "mimetype": "text/x-python",
   "name": "python",
   "nbconvert_exporter": "python",
   "pygments_lexer": "ipython3",
   "version": "3.7.4"
  },
  "orig_nbformat": 4
 },
 "nbformat": 4,
 "nbformat_minor": 2
}
