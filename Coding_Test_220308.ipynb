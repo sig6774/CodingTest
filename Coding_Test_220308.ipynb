{
 "cells": [
  {
   "cell_type": "markdown",
   "metadata": {},
   "source": [
    "### 네 번째 점 \n",
    "- 세 점이 주어졌을 때, 축에 평행한 직사각형을 만들기 위해서 필요한 네 번째 점을 찾는 프로그램을 작성하시오.\n",
    "\n",
    "- 세 점의 좌표가 한 줄에 하나씩 주어진다. 좌표는 1보다 크거나 같고, 1000보다 작거나 같은 정수이다.\n",
    "\n"
   ]
  },
  {
   "cell_type": "code",
   "execution_count": null,
   "metadata": {},
   "outputs": [],
   "source": [
    "# 세로, 가로 길이의 min, max를 구해 직사각형의 특성인 점이 4개 있는 것을 활용하여 입력에 없는 값을 출력 "
   ]
  },
  {
   "cell_type": "code",
   "execution_count": 15,
   "metadata": {},
   "outputs": [],
   "source": [
    "n = 3 \n",
    "w1 = [] \n",
    "l1 = []\n",
    "for i in range(n):\n",
    "    w,l = map(int, input().split())\n",
    "    w1.append(w)\n",
    "    l1.append(l)\n"
   ]
  },
  {
   "cell_type": "code",
   "execution_count": 17,
   "metadata": {},
   "outputs": [
    {
     "name": "stdout",
     "output_type": "stream",
     "text": [
      "30 10 "
     ]
    }
   ],
   "source": [
    "cnt = 0 \n",
    "cnt1 = 0\n",
    "cnt2 = 0\n",
    "cnt3 = 0\n",
    "\n",
    "for i in l1:\n",
    "    if min(l1) == i:\n",
    "        cnt+= 1\n",
    "    else:\n",
    "        cnt1 += 1\n",
    "for i in w1:\n",
    "    if min(w1) == i:\n",
    "        cnt2 += 1\n",
    "    else:\n",
    "        cnt3 += 1\n",
    "\n",
    "if cnt > cnt1:\n",
    "    d = max(l1)\n",
    "    \n",
    "else:\n",
    "    d = min(l1)\n",
    "\n",
    "if cnt2 > cnt3:\n",
    "    e = max(w1)\n",
    "else:\n",
    "    e = min(w1)\n",
    "\n",
    "print(e,d, end = \" \")\n",
    "# 정답은 정답인데 너무 복잡 \n",
    "\n"
   ]
  },
  {
   "cell_type": "code",
   "execution_count": 18,
   "metadata": {},
   "outputs": [
    {
     "name": "stdout",
     "output_type": "stream",
     "text": [
      "30 10\n"
     ]
    }
   ],
   "source": [
    "# 다른 사람 풀이 \n",
    "x_ = []\n",
    "y_ = []\n",
    "for i in range(3):\n",
    "        x, y = map(int, input().split())\n",
    "        x_.append(x)\n",
    "        y_.append(y)\n",
    "for i in range(3):\n",
    "        if x_.count(x_[i]) == 1:\n",
    "                x = x_[i]\n",
    "        if y_.count(y_[i]) == 1:\n",
    "                y = y_[i]\n",
    "print(x, y)\n",
    "# 엄청 간단하네 \n",
    "# count함수를 활용하여 개수가 1인부분에 대해서 추출해서 그것을 더함 "
   ]
  },
  {
   "cell_type": "markdown",
   "metadata": {},
   "source": [
    "### 소인수 분해 \n",
    "- 정수 N이 주어졌을 때, 소인수분해하는 프로그램을 작성하시오.\n",
    "\n",
    "- 첫째 줄에 정수 N (1 ≤ N ≤ 10,000,000)이 주어진다.\n",
    "\n",
    "- N의 소인수분해 결과를 한 줄에 하나씩 오름차순으로 출력한다. N이 1인 경우 아무것도 출력하지 않는다.\n",
    "\n"
   ]
  },
  {
   "cell_type": "code",
   "execution_count": 19,
   "metadata": {},
   "outputs": [],
   "source": [
    "# 1씩 증가하는 값을 사용하여 해당 값이 나눠지면 그 값을 출력\n",
    "# 위의 과정을 반복하여 값이 1이 되면 종료 "
   ]
  },
  {
   "cell_type": "code",
   "execution_count": 30,
   "metadata": {},
   "outputs": [],
   "source": [
    "N = int(input())"
   ]
  },
  {
   "cell_type": "code",
   "execution_count": 31,
   "metadata": {},
   "outputs": [
    {
     "name": "stdout",
     "output_type": "stream",
     "text": [
      "3\n",
      "5\n",
      "18919\n"
     ]
    }
   ],
   "source": [
    "cnt = 2 \n",
    "while True:\n",
    "    if N % cnt == 0:\n",
    "        print(cnt)\n",
    "        N //= cnt \n",
    "    else:\n",
    "        cnt += 1 \n",
    "    \n",
    "    if N == 1:\n",
    "        break "
   ]
  },
  {
   "cell_type": "code",
   "execution_count": 32,
   "metadata": {},
   "outputs": [
    {
     "name": "stdout",
     "output_type": "stream",
     "text": [
      "2\n",
      "3\n",
      "5\n"
     ]
    }
   ],
   "source": [
    "# 다른 사람 풀이 \n",
    "import math \n",
    "num = int(input())\n",
    "\n",
    "while num != 1:\n",
    "    for i in range(2, num+1):\n",
    "        if num %i == 0:\n",
    "            print(i)\n",
    "            num = num // i\n",
    "            break "
   ]
  },
  {
   "cell_type": "markdown",
   "metadata": {},
   "source": [
    "### 소수 \n",
    "- 자연수 M과 N이 주어질 때 M이상 N이하의 자연수 중 소수인 것을 모두 골라 이들 소수의 합과 최솟값을 찾는 프로그램을 작성하시오.\n",
    "\n",
    "- 예를 들어 M=60, N=100인 경우 60이상 100이하의 자연수 중 소수는 61, 67, 71, 73, 79, 83, 89, 97 총 8개가 있으므로, 이들 소수의 합은 620이고, 최솟값은 61이 된다.\n",
    "\n",
    "- 입력의 첫째 줄에 M이, 둘째 줄에 N이 주어진다.M과 N은 10,000이하의 자연수이며, M은 N보다 작거나 같다."
   ]
  },
  {
   "cell_type": "code",
   "execution_count": 33,
   "metadata": {},
   "outputs": [],
   "source": [
    "# 각 값을 1을 제외하고 나눠지는것이 존재하면 패스하고 나눠지는게 없으면 리스트에 저장 후 최소값과 더한 값 출력 "
   ]
  },
  {
   "cell_type": "code",
   "execution_count": 55,
   "metadata": {},
   "outputs": [],
   "source": [
    "min_num = int(input())\n",
    "max_num = int(input())"
   ]
  },
  {
   "cell_type": "code",
   "execution_count": 57,
   "metadata": {},
   "outputs": [
    {
     "name": "stdout",
     "output_type": "stream",
     "text": [
      "-1\n"
     ]
    }
   ],
   "source": [
    "not_prime = []\n",
    "for i in range(min_num, max_num + 1):\n",
    "    for j in range(2,i):\n",
    "        if i % j == 0:\n",
    "            not_prime.append(i)\n",
    "\n",
    "prime_num = []\n",
    "for i in range(min_num, max_num):\n",
    "    if i not in set(not_prime):\n",
    "        prime_num.append(i)\n",
    "\n",
    "if len(prime_num) != 0:\n",
    "    print(sum(prime_num))\n",
    "    print(min(prime_num))\n",
    "else:\n",
    "    print(-1)\n",
    "\n",
    "# 소수가 아닌것들을 구해서 실제 값에서 빼면 소수를 구할 수 있을 것?\n",
    "# 시간초과 \n",
    "# 안되네... 왜 안되는거지?"
   ]
  },
  {
   "cell_type": "code",
   "execution_count": 56,
   "metadata": {},
   "outputs": [
    {
     "name": "stdout",
     "output_type": "stream",
     "text": [
      "-1\n"
     ]
    }
   ],
   "source": [
    "not_prime = []\n",
    "prime_num = []\n",
    "for i in range(min_num, max_num + 1):\n",
    "    for j in range(2,i):\n",
    "        if i % j == 0:\n",
    "            not_prime.append(i)\n",
    "    if i not in set(not_prime):\n",
    "        prime_num.append(i)\n",
    "\n",
    "if len(prime_num) != 0:\n",
    "    print(sum(prime_num))\n",
    "    print(min(prime_num))\n",
    "else:\n",
    "    print(-1)\n",
    "\n",
    "# 소수가 아닌것들을 구해서 실제 값에서 빼면 소수를 구할 수 있을 것?\n",
    "# 안되네... 왜 안되는거지?"
   ]
  },
  {
   "cell_type": "code",
   "execution_count": null,
   "metadata": {},
   "outputs": [],
   "source": [
    "# 도저히 시간초과를 줄일 수 없어서 다른 사람 풀이 참고 \n",
    "\n",
    "# 리스트를 하나만 만들었고 중첩 for문 한번만 사용했음 \n",
    "# 그리고 break를 사용하여 의미없는 연산을 진행하지 않도록 진행 \n",
    "# 나랑 다른점 : 나는 for문을 여러개 사용했고 break를 사용하지 않았으며 error횟수를 생각하지 못함 \n",
    "\n",
    "start_num = int(input())\n",
    "last_num = int(input())\n",
    "\n",
    "sosu_list = []\n",
    "for num in range(start_num, last_num+1):\n",
    "    error = 0\n",
    "    if num > 1 :\n",
    "        for i in range(2, num):  \n",
    "            if num % i == 0:\n",
    "                error += 1\n",
    "                break  \n",
    "        if error == 0:\n",
    "            sosu_list.append(num)  \n",
    "            \n",
    "if len(sosu_list) > 0 :\n",
    "    print(sum(sosu_list))\n",
    "    print(min(sosu_list))\n",
    "else:\n",
    "    print(-1)\n",
    "\n"
   ]
  }
 ],
 "metadata": {
  "interpreter": {
   "hash": "baa2e52980430d335b97b133b9bdc90c6ba1b985616caf224317f930da22a067"
  },
  "kernelspec": {
   "display_name": "Python 3.7.4 ('base')",
   "language": "python",
   "name": "python3"
  },
  "language_info": {
   "codemirror_mode": {
    "name": "ipython",
    "version": 3
   },
   "file_extension": ".py",
   "mimetype": "text/x-python",
   "name": "python",
   "nbconvert_exporter": "python",
   "pygments_lexer": "ipython3",
   "version": "3.7.4"
  },
  "orig_nbformat": 4
 },
 "nbformat": 4,
 "nbformat_minor": 2
}
