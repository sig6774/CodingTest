{
 "cells": [
  {
   "cell_type": "markdown",
   "metadata": {},
   "source": [
    "### 더하기 사이클 \n",
    "- 0보다 크거나 같고, 99보다 작거나 같은 정수가 주어질 때 다음과 같은 연산을 할 수 있다. 먼저 주어진 수가 10보다 작다면 앞에 0을 붙여 두 자리 수로 만들고, 각 자리의 숫자를 더한다. 그 다음, 주어진 수의 가장 오른쪽 자리 수와 앞에서 구한 합의 가장 오른쪽 자리 수를 이어 붙이면 새로운 수를 만들 수 있다. 다음 예를 보자.\n",
    "\n",
    "- 26부터 시작한다. 2+6 = 8이다. 새로운 수는 68이다. 6+8 = 14이다. 새로운 수는 84이다. 8+4 = 12이다. 새로운 수는 42이다. 4+2 = 6이다. 새로운 수는 26이다.\n",
    "\n",
    "- 위의 예는 4번만에 원래 수로 돌아올 수 있다. 따라서 26의 사이클의 길이는 4이다.\n",
    "\n",
    "- N이 주어졌을 때, N의 사이클의 길이를 구하는 프로그램을 작성하시오."
   ]
  },
  {
   "cell_type": "code",
   "execution_count": null,
   "metadata": {},
   "outputs": [],
   "source": [
    "'''\n",
    "1. 입력받은 숫자를 나누기 \n",
    "2. 나눠진 숫자를 합한 값과 나눈 숫자의 오른쪽 숫자 추출 \n",
    "3. 나눈 숫자의 오른쪽 숫자를 새로운 수의 첫째 자리, 합한 값의 두번째 자리를 새로운 수의 두번째 자리 \n",
    "4. 위의 과정을 반복 \n",
    "5. 원래의 숫자로 돌아오는 것에 대한 숫자 카운트 \n",
    "'''"
   ]
  },
  {
   "cell_type": "code",
   "execution_count": 5,
   "metadata": {},
   "outputs": [],
   "source": [
    "a = int(input())"
   ]
  },
  {
   "cell_type": "code",
   "execution_count": 2,
   "metadata": {},
   "outputs": [],
   "source": [
    "new = str(a)\n",
    "t = int(new[0]) + int(new[1])\n",
    "new_t = new[1] + str(t)[0]"
   ]
  },
  {
   "cell_type": "code",
   "execution_count": 3,
   "metadata": {},
   "outputs": [
    {
     "name": "stdout",
     "output_type": "stream",
     "text": [
      "8\n",
      "68\n"
     ]
    }
   ],
   "source": [
    "print(t)\n",
    "print(new_t)"
   ]
  },
  {
   "cell_type": "code",
   "execution_count": 88,
   "metadata": {},
   "outputs": [],
   "source": [
    "a = int(input())"
   ]
  },
  {
   "cell_type": "code",
   "execution_count": 89,
   "metadata": {},
   "outputs": [
    {
     "name": "stdout",
     "output_type": "stream",
     "text": [
      "12\n"
     ]
    }
   ],
   "source": [
    "new = str(a)\n",
    "cnt = 0\n",
    "while True:\n",
    "    if int(new) < 10:\n",
    "        new = \"0\" + str(new)\n",
    "        # 만약 값이 10미만이면 0을 붙여줌 \n",
    "    t = int(new[0]) + int(new[1])\n",
    "    # 숫자를 나눈 것을 합침 \n",
    "\n",
    "\n",
    "    new = new[-1] + str(t)[-1]\n",
    "    # 합친 값과 과거 값의 두번째짜리 추출 \n",
    "    cnt += 1\n",
    "    \n",
    "    if int(new) == a:\n",
    "        break \n",
    "\n",
    "print(cnt)\n",
    "# 런타임에러(시간초과)\n",
    "# 1~9에서 안되네\n",
    "# 조금 더 공부해야겠다..."
   ]
  },
  {
   "cell_type": "code",
   "execution_count": 90,
   "metadata": {},
   "outputs": [
    {
     "name": "stdout",
     "output_type": "stream",
     "text": [
      "60\n"
     ]
    }
   ],
   "source": [
    "# 시간 초과를 해결할 수 없어 다른 사람 풀이 참조  \n",
    "n = int(input())\n",
    "num = n \n",
    "cnt = 0\n",
    "\n",
    "while True:\n",
    "    a = num // 10 \n",
    "    b = num % 10 \n",
    "    # 천재네? 몫이랑 나머지를 활용할 생각을 하네... \n",
    "\n",
    "    c = (a + b) % 10 \n",
    "    num = (b*10) + c\n",
    "\n",
    "    cnt += 1 \n",
    "    if num == n:\n",
    "        break \n",
    "print(cnt)"
   ]
  },
  {
   "cell_type": "markdown",
   "metadata": {},
   "source": [
    "### ??! \n",
    "- 준하는 사이트에 회원가입을 하다가 joonas라는 아이디가 이미 존재하는 것을 보고 놀랐다. 준하는 놀람을 ??!로 표현한다. 준하가 가입하려고 하는 사이트에 이미 존재하는 아이디가 주어졌을 때, 놀람을 표현하는 프로그램을 작성하시오."
   ]
  },
  {
   "cell_type": "code",
   "execution_count": 92,
   "metadata": {},
   "outputs": [
    {
     "name": "stdout",
     "output_type": "stream",
     "text": [
      "dfe??!\n"
     ]
    }
   ],
   "source": [
    "st = input()\n",
    "print(st + \"??!\")"
   ]
  },
  {
   "cell_type": "markdown",
   "metadata": {},
   "source": [
    "### 고양이"
   ]
  },
  {
   "cell_type": "code",
   "execution_count": 93,
   "metadata": {},
   "outputs": [
    {
     "name": "stdout",
     "output_type": "stream",
     "text": [
      "\\    /\\\n",
      " )  ( ')\n",
      "(  /  )\n",
      " \\(__)|\n"
     ]
    }
   ],
   "source": [
    "print(\"\\\\    /\\\\\")\n",
    "print(\" )  ( ')\")\n",
    "print(\"(  /  )\")\n",
    "print(\" \\\\(__)|\")"
   ]
  },
  {
   "cell_type": "code",
   "execution_count": null,
   "metadata": {},
   "outputs": [],
   "source": []
  },
  {
   "cell_type": "markdown",
   "metadata": {},
   "source": [
    "### 개"
   ]
  },
  {
   "cell_type": "code",
   "execution_count": null,
   "metadata": {},
   "outputs": [],
   "source": [
    "print(\"|\\_/|\")\n",
    "print(\"|q p|   /}\")\n",
    "print('( 0 )\"\"\"\\\\') \n",
    "print('|\"^\"`    |')\n",
    "print(\"||_/=\\\\\\__|\") "
   ]
  }
 ],
 "metadata": {
  "interpreter": {
   "hash": "baa2e52980430d335b97b133b9bdc90c6ba1b985616caf224317f930da22a067"
  },
  "kernelspec": {
   "display_name": "Python 3.7.4 ('base')",
   "language": "python",
   "name": "python3"
  },
  "language_info": {
   "codemirror_mode": {
    "name": "ipython",
    "version": 3
   },
   "file_extension": ".py",
   "mimetype": "text/x-python",
   "name": "python",
   "nbconvert_exporter": "python",
   "pygments_lexer": "ipython3",
   "version": "3.7.4"
  },
  "orig_nbformat": 4
 },
 "nbformat": 4,
 "nbformat_minor": 2
}
