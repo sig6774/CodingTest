{
  "nbformat": 4,
  "nbformat_minor": 0,
  "metadata": {
    "colab": {
      "name": "Search Algorithm(DFS).ipynb",
      "provenance": [],
      "collapsed_sections": [],
      "authorship_tag": "ABX9TyObviqj0kSYk5jojgauqO/i",
      "include_colab_link": true
    },
    "kernelspec": {
      "name": "python3",
      "display_name": "Python 3"
    },
    "language_info": {
      "name": "python"
    }
  },
  "cells": [
    {
      "cell_type": "markdown",
      "metadata": {
        "id": "view-in-github",
        "colab_type": "text"
      },
      "source": [
        "<a href=\"https://colab.research.google.com/github/sig6774/Coding_Test/blob/main/Search_Algorithm(DFS).ipynb\" target=\"_parent\"><img src=\"https://colab.research.google.com/assets/colab-badge.svg\" alt=\"Open In Colab\"/></a>"
      ]
    },
    {
      "cell_type": "markdown",
      "source": [
        "### DFS(Depth-First Search)\n",
        "- 그래프 : Node & Edge로 표현\n",
        "- 그래프에서 깊은 부분을 우선적으로 탐색하는 알고리즘 \n",
        "- 그래프 탐색이란 하나의 Node를 시작으로 다수의 Node를 방문하는 것을 말하며 두 Node가 Edge로 연결되어 있다면 '두 노드는 인접하다'라고 표현 \n",
        "- 인접행렬 : 2차원의 배열로 그래프의 연결 관계를 표현하는 방식 \n",
        "- 인접리스트 : 리스트로 그래프의 연결 관계를 표현하는 방식 "
      ],
      "metadata": {
        "id": "yqSihtLSujg4"
      }
    },
    {
      "cell_type": "code",
      "execution_count": null,
      "metadata": {
        "colab": {
          "base_uri": "https://localhost:8080/"
        },
        "id": "mE_CXf89ucwo",
        "outputId": "53803896-f148-4593-e5a6-866b393dcfcd"
      },
      "outputs": [
        {
          "output_type": "stream",
          "name": "stdout",
          "text": [
            "[[0, 7, 5], [7, 0, 99999999999], [5, 99999999999, 0]]\n"
          ]
        }
      ],
      "source": [
        "'''\n",
        "인접행렬 \n",
        "0 7 5\n",
        "7 0 inf\n",
        "5 inf 0\n",
        "이렇게 행렬로 Node가 연결된 형태를 기록하며 연결이 되어 있지 않으면 무한이라고 작성  \n",
        "'''\n",
        "INF  = 99999999999\n",
        "\n",
        "graph = [\n",
        "         [0, 7, 5],\n",
        "         [7, 0, INF],\n",
        "         [5, INF, 0]\n",
        "]\n",
        "print(graph)"
      ]
    },
    {
      "cell_type": "code",
      "source": [
        "'''\n",
        "인접리스트 \n",
        "모든 Node에 연결된 노드에 대한 정보를 차례로 연결하여 저장 \n",
        "'''\n",
        "graph = [[] for _ in range(3)]\n",
        "# 2차원의 row가 3개인 빈 리스트 저장 \n",
        "\n",
        "# 0번 노드와 연결된 노드와 거리 저장 \n",
        "graph[0].append((1,7))\n",
        "graph[0].append((2,5))\n",
        "\n",
        "# 1번 노드와 연결된 노드와 거리 저장 \n",
        "graph[1].append((0,7))\n",
        "\n",
        "# 2번 노드와 연결된 노드와 거리 저장 \n",
        "graph[2].append((0,5))\n",
        "print(graph)\n",
        "\n",
        "# 그런데 이러면 모든 노드와 거리를 알고 있어야 정보를 저장하는게 가능하지 않나? 그리고 노드가 많아지면 이것에 대한 거리를 어떻게 하나씩 모두 지정하지?"
      ],
      "metadata": {
        "colab": {
          "base_uri": "https://localhost:8080/"
        },
        "id": "1mj4LIQow2gz",
        "outputId": "cd39a29f-671e-4957-b367-f2de7ee55d10"
      },
      "execution_count": null,
      "outputs": [
        {
          "output_type": "stream",
          "name": "stdout",
          "text": [
            "[[(1, 7), (2, 5)], [(0, 7)], [(0, 5)]]\n"
          ]
        }
      ]
    },
    {
      "cell_type": "code",
      "source": [
        "'''\n",
        "인접 행렬 방식은 모든 관계를 저장하므로 노드 개수가 많을수록 메모리가 불필요하게 낭비 \n",
        "인접 리스트 방식은 연결된 정보만을 저장하므로 메모리를 효율적으로 사용 \n",
        "\n",
        "인접 리스트 방식은 인접 행렬 방식에 비해 특정 두 노드가 연결되어 있는지에 대한 정보를 얻는 속도가 느림 \n",
        "'''\n",
        "\n",
        "'''\n",
        "DFS \n",
        "- 특정 상황에서 최대한 깊숙이 들어가서 노드를 방문한 후 다시 돌아가 다른 경로로 탐색하는 알고리즘 \n",
        "- 동작과정 \n",
        "  1. 탐색 시작 노드를 스택에 삽입하여 방문처리 \n",
        "  2. 스택의 최상단 노드에 방문하지 않은 인접 노드가 있으면 그 인접 노드를 스택에 넣고 방문 처리하고 방문하지 않은 인접 노드가 없으면 스택에서 최상단 노드를 꺼낸다 \n",
        "'''"
      ],
      "metadata": {
        "colab": {
          "base_uri": "https://localhost:8080/",
          "height": 87
        },
        "id": "FOJ11oo6xxZM",
        "outputId": "a768ee32-b512-4686-db3d-6e9dd4d85631"
      },
      "execution_count": null,
      "outputs": [
        {
          "output_type": "execute_result",
          "data": {
            "application/vnd.google.colaboratory.intrinsic+json": {
              "type": "string"
            },
            "text/plain": [
              "'\\nDFS \\n- 특정 상황에서 최대한 깊숙이 들어가서 노드를 방문한 후 다시 돌아가 다른 경로로 탐색하는 알고리즘 \\n- 동작과정 \\n  1. 탐색 시작 노드를 스택에 삽입하여 방문처리 \\n  2. 스택의 최상단 노드에 방문하지 않은 인접 노드가 있으면 그 인접 노드를 스택에 넣고 방문 처리하고 방문하지 않은 인접 노드가 없으면 스택에서 최상단 노드를 꺼낸다 \\n'"
            ]
          },
          "metadata": {},
          "execution_count": 7
        }
      ]
    },
    {
      "cell_type": "code",
      "source": [
        "def dfs(graph, v, visited):\n",
        "  visited[v] = True\n",
        "  print(v, end = ' ')\n",
        "\n",
        "  for i in graph[v]:\n",
        "    if not visited[i]: # 방문 안했으면 \n",
        "      dfs(graph, i, visited)\n",
        "  # 재귀 \n",
        "\n",
        "graph = [\n",
        "         [],\n",
        "         [2, 3, 8], # 1번 노드 연결 형태\n",
        "         [1, 7], # 2번 노드 연결 형태 \n",
        "         [1, 4, 5], # 3번 노드 연결 형태 \n",
        "         [3, 5], \n",
        "         [3, 4],\n",
        "         [7], \n",
        "         [2, 6, 8],\n",
        "         [1, 7]\n",
        "]"
      ],
      "metadata": {
        "id": "3jEl2C4t1a6w"
      },
      "execution_count": null,
      "outputs": []
    },
    {
      "cell_type": "code",
      "source": [
        "visited = [False]*9\n",
        "dfs(graph, 1, visited)\n",
        "'''\n",
        "예시 \n",
        "[2,3,8]에 대해서 재귀함수로 인해 2를 visited[2] = True로 변하고 graph[2]에는 [1,7]이 존재하므로 1은 수행했기 때문에 7에 대해서 True로 바꿔줌\n",
        "graph[7]은 [2, 6, 8]이므로 2는 수행했으므로 6에 대해서 True로 바꿔주고 graph[6]은 [7]이므로 다시 graph[7]로 감\n",
        "graph[7]에서 2, 6은 수행했으므로 8에 대해서 graph[8]을 수행 했으므로 8에 대해서 True로 바꿔줌 \n",
        "graph[8]은 [1,7]인데 모두 True이므로 다시 초기인 graph[1]의 3으로 가서 3을 True로 바꿔줌\n",
        "graph[3]은 [1,4,5]인데 1은 수행했으므로 4에 대해서 True로 바꿔주고 Graph[4]로 감 \n",
        "graph[4]는 [3,5]인데 3은 수행했기 때문에 5에 대해서 True로 바꿔주면 모두 True로 변경되면서 DFS 알고리즘 수행 끝 \n",
        "위의 예시를 보면서 DFS 알고리즘은 재귀적 형태를 띄며 처음 최대한 깊은 곳으로 진행했다가 이후 stack처럼 다시 돌아가서 경로 탐색 \n",
        "'''"
      ],
      "metadata": {
        "colab": {
          "base_uri": "https://localhost:8080/"
        },
        "id": "OMFaI2VZ14si",
        "outputId": "1b547937-9f98-4f9a-c328-6da238af90ce"
      },
      "execution_count": null,
      "outputs": [
        {
          "output_type": "stream",
          "name": "stdout",
          "text": [
            "1 2 7 6 8 3 4 5 "
          ]
        }
      ]
    },
    {
      "cell_type": "markdown",
      "source": [
        "### BFS(Breadth First Search)\n",
        "- 너비 우선 탐색이며 가까운 노드부터 탐색하는 알고리즘 \n",
        "- DFS는 최대한 멀리 있는 노드를 우선으로 탐색하는 방식으로 동작하지만 BFS는 반대 "
      ],
      "metadata": {
        "id": "Nm5LvrGj81qG"
      }
    },
    {
      "cell_type": "code",
      "source": [
        "from collections import deque\n",
        "\n",
        "def bfs(graph, start, visited):\n",
        "  queue = deque([start])\n",
        "  # 첫번째 값을 넣어줌\n",
        "  visited[start] = True \n",
        "\n",
        "  while queue:\n",
        "    v = queue.popleft()\n",
        "    print(v, end = ' ')\n",
        "    # 큐의 특징(선입선출)을 이용하여 먼저 빠지는 것을 print \n",
        "\n",
        "    for i in graph[v]:\n",
        "      if not visited[i]:\n",
        "        # visited[i]가 True가 아니라면 \n",
        "        queue.append(i)\n",
        "        # 큐에 값을 넣어주고 \n",
        "        visited[i] = True \n",
        "        # visited[i]에 True로 변경 "
      ],
      "metadata": {
        "id": "Bcqh6BWlSLXB"
      },
      "execution_count": 1,
      "outputs": []
    },
    {
      "cell_type": "code",
      "source": [
        "graph = [\n",
        "         [],\n",
        "         [2, 3, 8],\n",
        "         [1, 7], \n",
        "         [1, 4, 5],  \n",
        "         [3, 5], \n",
        "         [3, 4],\n",
        "         [7], \n",
        "         [2, 6, 8],\n",
        "         [1, 7]\n",
        "]\n",
        "visited = [False] * 9\n",
        "bfs(graph, 1, visited)\n",
        "'''\n",
        "예시 \n",
        "1을 넣어줬으니 1과 인접한 [2,3,8]을 찾고 1을 빼줌 \n",
        "graph[2]는 [1,7]이 있으므로 7을 찾고 2를 빼줌\n",
        "graph[3]은 [1,4,5]가 있으므로 4, 5를 찾고 3은 빼줌 \n",
        "graph[8]은 [1,7]이 있지만 모두 찾은 것으로 8은 빼줌 \n",
        "graph[7]은 [2,6,8]이 있으므로 6을 찾고 7은 빼줌 \n",
        "나머지는 다 찾은 것으로 4,5를 빼주고 남은 6도 빼줌 \n",
        "즉, 1, 2, 3, 8, 7, 4, 5, 6순서로 queue에 추가 \n",
        "'''\n",
        "\n",
        "# DFS : 스택과 재귀함수 이용 \n",
        "# BFS : 큐와 큐 자료구조를 이용 "
      ],
      "metadata": {
        "colab": {
          "base_uri": "https://localhost:8080/",
          "height": 70
        },
        "id": "q1aauSTi_NOp",
        "outputId": "5a988867-f3fb-4c71-e04c-a8bc5c003d10"
      },
      "execution_count": 4,
      "outputs": [
        {
          "output_type": "stream",
          "name": "stdout",
          "text": [
            "1 2 3 8 7 4 5 6 "
          ]
        },
        {
          "output_type": "execute_result",
          "data": {
            "application/vnd.google.colaboratory.intrinsic+json": {
              "type": "string"
            },
            "text/plain": [
              "'\\n예시 \\n1을 넣어줬으니 1과 인접한 [2,3,8]을 찾고 1을 빼줌 \\ngraph[2]는 [1,7]이 있으므로 7을 찾고 2를 빼줌\\ngraph[3]은 [1,4,5]가 있으므로 4, 5를 찾고 3은 빼줌 \\ngraph[8]은 [1,7]이 있지만 모두 찾은 것으로 8은 빼줌 \\ngraph[7]은 [2,6,8]이 있으므로 6을 찾고 7은 빼줌 \\n나머지는 다 찾은 것으로 4,5를 빼주고 남은 6도 빼줌 \\n즉, 1, 2, 3, 8, 7, 4, 5, 6순서로 queue에 추가 \\n'"
            ]
          },
          "metadata": {},
          "execution_count": 4
        }
      ]
    },
    {
      "cell_type": "markdown",
      "source": [
        "### 음료수 얼려먹기 \n",
        "- N * M 크기의 얼음 틀이 존재 \n",
        "- 구멍이 뚫려 있는 부분은 0, 칸막이가 존재하는 부분은 1로 표기\n",
        "- 구멍이 뚫려 있는 부분끼리 상,하,좌,우로 붙어 있는 경우 서로 연결되어 있는 것\n",
        "- 구멍이 뚫려 있는 부분끼리는 모양이 정해져있다고 판단하여 하나의 아이스크림이라 판단 \n",
        "- 몇개의 아이스크림이 존재할 수 있는지 "
      ],
      "metadata": {
        "id": "MgWUzwC-BixA"
      }
    },
    {
      "cell_type": "code",
      "source": [
        "n,m = map(int, input().split())\n",
        "graph = []\n",
        "for i in range(n):\n",
        "  graph.append(list(map(int, input())))"
      ],
      "metadata": {
        "colab": {
          "base_uri": "https://localhost:8080/"
        },
        "id": "58h44bC8_bSM",
        "outputId": "205c7a87-ff73-4438-9792-751b7dc3f3bb"
      },
      "execution_count": 5,
      "outputs": [
        {
          "name": "stdout",
          "output_type": "stream",
          "text": [
            "3 3\n",
            "001\n",
            "010\n",
            "101\n"
          ]
        }
      ]
    },
    {
      "cell_type": "code",
      "source": [
        "def dfs(x, y):\n",
        "  if x <= -1 or x >= n or y <= -1 or y >= m:\n",
        "    # 범위를 넘어서거나 값이 비정상 적일때 종료 \n",
        "    return False \n",
        "\n",
        "  if graph[x][y] == 0:\n",
        "    # graph 안의 값이 0일때만 \n",
        "\n",
        "    graph[x][y] = 1 \n",
        "    # 방문 처리 \n",
        "\n",
        "    dfs(x-1, y)\n",
        "    dfs(x, y-1)\n",
        "    dfs(x+1, y)\n",
        "    dfs(x, y+1)\n",
        "    # 재귀적 호출 \n",
        "    # 상,하,좌,우가 되는 부분이 있으면 같은 공간으로 인식하기 때문에 재귀로 호출 \n",
        "    # 근데 이런 생각을 하는건 천잰데...? 아직 부족하구만... \n",
        "    return True \n",
        "  return False "
      ],
      "metadata": {
        "id": "98nqedeMC8Ko"
      },
      "execution_count": 6,
      "outputs": []
    },
    {
      "cell_type": "code",
      "source": [
        "result = 0\n",
        "for i in range(n):\n",
        "  for j in range(m):\n",
        "    if dfs(i,j) == True:\n",
        "      result += 1\n",
        "print(result)"
      ],
      "metadata": {
        "colab": {
          "base_uri": "https://localhost:8080/"
        },
        "id": "y6vhFesfFI2P",
        "outputId": "9332842f-f130-492b-b4c4-4cd31bb809e5"
      },
      "execution_count": 8,
      "outputs": [
        {
          "output_type": "stream",
          "name": "stdout",
          "text": [
            "3\n"
          ]
        }
      ]
    },
    {
      "cell_type": "markdown",
      "source": [
        "### 미로탈출 (이해가 안됨...) <- 다시 보기 \n",
        "- (1,1)에서 시작하고 괴물이 있는 부분은 0, 괴물이 없는 부분은 1로 표시 \n",
        "- 탈출하기 위해 움직여야 하는 최소 칸의 개수(시작 칸과 마지막 칸을 모두 포함)"
      ],
      "metadata": {
        "id": "jPty2NFxIbsE"
      }
    },
    {
      "cell_type": "code",
      "source": [
        "n,m = map(int, input().split())\n",
        "graph = []\n",
        "for i in range(n):\n",
        "  graph.append(list(map(int, input())))"
      ],
      "metadata": {
        "colab": {
          "base_uri": "https://localhost:8080/"
        },
        "id": "Y61-3OS4FRBz",
        "outputId": "63d4d366-b194-4ef8-d06e-f5f5b92da857"
      },
      "execution_count": 9,
      "outputs": [
        {
          "name": "stdout",
          "output_type": "stream",
          "text": [
            "5 6\n",
            "101010\n",
            "111111\n",
            "000001\n",
            "111111\n",
            "111111\n"
          ]
        }
      ]
    },
    {
      "cell_type": "code",
      "source": [
        "from collections import deque \n",
        "\n",
        "dx = [-1, 1, 0, 0]\n",
        "dy = [0, 0, -1, 1]\n",
        "\n",
        "def bfs(x,y):\n",
        "  queue = deque()\n",
        "  queue.append((x,y))\n",
        "\n",
        "  while queue:\n",
        "    x, y = queue.popleft()\n",
        "\n",
        "    for i in range(4):\n",
        "      nx = x + dx[i]\n",
        "      ny = y + dy[i]\n",
        "\n",
        "      if nx < 0 or ny < 0 or nx >= n or ny >= m:\n",
        "        continue \n",
        "      if graph[nx][ny] == 0:\n",
        "        continue \n",
        "      \n",
        "      if graph[nx][ny] == 1:\n",
        "        graph[nx][ny] = graph[x][y] + 1\n",
        "        queue.append((nx, ny))\n",
        "  return graph[n-1][m-1]"
      ],
      "metadata": {
        "id": "pKKd6ixGI27p"
      },
      "execution_count": 16,
      "outputs": []
    },
    {
      "cell_type": "code",
      "source": [
        "print(bfs(0,0))"
      ],
      "metadata": {
        "colab": {
          "base_uri": "https://localhost:8080/"
        },
        "id": "mrNGvRyeKYLD",
        "outputId": "339c0a1c-6cc5-4ee1-ba39-16697e4b241d"
      },
      "execution_count": 17,
      "outputs": [
        {
          "output_type": "stream",
          "name": "stdout",
          "text": [
            "10\n"
          ]
        }
      ]
    }
  ]
}