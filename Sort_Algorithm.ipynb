{
  "nbformat": 4,
  "nbformat_minor": 0,
  "metadata": {
    "colab": {
      "name": "Sort Algorithm.ipynb",
      "provenance": [],
      "collapsed_sections": [],
      "authorship_tag": "ABX9TyOvdspbRVKO0be11HPWgrDV",
      "include_colab_link": true
    },
    "kernelspec": {
      "name": "python3",
      "display_name": "Python 3"
    },
    "language_info": {
      "name": "python"
    }
  },
  "cells": [
    {
      "cell_type": "markdown",
      "metadata": {
        "id": "view-in-github",
        "colab_type": "text"
      },
      "source": [
        "<a href=\"https://colab.research.google.com/github/sig6774/Coding_Test/blob/main/Sort_Algorithm.ipynb\" target=\"_parent\"><img src=\"https://colab.research.google.com/assets/colab-badge.svg\" alt=\"Open In Colab\"/></a>"
      ]
    },
    {
      "cell_type": "markdown",
      "source": [
        "### 정렬 알고리즘\n",
        "- 정렬 : 데이터를 특정 기준에 따라 순서대로 나열 \n",
        "- 선택 정렬, 삽입 정렬, 퀵 정렬, 계수 정렬 등 많은 정렬 알고리즘이 존재 \n",
        "- 상황에 적절하지 못한 알고리즘을 선택하게 되면 효율성이 떨어진다. "
      ],
      "metadata": {
        "id": "DSTBadh_LPEx"
      }
    },
    {
      "cell_type": "markdown",
      "source": [
        "#### 선택 정렬 \n",
        "- 데이터가 무작위로 여러 개 있을때, 가장 작은 데이터를 선택해 맨 앞에 있는 데이터와 바꾸고 그 다음 작은 데이터를 선택해 앞에서 두번째 데이터와 바꾸는 과정을 반복하는 것처럼 매번 가장 작은 것을 선택하는 의미가 선택정렬 알고리즘 "
      ],
      "metadata": {
        "id": "YMtWOxPrLy0C"
      }
    },
    {
      "cell_type": "code",
      "execution_count": 10,
      "metadata": {
        "colab": {
          "base_uri": "https://localhost:8080/",
          "height": 87
        },
        "id": "YvUhFmBZLIsR",
        "outputId": "0cee84e5-fe8e-4c44-e81a-82d9e5fa8034"
      },
      "outputs": [
        {
          "output_type": "stream",
          "name": "stdout",
          "text": [
            "코드 스와프 :  [5, 3]\n",
            "[1, 2, 3, 4, 5]\n"
          ]
        },
        {
          "output_type": "execute_result",
          "data": {
            "application/vnd.google.colaboratory.intrinsic+json": {
              "type": "string"
            },
            "text/plain": [
              "'\\n과정 \\ni = 0, array인덱스 3이랑 인덱스 0값을 바꿔줌 : 14253\\ni = 1, array인덱스 2랑 인덱스 1값을 바꿔줌 : 12453 \\ni = 2, array인덱스 4랑 인덱스 2값을 바꿔줌 : 12354\\ni = 3, array인덱스 4랑 인덱스 3값을 바꿔줌 : 12345 \\n'"
            ]
          },
          "metadata": {},
          "execution_count": 10
        }
      ],
      "source": [
        "# 코드 스와프(이거 많이 쓰임) <- 중요!!! \n",
        "array = [3,5]\n",
        "array[0], array[1] = array[1], array[0]\n",
        "print('코드 스와프 : ',array)\n",
        "\n",
        "# 선택 정렬 \n",
        "array = [5, 4, 2 , 1, 3]\n",
        "\n",
        "for i in range(len(array)):\n",
        "  min_index = i\n",
        "  for j in range(i + 1, len(array)):\n",
        "    if array[min_index] > array[j]:\n",
        "      min_index = j\n",
        "\n",
        "  array[i], array[min_index] = array[min_index], array[i]\n",
        "print(array)\n",
        "'''\n",
        "과정 \n",
        "i = 0, array인덱스 3이랑 인덱스 0값을 바꿔줌 : 14253\n",
        "i = 1, array인덱스 2랑 인덱스 1값을 바꿔줌 : 12453 \n",
        "i = 2, array인덱스 4랑 인덱스 2값을 바꿔줌 : 12354\n",
        "i = 3, array인덱스 4랑 인덱스 3값을 바꿔줌 : 12345 \n",
        "'''"
      ]
    },
    {
      "cell_type": "markdown",
      "source": [
        "#### 삽입 정렬 \n",
        "- 선택 정렬은 시간이 너무 많이 걸림 \n",
        "- 삽입 정렬은 필요할 때만 위치를 바꾸기 때문에 훨씬 효율적 \n",
        "- 특정 데이터를 적절한 위치에 삽입한다는 의미 "
      ],
      "metadata": {
        "id": "4c0UApDkS7q2"
      }
    },
    {
      "cell_type": "code",
      "source": [
        "array = [5, 4, 2 , 1, 3]\n",
        "\n",
        "for i in range(1, len(array)):\n",
        "  for j in range(i, 0, -1):\n",
        "    if array[j] < array[j-1]:\n",
        "      array[j], array[j-1] = array[j-1], array[j]\n",
        "\n",
        "    else:\n",
        "      break \n",
        "print(array)\n",
        "''' \n",
        "과정 \n",
        "i = 1, 5와 4 자리 바꿈 45213\n",
        "i = 2, 5와 2 자리 바꾸고 4와 2 자리 바꿈 42513 -> 24513\n",
        "i = 3, 5와 1 자리 바꾸고 4와 1 자리바꾸고 2와 1 자리 바꿈 24513 -> 24153 -> 21453 -> 12453\n",
        "i = 4, 5와 3 자리 바꾸고 4와 3 자리 바꿈 12453 -> 12435 -> 12345 \n",
        "'''"
      ],
      "metadata": {
        "colab": {
          "base_uri": "https://localhost:8080/"
        },
        "id": "AS71mW-GMedY",
        "outputId": "5daccf52-9639-4277-a733-4e578d03cb50"
      },
      "execution_count": 11,
      "outputs": [
        {
          "output_type": "stream",
          "name": "stdout",
          "text": [
            "[1, 2, 3, 4, 5]\n"
          ]
        }
      ]
    },
    {
      "cell_type": "markdown",
      "source": [
        "#### 퀵 정렬 \n",
        "- 가장 많이 사용 \n",
        "- 기준 데이터를 설정하고 그 기준보다 큰 데이터와 작은 데이터의 위치를 바꿈 \n",
        "- 피벗(기준) 사용 \n",
        "- 피벗을 기준으로 왼쪽에서는 피벗보다 큰 데이터를 선택하고 오른쪽에서는 피벗보다 작은 데이터를 선택하여 위치를 바꿔줌 "
      ],
      "metadata": {
        "id": "zPciPNkpWMeZ"
      }
    },
    {
      "cell_type": "code",
      "source": [
        "array = [5, 7, 9, 0, 3, 1, 6, 2, 4, 8]\n",
        "\n",
        "def quick_sort(array, start, end):\n",
        "  if start >= end: \n",
        "    return \n",
        "  \n",
        "  pivot = start \n",
        "  left = start + 1 \n",
        "  # 왼쪽에서 데이터 찾는 인덱스 \n",
        "  right = end \n",
        "  # 오른쪽에서 데이터 찾는 인덱스 \n",
        "\n",
        "  while left <= right:\n",
        "\n",
        "    while left <= end and array[left] <= array[pivot]:\n",
        "      left += 1 \n",
        "\n",
        "    while right > start and array[right] >= array[pivot]:\n",
        "      right -= 1 \n",
        "\n",
        "    if left > right:\n",
        "      array[right], array[pivot] = array[pivot], array[right]\n",
        "\n",
        "    else:\n",
        "      array[left], array[right] = array[right], array[left]\n",
        "\n",
        "  quick_sort(array, start, right-1)\n",
        "  quick_sort(array, right+1, end)\n",
        "\n",
        "quick_sort(array, 0, len(array) - 1)\n",
        "print(array)\n"
      ],
      "metadata": {
        "colab": {
          "base_uri": "https://localhost:8080/"
        },
        "id": "q5ZteI5jVARq",
        "outputId": "b6171811-8549-420a-a449-c31051bcc0fc"
      },
      "execution_count": 12,
      "outputs": [
        {
          "output_type": "stream",
          "name": "stdout",
          "text": [
            "[0, 1, 2, 3, 4, 5, 6, 7, 8, 9]\n"
          ]
        }
      ]
    },
    {
      "cell_type": "code",
      "source": [
        "array = [5, 7, 9, 0, 3, 1, 6, 2, 4, 8]\n",
        "\n",
        "def quick_sort(array):\n",
        "  if len(array) <= 1:\n",
        "    return array \n",
        "\n",
        "  pivot = array[0]\n",
        "  tail = array[1:]\n",
        "\n",
        "  left_side = [x for x in tail if x <= pivot]\n",
        "  right_side = [x for x in tail if x > pivot]\n",
        "\n",
        "  return quick_sort(left_side) + [pivot] + quick_sort(right_side)\n",
        "print(quick_sort(array))"
      ],
      "metadata": {
        "colab": {
          "base_uri": "https://localhost:8080/"
        },
        "id": "Trzx01zPX6YS",
        "outputId": "4fe1ad56-3bc6-4cd5-91f8-2db0023c6c33"
      },
      "execution_count": 13,
      "outputs": [
        {
          "output_type": "stream",
          "name": "stdout",
          "text": [
            "[0, 1, 2, 3, 4, 5, 6, 7, 8, 9]\n"
          ]
        }
      ]
    },
    {
      "cell_type": "markdown",
      "source": [
        "#### 계수 정렬 \n",
        "- 특정 조건에 부합할때만 사용할 수 있지만 매우 빠른 정렬 알고리즘 \n",
        "- 데이터의 크기가 1,000,000을 넘지 않을 때 효과적 "
      ],
      "metadata": {
        "id": "O1SoZp7Cf5uF"
      }
    },
    {
      "cell_type": "code",
      "source": [
        "array = [5, 7, 9, 0, 3, 1, 5, 2, 3, 8]\n",
        "count = [0] * (max(array) + 1)"
      ],
      "metadata": {
        "id": "pXEy1__gZU9l"
      },
      "execution_count": 19,
      "outputs": []
    },
    {
      "cell_type": "code",
      "source": [
        "for i in range(len(array)):\n",
        "  count[array[i]] += 1 \n",
        "  # count의 index에 접근해서 array의 값이 몇번 등장했는지 횟수 \n",
        "\n",
        "count\n",
        "# 3이 2번 나왔으므로 2가 출력된 것을 볼 수 있음 "
      ],
      "metadata": {
        "colab": {
          "base_uri": "https://localhost:8080/"
        },
        "id": "vbH2-v5ydI4u",
        "outputId": "77d70087-29ec-42fa-e749-c47a4cfad28b"
      },
      "execution_count": 20,
      "outputs": [
        {
          "output_type": "execute_result",
          "data": {
            "text/plain": [
              "[1, 1, 1, 2, 0, 2, 0, 1, 1, 1]"
            ]
          },
          "metadata": {},
          "execution_count": 20
        }
      ]
    },
    {
      "cell_type": "code",
      "source": [
        "for i in range(len(count)):\n",
        "  for j in range(count[i]):\n",
        "    # 인덱스로 접근했고 range를 통해서 array에서 나온 횟수만큼 출력 \n",
        "    print(i, end = '')"
      ],
      "metadata": {
        "colab": {
          "base_uri": "https://localhost:8080/"
        },
        "id": "KWakAjfYdJLS",
        "outputId": "2e280e94-25f2-4be5-9964-359b1b5a32e2"
      },
      "execution_count": 22,
      "outputs": [
        {
          "output_type": "stream",
          "name": "stdout",
          "text": [
            "0123355789"
          ]
        }
      ]
    },
    {
      "cell_type": "code",
      "source": [
        "# 파이썬 정렬 알고리즘 라이브러리 \n",
        "\n",
        "array = [5, 7, 9, 0, 3, 1, 6, 2, 4, 8]\n",
        "result = sorted(array)\n",
        "print(result)\n",
        "\n",
        "array.sort()\n",
        "print(array)"
      ],
      "metadata": {
        "colab": {
          "base_uri": "https://localhost:8080/"
        },
        "id": "1RFFc0OPeGRy",
        "outputId": "dec83fe1-66ef-4cc5-f654-b64f123c1c28"
      },
      "execution_count": 24,
      "outputs": [
        {
          "output_type": "stream",
          "name": "stdout",
          "text": [
            "[0, 1, 2, 3, 4, 5, 6, 7, 8, 9]\n",
            "[0, 1, 2, 3, 4, 5, 6, 7, 8, 9]\n"
          ]
        }
      ]
    },
    {
      "cell_type": "code",
      "source": [
        "array = [('바나나', 2), ('사과', 5), ('당근', 3)]\n",
        "\n",
        "def setting(data):\n",
        "  return data[1]\n",
        "\n",
        "result = sorted(array, key = setting)\n",
        "print(result)"
      ],
      "metadata": {
        "colab": {
          "base_uri": "https://localhost:8080/"
        },
        "id": "yOeEWKfVgVk7",
        "outputId": "6bb69dbd-b475-4184-fafb-c432c49a03fa"
      },
      "execution_count": 25,
      "outputs": [
        {
          "output_type": "stream",
          "name": "stdout",
          "text": [
            "[('바나나', 2), ('당근', 3), ('사과', 5)]\n"
          ]
        }
      ]
    }
  ]
}