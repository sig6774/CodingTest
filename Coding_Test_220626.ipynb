{
 "cells": [
  {
   "cell_type": "markdown",
   "metadata": {},
   "source": [
    "### Function "
   ]
  },
  {
   "cell_type": "code",
   "execution_count": 1,
   "metadata": {},
   "outputs": [
    {
     "name": "stdout",
     "output_type": "stream",
     "text": [
      "11\n"
     ]
    }
   ],
   "source": [
    "def add(x, y):\n",
    "    return x + y\n",
    "\n",
    "print(add(3,8))"
   ]
  },
  {
   "cell_type": "code",
   "execution_count": 3,
   "metadata": {},
   "outputs": [
    {
     "name": "stdout",
     "output_type": "stream",
     "text": [
      "13 7 9 19 "
     ]
    }
   ],
   "source": [
    "def isPrime(x):\n",
    "    for i in (2, x):\n",
    "        if x % i == 0:\n",
    "            return False\n",
    "        else:\n",
    "            return True\n",
    "\n",
    "a = [12, 13, 7, 9, 19]\n",
    "for i in a:\n",
    "    if isPrime(i):\n",
    "        print(i, end=\" \")"
   ]
  },
  {
   "cell_type": "markdown",
   "metadata": {},
   "source": [
    "### Lambda"
   ]
  },
  {
   "cell_type": "code",
   "execution_count": 4,
   "metadata": {},
   "outputs": [],
   "source": [
    "def plus_one(x):\n",
    "    return x + 1\n",
    "\n",
    "plus_two = lambda x : x+1"
   ]
  },
  {
   "cell_type": "code",
   "execution_count": 7,
   "metadata": {},
   "outputs": [
    {
     "name": "stdout",
     "output_type": "stream",
     "text": [
      "[2, 3, 4]\n",
      "[2, 3, 4]\n"
     ]
    }
   ],
   "source": [
    "a = [1,2,3]\n",
    "print(list(map(plus_one, a)))\n",
    "print(list(map(lambda x: x+1, a)))\n",
    "# 람다 함수는 일회용 함수라고 생각 "
   ]
  },
  {
   "cell_type": "markdown",
   "metadata": {},
   "source": [
    "### K번째 약수 \n",
    "- 어떤 자연수 p와 q가 있을 떄 만일 p를 q로 나누었을 때 나머지가 0이면 q는 p의 약수이다.\n",
    "- 두개의 자연수 N과 K가 주어졌을 때 N의 약수들 중 K번째로 작은 수를 출력하는 프로그램을 작성하시오.\n",
    "- k번째 약수가 존재하지 않을 경우에는 -1을 출력"
   ]
  },
  {
   "cell_type": "code",
   "execution_count": 13,
   "metadata": {},
   "outputs": [],
   "source": [
    "# 약수를 출력하는 로직 작성 \n",
    "# 약수를 모두 찾았다면 정렬 후 k번째 약수 출력\n",
    "\n",
    "def Divisor_K(n, k):\n",
    "    li = []\n",
    "    for i in range(1, n+1):\n",
    "        if n % i == 0:\n",
    "            li.append(i)\n",
    "    \n",
    "    if len(li) > k:\n",
    "        return li[k-1]\n",
    "    else:\n",
    "        return -1\n",
    "    # 약수를 찾기 위해 주어진 자연수를 반복문 돌림 \n",
    "    # 이후 주어진 자연수와 값이 나눠지게 되면 해당 값은 약수이므로 리스트에 저장 \n",
    "    # 저장된 리스트의 k번째 값을 출력"
   ]
  },
  {
   "cell_type": "code",
   "execution_count": 16,
   "metadata": {},
   "outputs": [
    {
     "name": "stdout",
     "output_type": "stream",
     "text": [
      "6 2\n",
      "2\n",
      "6 5\n",
      "-1\n"
     ]
    }
   ],
   "source": [
    "n,k = map(int, input().split())\n",
    "print(n,k)\n",
    "print(Divisor_K(n,k))\n",
    "\n",
    "n,k = map(int, input().split())\n",
    "print(n,k)\n",
    "print(Divisor_K(n,k))"
   ]
  },
  {
   "cell_type": "markdown",
   "metadata": {},
   "source": [
    "### 참고 풀이 "
   ]
  },
  {
   "cell_type": "code",
   "execution_count": 18,
   "metadata": {},
   "outputs": [
    {
     "name": "stdout",
     "output_type": "stream",
     "text": [
      "3\n"
     ]
    }
   ],
   "source": [
    "n, k = map(int, input().split())\n",
    "cnt = 0\n",
    "\n",
    "for i in range(1, n+1):\n",
    "    if n % i == 0:\n",
    "        cnt += 1\n",
    "    if cnt == k:\n",
    "        print(i)\n",
    "        break \n",
    "else:\n",
    "    # for문에서 정상적으로 다 끝나면 else 구문 실행 \n",
    "    print(-1)\n",
    "# 내꺼랑 다른 점은 리스트를 통해 저장하지 않고 변수를 통해 값을 카운트 받아서 쉽게 출력함 \n"
   ]
  },
  {
   "cell_type": "markdown",
   "metadata": {},
   "source": [
    "### K번쨰 수 \n",
    "- N개의 숫자로 이루어진 숫자열이 주어지면 해당 숫자열 중에서 s번째부터 e번째 까지의 수를 오름차순 정렬 했을 때 k번째로 나타나는 숫자를 출력하는 프로그램을 작성 \n",
    "- 테스트 케이스 주어지며 자연수 s,e,k가 차례로 주어짐 "
   ]
  },
  {
   "cell_type": "code",
   "execution_count": 32,
   "metadata": {},
   "outputs": [],
   "source": [
    "# 수를 입력 받아서 \n",
    "\n",
    "def make_li(s,e, list):\n",
    "    sort_li = []\n",
    "    for i in range(s-1, e):\n",
    "        sort_li.append(list[i])\n",
    "    return sort_li\n",
    "# s번째부터 e번째까지 추출하는 함수 \n",
    "    \n",
    "def sort_li(list):\n",
    "    for i in range(0, len(list)):\n",
    "        for j in range(i+1, len(list)):\n",
    "            if list[i] > list[j]:\n",
    "                list[i], list[j] = list[j], list[i]\n",
    "    return list\n",
    "# 함수를 오름차순으로 정렬하는 함수\n",
    "                \n"
   ]
  },
  {
   "cell_type": "code",
   "execution_count": 34,
   "metadata": {},
   "outputs": [
    {
     "name": "stdout",
     "output_type": "stream",
     "text": [
      "숫자열 개수  7 , 시작 :  2 , 끝 :  5 ,k번째 수 :  4 숫자열  [1, 53, 52, 32, 43, 253, 64]\n",
      "[32, 43, 52, 53]\n",
      "53\n"
     ]
    }
   ],
   "source": [
    "t = int(input())\n",
    "for i in range(t):\n",
    "    li = []\n",
    "    n,s,e,k = map(int, input().split())\n",
    "    for j in range(n):\n",
    "        num = int(input())\n",
    "        li.append(num)\n",
    "    print(\"숫자열 개수 \", n, \", 시작 : \", s, \", 끝 : \", e, \",k번째 수 : \",  k, \"숫자열 \" ,li)\n",
    "\n",
    "    new_list = make_li(s,e, li)\n",
    "    final_li = sort_li(new_list)\n",
    "\n",
    "    print(final_li)\n",
    "    print(final_li[k-1])\n",
    "\n",
    "# 너무 복잡한가...?"
   ]
  },
  {
   "cell_type": "markdown",
   "metadata": {},
   "source": [
    "### 참고 풀이"
   ]
  },
  {
   "cell_type": "code",
   "execution_count": 36,
   "metadata": {},
   "outputs": [
    {
     "name": "stdout",
     "output_type": "stream",
     "text": [
      "1 53\n"
     ]
    }
   ],
   "source": [
    "T = int(input())\n",
    "for i in range(T):\n",
    "    n, s, e, k = map(int, input().split())\n",
    "    a = list(map(int, input().split()))\n",
    "    # 한줄에 값을 모두 입력해서 리스트 만들어줌\n",
    "    a=a[s-1:e]\n",
    "    # slicing으로 쉽게 가져옴 \n",
    "    a.sort()\n",
    "    print(\"%d %d\" %(i+1, a[k-1]))\n",
    "\n",
    "# 엄청 쉽게 푸네... \n",
    "# 나는 어렵게 풀었는데\n",
    "    \n"
   ]
  },
  {
   "cell_type": "markdown",
   "metadata": {},
   "source": [
    "### K번째 큰수 \n",
    "- 현수는 1부터 100사이의 자연수가 적힌 N장의 카드를 가지고 있습니다. 같은 숫자의 카드가 여러장 있을 수 있습니다. \n",
    "- 현수는 이 중 3장을 뽑아 각 카드에 적힌 수를 합한 값을 기록하려 고 합니다. \n",
    "- 3장을 뽑을 수 있는 모든 경우를 기록합니다. 기록한 값 중 K번째로 큰 수를 출력 하는 프로그램을 작성하세요.\n",
    "- 만약 큰 수부터 만들어진 수가 25 25 23 23 22 20 19......이고 K값이 3이라면 K번째 큰 값 은 22입니다.\n",
    "\n",
    "<hr>\n",
    "\n",
    "- 첫 줄에 자연수 N(3<=N<=100)과 K(1<=K<=50) 입력되고, 그 다음 줄에 N개의 카드값이 입력 된다.\n",
    "- 첫 줄에 K번째 수를 출력합니다. K번째 수는 반드시 존재합니다."
   ]
  },
  {
   "cell_type": "code",
   "execution_count": 53,
   "metadata": {},
   "outputs": [
    {
     "name": "stdout",
     "output_type": "stream",
     "text": [
      "[13, 15, 34, 23, 45, 65, 33, 11, 26, 42]\n",
      "[152, 144, 143, 141, 140, 136, 133, 133, 132, 130, 125, 125, 124, 123, 122, 122, 121, 121, 121, 120, 120, 118, 114, 114, 113, 113, 112, 112, 111, 110, 110, 109, 109, 106, 105, 104, 104, 103, 102, 102, 102, 102, 101, 101, 101, 100, 99, 99, 98, 98, 94, 94, 93, 93, 93, 92, 91, 91, 91, 91, 90, 90, 90, 89, 89, 89, 88, 87, 86, 86, 84, 83, 83, 83, 82, 82, 82, 81, 81, 80, 80, 79, 79, 78, 78, 76, 75, 74, 73, 73, 72, 72, 71, 71, 71, 70, 70, 70, 69, 69, 68, 68, 67, 66, 64, 62, 62, 61, 60, 60, 59, 58, 57, 54, 52, 51, 50, 49, 47, 39]\n",
      "143\n"
     ]
    }
   ],
   "source": [
    "# 입력받은 카드들 정렬 \n",
    "# 더할 수 있는 모든 경우의 수를 저장 \n",
    "# 이후 다시 정렬해서 k번째 값 출력 \n",
    "\n",
    "# 3중 반복문 사용해야하나? \n",
    "\n",
    "num, key = map(int, input().split())\n",
    "c = list(map(int, input().split()))\n",
    "    \n",
    "\n",
    "add_all = []\n",
    "for i in range(0, len(c)):\n",
    "    for j in range(i+1, len(c)):\n",
    "        for k in range(j+1, len(c)):\n",
    "            add_all.append(c[i] + c[j] + c[k])\n",
    "add_all.sort(reverse=True)\n",
    "\n",
    "print(c)\n",
    "print(add_all)\n",
    "print(add_all[key-1])\n",
    "\n"
   ]
  },
  {
   "cell_type": "code",
   "execution_count": null,
   "metadata": {},
   "outputs": [],
   "source": []
  }
 ],
 "metadata": {
  "kernelspec": {
   "display_name": "Python 3.9.12 ('base')",
   "language": "python",
   "name": "python3"
  },
  "language_info": {
   "codemirror_mode": {
    "name": "ipython",
    "version": 3
   },
   "file_extension": ".py",
   "mimetype": "text/x-python",
   "name": "python",
   "nbconvert_exporter": "python",
   "pygments_lexer": "ipython3",
   "version": "3.9.12"
  },
  "orig_nbformat": 4,
  "vscode": {
   "interpreter": {
    "hash": "4e56095587f6faaee8b6fe269bd4758f04d4dcfca17a97e0204e5c06e32115c1"
   }
  }
 },
 "nbformat": 4,
 "nbformat_minor": 2
}
