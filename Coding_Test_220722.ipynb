{
 "cells": [
  {
   "cell_type": "markdown",
   "metadata": {},
   "source": [
    "### 뮤직비디오(결정알고리즘)\n",
    "\n",
    "- 지니레코드에서는 불세출의 가수 조영필의 라이브 동영상을 DVD로 만들어 판매하려 한다. DVD에는 총 N개의 곡이 들어가는데, DVD에 녹화할 때에는 라이브에서의 순서가 그대로 유지 되어야 한다. 순서가 바뀌는 것을 우리의 가수 조영필씨가 매우 싫어한다. \n",
    "- 즉, 1번 노래와 5번 노래를 같은 DVD에 녹화하기 위해서는 1번과 5번 사이의 모든 노래도 같은 DVD에 녹화해야 한다. 또한 한 노래를 쪼개서 두 개의 DVD에 녹화하면 안된다.\n",
    "- 지니레코드 입장에서는 이 DVD가 팔릴 것인지 확신할 수 없기 때문에 이 사업에 낭비되는 DVD를 가급적 줄이려고 한다. \n",
    "- 고민 끝에 지니레코드는 M개의 DVD에 모든 동영상을 녹화하기 로 하였다. 이 때 DVD의 크기(녹화 가능한 길이)를 최소로 하려고 한다. \n",
    "- 그리고 M개의 DVD는 모두 같은 크기여야 제조원가가 적게 들기 때문에 꼭 같은 크기로 해야 한다.\n",
    "\n",
    "<hr>\n",
    "\n",
    "- 첫째 줄에 자연수 N(1≤N≤1,000), M(1≤M≤N)이 주어진다. 다음 줄에는 조영필이 라이브에서 부른 순서대로 부른 곡의 길이가 분 단위로(자연수) 주어진다. 부른 곡의 길이는 10,000분을 넘지 않는다고 가정하자.\n",
    "- 첫 번째 줄부터 DVD의 최소 용량 크기를 출력하세요."
   ]
  },
  {
   "cell_type": "code",
   "execution_count": 66,
   "metadata": {},
   "outputs": [],
   "source": [
    "N,M = map(int, input().split())\n",
    "li = list(map(int, input().split()))"
   ]
  },
  {
   "cell_type": "code",
   "execution_count": 67,
   "metadata": {},
   "outputs": [
    {
     "name": "stdout",
     "output_type": "stream",
     "text": [
      "9 45\n"
     ]
    }
   ],
   "source": [
    "# 들어갈 수 있는 최대, 최소 값 구하기 \n",
    "s, e = 0, 0\n",
    "\n",
    "for i in range(len(li)):\n",
    "    if li[i] > s:\n",
    "        s = li[i]\n",
    "    e += li[i]\n",
    "print(s,e)"
   ]
  },
  {
   "cell_type": "code",
   "execution_count": 68,
   "metadata": {},
   "outputs": [
    {
     "name": "stdout",
     "output_type": "stream",
     "text": [
      "[1, 2, 3, 4, 5, 6, 7, 8, 9] 9 3\n"
     ]
    }
   ],
   "source": [
    "print(li, N, M)"
   ]
  },
  {
   "cell_type": "code",
   "execution_count": 69,
   "metadata": {},
   "outputs": [],
   "source": [
    "def getM(mid):\n",
    "    t = 0 \n",
    "    cnt = 0\n",
    "    for i in range(len(li)):\n",
    "        if mid < t + li[i]:\n",
    "            cnt += 1 \n",
    "            t = li[i]\n",
    "        else:\n",
    "            t += li[i]\n",
    "    return cnt < M\n",
    "# mid를 기준으로 구간을 나눠 구간의 개수를 구해주는 로직 \n",
    "    "
   ]
  },
  {
   "cell_type": "code",
   "execution_count": 70,
   "metadata": {},
   "outputs": [
    {
     "name": "stdout",
     "output_type": "stream",
     "text": [
      "27\n",
      "True\n",
      "17\n",
      "True\n",
      "12\n",
      "False\n",
      "14\n",
      "False\n",
      "15\n",
      "False\n",
      "16\n",
      "False\n",
      "17\n"
     ]
    }
   ],
   "source": [
    "answer = 0 \n",
    "mid = 0 \n",
    "while(s <= e):\n",
    "\n",
    "    mid = (s+e) // 2 \n",
    "    print(mid)\n",
    "    print(getM(mid))\n",
    "    if (getM(mid)):\n",
    "        answer = mid \n",
    "        e = mid - 1 \n",
    "    else:\n",
    "        s = mid + 1 \n",
    "print(answer)\n",
    "# 이분 탐색 "
   ]
  },
  {
   "cell_type": "markdown",
   "metadata": {},
   "source": [
    "### 참고풀이"
   ]
  },
  {
   "cell_type": "code",
   "execution_count": 1,
   "metadata": {},
   "outputs": [],
   "source": [
    "# lt와 rt가 뭔지 \n",
    "# lt는 한 dvd에 들어갈 수 있는 용량 rt는 한 dvd에 모두 들어갈 수 있을 때 \n",
    "# 조건을 만족하게 된다면 lt 혹은 rt를 갱신하면서 진행 "
   ]
  },
  {
   "cell_type": "code",
   "execution_count": 4,
   "metadata": {},
   "outputs": [],
   "source": [
    "def Count(mid):\n",
    "    cnt = 1 \n",
    "    sum_ = 0 \n",
    "    # 누적 시간 \n",
    "    for x in music:\n",
    "        if sum_+x > mid:\n",
    "            # 더이상 현재 dvd에는 넣을 수 없음 즉 용량 초과 \n",
    "            cnt += 1 \n",
    "            sum_ = x \n",
    "            # 새롭게 초기화 \n",
    "        else:\n",
    "            sum_ += x \n",
    "    return cnt "
   ]
  },
  {
   "cell_type": "code",
   "execution_count": 5,
   "metadata": {},
   "outputs": [
    {
     "name": "stdout",
     "output_type": "stream",
     "text": [
      "17\n"
     ]
    }
   ],
   "source": [
    "n,m = map(int, input().split())\n",
    "music = list(map(int, input().split()))\n",
    "\n",
    "lt = 1 \n",
    "rt = sum(music)\n",
    "res = 0 \n",
    "while lt <= rt:\n",
    "    mid = (lt + rt) // 2 \n",
    "    if Count(mid) <= m:\n",
    "        res = mid \n",
    "        rt = mid - 1 \n",
    "        \n",
    "    else:\n",
    "        lt = mid + 1 \n",
    "print(res)"
   ]
  },
  {
   "cell_type": "markdown",
   "metadata": {},
   "source": [
    "### 마굿간 정하기 \n",
    "- N개의 마구간이 수직선상에 있습니다. 각 마구간은 x1, x2, x3, ......, xN의 좌표를 가지며, 마 구간간에 좌표가 중복되는 일은 없습니다.\n",
    "- 현수는 C마리의 말을 가지고 있는데, 이 말들은 서로 가까이 있는 것을 좋아하지 않습니다. 각 마구간에는 한 마리의 말만 넣을 수 있고, 가장 가까운 두 말의 거리가 최대가 되게 말을 마구간에 배치하고 싶습니다.\n",
    "- C마리의 말을 N개의 마구간에 배치했을 때 가장 가까운 두 말의 거리가 최대가 되는 그 최대 값을 출력하는 프로그램을 작성하세요.\n",
    "\n",
    "<hr>\n",
    "\n",
    "- 첫 줄에 자연수 N(3<=N<=200,000)과 C(2<=C<=N)이 공백을 사이에 두고 주어집니다. 둘째 줄부터 N개의 줄에 걸쳐 마구간의 좌표 xi(0<=xi<=1,000,000,000)가 한 줄에 하나씩 주어집니다.\n"
   ]
  },
  {
   "cell_type": "code",
   "execution_count": 6,
   "metadata": {},
   "outputs": [],
   "source": [
    "# 잘모르겠음 ... \n",
    "# 거리가 최소 최대를 lt,rt로 지정하고 mid를 지정 \n",
    "# mid의 뜻은 가장 가까운 말들의 거리를 의미 \n",
    "# 이제 말들을 배치해서 말들의 거리를 비교해서 mid 조건을 통과하게 되면 \n",
    "# 그것이 가장 가까운 말들의 거리\n",
    "# mid 조건을 통과하지 못하게 된다면 lt, rt 갱신 \n"
   ]
  },
  {
   "cell_type": "code",
   "execution_count": 19,
   "metadata": {},
   "outputs": [],
   "source": [
    "n, m = map(int, input().split())\n",
    "li = [] \n",
    "for i in range(n):\n",
    "    li.append(int(input()))"
   ]
  },
  {
   "cell_type": "code",
   "execution_count": 42,
   "metadata": {},
   "outputs": [],
   "source": [
    "li.sort()"
   ]
  },
  {
   "cell_type": "code",
   "execution_count": 43,
   "metadata": {},
   "outputs": [],
   "source": [
    "def Count(mid):\n",
    "    cnt = 1\n",
    "    e = 0 \n",
    "    # 기준 변수 \n",
    "    for i in range(len(li)):\n",
    "        if li[i] - li[e] >= mid:\n",
    "            cnt += 1 \n",
    "            e = i \n",
    "            # 기준 변수 갱신 \n",
    "    return cnt "
   ]
  },
  {
   "cell_type": "code",
   "execution_count": 48,
   "metadata": {},
   "outputs": [
    {
     "name": "stdout",
     "output_type": "stream",
     "text": [
      "4\n"
     ]
    }
   ],
   "source": [
    "lt = min(li)\n",
    "rt = max(li)\n",
    "res = 0 \n",
    "\n",
    "while lt <= rt:\n",
    "    mid = (lt + rt) // 2 \n",
    "\n",
    "    if Count(mid) >= m:\n",
    "        res = mid \n",
    "        lt += 1 \n",
    "    else:\n",
    "        rt -= 1 \n",
    "print(mid)\n",
    "# 안되네 "
   ]
  },
  {
   "cell_type": "markdown",
   "metadata": {},
   "source": [
    "### 참고 풀이"
   ]
  },
  {
   "cell_type": "code",
   "execution_count": 49,
   "metadata": {},
   "outputs": [],
   "source": [
    "n, m = map(int, input().split())\n",
    "li = [] \n",
    "for i in range(n):\n",
    "    li.append(int(input()))"
   ]
  },
  {
   "cell_type": "code",
   "execution_count": 55,
   "metadata": {},
   "outputs": [],
   "source": [
    "def Count(mid):\n",
    "    cnt = 1 \n",
    "    ep = li[0]\n",
    "\n",
    "    for i in range(1, len(li)):\n",
    "        if li[i] - ep >= mid:\n",
    "            # 이렇게 하면 말을 배치할 수 있음 \n",
    "            cnt += 1 \n",
    "            ep = li[i]\n",
    "    return cnt "
   ]
  },
  {
   "cell_type": "code",
   "execution_count": 56,
   "metadata": {},
   "outputs": [
    {
     "name": "stdout",
     "output_type": "stream",
     "text": [
      "3\n"
     ]
    }
   ],
   "source": [
    "li.sort()\n",
    "lt = 1 \n",
    "rt = li[n-1]\n",
    "# 끝 좌표 \n",
    "res = 0 \n",
    "\n",
    "while lt<= rt:\n",
    "    mid = (lt + rt) // 2 \n",
    "    if Count(mid) >= m:\n",
    "        res = mid \n",
    "        lt = mid + 1 \n",
    "    else:\n",
    "        rt = mid - 1 \n",
    "print(res)\n",
    "# lt,rt를 조금씩 갱신해서 문제가 발생한건가"
   ]
  },
  {
   "cell_type": "markdown",
   "metadata": {},
   "source": [
    "### 회의실 배정(그리디)\n",
    "\n",
    "- 한 개의 회의실이 있는데 이를 사용하고자 하는 n개의 회의들에 대하여 회의실 사용표를 만들 려고 한다. \n",
    "- 각 회의에 대해 시작시간과 끝나는 시간이 주어져 있고, 각 회의가 겹치지 않게 하 면서 회의실을 사용할 수 있는 최대수의 회의를 찾아라. \n",
    "- 단, 회의는 한번 시작하면 중간에 중 단될 수 없으며 한 회의가 끝나는 것과 동시에 다음 회의가 시작될 수 있다.\n",
    "\n",
    "<hr>\n",
    "\n",
    "- 첫째 줄에 회의의 수 n(1<=n<=100,000)이 주어진다. 둘째 줄부터 n+1 줄까지 각 회의의 정 보가 주어지는데 이것은 공백을 사이에 두고 회의의 시작시간과 끝나는 시간이 주어진다."
   ]
  },
  {
   "cell_type": "code",
   "execution_count": 57,
   "metadata": {},
   "outputs": [],
   "source": [
    "# 하나의 투플의 끝과 새로운 투플의 시작이 같은 경우 count 진행 "
   ]
  },
  {
   "cell_type": "code",
   "execution_count": 59,
   "metadata": {},
   "outputs": [],
   "source": [
    "n=int(input())\n",
    "m=[]\n",
    "for i in range(n):\n",
    "    a, b=map(int, input().split())\n",
    "    m.append((a, b))"
   ]
  },
  {
   "cell_type": "code",
   "execution_count": 68,
   "metadata": {},
   "outputs": [
    {
     "data": {
      "text/plain": [
       "[(1, 4), (2, 3), (3, 5), (4, 6), (5, 7)]"
      ]
     },
     "execution_count": 68,
     "metadata": {},
     "output_type": "execute_result"
    }
   ],
   "source": [
    "m"
   ]
  },
  {
   "cell_type": "code",
   "execution_count": 92,
   "metadata": {},
   "outputs": [
    {
     "name": "stdout",
     "output_type": "stream",
     "text": [
      "0 4 4\n",
      "1 3 3\n",
      "1 3 5\n",
      "2 5 5\n"
     ]
    }
   ],
   "source": [
    "t_c = []\n",
    "l = 0 \n",
    "while True:\n",
    "\n",
    "    cnt = 1 \n",
    "    s = l\n",
    "    for i in range(l, len(m)):\n",
    "\n",
    "        if m[s][1] <= m[i][0]:\n",
    "            # 첫 숫자와 끝 숫자가 크거나 같다면  \n",
    "            \n",
    "            cnt += 1 \n",
    "            s = i\n",
    "            # 값 갱신 \n",
    "            print(l,m[l][1], m[i][0])\n",
    "    t_c.append(cnt)\n",
    "    # 모든 경우의 수를 저장하는 리스트 \n",
    "\n",
    "    l += 1 \n",
    "    if l >= len(m):\n",
    "        break\n",
    "    # 종료 조건 \n"
   ]
  },
  {
   "cell_type": "code",
   "execution_count": 93,
   "metadata": {},
   "outputs": [
    {
     "data": {
      "text/plain": [
       "[2, 3, 2, 1, 1]"
      ]
     },
     "execution_count": 93,
     "metadata": {},
     "output_type": "execute_result"
    }
   ],
   "source": [
    "t_c"
   ]
  },
  {
   "cell_type": "code",
   "execution_count": 94,
   "metadata": {},
   "outputs": [
    {
     "name": "stdout",
     "output_type": "stream",
     "text": [
      "3\n"
     ]
    }
   ],
   "source": [
    "print(max(t_c))\n",
    "# 틀린것 같은데 너무 야매로 풀었는데 "
   ]
  },
  {
   "cell_type": "markdown",
   "metadata": {},
   "source": [
    "### 참고 풀이"
   ]
  },
  {
   "cell_type": "code",
   "execution_count": 95,
   "metadata": {},
   "outputs": [
    {
     "data": {
      "text/plain": [
       "'그리디 알고리즘 \\n- 문제를 풀어나가는 과정에서 해당 단계에서 현재 가장 좋은게 무엇인지 알고 선택하는 알고리즘 \\n'"
      ]
     },
     "execution_count": 95,
     "metadata": {},
     "output_type": "execute_result"
    }
   ],
   "source": [
    "'''그리디 알고리즘 \n",
    "- 문제를 풀어나가는 과정에서 해당 단계에서 현재 가장 좋은게 무엇인지 알고 선택하는 알고리즘 \n",
    "- 대부분의 그리디 알고리즘은 정렬임 \n",
    "'''\n",
    "# 회의가 끝나는 시간을 기준으로 정렬 문제의 핵심이 회의를 최대한 많이 하기 위해서임으로 끝나는 시간에 중점 \n",
    "# 끝나는 시간을 기록하고 그 다음 회의의 시작 시간을 비교하여 크거나 같다면 회의 진행 가능 \n"
   ]
  },
  {
   "cell_type": "code",
   "execution_count": 96,
   "metadata": {},
   "outputs": [],
   "source": [
    "n = int(input())\n",
    "meeting = [] \n",
    "for i in range(n):\n",
    "    s, e = map(int, input().split())\n",
    "    meeting.append((s,e))"
   ]
  },
  {
   "cell_type": "code",
   "execution_count": 97,
   "metadata": {},
   "outputs": [],
   "source": [
    "meeting.sort(key=lambda x : (x[1], x[0]))\n",
    "# 매개변수 x의 1번 인덱스를 첫번째 우선순위로 하고 정렬하고 이후에 0번 인덱스를 기준으로 정렬 "
   ]
  },
  {
   "cell_type": "code",
   "execution_count": 98,
   "metadata": {},
   "outputs": [
    {
     "name": "stdout",
     "output_type": "stream",
     "text": [
      "[(2, 3), (1, 4), (3, 5), (4, 6), (5, 7)]\n"
     ]
    }
   ],
   "source": [
    "print(meeting)"
   ]
  },
  {
   "cell_type": "code",
   "execution_count": 100,
   "metadata": {},
   "outputs": [
    {
     "name": "stdout",
     "output_type": "stream",
     "text": [
      "3\n"
     ]
    }
   ],
   "source": [
    "et = 0 \n",
    "# 회의의 끝나는 시간 \n",
    "cnt = 0 \n",
    "\n",
    "for s, e in meeting:\n",
    "    if s >= et:\n",
    "        # 시작시간이 끝나는 시간보다 크거나 같아야함 \n",
    "        # 왜냐면 그래야 회의를 계속 진행할 수 있음 \n",
    "\n",
    "        et = e \n",
    "        cnt += 1 \n",
    "    # 끝나는 시간을 갱신 \n",
    "print(cnt)\n",
    "# 나는 엄청 어렵게 풀었는데 정렬 한번으로 쉽게 할 수 있네 \n",
    "# 문제를 풀기 전에 조금 더 생각을 해보자 \n",
    "# 아직 생각을 많이 안하는것 같다."
   ]
  },
  {
   "cell_type": "code",
   "execution_count": null,
   "metadata": {},
   "outputs": [],
   "source": []
  }
 ],
 "metadata": {
  "kernelspec": {
   "display_name": "Python 3.9.1 64-bit ('3.9.1')",
   "language": "python",
   "name": "python3"
  },
  "language_info": {
   "codemirror_mode": {
    "name": "ipython",
    "version": 3
   },
   "file_extension": ".py",
   "mimetype": "text/x-python",
   "name": "python",
   "nbconvert_exporter": "python",
   "pygments_lexer": "ipython3",
   "version": "3.9.1"
  },
  "orig_nbformat": 4,
  "vscode": {
   "interpreter": {
    "hash": "b29909ae39fc17549a84839997d927dda790dc9d9d25402f3e010c02e8c51a82"
   }
  }
 },
 "nbformat": 4,
 "nbformat_minor": 2
}
