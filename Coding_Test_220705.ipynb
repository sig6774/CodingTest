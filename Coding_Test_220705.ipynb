{
 "cells": [
  {
   "cell_type": "markdown",
   "metadata": {},
   "source": [
    "### 이분검색 "
   ]
  },
  {
   "cell_type": "code",
   "execution_count": 29,
   "metadata": {},
   "outputs": [],
   "source": [
    "N, M = map(int, input().split())\n",
    "nums = list(map(int, input().split()))"
   ]
  },
  {
   "cell_type": "code",
   "execution_count": 30,
   "metadata": {},
   "outputs": [
    {
     "name": "stdout",
     "output_type": "stream",
     "text": [
      "8 32\n",
      "[23, 87, 65, 12, 57, 32, 99, 81]\n"
     ]
    }
   ],
   "source": [
    "print(N,M)\n",
    "print(nums)"
   ]
  },
  {
   "cell_type": "code",
   "execution_count": 8,
   "metadata": {},
   "outputs": [],
   "source": [
    "# 오름차순 정렬부터 진행 \n",
    "# 이분검색 : 배열을 반으로 나눠 검색을 진행하는 것을 반복함으로써 특정 수를 찾아나가는 방법 "
   ]
  },
  {
   "cell_type": "code",
   "execution_count": 31,
   "metadata": {},
   "outputs": [
    {
     "name": "stdout",
     "output_type": "stream",
     "text": [
      "[12, 23, 32, 57, 65, 81, 87, 99]\n"
     ]
    }
   ],
   "source": [
    "nums.sort()\n",
    "print(nums)\n",
    "l = len(nums) // 2 "
   ]
  },
  {
   "cell_type": "code",
   "execution_count": 32,
   "metadata": {},
   "outputs": [
    {
     "name": "stdout",
     "output_type": "stream",
     "text": [
      "[12, 23, 32, 57, 65, 81, 87, 99]\n"
     ]
    }
   ],
   "source": [
    "print(nums)"
   ]
  },
  {
   "cell_type": "code",
   "execution_count": 33,
   "metadata": {},
   "outputs": [
    {
     "name": "stdout",
     "output_type": "stream",
     "text": [
      "4\n",
      "[12, 23, 32, 57]\n",
      "2\n"
     ]
    }
   ],
   "source": [
    "cnt = 0\n",
    "while True:\n",
    "    l = len(nums) // 2 \n",
    "    print(l)\n",
    "    if nums[l] == M:\n",
    "        break \n",
    "    if nums[l] >= M:\n",
    "        nums = nums[:l]\n",
    "        print(nums)\n",
    "        \n",
    "        cnt += 1 \n",
    "    else:\n",
    "        nums = nums[l:]\n",
    "        print(nums)\n",
    "        \n",
    "        cnt += 1 \n",
    "# 이분검색을 진행했을 때 특정값을 찾기위해 진행한 횟수 "
   ]
  },
  {
   "cell_type": "markdown",
   "metadata": {},
   "source": [
    "- 주어진 숫자 중 3개의 수를 더했을 때 소수가 되는 경우의 개수를 구하려고 합니다. 숫자들이 들어있는 배열 nums가 매개변수로 주어질 때, nums에 있는 숫자들 중 서로 다른 3개를 골라 더했을 때 소수가 되는 경우의 개수를 return 하도록 solution 함수를 완성해주세요.\n",
    "\n",
    "- nums에 들어있는 숫자의 개수는 3개 이상 50개 이하입니다.\n",
    "- nums의 각 원소는 1 이상 1,000 이하의 자연수이며, 중복된 숫자가 들어있지 않습니다."
   ]
  },
  {
   "cell_type": "code",
   "execution_count": 38,
   "metadata": {},
   "outputs": [
    {
     "data": {
      "text/plain": [
       "[1, 2, 7, 6, 4]"
      ]
     },
     "execution_count": 38,
     "metadata": {},
     "output_type": "execute_result"
    }
   ],
   "source": [
    "d = [1,2,7,6,4]\n",
    "d"
   ]
  },
  {
   "cell_type": "code",
   "execution_count": 49,
   "metadata": {},
   "outputs": [
    {
     "name": "stdout",
     "output_type": "stream",
     "text": [
      "[10, 9, 7, 14, 12, 11, 15, 13, 12, 17]\n"
     ]
    }
   ],
   "source": [
    "# 더할 수 있는 모든 경우의수를 구해야함 \n",
    "# 이후 각 수가 소수인지 판단 \n",
    "sum_num = []\n",
    "for i in range(len(d)):\n",
    "    for j in range(i+1, len(d)):\n",
    "        for k in range(j+1, len(d)):\n",
    "            s = 0\n",
    "            s += d[i] + d[j] + d[k]\n",
    "            sum_num.append(s)\n",
    "print(sum_num)"
   ]
  },
  {
   "cell_type": "code",
   "execution_count": 72,
   "metadata": {},
   "outputs": [
    {
     "name": "stdout",
     "output_type": "stream",
     "text": [
      "4\n"
     ]
    }
   ],
   "source": [
    "cnt = 0 \n",
    "\n",
    "total_cnt = 0\n",
    "for i in sum_num:\n",
    "    cnt = 0 \n",
    "    for j in range(2, i):\n",
    "        if i % j == 0:\n",
    "            cnt += 1  \n",
    "    \n",
    "    if cnt == 0:\n",
    "        total_cnt += 1 \n",
    "print(total_cnt)"
   ]
  },
  {
   "cell_type": "code",
   "execution_count": 73,
   "metadata": {},
   "outputs": [],
   "source": [
    "def solution(nums):\n",
    "    sum_num = [] \n",
    "    for i in range(len(nums)):\n",
    "        for j in range(i+1, len(nums)):\n",
    "            for k in range(j+1, len(nums)):\n",
    "                s = 0 \n",
    "                s += nums[i] + nums[j] + nums[k]\n",
    "                sum_num.append(s)\n",
    "\n",
    "    total_cnt = 0 \n",
    "    for i in sum_num:\n",
    "        cnt = 0 \n",
    "        for j in range(2, i):\n",
    "            if i % j == 0 :\n",
    "                cnt += 1 \n",
    "        if cnt == 0:\n",
    "            total_cnt += 1\n",
    "    return total_cnt"
   ]
  },
  {
   "cell_type": "markdown",
   "metadata": {},
   "source": [
    "- 0부터 9까지의 숫자 중 일부가 들어있는 정수 배열 numbers가 매개변수로 주어집니다. numbers에서 찾을 수 없는 0부터 9까지의 숫자를 모두 찾아 더한 수를 return 하도록 solution 함수를 완성해주세요.\n"
   ]
  },
  {
   "cell_type": "code",
   "execution_count": 74,
   "metadata": {},
   "outputs": [
    {
     "name": "stdout",
     "output_type": "stream",
     "text": [
      "[1, 2, 3, 4, 6, 7, 8, 0]\n"
     ]
    }
   ],
   "source": [
    "# 0~9까지 모든 수가 들어있는 배열 하나 선언 \n",
    "# 모든 값이 들어있는 배열과 입력으로 들어온 배열을 비교해서 그 값이 있는지 판단해서 없으면 더해줌 \n",
    "numbers = [1,2,3,4,6,7,8,0]\n",
    "print(numbers)"
   ]
  },
  {
   "cell_type": "code",
   "execution_count": 76,
   "metadata": {},
   "outputs": [],
   "source": [
    "def solution(numbers):\n",
    "    a = list(i for i in range(0,10))\n",
    "    for i in numbers:\n",
    "        a.pop(a.index(i))\n",
    "    \n",
    "    return sum(a)\n",
    "# pop과 index를 활용해서 인덱스 번호를 활용해 없앤 후 남은 값 더해주면 그 값이 입력한 배열에서 없는 값의 합이 됨\n"
   ]
  }
 ],
 "metadata": {
  "kernelspec": {
   "display_name": "Python 3.9.1 64-bit ('3.9.1')",
   "language": "python",
   "name": "python3"
  },
  "language_info": {
   "codemirror_mode": {
    "name": "ipython",
    "version": 3
   },
   "file_extension": ".py",
   "mimetype": "text/x-python",
   "name": "python",
   "nbconvert_exporter": "python",
   "pygments_lexer": "ipython3",
   "version": "3.9.1"
  },
  "orig_nbformat": 4,
  "vscode": {
   "interpreter": {
    "hash": "b29909ae39fc17549a84839997d927dda790dc9d9d25402f3e010c02e8c51a82"
   }
  }
 },
 "nbformat": 4,
 "nbformat_minor": 2
}
