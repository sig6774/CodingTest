{
 "cells": [
  {
   "cell_type": "markdown",
   "metadata": {},
   "source": [
    "### 점수 계산 \n",
    "- OX 문제는 맞거나 틀린 두 경우의 답을 가지는 문제를 말한다. \n",
    "- 여러 개의 OX 문제로 만들어진 시험에서 연속적으로 답을 맞히는 경우에는 가산점을 주기 위해서 다음과 같이 점수 계산을 하기 로 하였다. \n",
    "- 1번 문제가 맞는 경우에는 1점으로 계산한다. 앞의 문제에 대해서는 답을 틀리다가 답이 맞는 처음 문제는 1점으로 계산한다. \n",
    "- 또한, 연속으로 문제의 답이 맞는 경우에서 두 번째 문제는 2점, 세 번째 문제는 3점, ..., K번째 문제는 K점으로 계산한다. 틀린 문제는 0점으로 계 산한다.\n",
    "- 예를 들어, 아래와 같이 10 개의 OX 문제에서 답이 맞은 문제의 경우에는 1로 표시하고, 틀린 경 우에는 0으로 표시하였을 때, 점수 계산은 아래 표와 같이 계산되어, \n",
    "- 총 점수는 1+1+2+3+1+2=10 점이다.\n",
    "\n",
    "<hr>\n",
    "\n",
    "- 첫째 줄에 문제의 개수 N (1 ≤ N ≤ 100)이 주어진다. 둘째 줄에는 N개 문제의 채점 결과를 나 타내는 0 혹은 1이 빈 칸을 사이에 두고 주어진다. \n",
    "- 0은 문제의 답이 틀린 경우이고, 1은 문제의 답이 맞는 경우이다.\n",
    "\n",
    "- 첫째 줄에 입력에서 주어진 채점 결과에 대하여 가산점을 고려한 총 점수를 출력한다.\n"
   ]
  },
  {
   "cell_type": "code",
   "execution_count": 8,
   "metadata": {},
   "outputs": [
    {
     "name": "stdout",
     "output_type": "stream",
     "text": [
      "[1, 0, 1, 1, 1, 0, 0, 1, 1, 0]\n",
      "10\n"
     ]
    }
   ],
   "source": [
    "# 생각이 안나서 참고 ..\n",
    "n = int(input())\n",
    "a = list(map(int, input().split()))\n",
    "sum = 0 \n",
    "cnt = 0\n",
    "print(a)\n",
    "for x in a:\n",
    "    if x == 1:\n",
    "        cnt += 1 \n",
    "        sum += cnt \n",
    "    else:\n",
    "        cnt = 0\n",
    "        # 아!!! 반복문을 돌면서 다시 1이 아닐떄는 cnt를 0으로 초기화 시켜주면 되네 \n",
    "        # 나는 앞 뒤 비교를 통해서 1인지 아닌지 계속 판단할려고 했는데 \n",
    "print(sum)"
   ]
  },
  {
   "cell_type": "markdown",
   "metadata": {},
   "source": [
    "### 회문 문자열 검사 \n",
    "- N개의 문자열 데이터를 입력받아 앞에서 읽을 때나 뒤에서 읽을 때나 같은 경우(회문 문자열) 이면 YES를 출력하고 회문 문자열이 아니면 NO를 출력하는 프로그램을 작성한다.\n",
    "- 단 회문을 검사할 때 대소문자를 구분하지 않습니다.\n",
    "<hr>\n",
    "\n",
    "- 첫 줄에 정수 N(1<=N<=20)이 주어지고, 그 다음 줄부터 N개의 단어가 입력된다. 각 단어의 - 길이는 100을 넘지 않는다.\n",
    "- 각 줄에 해당 문자열의 결과를 YES 또는 NO로 출력한다."
   ]
  },
  {
   "cell_type": "code",
   "execution_count": 18,
   "metadata": {},
   "outputs": [
    {
     "name": "stdout",
     "output_type": "stream",
     "text": [
      "level level\n",
      "True\n",
      "moon noom\n",
      "False\n"
     ]
    }
   ],
   "source": [
    "# 입력받은 문자열 모두 소문자 변환 \n",
    "# 변환환 문자를 반복문을 활용해서 거꾸로 변환 \n",
    "# 회문 문자열인지 비교 후 True or False 출력 \n",
    "\n",
    "n = int(input())\n",
    "for i in range(n):\n",
    "    # 입력받은 수만큼 문자열 입력 \n",
    "    s = input()\n",
    "\n",
    "    lower_s = s.lower() \n",
    "    # 입력받은 문자 소문자 변환 \n",
    "    re_s = ''\n",
    "    for i in range(len(lower_s)-1, -1, -1):\n",
    "        # 문자열을 거꾸로 변환하기 위해 반복문 진행 \n",
    "        re_s += lower_s[i]\n",
    "        # 문자는 문자끼리는 더하기 연산이 가능함 \n",
    "\n",
    "    if re_s == lower_s:\n",
    "        print(True)\n",
    "    else:\n",
    "        print(False)"
   ]
  },
  {
   "cell_type": "markdown",
   "metadata": {},
   "source": [
    "### 참고 풀이"
   ]
  },
  {
   "cell_type": "code",
   "execution_count": null,
   "metadata": {},
   "outputs": [],
   "source": [
    "n = int(input())\n",
    "for i in range(n):\n",
    "    s = input() \n",
    "    s = s.upper() \n",
    "    size = len(s)\n",
    "    for j in range(size // 2):\n",
    "        if s[j] != s[-1-j]: # <- 이게 key \n",
    "            print(\"#%d NO\" %(i+1))\n",
    "            break\n",
    "        # 처음과 끝이 같은지 비교하면서 진행하는게 연산에 더 효율적이겠네 \n",
    "        # 천잰데 ? \n",
    "    else:\n",
    "        print(\"#%d YES\" %(i+1))\n",
    "        # 회문이니깐 이렇게 출력 \n"
   ]
  },
  {
   "cell_type": "markdown",
   "metadata": {},
   "source": [
    "### 숫자만 추출\n",
    "- 문자와 숫자가 섞여있는 문자열이 주어지면 그 중 숫자만 추출하여 그 순서대로 자연수를 만듭니다. 만들어진 자연수와 그 자연수의 약수 개수를 출력합니다.\n",
    "- 만약 “t0e0a1c2h0er”에서 숫자만 추출하면 0, 0, 1, 2, 0이고 이것을 자연수를 만들면 120이 됩니다.즉 첫자리0은자연수화할때무시합니다. \n",
    "- 출력은120를출력하고,다음줄에120 의 약수의 개수를 출력하면 됩니다.\n",
    "- 추출하여 만들어지는 자연수는 100,000,000을 넘지 않습니다.\n",
    "\n",
    "<hr>\n",
    "\n",
    "- 첫 줄에 숫자가 썩인 문자열이 주어집니다. 문자열의 길이는 50을 넘지 않습니다.\n",
    "- 첫 줄에 자연수를 출력하고, 두 번째 줄에 약수의 개수를 출력합니다."
   ]
  },
  {
   "cell_type": "code",
   "execution_count": 3,
   "metadata": {},
   "outputs": [],
   "source": [
    "# 문자에서 숫자를 추출 \n",
    "# 정규표현식을 사용해서 re.sub()이걸로 문자열을 제외하고 숫자만 가져올 수 있음 \n",
    "# 이후 가져온 숫자를 합쳐서 앞에 0을 제거 \n",
    "# 이후 만들어진 숫자의 약수의 개수 출력 "
   ]
  },
  {
   "cell_type": "code",
   "execution_count": 10,
   "metadata": {},
   "outputs": [
    {
     "name": "stdout",
     "output_type": "stream",
     "text": [
      "028\n",
      "28\n",
      "6\n"
     ]
    }
   ],
   "source": [
    "import re \n",
    "text = \"g0en2Ts8eSoft\"\n",
    "ext_text = re.sub(r\"[a-zA-Z]\", \"\" ,text)\n",
    "print(ext_text)\n",
    "\n",
    "print(ext_text.lstrip(\"0\"))\n",
    "ext_text = int(ext_text.lstrip(\"0\"))\n",
    "\n",
    "cnt = 0\n",
    "for i in range(1, ext_text+1):\n",
    "    if ext_text % i == 0:\n",
    "        cnt += 1\n",
    "print(cnt)\n",
    "# 기초 코드는 다 만들었음"
   ]
  },
  {
   "cell_type": "code",
   "execution_count": 11,
   "metadata": {},
   "outputs": [],
   "source": [
    "def ext_int(text):\n",
    "    import re \n",
    "    ext_int = re.sub(r\"[a-zA-Z]\", \"\", text)\n",
    "    # 정규표현식을 사용해서 문자 제거 \n",
    "\n",
    "    trans_int = int(ext_int.lstrip(\"0\"))\n",
    "    # 왼쪽에 0이 존재한다면 그것을 제거하고 문자열을 정수형으로 변환 \n",
    "    return trans_int\n",
    "\n",
    "def divisor_cnt(num):\n",
    "    cnt = 0 \n",
    "    for i in range(1, num+1):\n",
    "        if num % i == 0:\n",
    "            cnt += 1 \n",
    "        # 약수의 개수를 count\n",
    "    return cnt"
   ]
  },
  {
   "cell_type": "code",
   "execution_count": 14,
   "metadata": {},
   "outputs": [
    {
     "name": "stdout",
     "output_type": "stream",
     "text": [
      "28\n",
      "6\n"
     ]
    }
   ],
   "source": [
    "text = input() \n",
    "print(ext_int(text))\n",
    "print(divisor_cnt(ext_int(text)))\n",
    "# 함수 만들어서 간결하게 해봄 "
   ]
  },
  {
   "cell_type": "markdown",
   "metadata": {},
   "source": [
    "### 참고풀이 "
   ]
  },
  {
   "cell_type": "code",
   "execution_count": 16,
   "metadata": {},
   "outputs": [
    {
     "name": "stdout",
     "output_type": "stream",
     "text": [
      "28\n",
      "6\n"
     ]
    }
   ],
   "source": [
    "s = input() \n",
    "res = 0\n",
    "for x in s:\n",
    "    if x.isdecimal():\n",
    "    # isdecimal()은 숫자와 문자가 섞인 문자열에서 숫자만 찾아줌\n",
    "        res = res*10 + int(x)\n",
    "        # 이렇게 작성하면 문자열을 숫자로 변환할 수 있음\n",
    "print(res)\n",
    "\n",
    "cnt = 0 \n",
    "for i in range(1, res+1):\n",
    "    if res % i == 0:\n",
    "        cnt += 1 \n",
    "print(cnt)"
   ]
  },
  {
   "cell_type": "markdown",
   "metadata": {},
   "source": [
    "### 참고 \n",
    "- Paste Image를 활용해서 이미지 가져올 수 있음 \n",
    "- option+command+v 사용해서 붙여넣기"
   ]
  },
  {
   "cell_type": "markdown",
   "metadata": {},
   "source": [
    "### 카드 역배치(정올 기출)\n",
    "![](2022-06-30-20-24-30.png)"
   ]
  },
  {
   "cell_type": "code",
   "execution_count": 19,
   "metadata": {},
   "outputs": [],
   "source": [
    "# 구간을 뜻하는 숫자가 입력될 떄 마다 해당 구간을 숫자를 역순으로 만듬\n",
    "# 역순으로 만든 값을 원래 리스트에 넣어줌 \n",
    "# 해당 과정을 반복 "
   ]
  },
  {
   "cell_type": "code",
   "execution_count": 30,
   "metadata": {},
   "outputs": [
    {
     "name": "stdout",
     "output_type": "stream",
     "text": [
      "[0, 1, 2, 3, 4, 5, 6, 7, 8, 9, 10, 11, 12, 13, 14, 15, 16, 17, 18, 19, 20]\n"
     ]
    }
   ],
   "source": [
    "card = [0, 1,2,3,4,5,6,7,8,9,10,11,12,13,14,15,16,17,18,19,20]\n",
    "# 인덱스의 값과 숫자랑 맞추기 위해서 0추가 \n",
    "print(card)"
   ]
  },
  {
   "cell_type": "code",
   "execution_count": 22,
   "metadata": {},
   "outputs": [
    {
     "data": {
      "text/plain": [
       "5"
      ]
     },
     "execution_count": 22,
     "metadata": {},
     "output_type": "execute_result"
    }
   ],
   "source": [
    "a, b = 5,10\n"
   ]
  },
  {
   "cell_type": "code",
   "execution_count": 27,
   "metadata": {},
   "outputs": [
    {
     "name": "stdout",
     "output_type": "stream",
     "text": [
      "[5, 6, 7, 8, 9, 10]\n",
      "[10, 9, 8, 7, 6, 5]\n",
      "[0, 1, 2, 3, 4, 10, 9, 8, 7, 6, 5, 11, 12, 13, 14, 15, 16, 17, 18, 19, 20]\n"
     ]
    }
   ],
   "source": [
    "print(card[a:b+1])\n",
    "new = card[a:b+1]\n",
    "new.reverse()\n",
    "print(new)\n",
    "\n",
    "# 반복문으로 역순배치한 값을 다시 넣어줌 \n",
    "for i in range(a, b+1):\n",
    "    card[i] = new[i-a]\n",
    "print(card)\n",
    "# 이 과정을 반복해주면 되는거 아닌가? "
   ]
  },
  {
   "cell_type": "code",
   "execution_count": 29,
   "metadata": {},
   "outputs": [],
   "source": [
    "# 함수 변환 \n",
    "def reverse_card(a,b, list):\n",
    "    re_num = list[a: b+1]\n",
    "    re_num.reverse() \n",
    "    # 값 역순 배치 \n",
    "\n",
    "    for i in range(a, b+1):\n",
    "        list[i] = re_num[i-a]\n",
    "        # 역순으로 배치한 값과 실제 값을 바꿔줌 \n",
    "    return list"
   ]
  },
  {
   "cell_type": "code",
   "execution_count": 31,
   "metadata": {},
   "outputs": [
    {
     "name": "stdout",
     "output_type": "stream",
     "text": [
      "[0, 1, 2, 3, 4, 10, 9, 8, 7, 6, 5, 11, 12, 13, 14, 15, 16, 17, 18, 19, 20]\n"
     ]
    }
   ],
   "source": [
    "# 테스트 \n",
    "print(reverse_card(5,10, card))\n",
    "print(reverse_card())"
   ]
  },
  {
   "cell_type": "code",
   "execution_count": 34,
   "metadata": {},
   "outputs": [
    {
     "name": "stdout",
     "output_type": "stream",
     "text": [
      "5 10\n",
      "9 13\n",
      "1 2\n",
      "3 4\n",
      "5 6\n",
      "1 2\n",
      "3 4\n",
      "5 6\n",
      "1 20\n",
      "1 20\n",
      "[1, 2, 3, 4, 10, 9, 8, 7, 13, 12, 11, 5, 6, 14, 15, 16, 17, 18, 19, 20]\n"
     ]
    }
   ],
   "source": [
    "card = [0,1,2,3,4,5,6,7,8,9,10,11,12,13,14,15,16,17,18,19,20]\n",
    "\n",
    "for i in range(10):\n",
    "    a, b = map(int, input().split())\n",
    "    print(a,b)\n",
    "    reverse_card(a, b, card )\n",
    "print(card[1:])\n",
    "# 정답인듯..?"
   ]
  },
  {
   "cell_type": "markdown",
   "metadata": {},
   "source": [
    "### 참고풀이"
   ]
  },
  {
   "cell_type": "code",
   "execution_count": 35,
   "metadata": {},
   "outputs": [
    {
     "name": "stdout",
     "output_type": "stream",
     "text": [
      "[1, 2, 3, 4, 10, 9, 8, 7, 13, 12, 11, 5, 6, 14, 15, 16, 17, 18, 19, 20]\n"
     ]
    }
   ],
   "source": [
    "# a,b = b,a\n",
    "# python의 swap \n",
    "a = list(range(21))\n",
    "# 0~20까지의 숫자 \n",
    "\n",
    "for _ in range(10):\n",
    "    s,e = map(int, input().split())\n",
    "    # 값을 바꾸기 위해서는 총 ((e-s+1)//2) 번의 연산이 진행 \n",
    "    for i in range((e-s+1)//2): # 이게 keypoint임 나는 이렇게 생각못함.. ㅠㅠㅠ \n",
    "        a[s+i], a[e-i] = a[e-i], a[s+i]\n",
    "        # swap 연산 진행 \n",
    "a.pop(0)\n",
    "# 0번 인덱스를 빼라 \n",
    "print(a)\n",
    "# 나는 reverse함수를 사용했는데 여기서는 swap을 사용했고 연산 횟수를 반으로 줄여서 진행 "
   ]
  },
  {
   "cell_type": "markdown",
   "metadata": {},
   "source": [
    "### 두 리스트 합치기\n",
    "- 오름차순으로 정렬이 된 두 리스트가 주어지면 두 리스트를 오름차순으로 합쳐 출력하는 프로 그램을 작성하세요.\n",
    "<hr>\n",
    "\n",
    "- 첫 번째 줄에 첫 번째 리스트의 크기 N(1<=N<=100)이 주어집니다. 두 번째 줄에 N개의 리스트 원소가 오름차순으로 주어집니다.\n",
    "- 세 번째 줄에 두 번째 리스트의 크기 M(1<=M<=100)이 주어집니다. 네 번째 줄에 M개의 리스트 원소가 오름차순으로 주어집니다.\n",
    "- 각 리스트의 원소는 int형 변수의 크기를 넘지 않습니다.\n",
    "\n",
    "- 오름차순으로 정렬된 리스트를 출력합니다."
   ]
  },
  {
   "cell_type": "code",
   "execution_count": 40,
   "metadata": {},
   "outputs": [
    {
     "name": "stdout",
     "output_type": "stream",
     "text": [
      "3\n",
      "[1, 3, 5]\n",
      "5\n",
      "[2, 3, 6, 7, 9]\n"
     ]
    }
   ],
   "source": [
    "# 입력된 숫자에 맞도록 오름차순으로 정렬된 리스트 들이 주어짐 \n",
    "# 그것을 일단 합쳐주고 정렬 진행\n",
    "total_li = []\n",
    "for i in range(2):\n",
    "    n = int(input())\n",
    "    print(n)\n",
    "    li = list(map(int, input().split()))\n",
    "    print(li)\n",
    "    total_li.append(li)"
   ]
  },
  {
   "cell_type": "code",
   "execution_count": 41,
   "metadata": {},
   "outputs": [
    {
     "name": "stdout",
     "output_type": "stream",
     "text": [
      "[1, 2, 3, 3, 5, 6, 7, 9]\n"
     ]
    }
   ],
   "source": [
    "sum_li = sum(total_li, [])\n",
    "sum_li.sort()\n",
    "print(sum_li)\n",
    "# 끝난거 같은데? \n"
   ]
  },
  {
   "cell_type": "markdown",
   "metadata": {},
   "source": [
    "### 참고풀이"
   ]
  },
  {
   "cell_type": "code",
   "execution_count": 42,
   "metadata": {},
   "outputs": [
    {
     "name": "stdout",
     "output_type": "stream",
     "text": [
      "[1, 2, 3, 3, 5, 6, 7, 9]\n"
     ]
    }
   ],
   "source": [
    "# 각 리스트를 가르킬 수 있는 포인터 변수를 2개 만들어서 그 변수로 각 값을 비교해서 넣어줌 \n",
    "n = int(input())\n",
    "a = list(map(int, input().split()))\n",
    "m = int(input())\n",
    "b = list(map(int, input().split()))\n",
    "\n",
    "p1=p2=0 \n",
    "c = []\n",
    "while p1 < n and p2 < m:\n",
    "    # 둘 중 하나가 n이나 m까지 가게 된다면 반복문 종료 \n",
    "    if a[p1] <= b [p2]:\n",
    "        c.append(a[p1])\n",
    "        p1 += 1\n",
    "    else:\n",
    "        c.append(b[p2])\n",
    "        p2 += 1 \n",
    "    \n",
    "# n,m 중 작은 수가 끝까지 가게 된다면 \n",
    "if p1 < n:\n",
    "    c = c+a[p1:]\n",
    "    # 남은 것 넣어줌 \n",
    "if p2 < m:\n",
    "    c = c+b[p2:]\n",
    "print(c)\n",
    "# 내가 작성한 것보다 이게 훨씬 더 효율적이네 "
   ]
  },
  {
   "cell_type": "code",
   "execution_count": null,
   "metadata": {},
   "outputs": [],
   "source": []
  }
 ],
 "metadata": {
  "kernelspec": {
   "display_name": "Python 3.9.12 ('base')",
   "language": "python",
   "name": "python3"
  },
  "language_info": {
   "codemirror_mode": {
    "name": "ipython",
    "version": 3
   },
   "file_extension": ".py",
   "mimetype": "text/x-python",
   "name": "python",
   "nbconvert_exporter": "python",
   "pygments_lexer": "ipython3",
   "version": "3.9.12"
  },
  "orig_nbformat": 4,
  "vscode": {
   "interpreter": {
    "hash": "4e56095587f6faaee8b6fe269bd4758f04d4dcfca17a97e0204e5c06e32115c1"
   }
  }
 },
 "nbformat": 4,
 "nbformat_minor": 2
}
