{
 "cells": [
  {
   "cell_type": "markdown",
   "metadata": {},
   "source": [
    "### 단어의 개수 \n",
    "- 영어 대소문자와 공백으로 이루어진 문자열이 주어진다. 이 문자열에는 몇 개의 단어가 있을까? 이를 구하는 프로그램을 작성하시오. 단, 한 단어가 여러 번 등장하면 등장한 횟수만큼 모두 세어야 한다.\n",
    "- 첫 줄에 영어 대소문자와 공백으로 이루어진 문자열이 주어진다. 이 문자열의 길이는 1,000,000을 넘지 않는다. 단어는 공백 한 개로 구분되며, 공백이 연속해서 나오는 경우는 없다. 또한 문자열은 공백으로 시작하거나 끝날 수 있다.\n",
    "\n"
   ]
  },
  {
   "cell_type": "code",
   "execution_count": 25,
   "metadata": {},
   "outputs": [
    {
     "name": "stdout",
     "output_type": "stream",
     "text": [
      "6\n"
     ]
    }
   ],
   "source": [
    "ch = input()\n",
    "\n",
    "split_ch = ch.split(\" \")\n",
    "set_ch = set(split_ch)\n",
    "word_set = {}\n",
    "\n",
    "for i in set_ch:\n",
    "    if i == \"\":\n",
    "        continue\n",
    "    # 공백이 나오면 패스 \n",
    "    word_set[i] = 0 \n",
    "# word단어사전 구축 \n",
    "\n",
    "for w in split_ch:\n",
    "    if w in word_set:\n",
    "        word_set[w] += 1 \n",
    "# 단어 등장 횟수 count \n",
    "\n",
    "cnt = 0 \n",
    "for i in word_set.values():\n",
    "    cnt += i \n",
    "print(cnt)\n",
    "# 단어 등장횟수 츨력 \n",
    "# 정답! "
   ]
  },
  {
   "cell_type": "code",
   "execution_count": 27,
   "metadata": {},
   "outputs": [
    {
     "name": "stdout",
     "output_type": "stream",
     "text": [
      "6\n"
     ]
    }
   ],
   "source": [
    "word = input().split()\n",
    "print(len(word))\n",
    "# 다른 사람 정답... \n",
    "# 맞네 len이 있었네... "
   ]
  },
  {
   "cell_type": "markdown",
   "metadata": {},
   "source": [
    "### 다이얼 \n",
    "- 전화를 걸고 싶은 번호가 있다면, 숫자를 하나를 누른 다음에 금속 핀이 있는 곳 까지 시계방향으로 돌려야 한다. 숫자를 하나 누르면 다이얼이 처음 위치로 돌아가고, 다음 숫자를 누르려면 다이얼을 처음 위치에서 다시 돌려야 한다.\n",
    "\n",
    "- 숫자 1을 걸려면 총 2초가 필요하다. 1보다 큰 수를 거는데 걸리는 시간은 이보다 더 걸리며, 한 칸 옆에 있는 숫자를 걸기 위해선 1초씩 더 걸린다.\n",
    "\n",
    "- 상근이의 할머니는 전화 번호를 각 숫자에 해당하는 문자로 외운다. 즉, 어떤 단어를 걸 때, 각 알파벳에 해당하는 숫자를 걸면 된다. 예를 들어, UNUCIC는 868242와 같다.\n",
    "\n",
    "- 할머니가 외운 단어가 주어졌을 때, 이 전화를 걸기 위해서 필요한 최소 시간을 구하는 프로그램을 작성하시오."
   ]
  },
  {
   "cell_type": "code",
   "execution_count": 30,
   "metadata": {},
   "outputs": [],
   "source": [
    "dial_set = {} \n",
    "alpha = \"ABCDEFGHIJKLMNOPQRSTUVWXYZ\"\n",
    "for i in alpha:\n",
    "    if i in (\"A\", \"B\", \"C\"):\n",
    "        dial_set[i] = 2\n",
    "    elif i in (\"D\", \"E\", \"F\"):\n",
    "        dial_set[i] = 3 \n",
    "    elif i in (\"G\", \"H\", \"I\"):\n",
    "        dial_set[i] = 4 \n",
    "    elif i in (\"J\", \"K\", \"L\"):\n",
    "        dial_set[i] = 5 \n",
    "    elif i in (\"M\", \"N\", \"O\"):\n",
    "        dial_set[i] = 6\n",
    "    elif i in (\"P\", \"Q\", \"R\", \"S\"):\n",
    "        dial_set[i] = 7 \n",
    "    elif i in (\"T\", \"U\", \"V\"):\n",
    "        dial_set[i] = 8 \n",
    "    elif i in (\"W\", \"X\", \"Y\", \"Z\"):\n",
    "        dial_set[i] = 9\n",
    "    else:\n",
    "        dial_set[i] = 10 "
   ]
  },
  {
   "cell_type": "code",
   "execution_count": 43,
   "metadata": {},
   "outputs": [
    {
     "name": "stdout",
     "output_type": "stream",
     "text": [
      "36\n"
     ]
    }
   ],
   "source": [
    "ch = input()\n",
    "\n",
    "cnt = 0\n",
    "for i in ch:\n",
    "    cnt += dial_set[i]\n",
    "    # 같으면 count 해줌 \n",
    "\n",
    "cnt += len(ch)\n",
    "# 최종 문자 길이도 더해야함 \n",
    "print(cnt)\n",
    "# 정답은 정답인데 너무 노가다스러운데... \n",
    "# 조금 더 효율적으로 짤 수 없을까? "
   ]
  },
  {
   "cell_type": "code",
   "execution_count": 44,
   "metadata": {},
   "outputs": [
    {
     "name": "stdout",
     "output_type": "stream",
     "text": [
      "13\n"
     ]
    }
   ],
   "source": [
    "alpabet_list = ['ABC','DEF','GHI','JKL','MNO','PQRS','TUV','WXYZ']\n",
    "word = input()\n",
    "\n",
    "time = 0\n",
    "for unit in alpabet_list :  \n",
    "    for i in unit:  # alpabet 리스트에서 각 요소를 꺼내서 한글자씩 분리\n",
    "        for x in word :  # 입력받은 문자를 하나씩 분리\n",
    "            if i == x :  # 두 알파벳이 같으면\n",
    "                time += alpabet_list.index(unit) +3  # time = time + index +3\n",
    "print(time)\n",
    "# 다른 사람 풀이 \n",
    "# 지린다 "
   ]
  },
  {
   "cell_type": "markdown",
   "metadata": {},
   "source": [
    "### 크로아티아 알파벳 \n",
    "- 예전에는 운영체제에서 크로아티아 알파벳을 입력할 수가 없었다. 따라서, 다음과 같이 크로아티아 알파벳을 변경해서 입력했다\n",
    "- 예를 들어, ljes=njak은 크로아티아 알파벳 6개(lj, e, š, nj, a, k)로 이루어져 있다. 단어가 주어졌을 때, 몇 개의 크로아티아 알파벳으로 이루어져 있는지 출력한다.\n",
    "\n",
    "- dž는 무조건 하나의 알파벳으로 쓰이고, d와 ž가 분리된 것으로 보지 않는다. lj와 nj도 마찬가지이다. 위 목록에 없는 알파벳은 한 글자씩 센다."
   ]
  },
  {
   "cell_type": "code",
   "execution_count": 154,
   "metadata": {},
   "outputs": [],
   "source": [
    "# =, -, j가 나오면 끊도록 해야겠네 \n",
    "st = input()"
   ]
  },
  {
   "cell_type": "code",
   "execution_count": 155,
   "metadata": {},
   "outputs": [
    {
     "name": "stdout",
     "output_type": "stream",
     "text": [
      "dz=ak\n"
     ]
    }
   ],
   "source": [
    "print(st)"
   ]
  },
  {
   "cell_type": "code",
   "execution_count": 156,
   "metadata": {},
   "outputs": [],
   "source": [
    "st1 = st\n",
    "st1 = st1.replace(\"c=\", \"c\")\n",
    "st1 = st1.replace(\"c-\", \"c\")\n",
    "st1 = st1.replace(\"lj\", \"l\")\n",
    "st1 = st1.replace(\"nj\", \"n\")\n",
    "st1 = st1.replace(\"d-\", \"d\")\n",
    "st1 = st1.replace(\"dz=\", \"d\")\n",
    "st1 = st1.replace(\"s=\", \"s\")\n",
    "st1 = st1.replace(\"z=\", \"z\")"
   ]
  },
  {
   "cell_type": "code",
   "execution_count": 157,
   "metadata": {},
   "outputs": [
    {
     "name": "stdout",
     "output_type": "stream",
     "text": [
      "3\n",
      "dak\n"
     ]
    }
   ],
   "source": [
    "print(len(st1))\n",
    "print(st1)\n",
    "# 이건 예제는 통과하는데 제출에서 실패 "
   ]
  },
  {
   "cell_type": "code",
   "execution_count": 161,
   "metadata": {},
   "outputs": [
    {
     "name": "stdout",
     "output_type": "stream",
     "text": [
      "3\n",
      "/ak\n"
     ]
    }
   ],
   "source": [
    "st_li = [\"c=\", \"c-\", \"lj\", \"nj\", \"d-\", \"dz=\", \"s=\", \"z=\"]\n",
    "\n",
    "for i in st_li:\n",
    "    st = st.replace(i, \"/\")\n",
    "print(len(st))\n",
    "print(st)\n",
    "# 정답 \n",
    "# for문을 통해서 활용 "
   ]
  },
  {
   "cell_type": "code",
   "execution_count": null,
   "metadata": {},
   "outputs": [],
   "source": []
  }
 ],
 "metadata": {
  "interpreter": {
   "hash": "baa2e52980430d335b97b133b9bdc90c6ba1b985616caf224317f930da22a067"
  },
  "kernelspec": {
   "display_name": "Python 3.7.4 ('base')",
   "language": "python",
   "name": "python3"
  },
  "language_info": {
   "codemirror_mode": {
    "name": "ipython",
    "version": 3
   },
   "file_extension": ".py",
   "mimetype": "text/x-python",
   "name": "python",
   "nbconvert_exporter": "python",
   "pygments_lexer": "ipython3",
   "version": "3.7.4"
  },
  "orig_nbformat": 4
 },
 "nbformat": 4,
 "nbformat_minor": 2
}
