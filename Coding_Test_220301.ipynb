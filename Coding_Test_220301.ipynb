{
 "cells": [
  {
   "cell_type": "markdown",
   "metadata": {},
   "source": [
    "### 그룹 단어 체커 \n",
    "- 그룹 단어란 단어에 존재하는 모든 문자에 대해서, 각 문자가 연속해서 나타나는 경우만을 말한다. 예를 들면, ccazzzzbb는 c, a, z, b가 모두 연속해서 나타나고, kin도 k, i, n이 연속해서 나타나기 때문에 그룹 단어이지만, aabbbccb는 b가 떨어져서 나타나기 때문에 그룹 단어가 아니다.\n",
    "\n",
    "- 단어 N개를 입력으로 받아 그룹 단어의 개수를 출력하는 프로그램을 작성하시오."
   ]
  },
  {
   "cell_type": "code",
   "execution_count": null,
   "metadata": {},
   "outputs": [],
   "source": [
    "''' \n",
    "내가 생각한 풀이법 \n",
    "- 기본적으로 가능한 경우의 수가 많기 때문에 예외만 생각해서 풀면 되지 않을까?\n",
    "- 예외 : 이미 나왔던 단어가 연속적으로 나온 이후 다시 나오면 안된다? \n",
    "    - 단어가 앞뒤로 같은 단어가 오는지 체크하고 다시 해당 단어가 나오면 패스 \n",
    "'''"
   ]
  },
  {
   "cell_type": "code",
   "execution_count": 1,
   "metadata": {},
   "outputs": [],
   "source": [
    "count = int(input())\n",
    "word = []\n",
    "for i in range(count):\n",
    "    word.append(input())"
   ]
  },
  {
   "cell_type": "code",
   "execution_count": 2,
   "metadata": {},
   "outputs": [
    {
     "data": {
      "text/plain": [
       "['happy', 'new', 'year']"
      ]
     },
     "execution_count": 2,
     "metadata": {},
     "output_type": "execute_result"
    }
   ],
   "source": [
    "word"
   ]
  },
  {
   "cell_type": "code",
   "execution_count": 10,
   "metadata": {},
   "outputs": [
    {
     "name": "stdout",
     "output_type": "stream",
     "text": [
      "2\n"
     ]
    }
   ],
   "source": [
    "cnt = 0\n",
    "for i in range(len(word)):\n",
    "    if len(word[i]) > len(set(word[i])):\n",
    "        continue \n",
    "    else:\n",
    "        cnt += 1 \n",
    "print(cnt)\n",
    "# 이건 중복인지 아닌지 판단하는거 "
   ]
  },
  {
   "cell_type": "code",
   "execution_count": 19,
   "metadata": {},
   "outputs": [
    {
     "name": "stdout",
     "output_type": "stream",
     "text": [
      "1\n",
      "2\n",
      "2\n",
      "3\n",
      "1\n",
      "2\n",
      "1\n",
      "2\n",
      "3\n",
      "0\n"
     ]
    }
   ],
   "source": [
    "t_c = 0\n",
    "for i in range(len(word)):\n",
    "    cnt = 0\n",
    "    for j in range(1, len(word[i])):\n",
    "        if word[i][j-1] != word[i][j]:\n",
    "            cnt += 1\n",
    "        print(cnt)\n",
    "    \n",
    "    if len(word[i]) == cnt:\n",
    "        t_c += 1 \n",
    "print(t_c)\n",
    "# 아님 "
   ]
  },
  {
   "cell_type": "code",
   "execution_count": 42,
   "metadata": {},
   "outputs": [],
   "source": [
    "count = int(input())\n",
    "word = []\n",
    "for i in range(count):\n",
    "    word.append(input())"
   ]
  },
  {
   "cell_type": "code",
   "execution_count": 43,
   "metadata": {},
   "outputs": [
    {
     "name": "stdout",
     "output_type": "stream",
     "text": [
      "1\n"
     ]
    }
   ],
   "source": [
    "group = 0\n",
    "for i in word:\n",
    "    cnt = 0\n",
    "    for j in range(len(i)-1):\n",
    "        if i[j] != i[j+1]: # 현재 단어와 이후 단어의 위치가 다르면 \n",
    "            if i[j] in i[j+1:]: # 현재 단어가 이후 단어까지 안에 존재하면\n",
    "                # 위에 부분이 key(이런 생각할 수 있도록 해보자 )\n",
    "                cnt += 1\n",
    "                # 추가 \n",
    "    if cnt == 0:\n",
    "        # 만약 cnt가 0이면 그룹단어라는 뜻 \n",
    "        group += 1\n",
    "\n",
    "print(group)\n",
    "# 다른 사람 풀이 조금 참조 \n",
    "# 앞뒤 단어 비교를 어떻게 해야할지 몰라서... "
   ]
  },
  {
   "cell_type": "markdown",
   "metadata": {},
   "source": [
    "### 1998년생인 내가 태국에서는 2541년생?!\n",
    "- ICPC Bangkok Regional에 참가하기 위해 수완나품 국제공항에 막 도착한 팀 레드시프트 일행은 눈을 믿을 수 없었다. 공항의 대형 스크린에 올해가 2562년이라고 적혀 있던 것이었다.\n",
    "\n",
    "- 불교 국가인 태국은 불멸기원(佛滅紀元), 즉 석가모니가 열반한 해를 기준으로 연도를 세는 불기를 사용한다. 반면, 우리나라는 서기 연도를 사용하고 있다. 불기 연도가 주어질 때 이를 서기 연도로 바꿔 주는 프로그램을 작성하시오.\n",
    "\n"
   ]
  },
  {
   "cell_type": "code",
   "execution_count": 44,
   "metadata": {},
   "outputs": [],
   "source": [
    "year = int(input())"
   ]
  },
  {
   "cell_type": "code",
   "execution_count": 46,
   "metadata": {},
   "outputs": [
    {
     "name": "stdout",
     "output_type": "stream",
     "text": [
      "1998\n"
     ]
    }
   ],
   "source": [
    "print(year - 543)"
   ]
  },
  {
   "cell_type": "markdown",
   "metadata": {},
   "source": [
    "### 나머지 \n",
    "- (A+B)%C는 ((A%C) + (B%C))%C 와 같을까?\n",
    "\n",
    "- (A×B)%C는 ((A%C) × (B%C))%C 와 같을까?\n",
    "\n",
    "- 세 수 A, B, C가 주어졌을 때, 위의 네 가지 값을 구하는 프로그램을 작성하시오."
   ]
  },
  {
   "cell_type": "code",
   "execution_count": 47,
   "metadata": {},
   "outputs": [],
   "source": [
    "A, B, C = map(int, input().split())"
   ]
  },
  {
   "cell_type": "code",
   "execution_count": 48,
   "metadata": {},
   "outputs": [
    {
     "name": "stdout",
     "output_type": "stream",
     "text": [
      "1\n",
      "1\n",
      "0\n",
      "0\n"
     ]
    }
   ],
   "source": [
    "print((A+B)%C)\n",
    "print(((A%C) + (B%C))%C)\n",
    "print((A*B)%C)\n",
    "print(((A%C)*(B%C))%C)"
   ]
  },
  {
   "cell_type": "markdown",
   "metadata": {},
   "source": [
    "### A+B - 5\n",
    "- 두 정수 A와 B를 입력받은 다음, A+B를 출력하는 프로그램을 작성하시오.\n",
    "\n",
    "- 입력은 여러 개의 테스트 케이스로 이루어져 있다.\n",
    "\n",
    "- 각 테스트 케이스는 한 줄로 이루어져 있으며, 각 줄에 A와 B가 주어진다. (0 < A, B < 10)\n",
    "\n",
    "- 입력의 마지막에는 0 두 개가 들어온다."
   ]
  },
  {
   "cell_type": "code",
   "execution_count": 53,
   "metadata": {},
   "outputs": [
    {
     "name": "stdout",
     "output_type": "stream",
     "text": [
      "2\n",
      "5\n"
     ]
    }
   ],
   "source": [
    "while True:\n",
    "    a, b = map(int, input().split())\n",
    "\n",
    "    if a == 0 & b == 0:\n",
    "        break \n",
    "    \n",
    "    print(a + b)\n"
   ]
  },
  {
   "cell_type": "code",
   "execution_count": 66,
   "metadata": {},
   "outputs": [
    {
     "name": "stdout",
     "output_type": "stream",
     "text": [
      "2\n",
      "5\n"
     ]
    }
   ],
   "source": [
    "while True:\n",
    "    a, b = map(int, input().split())\n",
    "\n",
    "    if a <= 0 or b <= 0 or a >= 10 or b >= 10:\n",
    "        break \n",
    "    else:\n",
    "        print(a + b)\n"
   ]
  },
  {
   "cell_type": "code",
   "execution_count": 67,
   "metadata": {},
   "outputs": [
    {
     "name": "stdout",
     "output_type": "stream",
     "text": [
      "5\n",
      "6\n",
      "19\n",
      "24\n",
      "0\n"
     ]
    }
   ],
   "source": [
    "while True:\n",
    "    try:\n",
    "        a, b = map(int, input().split())\n",
    "        print(a + b)\n",
    "    except:\n",
    "        break "
   ]
  },
  {
   "cell_type": "code",
   "execution_count": null,
   "metadata": {},
   "outputs": [],
   "source": []
  }
 ],
 "metadata": {
  "interpreter": {
   "hash": "baa2e52980430d335b97b133b9bdc90c6ba1b985616caf224317f930da22a067"
  },
  "kernelspec": {
   "display_name": "Python 3.7.4 ('base')",
   "language": "python",
   "name": "python3"
  },
  "language_info": {
   "codemirror_mode": {
    "name": "ipython",
    "version": 3
   },
   "file_extension": ".py",
   "mimetype": "text/x-python",
   "name": "python",
   "nbconvert_exporter": "python",
   "pygments_lexer": "ipython3",
   "version": "3.7.4"
  },
  "orig_nbformat": 4
 },
 "nbformat": 4,
 "nbformat_minor": 2
}
