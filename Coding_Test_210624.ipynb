{
 "cells": [
  {
   "cell_type": "markdown",
   "metadata": {},
   "source": [
    "### 핸드폰 번호 가리기 "
   ]
  },
  {
   "cell_type": "code",
   "execution_count": 37,
   "metadata": {},
   "outputs": [],
   "source": [
    "p = '01033335555'\n",
    "p1 = '0234232343'"
   ]
  },
  {
   "cell_type": "code",
   "execution_count": 19,
   "metadata": {},
   "outputs": [
    {
     "name": "stdout",
     "output_type": "stream",
     "text": [
      "0103333****\n"
     ]
    }
   ],
   "source": [
    "a = []\n",
    "if len(p) == 11:\n",
    "    for i in range(len(p)):\n",
    "\n",
    "        a.append(p.replace(p[i],'*'))\n",
    "        if i == 7:\n",
    "            break \n",
    "else:\n",
    "    for i in range(len(p)):\n",
    "        a.append(p.reaplce(p[i], '*'))\n",
    "        if i == 6:\n",
    "            break \n",
    "print(a[-1])"
   ]
  },
  {
   "cell_type": "code",
   "execution_count": 31,
   "metadata": {},
   "outputs": [],
   "source": [
    "def solution(p):\n",
    "    a = []\n",
    "    if len(p) == 11:\n",
    "        for i in range(len(p)):\n",
    "            a.append(p.replace(p[i], '*'))\n",
    "            if i == 7:\n",
    "                break \n",
    "        return a[-1]\n",
    "    else:\n",
    "        for i in range(len(p)):\n",
    "            a.append(p.replace(p[i], '*'))\n",
    "            if i == 6:\n",
    "                break\n",
    "        return a[-1]"
   ]
  },
  {
   "cell_type": "code",
   "execution_count": 32,
   "metadata": {},
   "outputs": [
    {
     "data": {
      "text/plain": [
       "'0103333****'"
      ]
     },
     "execution_count": 32,
     "metadata": {},
     "output_type": "execute_result"
    }
   ],
   "source": [
    "solution(p)"
   ]
  },
  {
   "cell_type": "code",
   "execution_count": 33,
   "metadata": {},
   "outputs": [
    {
     "data": {
      "text/plain": [
       "'0*34*3*343'"
      ]
     },
     "execution_count": 33,
     "metadata": {},
     "output_type": "execute_result"
    }
   ],
   "source": [
    "solution(p1)"
   ]
  },
  {
   "cell_type": "code",
   "execution_count": 39,
   "metadata": {
    "scrolled": true
   },
   "outputs": [
    {
     "data": {
      "text/plain": [
       "'0234232343'"
      ]
     },
     "execution_count": 39,
     "metadata": {},
     "output_type": "execute_result"
    }
   ],
   "source": [
    "p1"
   ]
  },
  {
   "cell_type": "code",
   "execution_count": 41,
   "metadata": {},
   "outputs": [
    {
     "name": "stdout",
     "output_type": "stream",
     "text": [
      "['*234232343', '0*34*3*343', '02*42*2*4*', '023*2323*3', '0*34*3*343', '02*42*2*4*', '0*34*3*343']\n"
     ]
    }
   ],
   "source": [
    "a = []\n",
    "for i in range(len(p1)):\n",
    "    a.append(p1.replace(p1[i], '*'))\n",
    "    if i == 6:\n",
    "        break \n",
    "print(a)\n",
    "# replace는 다른 위치에 있는 같은 숫자도 같이 변경시키네 \n"
   ]
  },
  {
   "cell_type": "code",
   "execution_count": 42,
   "metadata": {},
   "outputs": [],
   "source": [
    "def solution(p):\n",
    "    answer = ''\n",
    "    p_len = len(p)\n",
    "    \n",
    "    answer = '*' * (p_len - 4)\n",
    "    \n",
    "    answer += p[-4:]\n",
    "    \n",
    "    return answer\n",
    "# 참고..."
   ]
  },
  {
   "cell_type": "code",
   "execution_count": 43,
   "metadata": {},
   "outputs": [
    {
     "name": "stdout",
     "output_type": "stream",
     "text": [
      "*******5555\n",
      "******2343\n"
     ]
    }
   ],
   "source": [
    "print(solution(p))\n",
    "print(solution(p1))\n"
   ]
  },
  {
   "cell_type": "markdown",
   "metadata": {},
   "source": [
    "### x만큼 간격이 있는 n개의 숫자 \n",
    "함수 solution은 정수 x와 자연수 n을 입력 받아, x부터 시작해 x씩 증가하는 숫자를 n개 지니는 리스트를 리턴해야 합니다. 다음 제한 조건을 보고, 조건을 만족하는 함수, solution을 완성해주세요."
   ]
  },
  {
   "cell_type": "code",
   "execution_count": 73,
   "metadata": {},
   "outputs": [
    {
     "name": "stdout",
     "output_type": "stream",
     "text": [
      "[2, 4, 8, 16, 32]\n"
     ]
    }
   ],
   "source": [
    "x = 2\n",
    "n = 5\n",
    "a = []\n",
    "for i in range(n):\n",
    "    a.append(x)    \n",
    "    x += x\n",
    "print(a)"
   ]
  },
  {
   "cell_type": "code",
   "execution_count": 76,
   "metadata": {},
   "outputs": [],
   "source": [
    "a = []\n",
    "for i in range(n):\n",
    "    a.append(+x)"
   ]
  },
  {
   "cell_type": "code",
   "execution_count": 77,
   "metadata": {},
   "outputs": [
    {
     "data": {
      "text/plain": [
       "[64, 64, 64, 64, 64]"
      ]
     },
     "execution_count": 77,
     "metadata": {},
     "output_type": "execute_result"
    }
   ],
   "source": [
    "a"
   ]
  },
  {
   "cell_type": "code",
   "execution_count": 86,
   "metadata": {},
   "outputs": [],
   "source": [
    "a = []\n",
    "x = 2 \n",
    "n = 5\n",
    "for i in range(x, n*x+1, x):\n",
    "    a.append(i)"
   ]
  },
  {
   "cell_type": "code",
   "execution_count": 87,
   "metadata": {},
   "outputs": [
    {
     "data": {
      "text/plain": [
       "[2, 4, 6, 8, 10]"
      ]
     },
     "execution_count": 87,
     "metadata": {},
     "output_type": "execute_result"
    }
   ],
   "source": [
    "a"
   ]
  },
  {
   "cell_type": "code",
   "execution_count": 88,
   "metadata": {},
   "outputs": [
    {
     "data": {
      "text/plain": [
       "10"
      ]
     },
     "execution_count": 88,
     "metadata": {},
     "output_type": "execute_result"
    }
   ],
   "source": [
    "n*x"
   ]
  },
  {
   "cell_type": "code",
   "execution_count": 89,
   "metadata": {},
   "outputs": [],
   "source": [
    "a = [] \n",
    "x = -4 \n",
    "n = 2 \n",
    "for i in range(x, n*x+1, x):\n",
    "    a.append(i)"
   ]
  },
  {
   "cell_type": "code",
   "execution_count": 102,
   "metadata": {},
   "outputs": [
    {
     "name": "stdout",
     "output_type": "stream",
     "text": [
      "-4\n",
      "-8\n"
     ]
    }
   ],
   "source": [
    "x = -4 \n",
    "n = 2 \n",
    "for i in range(x, x*n-1, x):\n",
    "    print(i)"
   ]
  },
  {
   "cell_type": "code",
   "execution_count": 123,
   "metadata": {},
   "outputs": [],
   "source": [
    "def solution(x, n):\n",
    "    answer = [] \n",
    "    if x >= 0:\n",
    "        for i in range(x, n*x+1, x):\n",
    "            answer.append(i)\n",
    "    else:\n",
    "        for i in range(x, n*x-1, x):\n",
    "            answer.append(i)\n",
    "    return answer\n",
    "# 런타임 에러 "
   ]
  },
  {
   "cell_type": "code",
   "execution_count": 126,
   "metadata": {
    "scrolled": true
   },
   "outputs": [
    {
     "data": {
      "text/plain": [
       "[-4, -8, -12]"
      ]
     },
     "execution_count": 126,
     "metadata": {},
     "output_type": "execute_result"
    }
   ],
   "source": [
    "solution(-4,3)"
   ]
  },
  {
   "cell_type": "code",
   "execution_count": 127,
   "metadata": {},
   "outputs": [
    {
     "name": "stdout",
     "output_type": "stream",
     "text": [
      "[2, 4, 6, 8, 10]\n"
     ]
    }
   ],
   "source": [
    "x = 2\n",
    "n = 5\n",
    "if x >= 0:\n",
    "    print([i for i in range(x, n*x+1, x)])"
   ]
  },
  {
   "cell_type": "code",
   "execution_count": 134,
   "metadata": {},
   "outputs": [],
   "source": [
    "def solution(x, n):\n",
    "    if x >= 0:\n",
    "        return [i for i in range(x, n*x+1, x)]\n",
    "    elif x < 0:\n",
    "        return [i for i in range(x, n*x-1, x)]\n",
    "# 런타임에러는 피했는데 하나 실패 \n",
    "# x가 0일때 어떻게 해야할까 \n",
    "# x를 n의 개수만큼 넣으면 될려나"
   ]
  },
  {
   "cell_type": "code",
   "execution_count": 137,
   "metadata": {},
   "outputs": [
    {
     "name": "stdout",
     "output_type": "stream",
     "text": [
      "[2, 4, 6, 8, 10]\n",
      "[-4, -8, -12]\n"
     ]
    }
   ],
   "source": [
    "print(solution(2,5))\n",
    "print(solution(-4,3))"
   ]
  },
  {
   "cell_type": "code",
   "execution_count": 136,
   "metadata": {},
   "outputs": [],
   "source": [
    "def solution(x, n):\n",
    "    if x > 0:\n",
    "        return [i for i in range(x, n*x+1, x)]\n",
    "    elif x < 0:\n",
    "        return [i for i in range(x, n*x-1, x)]\n",
    "    else:\n",
    "        return [x*i for i in range(n)]\n",
    "# 정답 "
   ]
  },
  {
   "cell_type": "code",
   "execution_count": 138,
   "metadata": {},
   "outputs": [
    {
     "name": "stdout",
     "output_type": "stream",
     "text": [
      "[0, 0, 0]\n"
     ]
    }
   ],
   "source": [
    "print(solution(0,3))"
   ]
  }
 ],
 "metadata": {
  "kernelspec": {
   "display_name": "Python 3",
   "language": "python",
   "name": "python3"
  },
  "language_info": {
   "codemirror_mode": {
    "name": "ipython",
    "version": 3
   },
   "file_extension": ".py",
   "mimetype": "text/x-python",
   "name": "python",
   "nbconvert_exporter": "python",
   "pygments_lexer": "ipython3",
   "version": "3.7.4"
  }
 },
 "nbformat": 4,
 "nbformat_minor": 2
}
