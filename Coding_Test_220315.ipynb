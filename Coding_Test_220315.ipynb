{
 "cells": [
  {
   "cell_type": "markdown",
   "metadata": {},
   "source": [
    "### 블랙잭 \n",
    "- 카지노에서 제일 인기 있는 게임 블랙잭의 규칙은 상당히 쉽다. 카드의 합이 21을 넘지 않는 한도 내에서, 카드의 합을 최대한 크게 만드는 게임이다. 블랙잭은 카지노마다 다양한 규정이 있다.\n",
    "\n",
    "- 한국 최고의 블랙잭 고수 김정인은 새로운 블랙잭 규칙을 만들어 상근, 창영이와 게임하려고 한다.\n",
    "\n",
    "- 김정인 버전의 블랙잭에서 각 카드에는 양의 정수가 쓰여 있다. 그 다음, 딜러는 N장의 카드를 모두 숫자가 보이도록 바닥에 놓는다. 그런 후에 딜러는 숫자 M을 크게 외친다.\n",
    "\n",
    "- 이제 플레이어는 제한된 시간 안에 N장의 카드 중에서 3장의 카드를 골라야 한다. 블랙잭 변형 게임이기 때문에, 플레이어가 고른 카드의 합은 M을 넘지 않으면서 M과 최대한 가깝게 만들어야 한다.\n",
    "\n",
    "- N장의 카드에 써져 있는 숫자가 주어졌을 때, M을 넘지 않으면서 M에 최대한 가까운 카드 3장의 합을 구해 출력하시오.\n",
    "\n",
    "- 첫째 줄에 카드의 개수 N(3 ≤ N ≤ 100)과 M(10 ≤ M ≤ 300,000)이 주어진다. 둘째 줄에는 카드에 쓰여 있는 수가 주어지며, 이 값은 100,000을 넘지 않는 양의 정수이다.\n",
    "\n",
    "- 합이 M을 넘지 않는 카드 3장을 찾을 수 있는 경우만 입력으로 주어진다."
   ]
  },
  {
   "cell_type": "code",
   "execution_count": 4,
   "metadata": {},
   "outputs": [],
   "source": [
    "# 3장의 합을 구할 수 있는 모든 경우의 수를 구함 \n",
    "# 특정 값보다 작은 경우의 수만 추출 \n",
    "# 추출한 경우의 수에서 가장 큰 수 출력 "
   ]
  },
  {
   "cell_type": "code",
   "execution_count": 14,
   "metadata": {},
   "outputs": [
    {
     "name": "stdout",
     "output_type": "stream",
     "text": [
      "497\n"
     ]
    }
   ],
   "source": [
    "N, M = map(int, input().split())\n",
    "num = []\n",
    "for i in range(N):\n",
    "    num.append(int(input()))\n",
    "value = []\n",
    "for i in range(len(num)):\n",
    "    for j in range(i+1, len(num)):\n",
    "        for k in range(j+1, len(num)):\n",
    "            value.append(num[i] + num[j] + num[k])\n",
    "            # 이렇게 하면 값들을 고정해서 모든 경우의 수를 구할 수 있음 \n",
    "            # 근데 이렇게 하면 너무 복잡할 것 같은데 \n",
    "final_value = []\n",
    "for i in value:\n",
    "    if i <= M:\n",
    "        final_value.append(i)\n",
    "print(max(final_value))\n",
    "# 런타임 에러가 뜨네... "
   ]
  },
  {
   "cell_type": "code",
   "execution_count": 15,
   "metadata": {},
   "outputs": [
    {
     "name": "stdout",
     "output_type": "stream",
     "text": [
      "21\n"
     ]
    }
   ],
   "source": [
    "N, M = map(int, input().split())\n",
    "num = list(map(int, input().split()))\n",
    "\n",
    "value = []\n",
    "for i in range(len(num)):\n",
    "    for j in range(i+1, len(num)):\n",
    "        for k in range(j+1, len(num)):\n",
    "            value.append(num[i] + num[j] + num[k])\n",
    "            # 이렇게 하면 값들을 고정해서 모든 경우의 수를 구할 수 있음 \n",
    "            # 근데 이렇게 하면 너무 복잡할 것 같은데 \n",
    "final_value = []\n",
    "for i in value:\n",
    "    if i <= M:\n",
    "        final_value.append(i)\n",
    "print(max(final_value))\n",
    "# 정답 \n",
    "# 입력으로 들어가는게 문제였던듯 "
   ]
  },
  {
   "cell_type": "code",
   "execution_count": null,
   "metadata": {},
   "outputs": [],
   "source": [
    "# 다른 사람 풀이 \n",
    "n, m = map(int, input().split())\n",
    "a = list(map(int, input().split()))\n",
    "b = len(a)\n",
    "sum = 0\n",
    "for i in range(0, b - 2):\n",
    "        for j in range(i + 1, b - 1):\n",
    "                for k in range(j + 1, b):\n",
    "                        if a[i] + a[j] + a[k] > m:\n",
    "                                continue\n",
    "                        else:\n",
    "                                sum = max(sum, a[i] + a[j] + a[k])\n",
    "                        # 여기서 이렇게 if문을 통해서 조건을 걸어주는거 지리네...\n",
    "                        \n",
    "print(sum)\n"
   ]
  },
  {
   "cell_type": "markdown",
   "metadata": {},
   "source": [
    "### 생성자 \n",
    "- 어떤 자연수 N이 있을 때, 그 자연수 N의 분해합은 N과 N을 이루는 각 자리수의 합을 의미한다. 어떤 자연수 M의 분해합이 N인 경우, M을 N의 생성자라 한다. 예를 들어, 245의 분해합은 256(=245+2+4+5)이 된다. 따라서 245는 256의 생성자가 된다. 물론, 어떤 자연수의 경우에는 생성자가 없을 수도 있다. 반대로, 생성자가 여러 개인 자연수도 있을 수 있다.\n",
    "\n",
    "- 자연수 N이 주어졌을 때, N의 가장 작은 생성자를 구해내는 프로그램을 작성하시오.\n",
    "\n",
    "- 첫째 줄에 자연수 N(1 ≤ N ≤ 1,000,000)이 주어진다.\n",
    "\n"
   ]
  },
  {
   "cell_type": "code",
   "execution_count": 16,
   "metadata": {},
   "outputs": [],
   "source": [
    "# 각 자리의 값을 더한 것을 입력에서 뺀 값이 각 자리를 채운 값과 같으면 저장 \n",
    "# ex) 216의 최소 생성자를 구하기 위해서  111 + 3, 112 + 4 요런식으로 비교 \n",
    "# 그 값의 최소값을 출력 "
   ]
  },
  {
   "cell_type": "code",
   "execution_count": 57,
   "metadata": {},
   "outputs": [
    {
     "name": "stdout",
     "output_type": "stream",
     "text": [
      "216\n",
      "198\n"
     ]
    }
   ],
   "source": [
    "N = int(input())\n",
    "# print(N)\n",
    "\n",
    "value = []\n",
    "for i in range(1, 10, 1):\n",
    "    for j in range(1, 10, 1):\n",
    "        for k in range(1, 10, 1):\n",
    "            s = 0\n",
    "            r = \"\"\n",
    "            # 계속 값을 초기화 \n",
    "            s += i+j+k\n",
    "            r = str(i) + str(j) + str(k)\n",
    "            total = s+int(r)\n",
    "            if total == N:\n",
    "                value.append(int(r))\n",
    "\n",
    "\n",
    "if len(value) >= 1:\n",
    "    print(min(value))\n",
    "else:\n",
    "    print(0)\n",
    "# 틀림... \n",
    "# 어디가 틀렸지? 시간초과도 아니고 맞는거 같은데 "
   ]
  },
  {
   "cell_type": "code",
   "execution_count": 55,
   "metadata": {},
   "outputs": [
    {
     "name": "stdout",
     "output_type": "stream",
     "text": [
      "198\n"
     ]
    }
   ],
   "source": [
    "# 다른사람 풀이 \n",
    "N = int(input())\n",
    "print_num = 0\n",
    "for i in range(1, N+1):\n",
    "    div_num = list(map(int, str(i)))\n",
    "    sum_num = i + sum(div_num)\n",
    "    # 여기서 더 해주고 \n",
    "    if(sum_num == N):\n",
    "        # 값이 맞으면 \n",
    "        print_num = i\n",
    "        break\n",
    "print(print_num)\n",
    "# 근데 가장 작은 생성자를 출력하라고 했는데 만약 생성자가 2개있으면 어쩔려고 \n",
    "# 이렇게 하는거지? \n",
    "# 근데 이게 왜 정답이지? "
   ]
  },
  {
   "cell_type": "markdown",
   "metadata": {},
   "source": [
    "### 수 정렬하기 \n",
    "- N개의 수가 주어졌을 때, 이를 오름차순으로 정렬하는 프로그램을 작성하시오.\n",
    "\n",
    "- 첫째 줄에 수의 개수 N(1 ≤ N ≤ 1,000)이 주어진다. 둘째 줄부터 N개의 줄에는 수 주어진다. 이 수는 절댓값이 1,000보다 작거나 같은 정수이다. 수는 중복되지 않는다."
   ]
  },
  {
   "cell_type": "code",
   "execution_count": 86,
   "metadata": {},
   "outputs": [],
   "source": [
    "# 현재값과 다른 값을 비교할 수 있도록 중첩 for문 \n",
    "# 현재 자리와 다른 자리에서 제일 작은 값 바꿔주면서 반복 \n",
    "N = int(input())\n",
    "number = [] \n",
    "for i in range(N):\n",
    "    number.append(int(input()))"
   ]
  },
  {
   "cell_type": "code",
   "execution_count": 92,
   "metadata": {},
   "outputs": [
    {
     "name": "stdout",
     "output_type": "stream",
     "text": [
      "1\n",
      "2\n",
      "3\n",
      "4\n",
      "5\n"
     ]
    }
   ],
   "source": [
    "for i in range(len(number)):\n",
    "    for j in range(i+1, len(number)):\n",
    "        if number[i] > number[j]:\n",
    "            number[j], number[i] = number[i], number[j]\n",
    "\"\"\"\n",
    "- step 1 : 52341 -> 25341 -> 15342\n",
    "- step 2 : 15342 -> 13542 -> 12543\n",
    "- step 3 : 12543 -> 12345 end \n",
    "\"\"\"\n",
    "for i in number:\n",
    "    print(i)\n",
    "# 정답 ~ \n"
   ]
  },
  {
   "cell_type": "code",
   "execution_count": null,
   "metadata": {},
   "outputs": [],
   "source": [
    "# 다른 사람 풀이 (버블정렬 )\n",
    "N = int(input())\n",
    "\n",
    "numbers = []\n",
    "\n",
    "for _ in range(N) : \n",
    "    numbers.append(int(input()))\n",
    "\n",
    "# Bubble Sort\n",
    "for i in range(len(numbers)) : \n",
    "    for j in range(len(numbers)) : \n",
    "        if numbers[i] < numbers[j] : \n",
    "            numbers[i], numbers[j] = numbers[j], numbers[i]\n",
    "            \n",
    "for n in numbers : \n",
    "    print(n)"
   ]
  },
  {
   "cell_type": "code",
   "execution_count": null,
   "metadata": {},
   "outputs": [],
   "source": [
    "# 다른 사람풀이 (삽입정렬)\n",
    "N = int(input())\n",
    "nums = []\n",
    "\n",
    "for _ in range(N) : \n",
    "    nums.append(int(input()))\n",
    "\n",
    "# Insert Sort\n",
    "for i in range(1, len(nums)) :\n",
    "    while (i>0) & (nums[i] < nums[i-1]) :\n",
    "        nums[i], nums[i-1] = nums[i-1], nums[i]\n",
    "        \n",
    "        i -= 1\n",
    "        \n",
    "for n in nums : \n",
    "    print(n)"
   ]
  }
 ],
 "metadata": {
  "interpreter": {
   "hash": "baa2e52980430d335b97b133b9bdc90c6ba1b985616caf224317f930da22a067"
  },
  "kernelspec": {
   "display_name": "Python 3.7.4 ('base')",
   "language": "python",
   "name": "python3"
  },
  "language_info": {
   "codemirror_mode": {
    "name": "ipython",
    "version": 3
   },
   "file_extension": ".py",
   "mimetype": "text/x-python",
   "name": "python",
   "nbconvert_exporter": "python",
   "pygments_lexer": "ipython3",
   "version": "3.7.4"
  },
  "orig_nbformat": 4
 },
 "nbformat": 4,
 "nbformat_minor": 2
}
