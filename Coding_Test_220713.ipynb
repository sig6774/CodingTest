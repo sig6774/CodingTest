{
 "cells": [
  {
   "cell_type": "markdown",
   "metadata": {},
   "source": [
    "### 수찾기 \n",
    "\n",
    "- N개의 정수 A[1], A[2], …, A[N]이 주어져 있을 때, 이 안에 X라는 정수가 존재하는지 알아내는 프로그램을 작성하시오.\n",
    "<hr>\n",
    "\n",
    "- 첫째 줄에 자연수 N(1 ≤ N ≤ 100,000)이 주어진다. 다음 줄에는 N개의 정수 A[1], A[2], …, A[N]이 주어진다. 다음 줄에는 M(1 ≤ M ≤ 100,000)이 주어진다. \n",
    "- 다음 줄에는 M개의 수들이 주어지는데, 이 수들이 A안에 존재하는지 알아내면 된다. 모든 정수의 범위는 -231 보다 크거나 같고 231보다 작다."
   ]
  },
  {
   "cell_type": "code",
   "execution_count": 1,
   "metadata": {},
   "outputs": [],
   "source": [
    "# 우선 정렬해서 binary search 사용하면 되겠네 \n",
    "N = int(input())\n",
    "A = list(map(int, input().split()))"
   ]
  },
  {
   "cell_type": "code",
   "execution_count": 5,
   "metadata": {},
   "outputs": [],
   "source": [
    "A.sort()\n",
    "\n",
    "M = int(input())\n",
    "B = list(map(int, input().split()))"
   ]
  },
  {
   "cell_type": "code",
   "execution_count": 9,
   "metadata": {},
   "outputs": [],
   "source": [
    "def binary(arr, target):\n",
    "    left = 0\n",
    "    right = len(arr) - 1 \n",
    "    \n",
    "    while (left <= right):\n",
    "        mid = (left + right) // 2 \n",
    "        # mid값 갱신 \n",
    "        if (arr[mid] < target):\n",
    "            # 중간값보다 찾고자하는 값이 크다면 중간값 기준 오른쪽만 찾으면 되므로 오른쪽만 찾도록 left 갱신 \n",
    "            left = mid+1 \n",
    "        elif (arr[mid] > target):\n",
    "            # 중갑값보다 찾고자하는 값이 작다면 중간값 기준 왼쪽만 찾으면 되므로 왼쪽만 찾도록 right 갱신 \n",
    "            right = mid-1\n",
    "        else:\n",
    "            return 1\n",
    "            # 찾앗으면 1 반환 \n",
    "    \n",
    "    return 0 \n",
    "    # 찾지 못했으면 0 반환 "
   ]
  },
  {
   "cell_type": "code",
   "execution_count": 10,
   "metadata": {},
   "outputs": [
    {
     "name": "stdout",
     "output_type": "stream",
     "text": [
      "1\n",
      "1\n",
      "0\n",
      "0\n",
      "1\n"
     ]
    }
   ],
   "source": [
    "for i in B:\n",
    "    print(binary(A, i))"
   ]
  },
  {
   "cell_type": "markdown",
   "metadata": {},
   "source": [
    "### 기타레슨 \n",
    "- 강토는 자신의 기타 강의 동영상을 블루레이로 만들어 판매하려고 한다. 블루레이에는 총 N개의 강의가 들어가는데, 블루레이를 녹화할 때, 강의의 순서가 바뀌면 안 된다. 순서가 뒤바뀌는 경우에는 강의의 흐름이 끊겨, 학생들이 대혼란에 빠질 수 있기 때문이다. \n",
    "- 즉, i번 강의와 j번 강의를 같은 블루레이에 녹화하려면 i와 j 사이의 모든 강의도 같은 블루레이에 녹화해야 한다.\n",
    "\n",
    "- 강토는 이 블루레이가 얼마나 팔릴지 아직 알 수 없기 때문에, 블루레이의 개수를 가급적 줄이려고 한다. 오랜 고민 끝에 강토는 M개의 블루레이에 모든 기타 강의 동영상을 녹화하기로 했다. \n",
    "- 이때, 블루레이의 크기(녹화 가능한 길이)를 최소로 하려고 한다. 단, M개의 블루레이는 모두 같은 크기이어야 한다.\n",
    "\n",
    "- 강토의 각 강의의 길이가 분 단위(자연수)로 주어진다. 이때, 가능한 블루레이의 크기 중 최소를 구하는 프로그램을 작성하시오.\n",
    "\n",
    "<hr>\n",
    "\n",
    "- 첫째 줄에 강의의 수 N (1 ≤ N ≤ 100,000)과 M (1 ≤ M ≤ N)이 주어진다. 다음 줄에는 강토의 기타 강의의 길이가 강의 순서대로 분 단위로(자연수)로 주어진다. 각 강의의 길이는 10,000분을 넘지 않는다.\n",
    "\n",
    "\n",
    "\n"
   ]
  },
  {
   "cell_type": "code",
   "execution_count": 11,
   "metadata": {},
   "outputs": [],
   "source": [
    "# target은 하나의 블루레이 최소 크기 \n",
    "# 일단 3개로 나눌 수 있는 로직 만들기 \n",
    "# 위의 조건을 만족하고 블루레이 크기의 최대값 로직 만들기 "
   ]
  },
  {
   "cell_type": "code",
   "execution_count": 8,
   "metadata": {},
   "outputs": [],
   "source": [
    "N, M = map(int,input().split())\n",
    "li = list(map(int, input().split()))"
   ]
  },
  {
   "cell_type": "code",
   "execution_count": 2,
   "metadata": {},
   "outputs": [],
   "source": [
    "start = 0 \n",
    "end = 0 \n",
    "for i in range(len(li)):\n",
    "    if(start < li[i]):\n",
    "        start = li[i]\n",
    "    end += li[i]\n",
    "# 시작과 끝값을 구하는 로직 "
   ]
  },
  {
   "cell_type": "code",
   "execution_count": 3,
   "metadata": {},
   "outputs": [
    {
     "name": "stdout",
     "output_type": "stream",
     "text": [
      "9 45\n"
     ]
    }
   ],
   "source": [
    "print(start, end)"
   ]
  },
  {
   "cell_type": "code",
   "execution_count": 4,
   "metadata": {},
   "outputs": [],
   "source": [
    "def isRightSize(mid):\n",
    "    cnt = 0\n",
    "\n",
    "    total = 0 \n",
    "\n",
    "    for i in range(len(li)):\n",
    "        if total + li[i] > mid:\n",
    "            cnt += 1 \n",
    "            total = li[i]\n",
    "            # 갱신 \n",
    "        else:\n",
    "            total += li[i]\n",
    "            # 더 담을 수 있으므로 더해줌\n",
    "    return cnt < M\n",
    "# 사용자가 입력한 값인 M인지 아닌지 판단 "
   ]
  },
  {
   "cell_type": "code",
   "execution_count": 5,
   "metadata": {},
   "outputs": [
    {
     "name": "stdout",
     "output_type": "stream",
     "text": [
      "17\n"
     ]
    }
   ],
   "source": [
    "answer = 0 \n",
    "while(start <= end):\n",
    "    mid = (start + end) // 2 \n",
    "\n",
    "    if(isRightSize(mid)):\n",
    "        answer = mid \n",
    "        end = mid-1 \n",
    "    else:\n",
    "        start = mid + 1 \n",
    "print(answer)\n",
    "# \n",
    "\n"
   ]
  },
  {
   "cell_type": "code",
   "execution_count": null,
   "metadata": {},
   "outputs": [],
   "source": []
  }
 ],
 "metadata": {
  "kernelspec": {
   "display_name": "Python 3.9.1 64-bit ('3.9.1')",
   "language": "python",
   "name": "python3"
  },
  "language_info": {
   "codemirror_mode": {
    "name": "ipython",
    "version": 3
   },
   "file_extension": ".py",
   "mimetype": "text/x-python",
   "name": "python",
   "nbconvert_exporter": "python",
   "pygments_lexer": "ipython3",
   "version": "3.9.1"
  },
  "orig_nbformat": 4,
  "vscode": {
   "interpreter": {
    "hash": "b29909ae39fc17549a84839997d927dda790dc9d9d25402f3e010c02e8c51a82"
   }
  }
 },
 "nbformat": 4,
 "nbformat_minor": 2
}
