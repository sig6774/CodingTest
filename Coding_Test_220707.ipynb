{
 "cells": [
  {
   "cell_type": "markdown",
   "metadata": {},
   "source": [
    "### 소수만들기 \n",
    "- 주어진 숫자 중 3개의 수를 더했을 때 소수가 되는 경우의 개수를 구하려고 합니다. - 숫자들이 들어있는 배열 nums가 매개변수로 주어질 때, nums에 있는 숫자들 중 서로 다른 3개를 골라 더했을 때 소수가 되는 경우의 개수를 return 하도록 solution 함수를 완성해주세요.\n",
    "\n",
    "<hr>\n",
    "\n",
    "- [1,2,4]를 이용해서 7을 만들 수 있습니다.\n",
    "\n"
   ]
  },
  {
   "cell_type": "code",
   "execution_count": 5,
   "metadata": {},
   "outputs": [],
   "source": [
    "# 매개변수로 들어온 배열의 값 3개를 합하여 나올 수 있는 값 저장 \n",
    "# 만약 소수라면 count \n",
    "\n",
    "def solution(nums):\n",
    "    sum_ = 0\n",
    "    prime=[]\n",
    "    for i in range(len(nums)-2):\n",
    "        for j in range(i+1, len(nums)):\n",
    "            cnt = 0 \n",
    "            for k in range(j+1, len(nums)):\n",
    "                # print(i,j,k)\n",
    "                sum_ = nums[i] + nums[j] + nums[k]\n",
    "                # print(sum_)\n",
    "\n",
    "            for h in range(2, sum_ -1):\n",
    "                if sum_ % h == 0:\n",
    "                    cnt += 1 \n",
    "                    # print(cnt)\n",
    "\n",
    "            if cnt == 0:\n",
    "                prime.append(sum_)\n",
    "    return len(set(prime))"
   ]
  },
  {
   "cell_type": "code",
   "execution_count": 7,
   "metadata": {},
   "outputs": [
    {
     "name": "stdout",
     "output_type": "stream",
     "text": [
      "3\n"
     ]
    }
   ],
   "source": [
    "nums = [1, 2, 4]\n",
    "print(solution(nums))"
   ]
  },
  {
   "cell_type": "code",
   "execution_count": 28,
   "metadata": {},
   "outputs": [
    {
     "name": "stdout",
     "output_type": "stream",
     "text": [
      "[11, 11, 11, 13, 13, 11, 11, 37, 17, 17, 19, 19, 13, 41, 13, 13, 11, 41, 13, 17, 19, 19, 17, 17, 19, 19]\n",
      "6\n"
     ]
    }
   ],
   "source": [
    "nums = [1,2,7,6,4,6,7,32, 4, 5,7,9 ,3]\n",
    "\n",
    "sum_ = 0\n",
    "prime=[]\n",
    "for i in range(len(nums)-2):\n",
    "    for j in range(i+1, len(nums)):\n",
    "        cnt = 0 \n",
    "        for k in range(j+1, len(nums)):\n",
    "            # print(i,j,k)\n",
    "            sum_ = nums[i] + nums[j] + nums[k]\n",
    "            # print(sum_)\n",
    "\n",
    "        for h in range(2, sum_ -1):\n",
    "            if sum_ % h == 0:\n",
    "                cnt += 1 \n",
    "                # print(cnt)\n",
    "\n",
    "        if cnt == 0:\n",
    "            prime.append(sum_)\n",
    "            \n",
    "print(prime)\n",
    "print(len(set(prime)))\n",
    "# 통과되는 경우도 있고 안되는 경우도 있음 \n"
   ]
  },
  {
   "cell_type": "markdown",
   "metadata": {},
   "source": [
    "### 비밀지도 \n",
    "- 네오는 평소 프로도가 비상금을 숨겨놓는 장소를 알려줄 비밀지도를 손에 넣었다. 그런데 이 비밀지도는 숫자로 암호화되어 있어 위치를 확인하기 위해서는 암호를 해독해야 한다. 다행히 지도 암호를 해독할 방법을 적어놓은 메모도 함께 발견했다.\n",
    "\n",
    "- 지도는 한 변의 길이가 n인 정사각형 배열 형태로, 각 칸은 \"공백\"(\" \") 또는 \"벽\"(\"#\") 두 종류로 이루어져 있다.\n",
    "전체 지도는 두 장의 지도를 겹쳐서 얻을 수 있다. \n",
    "- 각각 \"지도 1\"과 \"지도 2\"라고 하자. 지도 1 또는 지도 2 중 어느 하나라도 벽인 부분은 전체 지도에서도 벽이다. 지도 1과 지도 2에서 모두 공백인 부분은 전체 지도에서도 공백이다.\n",
    "- \"지도 1\"과 \"지도 2\"는 각각 정수 배열로 암호화되어 있다.\n",
    "암호화된 배열은 지도의 각 가로줄에서 벽 부분을 1, 공백 부분을 0으로 부호화했을 때 얻어지는 이진수에 해당하는 값의 배열이다.\n",
    "\n",
    "- 네오가 프로도의 비상금을 손에 넣을 수 있도록, 비밀지도의 암호를 해독하는 작업을 도와줄 프로그램을 작성하라.\n",
    "\n",
    "<hr>\n",
    "\n",
    "- 입력으로 지도의 한 변 크기 n 과 2개의 정수 배열 arr1, arr2가 들어온다.\n",
    "\n",
    "- 1 ≦ n ≦ 16\n",
    "- arr1, arr2는 길이 n인 정수 배열로 주어진다.\n",
    "- 정수 배열의 각 원소 x를 이진수로 변환했을 때의 길이는 n 이하이다. 즉, 0 ≦ x ≦ 2n - 1을 만족한다.\n",
    "\n"
   ]
  },
  {
   "cell_type": "code",
   "execution_count": 1,
   "metadata": {},
   "outputs": [],
   "source": [
    "# 10진수를 2진수로 변환하는 함수 \n",
    "def trans_2(num):\n",
    "    s = \"\"\n",
    "    while num >= 2:\n",
    "        \n",
    "        if num % 2 == 0:\n",
    "            # 나머지가 0이라면 0을 추가 \n",
    "            s += \"0\"\n",
    "            \n",
    "        else:\n",
    "            s += \"1\"\n",
    "\n",
    "        num  = num // 2 \n",
    "        \n",
    "    # 마지막 값 추가 \n",
    "    if num == 1:\n",
    "        s +=\"1\"\n",
    "    else:\n",
    "        s += \"0\"\n",
    "    return \"\".join(reversed(s))\n",
    "    # 문자열을 뒤집어줘야 이진수 출력 "
   ]
  },
  {
   "cell_type": "code",
   "execution_count": 2,
   "metadata": {},
   "outputs": [
    {
     "data": {
      "text/plain": [
       "5"
      ]
     },
     "execution_count": 2,
     "metadata": {},
     "output_type": "execute_result"
    }
   ],
   "source": [
    "len(trans_2(18))"
   ]
  },
  {
   "cell_type": "code",
   "execution_count": 32,
   "metadata": {},
   "outputs": [
    {
     "data": {
      "text/plain": [
       "'1011'"
      ]
     },
     "execution_count": 32,
     "metadata": {},
     "output_type": "execute_result"
    }
   ],
   "source": [
    "trans_2(11)"
   ]
  },
  {
   "cell_type": "code",
   "execution_count": 15,
   "metadata": {},
   "outputs": [],
   "source": [
    "n = 5\n",
    "arr1 = [9, 20, 28, 18, 11]\n",
    "arr2 = [30, 1, 21, 17, 28]"
   ]
  },
  {
   "cell_type": "code",
   "execution_count": 33,
   "metadata": {},
   "outputs": [
    {
     "name": "stdout",
     "output_type": "stream",
     "text": [
      "['11110', '00001', '10101', '10001', '11100']\n"
     ]
    }
   ],
   "source": [
    "new = []\n",
    "for i in arr2:\n",
    "    if len(trans_2(i)) != n:\n",
    "        new.append(trans_2(i).rjust(n, \"0\"))\n",
    "        # 문자열이 원하는 자리수가 아니면 자리수를 맞춰줌 \n",
    "    else:\n",
    "        new.append(trans_2(i))\n",
    "\n",
    "print(new)"
   ]
  },
  {
   "cell_type": "code",
   "execution_count": 34,
   "metadata": {},
   "outputs": [
    {
     "name": "stdout",
     "output_type": "stream",
     "text": [
      "['01001', '10100', '11100', '10010', '01011']\n"
     ]
    }
   ],
   "source": [
    "new = []\n",
    "for i in arr1:\n",
    "    if len(trans_2(i)) != n:\n",
    "        new.append(trans_2(i).rjust(n, \"0\"))\n",
    "        # 문자열이 원하는 자리수가 아니면 자리수를 맞춰줌 \n",
    "    else:\n",
    "        new.append(trans_2(i))\n",
    "\n",
    "print(new)"
   ]
  },
  {
   "cell_type": "code",
   "execution_count": 35,
   "metadata": {},
   "outputs": [],
   "source": [
    "# 자리수를 맞춰주는 함수 \n",
    "def Fit_NumLen(arr, num_length):\n",
    "    new = [] \n",
    "    for i in arr:\n",
    "        if len(trans_2(i)) != num_length:\n",
    "            new.append(trans_2(i).rjust(num_length, \"0\"))\n",
    "        \n",
    "        else:\n",
    "            new.append(trans_2(i))\n",
    "    return new "
   ]
  },
  {
   "cell_type": "code",
   "execution_count": 36,
   "metadata": {},
   "outputs": [
    {
     "data": {
      "text/plain": [
       "['01001', '10100', '11100', '10010', '01011']"
      ]
     },
     "execution_count": 36,
     "metadata": {},
     "output_type": "execute_result"
    }
   ],
   "source": [
    "Fit_NumLen(arr1, 5)"
   ]
  },
  {
   "cell_type": "code",
   "execution_count": 37,
   "metadata": {},
   "outputs": [
    {
     "name": "stdout",
     "output_type": "stream",
     "text": [
      "['01001', '10100', '11100', '10010', '01011']\n",
      "['11110', '00001', '10101', '10001', '11100']\n"
     ]
    }
   ],
   "source": [
    "print(Fit_NumLen(arr1, n))\n",
    "print(Fit_NumLen(arr2, n))"
   ]
  },
  {
   "cell_type": "code",
   "execution_count": 38,
   "metadata": {},
   "outputs": [
    {
     "name": "stdout",
     "output_type": "stream",
     "text": [
      "#####\n",
      "# # #\n",
      "### #\n",
      "#  ##\n",
      "#####\n"
     ]
    }
   ],
   "source": [
    "# 동일요소의 값들이 1인지 아닌지 판단\n",
    "path_ = []\n",
    "for x,y in zip(Fit_NumLen(arr1, n), Fit_NumLen(arr2, n)):\n",
    "    s = \"\"\n",
    "    for i,j in zip(x,y):   \n",
    "        # print(i,j)\n",
    "        if i == \"1\" or j == \"1\":\n",
    "            s += \"#\"\n",
    "        else:\n",
    "            s += \" \"\n",
    "    print(s)\n",
    "    path_.append(s)"
   ]
  },
  {
   "cell_type": "code",
   "execution_count": 39,
   "metadata": {},
   "outputs": [
    {
     "name": "stdout",
     "output_type": "stream",
     "text": [
      "['#####', '# # #', '### #', '#  ##', '#####']\n"
     ]
    }
   ],
   "source": [
    "print(path_)"
   ]
  },
  {
   "cell_type": "code",
   "execution_count": 40,
   "metadata": {},
   "outputs": [],
   "source": [
    "# 최종 제출본 \n",
    "def trans_2(num):\n",
    "    s = \"\"\n",
    "    while num >= 2:\n",
    "        \n",
    "        if num % 2 == 0:\n",
    "            # 나머지가 0이라면 0을 추가 \n",
    "            s += \"0\"\n",
    "            \n",
    "        else:\n",
    "            s += \"1\"\n",
    "\n",
    "        num  = num // 2 \n",
    "        \n",
    "    # 마지막 값 추가 \n",
    "    if num == 1:\n",
    "        s +=\"1\"\n",
    "    else:\n",
    "        s += \"0\"\n",
    "    return \"\".join(reversed(s))\n",
    "    # 문자열을 뒤집어줘야 이진수 출력 \n",
    "\n",
    "def Fit_NumLen(arr, num_length):\n",
    "    new = [] \n",
    "    for i in arr:\n",
    "        if len(trans_2(i)) != num_length:\n",
    "            new.append(trans_2(i).rjust(num_length, \"0\"))\n",
    "        \n",
    "        else:\n",
    "            new.append(trans_2(i))\n",
    "    return new \n",
    "\n",
    "\n",
    "def solution(n, arr1, arr2):\n",
    "    answer = []\n",
    "    \n",
    "    for x, y in zip(Fit_NumLen(arr1, n), Fit_NumLen(arr2, n)):\n",
    "        s = \"\"\n",
    "        \n",
    "        for i, j in zip(x,y):\n",
    "            if i == \"1\" or j == \"1\":\n",
    "                s += \"#\"\n",
    "            else:\n",
    "                s += \" \"\n",
    "        answer.append(s)\n",
    "    return answer\n",
    "# 정답 \n",
    "# 너무 복잡하게 풀었음 \n",
    "# 조금 더 간단하게 풀 수 있을 것 같은데... "
   ]
  },
  {
   "cell_type": "markdown",
   "metadata": {},
   "source": [
    "### 참고 풀이 "
   ]
  },
  {
   "cell_type": "code",
   "execution_count": 41,
   "metadata": {},
   "outputs": [],
   "source": [
    "def solution(n, arr1, arr2) :\n",
    "    result = []\n",
    "\n",
    "    for j in range(0,len(arr1)) :\n",
    "        ret = ''\n",
    "        num = arr1[j] | arr2[j]\n",
    "\n",
    "        for i in range(0, n) :\n",
    "            if num % 2 == 0 :\n",
    "                ret = ' ' + ret\n",
    "\n",
    "            else : \n",
    "                ret = '#' + ret\n",
    "\n",
    "            num = int(num / 2)\n",
    "\n",
    "        result.append(ret)\n",
    "\n",
    "    return result"
   ]
  },
  {
   "cell_type": "markdown",
   "metadata": {},
   "source": [
    "### 폰켓몬 \n",
    "- 당신은 폰켓몬을 잡기 위한 오랜 여행 끝에, 홍 박사님의 연구실에 도착했습니다. 홍 박사님은 당신에게 자신의 연구실에 있는 총 N 마리의 폰켓몬 중에서 N/2마리를 가져가도 좋다고 했습니다.\n",
    "- 홍 박사님 연구실의 폰켓몬은 종류에 따라 번호를 붙여 구분합니다. 따라서 같은 종류의 폰켓몬은 같은 번호를 가지고 있습니다. 예를 들어 연구실에 총 4마리의 폰켓몬이 있고, 각 폰켓몬의 종류 번호가 [3번, 1번, 2번, 3번]이라면 이는 3번 폰켓몬 두 마리, 1번 폰켓몬 한 마리, 2번 폰켓몬 한 마리가 있음을 나타냅니다. \n",
    "- 이때, 4마리의 폰켓몬 중 2마리를 고르는 방법은 다음과 같이 6가지가 있습니다.\n",
    "\n",
    "- 첫 번째(3번), 두 번째(1번) 폰켓몬을 선택\n",
    "- 첫 번째(3번), 세 번째(2번) 폰켓몬을 선택\n",
    "- 첫 번째(3번), 네 번째(3번) 폰켓몬을 선택\n",
    "- 두 번째(1번), 세 번째(2번) 폰켓몬을 선택\n",
    "- 두 번째(1번), 네 번째(3번) 폰켓몬을 선택\n",
    "- 세 번째(2번), 네 번째(3번) 폰켓몬을 선택\n",
    "- 이때, 첫 번째(3번) 폰켓몬과 네 번째(3번) 폰켓몬을 선택하는 방법은 한 종류(3번 폰켓몬 두 마리)의 폰켓몬만 가질 수 있지만, 다른 방법들은 모두 두 종류의 폰켓몬을 가질 수 있습니다. \n",
    "- 따라서 위 예시에서 가질 수 있는 폰켓몬 종류 수의 최댓값은 2가 됩니다.\n",
    "- 당신은 최대한 다양한 종류의 폰켓몬을 가지길 원하기 때문에, 최대한 많은 종류의 폰켓몬을 포함해서 N/2마리를 선택하려 합니다. \n",
    "- N마리 폰켓몬의 종류 번호가 담긴 배열 nums가 매개변수로 주어질 때, N/2마리의 폰켓몬을 선택하는 방법 중, 가장 많은 종류의 폰켓몬을 선택하는 방법을 찾아, 그때의 폰켓몬 종류 번호의 개수를 return 하도록 solution 함수를 완성해주세요.\n",
    "\n",
    "\n",
    "- nums는 폰켓몬의 종류 번호가 담긴 1차원 배열입니다.\n",
    "- nums의 길이(N)는 1 이상 10,000 이하의 자연수이며, 항상 짝수로 주어집니다.\n",
    "- 폰켓몬의 종류 번호는 1 이상 200,000 이하의 자연수로 나타냅니다.\n",
    "- 가장 많은 종류의 폰켓몬을 선택하는 방법이 여러 가지인 경우에도, 선택할 수 있는 폰켓몬 종류 개수의 최댓값 하나만 return 하면 됩니다.\n",
    "\n",
    "<hr>\n",
    "\n",
    "- 입출력 예 #2\n",
    "- 6마리의 폰켓몬이 있으므로, 3마리의 폰켓몬을 골라야 합니다.\n",
    "- 가장 많은 종류의 폰켓몬을 고르기 위해서는 3번 폰켓몬 한 마리, 2번 폰켓몬 한 마리, 4번 폰켓몬 한 마리를 고르면 되며, 따라서 3을 return 합니다.\n",
    "\n"
   ]
  },
  {
   "cell_type": "code",
   "execution_count": 42,
   "metadata": {},
   "outputs": [],
   "source": [
    "# n // 2를 해서 얻을 수 있는 경우의 수를 모두 출력 (반복문을 몇개 쓸지 정해야함... <- 이거 구하는게 어렵겠다)\n",
    "# 만약 중복된 값이 들어있는지 확인\n",
    "# 중복이 없는 최대한의 값이 들어잇는 배열의 길이를 출력 "
   ]
  },
  {
   "cell_type": "code",
   "execution_count": 50,
   "metadata": {},
   "outputs": [],
   "source": [
    "# 참고함 \n",
    "def combi(arr, n):\n",
    "    result = [] \n",
    "    \n",
    "    if n > len(arr):\n",
    "        return result \n",
    "\n",
    "    if n == 1:\n",
    "        for i in arr:\n",
    "            result.append([i])\n",
    "    \n",
    "    elif n > 1:\n",
    "        for i in range(len(arr) - n + 1):\n",
    "            for j in combi(arr[i+1:], n-1):\n",
    "                # 차례대로 경우의 수를 구하는 로직 \n",
    "                result.append([arr[i]] + j)\n",
    "    return result\n",
    "# 재귀 함수를 통해서 경우의 수를 구함 "
   ]
  },
  {
   "cell_type": "code",
   "execution_count": 52,
   "metadata": {},
   "outputs": [
    {
     "name": "stdout",
     "output_type": "stream",
     "text": [
      "[[3, 3, 3], [3, 3, 2], [3, 3, 2], [3, 3, 4], [3, 3, 2], [3, 3, 2], [3, 3, 4], [3, 2, 2], [3, 2, 4], [3, 2, 4], [3, 3, 2], [3, 3, 2], [3, 3, 4], [3, 2, 2], [3, 2, 4], [3, 2, 4], [3, 2, 2], [3, 2, 4], [3, 2, 4], [2, 2, 4]]\n"
     ]
    }
   ],
   "source": [
    "nums = [3,3,3,2,2,4]\n",
    "n = len(nums) // 2 \n",
    "new_nums = combi(nums, n)\n",
    "print(new_nums)"
   ]
  },
  {
   "cell_type": "code",
   "execution_count": 57,
   "metadata": {},
   "outputs": [
    {
     "name": "stdout",
     "output_type": "stream",
     "text": [
      "{3}\n",
      "{2, 3}\n",
      "{2, 3}\n",
      "{3, 4}\n",
      "{2, 3}\n",
      "{2, 3}\n",
      "{3, 4}\n",
      "{2, 3}\n",
      "{2, 3, 4}\n",
      "{2, 3, 4}\n",
      "{2, 3}\n",
      "{2, 3}\n",
      "{3, 4}\n",
      "{2, 3}\n",
      "{2, 3, 4}\n",
      "{2, 3, 4}\n",
      "{2, 3}\n",
      "{2, 3, 4}\n",
      "{2, 3, 4}\n",
      "{2, 4}\n",
      "3\n"
     ]
    }
   ],
   "source": [
    "max_nums = 0\n",
    "for i in new_nums:\n",
    "    print(set(i))\n",
    "    if len(set(i)) > max_nums:\n",
    "        max_nums = len(set(i))\n",
    "print(max_nums)"
   ]
  },
  {
   "cell_type": "code",
   "execution_count": 58,
   "metadata": {},
   "outputs": [],
   "source": [
    "def combi(arr, n):\n",
    "    result = [] \n",
    "    \n",
    "    if n > len(arr):\n",
    "        return result \n",
    "\n",
    "    if n == 1:\n",
    "        for i in arr:\n",
    "            result.append([i])\n",
    "    \n",
    "    elif n > 1:\n",
    "        for i in range(len(arr) - n + 1):\n",
    "            for j in combi(arr[i+1:], n-1):\n",
    "                # 차례대로 경우의 수를 구하는 로직 \n",
    "                result.append([arr[i]] + j)\n",
    "    return result\n",
    "# 재귀 함수를 통해서 경우의 수를 구함 \n",
    "\n",
    "def solution(nums):\n",
    "\n",
    "    n = len(nums) // 2 \n",
    "\n",
    "    new_num = combi(nums, n)\n",
    "    \n",
    "    answer = 0\n",
    "\n",
    "    for i in new_num:\n",
    "        if len(set(i)) > answer:\n",
    "            answer = len(set(i))\n",
    "    # set을 활용해서 중복 요소를 제거하고 길이를 구하면 그것이 폰켓몬의 종류가 됨 \n",
    "    return answer"
   ]
  },
  {
   "cell_type": "code",
   "execution_count": 59,
   "metadata": {},
   "outputs": [
    {
     "data": {
      "text/plain": [
       "2"
      ]
     },
     "execution_count": 59,
     "metadata": {},
     "output_type": "execute_result"
    }
   ],
   "source": [
    "solution([3,3,3,2,2,2])\n",
    "# 시간초과 "
   ]
  },
  {
   "cell_type": "code",
   "execution_count": 62,
   "metadata": {},
   "outputs": [
    {
     "name": "stdout",
     "output_type": "stream",
     "text": [
      "{2, 3}\n",
      "2\n"
     ]
    }
   ],
   "source": [
    "# 잠시만 그냥 set써서 요소 중복 제거하고 하면 되잖아 \n",
    "nums = [3,3,3,2,2,2]\n",
    "print(set(nums))\n",
    "\n",
    "n = len(nums) // 2 \n",
    "\n",
    "if len(set(nums)) == n:\n",
    "    print(len(set(nums)))\n",
    "elif len(set(nums)) < n:\n",
    "    print(len(set(nums)))\n",
    "else:\n",
    "    print(n)\n"
   ]
  },
  {
   "cell_type": "code",
   "execution_count": null,
   "metadata": {},
   "outputs": [],
   "source": [
    "def solution(nums):\n",
    "    n = len(nums) // 2 \n",
    "\n",
    "    answer = 0\n",
    "    if len(set(nums)) <= n:\n",
    "        answer = len(set(nums))\n",
    "        return answer\n",
    "    else:\n",
    "        answer = n \n",
    "        return answer \n",
    "# 정답 "
   ]
  },
  {
   "cell_type": "markdown",
   "metadata": {},
   "source": [
    "### 참고풀이"
   ]
  },
  {
   "cell_type": "code",
   "execution_count": 63,
   "metadata": {},
   "outputs": [],
   "source": [
    "def solution(nums):\n",
    "    return min(len(set(nums)), len(nums)//2)\n",
    "# 지리네 "
   ]
  },
  {
   "cell_type": "markdown",
   "metadata": {},
   "source": [
    "### 숫자 문자열과 영단어 \n",
    "- 네오와 프로도가 숫자놀이를 하고 있습니다. 네오가 프로도에게 숫자를 건넬 때 일부 자릿수를 영단어로 바꾼 카드를 건네주면 프로도는 원래 숫자를 찾는 게임입니다.\n",
    "\n",
    "- 다음은 숫자의 일부 자릿수를 영단어로 바꾸는 예시입니다.\n",
    "\n",
    "- 1478 → \"one4seveneight\"\n",
    "- 234567 → \"23four5six7\"\n",
    "- 10203 → \"1zerotwozero3\"\n",
    "- 이렇게 숫자의 일부 자릿수가 영단어로 바뀌어졌거나, 혹은 바뀌지 않고 그대로인 문자열 s가 매개변수로 주어집니다. s가 의미하는 원래 숫자를 return 하도록 solution 함수를 완성해주세요.\n",
    "\n",
    "- 참고로 각 숫자에 대응되는 영단어는 다음 표와 같습니다.\n",
    "\n",
    "- 1 ≤ s의 길이 ≤ 50\n",
    "- s가 \"zero\" 또는 \"0\"으로 시작하는 경우는 주어지지 않습니다.\n",
    "- return 값이 1 이상 2,000,000,000 이하의 정수가 되는 올바른 입력만 s로 주어집니다.\n",
    "\n",
    "<hr>\n",
    "\n",
    "- \"three\"는 3, \"six\"는 6, \"seven\"은 7에 대응되기 때문에 정답은 입출력 예 #2와 같은 234567이 됩니다.\n",
    "- 입출력 예 #2와 #3과 같이 같은 정답을 가리키는 문자열이 여러 가지가 나올 수 있습니다."
   ]
  },
  {
   "cell_type": "code",
   "execution_count": null,
   "metadata": {},
   "outputs": [],
   "source": [
    "# 반복문과 replace함수를 활용해서 변환 "
   ]
  },
  {
   "cell_type": "code",
   "execution_count": 76,
   "metadata": {},
   "outputs": [
    {
     "name": "stdout",
     "output_type": "stream",
     "text": [
      "10203\n"
     ]
    }
   ],
   "source": [
    "replace_num = {\"zero\" : \"0\", \"one\" : \"1\", \"two\" : \"2\", \"three\" : \"3\", \"four\" : \"4\", \"five\" : \"5\", \"six\" : \"6\", \"seven\" : \"7\", \"eight\" : \"8\", \"nine\" : \"9\"}\n",
    "s = \"1zerotwozero3\"\n",
    "\n",
    "for i in replace_num:\n",
    "    s = s.replace(i, replace_num[i])\n",
    "print(s)"
   ]
  },
  {
   "cell_type": "code",
   "execution_count": 77,
   "metadata": {},
   "outputs": [],
   "source": [
    "replace_num = {\"zero\" : \"0\", \"one\" : \"1\", \"two\" : \"2\", \"three\" : \"3\", \"four\" : \"4\", \"five\" : \"5\", \"six\" : \"6\", \"seven\" : \"7\", \"eight\" : \"8\", \"nine\" : \"9\"}\n",
    "\n",
    "def solution(s):\n",
    "\n",
    "    for i in replace_num:\n",
    "        s = s.replace(i, replace_num[i])\n",
    "\n",
    "    answer = int(s)\n",
    "    return answer"
   ]
  },
  {
   "cell_type": "code",
   "execution_count": 78,
   "metadata": {},
   "outputs": [
    {
     "data": {
      "text/plain": [
       "234567"
      ]
     },
     "execution_count": 78,
     "metadata": {},
     "output_type": "execute_result"
    }
   ],
   "source": [
    "solution(\"2three45sixseven\")\n",
    "# 정답 "
   ]
  },
  {
   "cell_type": "markdown",
   "metadata": {},
   "source": [
    "### 참고 풀이"
   ]
  },
  {
   "cell_type": "code",
   "execution_count": 79,
   "metadata": {},
   "outputs": [],
   "source": [
    "replace_num = {\"zero\" : \"0\", \"one\" : \"1\", \"two\" : \"2\", \"three\" : \"3\", \"four\" : \"4\", \"five\" : \"5\", \"six\" : \"6\", \"seven\" : \"7\", \"eight\" : \"8\", \"nine\" : \"9\"}\n",
    "\n",
    "def solution(s):\n",
    "\n",
    "    for i in replace_num:\n",
    "        s = s.replace(i, replace_num[i])\n",
    "\n",
    "    answer = int(s)\n",
    "    return answer\n",
    "# 나랑 비슷하네 "
   ]
  },
  {
   "cell_type": "markdown",
   "metadata": {},
   "source": [
    "### 모의고사 \n",
    "- 수포자는 수학을 포기한 사람의 준말입니다. 수포자 삼인방은 모의고사에 수학 문제를 전부 찍으려 합니다. 수포자는 1번 문제부터 마지막 문제까지 다음과 같이 찍습니다.\n",
    "\n",
    "- 1번 수포자가 찍는 방식: 1, 2, 3, 4, 5, 1, 2, 3, 4, 5, ...\n",
    "- 2번 수포자가 찍는 방식: 2, 1, 2, 3, 2, 4, 2, 5, 2, 1, 2, 3, 2, 4, 2, 5, ...\n",
    "- 3번 수포자가 찍는 방식: 3, 3, 1, 1, 2, 2, 4, 4, 5, 5, 3, 3, 1, 1, 2, 2, 4, 4, 5, 5, ...\n",
    "\n",
    "- 1번 문제부터 마지막 문제까지의 정답이 순서대로 들은 배열 answers가 주어졌을 때, 가장 많은 문제를 맞힌 사람이 누구인지 배열에 담아 return 하도록 solution 함수를 작성해주세요.\n",
    "\n",
    "- 제한 조건\n",
    "    - 시험은 최대 10,000 문제로 구성되어있습니다.\n",
    "    - 문제의 정답은 1, 2, 3, 4, 5중 하나입니다.\n",
    "    - 가장 높은 점수를 받은 사람이 여럿일 경우, return하는 값을 오름차순 정렬해주세요.\n",
    "\n",
    "<hr>\n",
    "\n",
    "- 입출력 예 #1\n",
    "\n",
    "    - 수포자 1은 모든 문제를 맞혔습니다.\n",
    "    - 수포자 2는 모든 문제를 틀렸습니다.\n",
    "    - 수포자 3은 모든 문제를 틀렸습니다.\n",
    "- 따라서 가장 문제를 많이 맞힌 사람은 수포자 1입니다."
   ]
  },
  {
   "cell_type": "code",
   "execution_count": 81,
   "metadata": {},
   "outputs": [],
   "source": [
    "# 정답 리스트의 요소와 수포자들의 리스트 요소가 같은지 비교하면서 각 수포자들 정답을 count \n",
    "# 만약 count가 같다면 오름차순 정렬 "
   ]
  },
  {
   "cell_type": "code",
   "execution_count": 104,
   "metadata": {},
   "outputs": [
    {
     "name": "stdout",
     "output_type": "stream",
     "text": [
      "0\n",
      "1\n",
      "2\n",
      "3\n",
      "4\n",
      "2 2 1\n",
      "[1, 2]\n"
     ]
    }
   ],
   "source": [
    "num1 = [1,2,3,4,5,1,2,3,4,5]\n",
    "num2 = [2,1,2,3,2,4,2,5,2,1,2,3,2,4,2,5]\n",
    "num3 = [3,3,1,1,2,2,4,4,5,5,3,3,1,1,2,2,4,4,5,5]\n",
    "\n",
    "answer = [1,3,2,4,2]\n",
    "\n",
    "cnt1, cnt2, cnt3 = 0, 0, 0\n",
    "for i in range(len(answer)):\n",
    "    print(i)\n",
    "    if answer[i] == num1[i]:\n",
    "        cnt1 += 1 \n",
    "    elif answer[i] == num2[i]:\n",
    "        cnt2 += 1 \n",
    "    elif answer[i] == num3[i]:\n",
    "        cnt3 += 1 \n",
    "\n",
    "print(cnt1, cnt2, cnt3)\n",
    "a = [] \n",
    "a.append(cnt1)\n",
    "a.append(cnt2)\n",
    "a.append(cnt3)\n",
    "\n",
    "max_cnt = max(cnt1, cnt2, cnt3)\n",
    "\n",
    "print([i+1 for i in range(len(a)) if a[i] == max_cnt])\n"
   ]
  },
  {
   "cell_type": "code",
   "execution_count": 126,
   "metadata": {},
   "outputs": [],
   "source": [
    "def solution(answers):\n",
    "\n",
    "    num1 = [1,2,3,4,5,1,2,3,4,5]\n",
    "    num2 = [2,1,2,3,2,4,2,5,2,1,2,3,2,4,2,5]\n",
    "    num3 = [3,3,1,1,2,2,4,4,5,5,3,3,1,1,2,2,4,4,5,5]\n",
    "\n",
    "    cnt1, cnt2, cnt3 = 0, 0, 0\n",
    "\n",
    "    for i in range(len(answers)):\n",
    "        if answers[i] == num1[i % len(num1)]:\n",
    "            cnt1 += 1 \n",
    "        if answers[i] == num2[i % len(num2)]:\n",
    "            cnt2 += 1 \n",
    "        if answers[i] == num3[i % len(num3)]:\n",
    "            cnt3 += 1 \n",
    "        # 반복되기 때문에 나머지 연산으로 진행 \n",
    "\n",
    "            \n",
    "    # a = [cnt1, cnt2, cnt3]\n",
    "    a = []\n",
    "    a.append(cnt1)\n",
    "    a.append(cnt2)\n",
    "    a.append(cnt3)\n",
    "\n",
    "    max_cnt = 0\n",
    "    for i in a:\n",
    "        if i > max_cnt:\n",
    "            max_cnt = i\n",
    "\n",
    "\n",
    "    answer = [i+1 for i in range(len(a)) if a[i] == max_cnt]\n",
    "    return answer"
   ]
  },
  {
   "cell_type": "code",
   "execution_count": 127,
   "metadata": {},
   "outputs": [
    {
     "data": {
      "text/plain": [
       "[1]"
      ]
     },
     "execution_count": 127,
     "metadata": {},
     "output_type": "execute_result"
    }
   ],
   "source": [
    "solution([1,2,3,4,5])"
   ]
  },
  {
   "cell_type": "markdown",
   "metadata": {},
   "source": [
    "### 참고풀이"
   ]
  },
  {
   "cell_type": "code",
   "execution_count": null,
   "metadata": {},
   "outputs": [],
   "source": [
    "def solution(answers):\n",
    "    p = [[1, 2, 3, 4, 5],\n",
    "         [2, 1, 2, 3, 2, 4, 2, 5],\n",
    "         [3, 3, 1, 1, 2, 2, 4, 4, 5, 5]]\n",
    "    s = [0] * len(p)\n",
    "\n",
    "    for q, a in enumerate(answers):\n",
    "        for i, v in enumerate(p):\n",
    "            if a == v[q % len(v)]:\n",
    "                s[i] += 1\n",
    "    return [i + 1 for i, v in enumerate(s) if v == max(s)]"
   ]
  },
  {
   "cell_type": "markdown",
   "metadata": {},
   "source": [
    "### 이분 검색 \n",
    "- 임의의 N개의 숫자가 입력으로 주어집니다. \n",
    "- N개의 수를 오름차순으로 정렬한 다음 N개의 수 중 한 개의 수인 M이 주어지면 이분검색으로 M이 정렬된 상태에서 몇 번째에 있는지 구하는 프로그램을 작성하세요. 단 중복값은 존재하지 않습니다.\n",
    "\n",
    "<hr>\n",
    "\n",
    "- 첫 줄에 한 줄에 자연수 N(3<=N<=1,000,000)과 M이 주어집니다. 두 번째 줄에 N개의 수가 공백을 사이에 두고 주어집니다.\n",
    "- 첫 줄에 정렬 후 M의 값의 위치 번호를 출력한다."
   ]
  },
  {
   "cell_type": "code",
   "execution_count": 3,
   "metadata": {},
   "outputs": [],
   "source": [
    "# 이분검색 \n",
    "# 정렬 후 맨 왼쪽(lt)과 맨 오른쪽(rt)을 생성 \n",
    "# 중간지점을 뜻하는 변수(mid)생성\n",
    "# mid = (rt + lt) // 2 \n",
    "# mid보다 찾고자 하는 값이 크다면 lt = mid + 1이 되고 해당 과정을 반복\n",
    "# 중간지점이 찾고자 하는 숫자인지 하는 것이 이분 검색 "
   ]
  },
  {
   "cell_type": "code",
   "execution_count": 4,
   "metadata": {},
   "outputs": [],
   "source": [
    "n,m = map(int, input().split())\n",
    "li = list(map(int, input().split()))"
   ]
  },
  {
   "cell_type": "code",
   "execution_count": 5,
   "metadata": {},
   "outputs": [
    {
     "data": {
      "text/plain": [
       "[23, 87, 65, 12, 57, 32, 99, 81]"
      ]
     },
     "execution_count": 5,
     "metadata": {},
     "output_type": "execute_result"
    }
   ],
   "source": [
    "li"
   ]
  },
  {
   "cell_type": "code",
   "execution_count": 8,
   "metadata": {},
   "outputs": [
    {
     "name": "stdout",
     "output_type": "stream",
     "text": [
      "3\n"
     ]
    }
   ],
   "source": [
    "# 정렬은 전제조건 \n",
    "li.sort()\n",
    "\n",
    "lt = 0 \n",
    "rt = n-1\n",
    "# 포인터 변수 생성 \n",
    "\n",
    "while lt <= rt:\n",
    "    mid = (lt + rt) // 2 \n",
    "    if li[mid] == m:\n",
    "        print(mid+1)\n",
    "        break \n",
    "\n",
    "    elif li[mid] > m:\n",
    "        rt = mid -1 \n",
    "    # 찾고자 하는 값이 중간값보다 작으면 큰 부분을 날려버리기 위해 rt 조정 \n",
    "\n",
    "    else:\n",
    "        lt = mid + 1 \n",
    "# rt와 lt를 조정해가면서 반복적으로 값을 찾아냄 \n"
   ]
  },
  {
   "cell_type": "markdown",
   "metadata": {},
   "source": [
    "### 랜선자르기\n",
    "- 엘리트 학원은 자체적으로 K개의 랜선을 가지고 있다. 그러나 K개의 랜선은 길이가 제각각이 다. 선생님은 랜선을 모두 N개의 같은 길이의 랜선으로 만들고 싶었기 때문에 K개의 랜선을 잘라서 만들어야 한다. 예를 들어 300cm 짜리 랜선에서 140cm 짜리 랜선을 두 개 잘라내면 20cm 은 버려야 한다. (이미 자른 랜선은 붙일 수 없다.)\n",
    "- 편의를 위해 랜선을 자를때 손실되는 길이는 없다고 가정하며, 기존의 K개의 랜선으로 N개의 랜선을 만들 수 없는 경우는 없다고 가정하자. 그리고 자를 때는 항상 센티미터 단위로 정수 길이만큼 자른다고 가정하자. N개보다 많이 만드는 것도 N개를 만드는 것에 포함된다. 이때 만들 수 있는 최대 랜선의 길이를 구하는 프로그램을 작성하시오.\n",
    "\n",
    "<hr>\n",
    "\n",
    "- 첫째 줄에는 엘리트학원이 이미 가지고 있는 랜선의 개수 K, 그리고 필요한 랜선의 개수 N이 입력된다. K는 1이상 10,000이하의 정수이고, N은 1이상 1,000,000이하의 정수이다. 그리고 항상 K ≦ N 이다. 그 후 K줄에 걸쳐 이미 가지고 있는 각 랜선의 길이가 센티미터 단위의  큰 수 이하의 자연수로 주어진다.\n",
    "\n",
    "- 첫째 줄에 N개를 만들 수 있는 랜선의 최대 길이를 센티미터 단위의 정수로 출력한다."
   ]
  },
  {
   "cell_type": "code",
   "execution_count": 10,
   "metadata": {},
   "outputs": [],
   "source": [
    "# 결국 각 수를 어떤 수로 나눴을 때의 전체 몫이 11이 되는 최대 수를 구하는 것 "
   ]
  },
  {
   "cell_type": "code",
   "execution_count": null,
   "metadata": {},
   "outputs": [],
   "source": []
  }
 ],
 "metadata": {
  "kernelspec": {
   "display_name": "Python 3.9.1 64-bit ('3.9.1')",
   "language": "python",
   "name": "python3"
  },
  "language_info": {
   "codemirror_mode": {
    "name": "ipython",
    "version": 3
   },
   "file_extension": ".py",
   "mimetype": "text/x-python",
   "name": "python",
   "nbconvert_exporter": "python",
   "pygments_lexer": "ipython3",
   "version": "3.9.1"
  },
  "orig_nbformat": 4,
  "vscode": {
   "interpreter": {
    "hash": "b29909ae39fc17549a84839997d927dda790dc9d9d25402f3e010c02e8c51a82"
   }
  }
 },
 "nbformat": 4,
 "nbformat_minor": 2
}
