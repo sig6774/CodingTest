{
 "cells": [
  {
   "cell_type": "markdown",
   "metadata": {},
   "source": [
    "### 체육복 \n",
    "- 점심시간에 도둑이 들어, 일부 학생이 체육복을 도난당했습니다. 다행히 여벌 체육복이 있는 학생이 이들에게 체육복을 빌려주려 합니다. 학생들의 번호는 체격 순으로 매겨져 있어, 바로 앞번호의 학생이나 바로 뒷번호의 학생에게만 체육복을 빌려줄 수 있습니다. 예를 들어, 4번 학생은 3번 학생이나 5번 학생에게만 체육복을 빌려줄 수 있습니다. 체육복이 없으면 수업을 들을 수 없기 때문에 체육복을 적절히 빌려 최대한 많은 학생이 체육수업을 들어야 합니다.\n",
    "- 전체 학생의 수 n, 체육복을 도난당한 학생들의 번호가 담긴 배열 lost, 여벌의 체육복을 가져온 학생들의 번호가 담긴 배열 reserve가 매개변수로 주어질 때, 체육수업을 들을 수 있는 학생의 최댓값을 return 하도록 solution 함수를 작성해주세요."
   ]
  },
  {
   "cell_type": "code",
   "execution_count": 31,
   "metadata": {},
   "outputs": [],
   "source": [
    "n = 5\n",
    "l = [2, 4]\n",
    "r = [3]\n"
   ]
  },
  {
   "cell_type": "code",
   "execution_count": 10,
   "metadata": {},
   "outputs": [
    {
     "name": "stdout",
     "output_type": "stream",
     "text": [
      "5\n"
     ]
    }
   ],
   "source": [
    "n1 = n - len(l)\n",
    "for i in range(1,n+1):\n",
    "    if i + 1 in r or i - 1 in r:\n",
    "        n1 += 1\n",
    "print(n1)"
   ]
  },
  {
   "cell_type": "code",
   "execution_count": 18,
   "metadata": {},
   "outputs": [
    {
     "name": "stdout",
     "output_type": "stream",
     "text": [
      "[2, 4]\n"
     ]
    }
   ],
   "source": [
    "n1 = []\n",
    "for i in range(1, n+1):\n",
    "    if i + 1 in r:\n",
    "        n1.append(i)\n",
    "    elif i -1 in r:\n",
    "        n1.append(i)\n",
    "\n",
    "print(n1)"
   ]
  },
  {
   "cell_type": "code",
   "execution_count": 43,
   "metadata": {},
   "outputs": [
    {
     "name": "stdout",
     "output_type": "stream",
     "text": [
      "[1, 2, 3, 4, 5]\n"
     ]
    }
   ],
   "source": [
    "n1 = [] \n",
    "for i in range(1, n+1):\n",
    "    if i not in l:\n",
    "        n1.append(i)\n",
    "    elif i + 1 in r or i - 1 in r:\n",
    "        n1.append(i)\n",
    "\n",
    "print(n1)"
   ]
  },
  {
   "cell_type": "code",
   "execution_count": 35,
   "metadata": {
    "scrolled": true
   },
   "outputs": [
    {
     "name": "stdout",
     "output_type": "stream",
     "text": [
      "1\n",
      "3\n",
      "5\n"
     ]
    }
   ],
   "source": [
    "for i in range(1, n+1):\n",
    "    if i not in l:\n",
    "        print(i)"
   ]
  },
  {
   "cell_type": "code",
   "execution_count": 47,
   "metadata": {},
   "outputs": [],
   "source": [
    "n = 3\n",
    "l = [3]\n",
    "r = [1]"
   ]
  },
  {
   "cell_type": "code",
   "execution_count": 48,
   "metadata": {
    "scrolled": true
   },
   "outputs": [
    {
     "name": "stdout",
     "output_type": "stream",
     "text": [
      "2\n"
     ]
    }
   ],
   "source": [
    "n1 = 0\n",
    "n1 = n - len(l)\n",
    "for i in r:\n",
    "    if i + 1 in l or i - 1 in l:\n",
    "        n1 += 1\n",
    "        \n",
    "print(n1)\n",
    "# 이거 될 것 같은데 \n",
    "# 안됨 "
   ]
  },
  {
   "cell_type": "code",
   "execution_count": 57,
   "metadata": {},
   "outputs": [
    {
     "data": {
      "text/plain": [
       "5"
      ]
     },
     "execution_count": 57,
     "metadata": {},
     "output_type": "execute_result"
    }
   ],
   "source": [
    "solution(5, [2,4], [1,3,5])"
   ]
  },
  {
   "cell_type": "code",
   "execution_count": 55,
   "metadata": {},
   "outputs": [],
   "source": [
    "def solution(n, lost, reserve):\n",
    "    answer = 0\n",
    "    answer = n - len(lost)\n",
    "    for i in reserve:\n",
    "        if i + 1 in lost or i - 1 in lost:\n",
    "            answer += 1\n",
    "    return answer"
   ]
  },
  {
   "cell_type": "code",
   "execution_count": 56,
   "metadata": {
    "scrolled": true
   },
   "outputs": [
    {
     "name": "stdout",
     "output_type": "stream",
     "text": [
      "5\n"
     ]
    }
   ],
   "source": [
    "r = [1,3,5]\n",
    "print(r[-1])"
   ]
  },
  {
   "cell_type": "code",
   "execution_count": 65,
   "metadata": {
    "scrolled": true
   },
   "outputs": [
    {
     "name": "stdout",
     "output_type": "stream",
     "text": [
      "[1, 3, 5]\n",
      "[]\n"
     ]
    }
   ],
   "source": [
    "n = 5\n",
    "l = [2,4]\n",
    "r = [1, 3, 5]\n",
    "d1 = []\n",
    "\n",
    "for i in r:\n",
    "    if i + 1 in l:\n",
    "        d1.append(i)\n",
    "        l.remove(i+1)\n",
    "    elif i -1 in l:\n",
    "        d1.append(i)\n",
    "        l.remove(i-1)\n",
    "    else:\n",
    "        d1.append(i)\n",
    "        \n",
    "print(d1)\n",
    "print(l)"
   ]
  },
  {
   "cell_type": "code",
   "execution_count": 61,
   "metadata": {},
   "outputs": [
    {
     "name": "stdout",
     "output_type": "stream",
     "text": [
      "[2, 4]\n"
     ]
    }
   ],
   "source": [
    "d1 = []\n",
    "for i in range(1,n+1):\n",
    "    if i + 1 in r or i - 1 in r:\n",
    "        d1.append(i)\n",
    "        \n",
    "print(d1)"
   ]
  },
  {
   "cell_type": "code",
   "execution_count": 6,
   "metadata": {},
   "outputs": [
    {
     "name": "stdout",
     "output_type": "stream",
     "text": [
      "1\n",
      "[]\n",
      "[1, 2]\n"
     ]
    }
   ],
   "source": [
    "n = 5\n",
    "l = [2,4]\n",
    "r = [3]\n",
    "d1 = []\n",
    "\n",
    "for i in range(1, n+1):\n",
    "    if i + 1 in r:\n",
    "        d1.append(i)\n",
    "        r.remove(i+1)\n",
    "        print(r)\n",
    "    elif i - 1 in r:\n",
    "        d1.append(i)\n",
    "        r.remove(i-1)\n",
    "        print(r)\n",
    "        \n",
    "    elif len(r) == 0:\n",
    "        break\n",
    "        \n",
    "    else:\n",
    "        d1.append(i)\n",
    "        print(i)\n",
    "#     else:\n",
    "#         d1.append(i)\n",
    "        \n",
    "print(d1)"
   ]
  },
  {
   "cell_type": "code",
   "execution_count": 9,
   "metadata": {},
   "outputs": [
    {
     "name": "stdout",
     "output_type": "stream",
     "text": [
      "[1, 3, 5]\n",
      "[1, 3, 5, 3]\n"
     ]
    }
   ],
   "source": [
    "n = 5\n",
    "l = [2,4]\n",
    "r = [3]\n",
    "\n",
    "a = []\n",
    "for i in range(1, n+1):\n",
    "    a.append(i)\n",
    "    \n",
    "for i in a:\n",
    "    if i in l:\n",
    "        a.remove(i)\n",
    "print(a)\n",
    "\n",
    "for i in r:\n",
    "    if i + 1 in l:\n",
    "        a.append(i)\n",
    "    elif i - 1 in l:\n",
    "        a.append(i)\n",
    "    else:\n",
    "        break\n",
    "print(a)"
   ]
  },
  {
   "cell_type": "code",
   "execution_count": 10,
   "metadata": {},
   "outputs": [],
   "source": [
    "def solution(n, lost, reverse):\n",
    "    a = [] \n",
    "    for i in range(1, n+1):\n",
    "        a.append(i)\n",
    "    for i in a:\n",
    "        if i in lost:\n",
    "            a.remove(i)\n",
    "    for i in r:\n",
    "        if i + 1 in l:\n",
    "            a.append(i)\n",
    "        elif i - 1 in l:\n",
    "            a.append(i)\n",
    "        else:\n",
    "            break\n",
    "    return len(a)\n",
    "\n",
    "# 이거 왜 안되지..."
   ]
  },
  {
   "cell_type": "code",
   "execution_count": 11,
   "metadata": {},
   "outputs": [
    {
     "data": {
      "text/plain": [
       "4"
      ]
     },
     "execution_count": 11,
     "metadata": {},
     "output_type": "execute_result"
    }
   ],
   "source": [
    "solution(5, [2,4], [1,3,5])"
   ]
  },
  {
   "cell_type": "code",
   "execution_count": 12,
   "metadata": {},
   "outputs": [
    {
     "data": {
      "text/plain": [
       "3"
      ]
     },
     "execution_count": 12,
     "metadata": {},
     "output_type": "execute_result"
    }
   ],
   "source": [
    "solution(3, [3], [1])"
   ]
  },
  {
   "cell_type": "code",
   "execution_count": 18,
   "metadata": {},
   "outputs": [
    {
     "name": "stdout",
     "output_type": "stream",
     "text": [
      "[1, 3, 5]\n",
      "[1, 3, 5, 1, 3, 5]\n"
     ]
    }
   ],
   "source": [
    "n = 5\n",
    "l = [2,4]\n",
    "r = [1,3,5]\n",
    "\n",
    "a = []\n",
    "for i in range(1, n+1):\n",
    "    a.append(i)\n",
    "    \n",
    "for i in a:\n",
    "    if i in l:\n",
    "        a.remove(i)\n",
    "print(a)\n",
    "\n",
    "for i in r:\n",
    "    if i + 1 in l:\n",
    "        a.append(i)\n",
    "        pass\n",
    "    elif i - 1 in l:\n",
    "        a.append(i)\n",
    "        pass\n",
    "    else:\n",
    "        break\n",
    "print(a)"
   ]
  },
  {
   "cell_type": "code",
   "execution_count": 21,
   "metadata": {},
   "outputs": [
    {
     "name": "stdout",
     "output_type": "stream",
     "text": [
      "{2, 4}\n",
      "{1, 3, 5}\n",
      "5\n"
     ]
    }
   ],
   "source": [
    "n = 5\n",
    "l = [2,4]\n",
    "r = [1,3,5]\n",
    "\n",
    "a = set(l) - set(r)\n",
    "print(a)\n",
    "b = set(r) - set(l)\n",
    "print(b)\n",
    "\n",
    "for i in a:\n",
    "    if i + 1 in b:\n",
    "        b.remove(i+1)\n",
    "    elif i -1 in b:\n",
    "        b.remove(i-1)\n",
    "    else:\n",
    "        n -= 1\n",
    "    # 한번 동작하면 -1씩 제거 \n",
    "    # 이부분이 핵심 \n",
    "    \n",
    "    \n",
    "print(n)\n",
    "# 다른 사람 풀이 참조 \n",
    "# 나는 remove함수를 사용했지만 i+1 or i-1과 같은것은 하지 않음 \n",
    "# 조금 더 폭넓게 생각하자 "
   ]
  },
  {
   "cell_type": "code",
   "execution_count": 29,
   "metadata": {},
   "outputs": [],
   "source": [
    "def solution(n, lost, reverse):\n",
    "    a = set(lost) - set(reverse)\n",
    "    b = set(reverse) - set(lost)\n",
    "    \n",
    "    for i in a:\n",
    "        if i + 1 in b:\n",
    "            b.remove(i + 1)\n",
    "        elif i - 1 in b:\n",
    "            b.remove(i - 1)\n",
    "        else:\n",
    "            n -= 1\n",
    "    return n"
   ]
  },
  {
   "cell_type": "code",
   "execution_count": 30,
   "metadata": {},
   "outputs": [
    {
     "data": {
      "text/plain": [
       "5"
      ]
     },
     "execution_count": 30,
     "metadata": {},
     "output_type": "execute_result"
    }
   ],
   "source": [
    "solution(5, [2,4], [1,3,5])"
   ]
  },
  {
   "cell_type": "code",
   "execution_count": 31,
   "metadata": {},
   "outputs": [],
   "source": [
    "def solution(n, lost, reserve):\n",
    "    _reserve = [r for r in reserve if r not in lost]\n",
    "    _lost = [l for l in lost if l not in reserve]\n",
    "    for r in _reserve:\n",
    "        f = r - 1\n",
    "        b = r + 1\n",
    "        if f in _lost:\n",
    "            _lost.remove(f)\n",
    "        elif b in _lost:\n",
    "            _lost.remove(b)\n",
    "    return n - len(_lost)\n",
    "\n",
    "# 다른 사람 풀이 (천재인듯...)"
   ]
  },
  {
   "cell_type": "markdown",
   "metadata": {},
   "source": [
    "### 하샤드 수 \n",
    "- 양의 정수 x가 하샤드 수이려면 x의 자릿수의 합으로 x가 나누어져야 합니다. 예를 들어 18의 자릿수 합은 1+8=9이고, 18은 9로 나누어 떨어지므로 18은 하샤드 수입니다. 자연수 x를 입력받아 x가 하샤드 수인지 아닌지 검사하는 함수, solution을 완성해주세요.\n"
   ]
  },
  {
   "cell_type": "code",
   "execution_count": 46,
   "metadata": {
    "scrolled": true
   },
   "outputs": [
    {
     "name": "stdout",
     "output_type": "stream",
     "text": [
      "1\n"
     ]
    }
   ],
   "source": [
    "print(10 % 3 )"
   ]
  },
  {
   "cell_type": "code",
   "execution_count": 53,
   "metadata": {},
   "outputs": [
    {
     "name": "stdout",
     "output_type": "stream",
     "text": [
      "['1', '1']\n",
      "1\n",
      "2\n",
      "False\n"
     ]
    }
   ],
   "source": [
    "x = 11\n",
    "a = [] \n",
    "for i in str(x):\n",
    "    a.append(i)\n",
    "print(a)\n",
    "\n",
    "s = 0\n",
    "for i in a:\n",
    "    s += int(i)\n",
    "    print(s)\n",
    "if x % s == 0:\n",
    "    print('True')\n",
    "else:\n",
    "    print('False')"
   ]
  },
  {
   "cell_type": "code",
   "execution_count": 54,
   "metadata": {},
   "outputs": [],
   "source": [
    "def solution(x):\n",
    "    a = [] \n",
    "    s = 0\n",
    "    for i in str(x):\n",
    "        a.append(i)\n",
    "    \n",
    "    for i in a:\n",
    "        s += int(i)\n",
    "    if x % s == 0:\n",
    "        return True\n",
    "    else:\n",
    "        return False\n",
    "    \n",
    "# 정답 \n",
    "# 조금 더 연산을 줄일 수 없을까"
   ]
  },
  {
   "cell_type": "code",
   "execution_count": 55,
   "metadata": {},
   "outputs": [
    {
     "data": {
      "text/plain": [
       "False"
      ]
     },
     "execution_count": 55,
     "metadata": {},
     "output_type": "execute_result"
    }
   ],
   "source": [
    "solution(11)"
   ]
  },
  {
   "cell_type": "code",
   "execution_count": 58,
   "metadata": {},
   "outputs": [],
   "source": [
    "def Harshad(n):\n",
    "    return n % sum([int(c) for c in str(n)]) == 0\n",
    "\n",
    "# 다른 사람 풀이\n",
    "# 천재..."
   ]
  },
  {
   "cell_type": "markdown",
   "metadata": {},
   "source": [
    "### 예산\n",
    "- S사에서는 각 부서에 필요한 물품을 지원해 주기 위해 부서별로 물품을 구매하는데 필요한 금액을 조사했습니다. 그러나, 전체 예산이 정해져 있기 때문에 모든 부서의 물품을 구매해 줄 수는 없습니다. 그래서 최대한 많은 부서의 물품을 구매해 줄 수 있도록 하려고 합니다.\n",
    "- 물품을 구매해 줄 때는 각 부서가 신청한 금액만큼을 모두 지원해 줘야 합니다. 예를 들어 1,000원을 신청한 부서에는 정확히 1,000원을 지원해야 하며, 1,000원보다 적은 금액을 지원해 줄 수는 없습니다.\n",
    "- 부서별로 신청한 금액이 들어있는 배열 d와 예산 budget이 매개변수로 주어질 때, 최대 몇 개의 부서에 물품을 지원할 수 있는지 return 하도록 solution 함수를 완성해주세요."
   ]
  },
  {
   "cell_type": "code",
   "execution_count": 59,
   "metadata": {},
   "outputs": [],
   "source": [
    "d = [1,3,2,5,4]\n",
    "b = 9"
   ]
  },
  {
   "cell_type": "code",
   "execution_count": 65,
   "metadata": {},
   "outputs": [
    {
     "name": "stdout",
     "output_type": "stream",
     "text": [
      "5\n"
     ]
    }
   ],
   "source": [
    "d = [1,3,2,5,4]\n",
    "b = 9\n",
    "\n",
    "d = sorted(d)\n",
    "n = 0\n",
    "for i in d:\n",
    "    b -= i\n",
    "    n += 1\n",
    "    if b == 0:\n",
    "        break\n",
    "print(n)"
   ]
  },
  {
   "cell_type": "code",
   "execution_count": 74,
   "metadata": {},
   "outputs": [
    {
     "name": "stdout",
     "output_type": "stream",
     "text": [
      "3\n"
     ]
    }
   ],
   "source": [
    "d = [1,3,2,5,4]\n",
    "b = 9\n",
    "\n",
    "d = sorted(d)\n",
    "n = 0\n",
    "\n",
    "for i in d:\n",
    "    b -= i\n",
    "    if b >= 0:\n",
    "        n += 1\n",
    "    elif b <= 0:\n",
    "        break\n",
    "print(n)"
   ]
  },
  {
   "cell_type": "code",
   "execution_count": 78,
   "metadata": {},
   "outputs": [],
   "source": [
    "def solution(d, budget):\n",
    "    answer = 0\n",
    "    d = sorted(d)\n",
    "    \n",
    "    for i in d:\n",
    "        budget -= i\n",
    "        if budget >= 0:\n",
    "            answer += 1\n",
    "        else:\n",
    "            break\n",
    "    return answer \n",
    "\n",
    "# 정답 ~~~"
   ]
  },
  {
   "cell_type": "code",
   "execution_count": 79,
   "metadata": {},
   "outputs": [
    {
     "data": {
      "text/plain": [
       "4"
      ]
     },
     "execution_count": 79,
     "metadata": {},
     "output_type": "execute_result"
    }
   ],
   "source": [
    "solution([2,2,3,3], 10)"
   ]
  },
  {
   "cell_type": "code",
   "execution_count": 80,
   "metadata": {},
   "outputs": [],
   "source": [
    "def solution(d, budget):\n",
    "    d.sort()\n",
    "    while budget < sum(d):\n",
    "        d.pop()\n",
    "    return len(d)\n",
    "\n",
    "# 다른사람 풀이 \n",
    "# 기발한 생각이네 "
   ]
  }
 ],
 "metadata": {
  "kernelspec": {
   "display_name": "Python 3",
   "language": "python",
   "name": "python3"
  },
  "language_info": {
   "codemirror_mode": {
    "name": "ipython",
    "version": 3
   },
   "file_extension": ".py",
   "mimetype": "text/x-python",
   "name": "python",
   "nbconvert_exporter": "python",
   "pygments_lexer": "ipython3",
   "version": "3.7.4"
  }
 },
 "nbformat": 4,
 "nbformat_minor": 2
}
