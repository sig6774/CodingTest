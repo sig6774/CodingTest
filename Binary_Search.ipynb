{
  "nbformat": 4,
  "nbformat_minor": 0,
  "metadata": {
    "colab": {
      "name": "Binary_Search.ipynb",
      "provenance": [],
      "collapsed_sections": [],
      "authorship_tag": "ABX9TyMt/bq+NFbUMIonGsDfiHEE",
      "include_colab_link": true
    },
    "kernelspec": {
      "name": "python3",
      "display_name": "Python 3"
    },
    "language_info": {
      "name": "python"
    }
  },
  "cells": [
    {
      "cell_type": "markdown",
      "metadata": {
        "id": "view-in-github",
        "colab_type": "text"
      },
      "source": [
        "<a href=\"https://colab.research.google.com/github/sig6774/Coding_Test/blob/main/Binary_Search.ipynb\" target=\"_parent\"><img src=\"https://colab.research.google.com/assets/colab-badge.svg\" alt=\"Open In Colab\"/></a>"
      ]
    },
    {
      "cell_type": "markdown",
      "source": [
        "### 순차 탐색\n",
        "- 리스트 안에 있는 특정 데이터를 찾기 위해 앞에서부터 데이터를 하나씩 차례대로 확인하는 방법 "
      ],
      "metadata": {
        "id": "Q-XhXyqY_ms2"
      }
    },
    {
      "cell_type": "code",
      "execution_count": 1,
      "metadata": {
        "id": "exLdbA8s-9na"
      },
      "outputs": [],
      "source": [
        "def sequential_search(n, target, array):\n",
        "  for i in range(n):\n",
        "    if array[i] == target:\n",
        "      return i+1 \n",
        "      # array의 인덱스는 0부터 시작하므로 1을 추가하여 몇번째 순서에 있는지 출력 "
      ]
    },
    {
      "cell_type": "code",
      "source": [
        "input_data = input().split()\n",
        "n = int(input_data[0]) # 전체 데이터 크기 \n",
        "target = input_data[1] # 찾고자 하는 데이터 "
      ],
      "metadata": {
        "colab": {
          "base_uri": "https://localhost:8080/"
        },
        "id": "7JHgNzizAKYY",
        "outputId": "8e410064-8885-4b82-aa36-daaf54110877"
      },
      "execution_count": 3,
      "outputs": [
        {
          "name": "stdout",
          "output_type": "stream",
          "text": [
            "5 경록\n"
          ]
        }
      ]
    },
    {
      "cell_type": "code",
      "source": [
        "array = input().split()"
      ],
      "metadata": {
        "colab": {
          "base_uri": "https://localhost:8080/"
        },
        "id": "3XYxlzmAATzP",
        "outputId": "da0c9cc6-6ce5-4576-8063-b18b9c8eda84"
      },
      "execution_count": 4,
      "outputs": [
        {
          "name": "stdout",
          "output_type": "stream",
          "text": [
            "한글 컴퓨터 경록 워드 마우스\n"
          ]
        }
      ]
    },
    {
      "cell_type": "code",
      "source": [
        "print(sequential_search(n, target, array))\n",
        "# N개의 원소를 한번씩 확인해야 하기 때문에 시간 복잡도는 O(N)"
      ],
      "metadata": {
        "colab": {
          "base_uri": "https://localhost:8080/"
        },
        "id": "YH53pd_MAgju",
        "outputId": "dc17dd15-89a4-41d1-a3d6-ffd5fc09a9a5"
      },
      "execution_count": 6,
      "outputs": [
        {
          "output_type": "stream",
          "name": "stdout",
          "text": [
            "3\n"
          ]
        }
      ]
    },
    {
      "cell_type": "markdown",
      "source": [
        "#### 이진 탐색 : 반으로 쪼개면서 탐색하기 \n",
        "- 이진 탐색은 배열 내부의 데이터가 정렬되어 있어야만 사용할 수 있는 알고리즘 \n",
        "- 탐색 범위를 절반씩 좁혀가며 데이터를 탐색하는 특징 \n",
        "- 위치를 나타내는 변수 3개를 사용하며 시작점, 끝점, 중간점을 사용 \n",
        "- 찾으려는 데이터와 중간점 위치에 있는 데이터를 반복적으로 비교해서 원하는 데이터를 찾는 것 \n",
        "- 한 번 확인할 때마다 확인하는 원소의 개수가 절반씩 줄어든다는 점에서 시간 복잡도가 O(logN)"
      ],
      "metadata": {
        "id": "UGuMd4FSBMqp"
      }
    },
    {
      "cell_type": "code",
      "source": [
        "def binary_search(array, target, start, end):\n",
        "  if start > end:\n",
        "    return None \n",
        "  \n",
        "  mid = (start + end) // 2\n",
        "  # 중간 인덱스 도출 \n",
        "  # key : 중간을 쪼개줌 \n",
        "  # 근데 데이터에 정렬이 안되어 있으면 정렬 해야함 \n",
        "\n",
        "  if array[mid] == target:\n",
        "    return mid \n",
        "  \n",
        "  elif array[mid] > target:\n",
        "    return binary_search(array, target, start, mid - 1)\n",
        "  \n",
        "  else:\n",
        "    return binary_search(array, target, mid + 1, end)"
      ],
      "metadata": {
        "id": "QVDmqvXXAoip"
      },
      "execution_count": 9,
      "outputs": []
    },
    {
      "cell_type": "code",
      "source": [
        "n, target = list(map(int, input().split()))\n",
        "array = list(map(int, input().split()))"
      ],
      "metadata": {
        "colab": {
          "base_uri": "https://localhost:8080/"
        },
        "id": "cyxa6xcxEhYV",
        "outputId": "15b70bf3-7e08-43c2-84ff-414b2de715bc"
      },
      "execution_count": 8,
      "outputs": [
        {
          "name": "stdout",
          "output_type": "stream",
          "text": [
            "10 7\n",
            "1 3 5 7 9 11 13 15 17 19\n"
          ]
        }
      ]
    },
    {
      "cell_type": "code",
      "source": [
        "result = binary_search(array, target, 0, n-1)\n",
        "if result == None:\n",
        "  print('원소가 존재하지 않음 ')\n",
        "else:\n",
        "  print('원소의 위치는 : ', result + 1)"
      ],
      "metadata": {
        "colab": {
          "base_uri": "https://localhost:8080/"
        },
        "id": "PYKwOGOZEn4x",
        "outputId": "1a4d1f90-c425-4dad-e539-42b38e071274"
      },
      "execution_count": 10,
      "outputs": [
        {
          "output_type": "stream",
          "name": "stdout",
          "text": [
            "원소의 위치는 :  4\n"
          ]
        }
      ]
    },
    {
      "cell_type": "code",
      "source": [
        "def binary_search(array, target, start, end):\n",
        "  while start <= end:\n",
        "    mid = (start + end) // 2 \n",
        "\n",
        "    if array[mid] == target:\n",
        "      return mid \n",
        "    \n",
        "    elif array[mid] > target:\n",
        "      return binary_search(array, target, start, mid - 1)\n",
        "    \n",
        "    else:\n",
        "      return binary_search(array, target, mid + 1, end)\n",
        "  return None\n",
        "# 반복문 활용 "
      ],
      "metadata": {
        "id": "6W-aozcmE69t"
      },
      "execution_count": 12,
      "outputs": []
    },
    {
      "cell_type": "code",
      "source": [
        "result = binary_search(array, target, 0, n-1)\n",
        "if result == None:\n",
        "  print('원소가 존재하지 않음 ')\n",
        "else:\n",
        "  print('원소의 위치는 : ', result + 1)"
      ],
      "metadata": {
        "colab": {
          "base_uri": "https://localhost:8080/"
        },
        "id": "HLr7ARbAFh2B",
        "outputId": "68e1e26e-02b2-4cc0-e203-8028814aa980"
      },
      "execution_count": 13,
      "outputs": [
        {
          "output_type": "stream",
          "name": "stdout",
          "text": [
            "원소의 위치는 :  4\n"
          ]
        }
      ]
    },
    {
      "cell_type": "markdown",
      "source": [
        "### 트리 자료구조 \n",
        "- 노드와 노드의 연결로 표현하며 여기에서 노드는 정보 단위로서 어떠한 정보를 가지고 있는 개체로 이해 \n",
        "- 트리 자료구조는 그래프 자료구조의 일종으로 DB 시스템이나 파일 시스템과 같은 곳에서 많은 양의 데이터를 관리하기 위한 목적으로 사용 "
      ],
      "metadata": {
        "id": "rsstvjgGGDFK"
      }
    },
    {
      "cell_type": "markdown",
      "source": [
        "#### 이진 탐색 트리 \n",
        "- 트리 자료구조 중 가장 간단한 형태 \n",
        "- 이진 탐색이 동작할 수 있도록 고안된, 효율적이고 탐색이 가능한 자료구조  \n",
        "- 특징 \n",
        "  1. 부모 노드보다 왼쪽 자식 노드가 작다.\n",
        "  2. 부모 노드보다 오른쪽 자식 노드가 크다. \n",
        "- 즉, 왼쪽 자식 노드 < 부모 노드 < 오른쪽 자식 노드가 성립해야 이진 탐색 트리라고 할 수 있다. "
      ],
      "metadata": {
        "id": "zPft4bC_GYhE"
      }
    },
    {
      "cell_type": "markdown",
      "source": [
        "#### 부품 찾기 \n",
        "- 부품이 N개 존재하며 부품은 정수 형태의 고유한 번호가 존재 \n",
        "- 손님이 M개 종류의 부품을 대량으로 구매하겠다며 견적서를 요청했으며 손님이 문의한 M개 종류를 모두 확인해야함 \n",
        "- 요청한 부품 번호의 순서대로 부품을 확인해 부품이 있으면 Yes 없으면 No를 출력하고 구분은 공백 "
      ],
      "metadata": {
        "id": "2Vx1ifA1HsRD"
      }
    },
    {
      "cell_type": "code",
      "source": [
        "def binary_search(array, target, start, end):\n",
        "  while start <= end:\n",
        "    mid = (start + end) // 2 \n",
        "\n",
        "    if array[mid] == target:\n",
        "      return mid \n",
        "    \n",
        "    elif array[mid] > target:\n",
        "      return binary_search(array, target, start, mid - 1)\n",
        "    \n",
        "    else:\n",
        "      return binary_search(array, target, mid + 1, end)\n",
        "  return None\n",
        "# 반복문 활용 "
      ],
      "metadata": {
        "id": "3Zm9OPSLHeKk"
      },
      "execution_count": 16,
      "outputs": []
    },
    {
      "cell_type": "code",
      "source": [
        "n = int(input())\n",
        "# 가게 부품 개수 \n",
        "array = list(map(int, input().split()))"
      ],
      "metadata": {
        "colab": {
          "base_uri": "https://localhost:8080/"
        },
        "id": "Lmt5gltTIUKg",
        "outputId": "a1afa6a1-1285-4852-b397-6cc4b7f75f62"
      },
      "execution_count": 19,
      "outputs": [
        {
          "name": "stdout",
          "output_type": "stream",
          "text": [
            "5\n",
            "8 3 7 9 2\n"
          ]
        }
      ]
    },
    {
      "cell_type": "code",
      "source": [
        "m = int(input())\n",
        "x = list(map(int, input().split()))"
      ],
      "metadata": {
        "colab": {
          "base_uri": "https://localhost:8080/"
        },
        "id": "2LfDvCp_Ia-2",
        "outputId": "fc725eac-b899-4aea-8918-01f2af3c162d"
      },
      "execution_count": 18,
      "outputs": [
        {
          "name": "stdout",
          "output_type": "stream",
          "text": [
            "3\n",
            "5 7 9\n"
          ]
        }
      ]
    },
    {
      "cell_type": "code",
      "source": [
        "array.sort()\n",
        "\n",
        "for i in x:\n",
        "  result = binary_search(array, i, 0, n-1)\n",
        "  if result != None:\n",
        "    print('yes', end = ' ')\n",
        "  else:\n",
        "    print('no', end = ' ')"
      ],
      "metadata": {
        "colab": {
          "base_uri": "https://localhost:8080/"
        },
        "id": "jYcZEwXjIihF",
        "outputId": "9d3cbdd1-e865-4f97-932a-545a784577fe"
      },
      "execution_count": 20,
      "outputs": [
        {
          "output_type": "stream",
          "name": "stdout",
          "text": [
            "no yes yes "
          ]
        }
      ]
    },
    {
      "cell_type": "code",
      "source": [
        "# 예시\n",
        "n = int(input())\n",
        "array = [0] * 1000001\n",
        "\n",
        "for i in input().split():\n",
        "  array[int(i)] = 1 \n",
        "\n",
        "m = int(input())\n",
        "x = list(map(int,input().split()))\n",
        "\n",
        "for i in x:\n",
        "  if array[i] == 1:\n",
        "    print('yes', end = ' ')\n",
        "  else:\n",
        "    print('no', end = ' ')\n"
      ],
      "metadata": {
        "colab": {
          "base_uri": "https://localhost:8080/"
        },
        "id": "VfOhyh7vI1ah",
        "outputId": "95c1e499-5adb-495b-ddfd-b88f49254709"
      },
      "execution_count": 21,
      "outputs": [
        {
          "output_type": "stream",
          "name": "stdout",
          "text": [
            "5\n",
            "8 3 7 9 2\n",
            "3\n",
            "5 7 9\n",
            "no yes yes "
          ]
        }
      ]
    },
    {
      "cell_type": "markdown",
      "source": [
        "#### 떡볶이 떡 만들기 \n",
        "- 떡의 길이가 일정하지 않아 한 봉지 안에 들어가는 떡의 총 길이는 절단기로 잘라서 맞춰줌 \n",
        "- 절단기 높이를 특정 값에 지정한 후 잘린 떡의 길이만큼 손님이 가져감 \n",
        "- 손님이 요청한 총 길이가 M일 때 적어도 M만큼의 떡을 얻기 위해 절단기에 설정할 수 있는 높이의 최댓값을 구하는 프로그램 작성 "
      ],
      "metadata": {
        "id": "BQhcDZY1Kuqn"
      }
    },
    {
      "cell_type": "code",
      "source": [
        "# 각 떡의 길이의 나머지가 M이상이 되는 값 중 높이 최댓값 \n",
        "n, m = list(map(int, input().split(' ')))\n",
        "array = list(map(int, input().split()))"
      ],
      "metadata": {
        "colab": {
          "base_uri": "https://localhost:8080/"
        },
        "id": "UUF2CwSYJZ-M",
        "outputId": "81c0fc56-267a-430b-d40d-7749dac6b5f2"
      },
      "execution_count": 22,
      "outputs": [
        {
          "name": "stdout",
          "output_type": "stream",
          "text": [
            "4 6\n",
            "19 15 10 17\n"
          ]
        }
      ]
    },
    {
      "cell_type": "code",
      "source": [
        "# array의 최대값을 end로 지정하고 이진 탐색문제로 전환 \n",
        "start = 0\n",
        "end = max(array)\n",
        "\n",
        "result = 0\n",
        "while (start <= end):\n",
        "  total = 0\n",
        "\n",
        "  mid = (start + end) // 2\n",
        "  # 반을 자르기 \n",
        "  for x in array:\n",
        "    if x > mid:\n",
        "      total += x - mid \n",
        "      # 실제 떡의 길이에서 mid를 뺐을때 값을 더해줌 \n",
        "    \n",
        "  if total < m:\n",
        "    # 해당 total값이 m보다 작으면 \n",
        "    end = mid - 1 \n",
        "    # end를 변경(다시 반으로)\n",
        "  else:\n",
        "    result = mid \n",
        "    # total이 m보다 크면 그것이 높이의 최대값\n",
        "    start = mid + 1\n",
        "print(result)"
      ],
      "metadata": {
        "colab": {
          "base_uri": "https://localhost:8080/"
        },
        "id": "_3f2QPD7LTYJ",
        "outputId": "44edaaf1-66d2-4597-d553-5e1bc321add8"
      },
      "execution_count": 24,
      "outputs": [
        {
          "output_type": "stream",
          "name": "stdout",
          "text": [
            "15\n"
          ]
        }
      ]
    }
  ]
}